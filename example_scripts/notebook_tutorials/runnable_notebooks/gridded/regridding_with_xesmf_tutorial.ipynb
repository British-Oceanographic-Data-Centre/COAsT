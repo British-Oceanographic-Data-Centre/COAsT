{
 "cells": [
  {
   "cell_type": "markdown",
   "metadata": {},
   "source": [
    "This is a demonstration on regridding in COAsT. To do this, the COAsT package uses the already capable `xesmf` package, which will need to be installed independently (is not natively part of the COAsT package).\n",
    "\n",
    "### Introduction\n",
    "\n",
    "COAsT uses XESMF by providing a data class `xesmf_convert` which provides functions to prepare COAsT.Gridded objects, so they can be passed to XESMF for regridding to either a curvilinear or rectilienar grid.\n",
    "    \n",
    "All you need to do if provide a Gridded object and a grid type when creating a new instance of this class. It will then contain an appropriate input dataset. You may also provide a second COAsT gridded object if regridding between two objects."
   ]
  },
  {
   "cell_type": "markdown",
   "metadata": {},
   "source": [
    "### Install XESMF\n",
    "\n",
    "See the package's documentation website here:\n",
    "\n",
    "    https://xesmf.readthedocs.io/en/latest/index.html\n",
    "\n",
    " You can install XESMF using:\n",
    "\n",
    "        conda install -c conda-forge xesmf.\n",
    "\n",
    "The setup used by this class has been tested for `xesmf v0.6.2` alongside `esmpy v8.0.0`. It was installed using:\n",
    "\n",
    "        conda install -c conda-forge xesmf esmpy=8.0.0"
   ]
  },
  {
   "cell_type": "markdown",
   "metadata": {},
   "source": [
    "### Example useage\n",
    "\n",
    "If regridding a Gridded object to an arbitrarily defined rectilinear or curvilinear grid, you just need to do the following:"
   ]
  },
  {
   "cell_type": "markdown",
   "metadata": {},
   "source": [
    "```\n",
    "import xesmf as xe\n",
    "\n",
    "# Create your gridded object\n",
    "gridded = coast.Gridded(*args, **kwargs)\n",
    "\n",
    "# Pass the gridded object over to xesmf_convert\n",
    "xesmf_ready = coast.xesmf_convert(gridded, input_grid_type = 'curvilinear')\n",
    "\n",
    "# Now this object will contain a dataset called xesmf_input, which can\n",
    "# be passed over to xesmf. E.G:\n",
    "\n",
    "destination_grid = xesmf.util.grid_2d(-15, 15, 1, 45, 65, 1)\n",
    "regridder = xe.Regridder(xesmf_ready.input_grid, destination_grid, \"bilinear\")\n",
    "regridded_dataset = regridder(xesmf_ready.input_data)\n",
    "```"
   ]
  },
  {
   "cell_type": "markdown",
   "metadata": {},
   "source": [
    "XESMF contains a couple of difference functions for quickly creating output\n",
    "grids, such as xesmf.util.grid_2d and xesmf.util.grid_global(). See their\n",
    "website for more info.\n",
    "\n",
    "The process is almost the same if regridding from one COAsT.Gridded object\n",
    "to another (gridded0 -> gridded1):"
   ]
  },
  {
   "cell_type": "markdown",
   "metadata": {},
   "source": [
    "```\n",
    "xesmf_ready = coast.xesmf_convert(gridded0, gridded1,\n",
    "                                  input_grid_type = \"curvilinear\",\n",
    "                                  output_grid_type = \"curvilinear\")\n",
    "regridder = xe.Regridder(xesmf_ready.input_grid,\n",
    "                         xesmf_ready.output_grid, \"bilinear\")\n",
    "regridded_dataset = regridder(xesmf_ready.input_data)\n",
    "```"
   ]
  },
  {
   "cell_type": "markdown",
   "metadata": {},
   "source": [
    "Note that you can select which variables you want to regrid, either prior\n",
    "to using this tool or by indexing the input_data dataset. e.g.:"
   ]
  },
  {
   "cell_type": "markdown",
   "metadata": {},
   "source": [
    "```\n",
    "regridded_dataset = regridder(xesmf_ready.input_data['temperature'])\n",
    "```"
   ]
  },
  {
   "cell_type": "markdown",
   "metadata": {},
   "source": [
    "If your input datasets were lazy loaded, then so will the regridded dataset.\n",
    "At this point you can either load the data or (recomended) save the regridded\n",
    "data to file:"
   ]
  },
  {
   "cell_type": "markdown",
   "metadata": {},
   "source": [
    "```\n",
    "regridded_dataset.to_netcdf(<filename_to_save>)\n",
    "```"
   ]
  },
  {
   "cell_type": "markdown",
   "metadata": {
    "pycharm": {
     "name": "#%% md\n"
    }
   },
   "source": [
    "Before saving back to file, call xesmf_ready.to_gridded() to convert\n",
    "the regridded xesmf object back to a gridded object"
   ]
  },
  {
   "cell_type": "markdown",
   "metadata": {
    "pycharm": {
     "name": "#%% md\n"
    }
   },
   "source": [
    "### Compatability Note\n",
    "(written 8 Sept 2022)\n",
    "`xesmf` is not included natively within COAsT as satisfying all the dependencies within COAsT gets increasingly challenging with more components in COAsT. So whilst valuable, `xesmf` is currently deemed not core. Here are some notes from a user on its installation with conda:\n",
    "\n",
    "```\n",
    "A conda environemt with `esmpy=8.0.0` specified and `xesmf` version unspecified works suggests a downgrade of:\n",
    "netCDF4 1.5.6\n",
    "scipy 1.5.3\n",
    "lxml 4.8\n",
    "\n",
    "A solution to avoid the downgrade maybe found in\n",
    "https://github.com/pangeo-data/pangeo-docker-images/issues/101\n",
    "\n",
    "conda create … \"mpi==openmpi\" \"esmpy==mpi_openmpi*\" xesmf\n",
    "```"
   ]
  },
  {
   "cell_type": "code",
   "execution_count": null,
   "metadata": {
    "pycharm": {
     "name": "#%%\n"
    }
   },
   "outputs": [],
   "source": []
  }
 ],
 "metadata": {
  "kernelspec": {
   "display_name": "Python 3 (ipykernel)",
   "language": "python",
   "name": "python3"
  },
  "language_info": {
   "codemirror_mode": {
    "name": "ipython",
    "version": 3
   },
   "file_extension": ".py",
   "mimetype": "text/x-python",
   "name": "python",
   "nbconvert_exporter": "python",
   "pygments_lexer": "ipython3",
   "version": "3.8.13"
  },
  "vscode": {
   "interpreter": {
    "hash": "edbd2e3cb8183e66d063e2b638973e07e1c11d7f682ee3a27358b79f7159feb3"
   }
  }
 },
 "nbformat": 4,
 "nbformat_minor": 4
}