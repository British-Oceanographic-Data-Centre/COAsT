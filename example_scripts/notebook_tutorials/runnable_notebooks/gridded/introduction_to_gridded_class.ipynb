{
 "cells": [
  {
   "cell_type": "markdown",
   "id": "dbdab60c-42ab-4e43-91d0-2863707954e7",
   "metadata": {},
   "source": [
    "An introduction to the Gridded class. Loading variables and grid information.\n",
    "\n",
    "This is designed to be a brief introduction to the Gridded class including:\n",
    "    1. Creation of a Gridded object\n",
    "    2. Loading data into the Gridded object.\n",
    "    3. Combining Gridded output and Gridded domain data.\n",
    "    4. Interrogating the Gridded object.\n",
    "    5. Basic manipulation ans subsetting\n",
    "    6. Looking at the data with matplotlib\n",
    "    \n",
    "    \n",
    "### Loading and Interrogating\n",
    "\n",
    "Begin by importing COAsT and define some file paths for NEMO output data and a NEMO domain, as an example of model data suitable for the Gridded object."
   ]
  },
  {
   "cell_type": "code",
   "execution_count": null,
   "id": "582e5ae5-e61d-409d-aa33-206f6ff3c0bd",
   "metadata": {},
   "outputs": [],
   "source": [
    "import coast\n",
    "import matplotlib.pyplot as plt\n",
    "import datetime\n",
    "import numpy as np\n",
    "\n",
    "# Define some file paths\n",
    "root = \"./\"\n",
    "dn_files = root + \"./example_files/\"\n",
    "\n",
    "fn_nemo_dat = dn_files + \"coast_example_nemo_data.nc\"\n",
    "fn_nemo_dom = dn_files + \"coast_example_nemo_domain.nc\"\n",
    "fn_config_t_grid = root + \"./config/example_nemo_grid_t.json\""
   ]
  },
  {
   "cell_type": "markdown",
   "id": "07213913-07ce-4368-b5ab-909c5b5e18b1",
   "metadata": {},
   "source": [
    "We can create a new Gridded object by simple calling `coast.Gridded()`. By passing this a NEMO data file and a NEMO domain file, COAsT will combine the two into a single xarray dataset within the Gridded object. Each individual Gridded object should be for a specified NEMO grid type, which is specified in a configuration file which is also passed as an argument. The Dask library is switched on by default, chunking can be specified in the configuration file."
   ]
  },
  {
   "cell_type": "code",
   "execution_count": null,
   "id": "eeaa0ede-80e1-4041-8b17-58220b3c47b6",
   "metadata": {},
   "outputs": [],
   "source": [
    "nemo_t = coast.Gridded(fn_data = fn_nemo_dat, fn_domain = fn_nemo_dom, config=fn_config_t_grid)"
   ]
  },
  {
   "cell_type": "markdown",
   "id": "35326197-29b8-4754-88e6-7ee74f718b25",
   "metadata": {},
   "source": [
    "Our new Gridded object `nemo_t` contains a variable called dataset, which holds information on the two files we passed. Let’s have a look at this:"
   ]
  },
  {
   "cell_type": "code",
   "execution_count": null,
   "id": "bf897487-a437-4a82-811f-55575fcf00bd",
   "metadata": {},
   "outputs": [],
   "source": [
    "#nemo_t.dataset # uncomment to print data object summary"
   ]
  },
  {
   "cell_type": "markdown",
   "id": "f3677bbb-f239-4551-9899-c44dbdc806d5",
   "metadata": {},
   "source": [
    "This is an xarray dataset, which has all the information on netCDF style structures. You can see dimensions, coordinates and data variables. At the moment, none of the actual data is loaded to memory and will remain that way until it needs to be accessed.\n",
    "\n",
    "Along with temperature (which has been renamed from votemper) a number of other things have happen under the hood:\n",
    "\n",
    "1. The dimensions have been renamed to `t_dim`, `x_dim`, `y_dim`, `z_dim`\n",
    "2. The coordinates have been renamed to `time`, `longitude`, `latitude` and `depth_0`. These are the coordinates for this grid (the t-grid). Also `depth_0` has been calculated as the 3D depth array at time zero.\n",
    "3. The variables `e1`, `e2` and `e3_0` have been created. These are the metrics for the t-grid in the x-dim, y-dim and z_dim (at time zero) directions.\n",
    "\n",
    "So we see that the Gridded class has standardised some variable names and created an object based on this discretisation grid by combining the appropriate grid information with all the variables on that grid.\n",
    "\n",
    "We can interact with this as an xarray Dataset object. So to extract a specific variable (say temperature):"
   ]
  },
  {
   "cell_type": "code",
   "execution_count": null,
   "id": "15de9a24-6442-4e15-9bae-68d6a630a0aa",
   "metadata": {},
   "outputs": [],
   "source": [
    "ssh = nemo_t.dataset.ssh\n",
    "#ssh # uncomment to print data object summary"
   ]
  },
  {
   "cell_type": "markdown",
   "id": "7848d67a-33fc-4eb3-9f2c-699515e6f00a",
   "metadata": {},
   "source": [
    "Or as a numpy array:"
   ]
  },
  {
   "cell_type": "code",
   "execution_count": null,
   "id": "95022761-d125-4d1b-944d-5af1012b9443",
   "metadata": {},
   "outputs": [],
   "source": [
    "ssh_np = ssh.values\n",
    "#ssh_np.shape # uncomment to print data object summary"
   ]
  },
  {
   "cell_type": "markdown",
   "id": "d1030e82-90bb-4d64-9971-dbafec4afc15",
   "metadata": {},
   "source": [
    "Then lets plot up a single time snapshot of ssh using matplotlib:"
   ]
  },
  {
   "cell_type": "code",
   "execution_count": null,
   "id": "4f976d26-99c9-43ca-a20f-afb130c113fa",
   "metadata": {},
   "outputs": [],
   "source": [
    "plt.pcolormesh(nemo_t.dataset.longitude, nemo_t.dataset.latitude, nemo_t.dataset.ssh[0])"
   ]
  },
  {
   "cell_type": "markdown",
   "id": "352590af-6010-40da-9c48-3f25df8f0c66",
   "metadata": {},
   "source": [
    "### Some Manipulation\n",
    "\n",
    "There are currently some basic subsetting routines for Gridded objects, to cut out specified regions of data. Fundamentally, this can be done using xarray’s isel or sel routines to index the data. In this case, the Gridded object will pass arguments straight through to `xarray.isel`.\n",
    "\n",
    "Lets get the indices of all model points within 111km km of (5W, 55N):"
   ]
  },
  {
   "cell_type": "code",
   "execution_count": null,
   "id": "ba222ad6-b3a4-4430-84c2-b75f036352d7",
   "metadata": {},
   "outputs": [],
   "source": [
    "ind_y, ind_x = nemo_t.subset_indices_by_distance(centre_lon=-5, centre_lat=55, radius=111)\n",
    "#ind_x.shape # uncomment to print data object summary"
   ]
  },
  {
   "cell_type": "markdown",
   "id": "57b77be1-b0d6-48b9-81b8-44e5c7a47a2a",
   "metadata": {},
   "source": [
    "Now create a new, smaller subsetted Gridded object by passing those indices to `isel`."
   ]
  },
  {
   "cell_type": "code",
   "execution_count": null,
   "id": "8688d4b8-25f9-49ef-a45a-4b5a878df69d",
   "metadata": {},
   "outputs": [],
   "source": [
    "nemo_t_subset = nemo_t.isel(x_dim=ind_x, y_dim=ind_y)\n",
    "#nemo_t_subset.dataset # uncomment to print data object summary"
   ]
  },
  {
   "cell_type": "markdown",
   "id": "66cbac0e-77cf-432b-be42-e450c23aafbf",
   "metadata": {},
   "source": [
    "Alternatively, xarray.isel can be applied directly to the `xarray.Dataset` object.\n",
    "A longitude/latitude box of data can also be extracted using `Gridded.subset_indices()`."
   ]
  },
  {
   "cell_type": "markdown",
   "id": "9f85e5e9",
   "metadata": {
    "pycharm": {
     "name": "#%% md\n"
    }
   },
   "source": [
    "### Plotting example for NEMO-ERSEM biogechemical variables\n",
    "\n",
    "Import COAsT, define some file paths for NEMO-ERSEM output data and a NEMO domain, and read/load your NEMO-ERSEM data into a gridded object, example:"
   ]
  },
  {
   "cell_type": "code",
   "execution_count": null,
   "id": "f962a78a-8225-48cf-b3e2-e9d7267ba03d",
   "metadata": {},
   "outputs": [],
   "source": [
    "import coast\n",
    "import matplotlib.pyplot as plt\n",
    "\n",
    "# Define some file paths\n",
    "root = \"./\"\n",
    "dn_files = root + \"./example_files/\"\n",
    "\n",
    "fn_bgc_dat = dn_files + \"coast_example_SEAsia_BGC_1990.nc\"\n",
    "fn_bgc_dom = dn_files + \"coast_example_domain_SEAsia.nc\"\n",
    "fn_config_bgc_grid = root + \"./config/example_nemo_bgc.json\"\n",
    "\n",
    "nemo_bgc = coast.Gridded(fn_data = fn_bgc_dat, fn_domain = fn_bgc_dom, config=fn_config_bgc_grid)\n",
    "#nemo_bgc.dataset # uncomment to print data object summary"
   ]
  },
  {
   "cell_type": "markdown",
   "id": "7ae7ce39-df0c-4ba4-95d8-0582ccb0ffd4",
   "metadata": {},
   "source": [
    "As an example plot a snapshot of dissolved inorganic carbon at the sea surface"
   ]
  },
  {
   "cell_type": "code",
   "execution_count": null,
   "id": "6ff1ebee-4e58-47f8-87b5-78b6dbadfe81",
   "metadata": {
    "pycharm": {
     "name": "#%%\n"
    }
   },
   "outputs": [],
   "source": [
    "fig = plt.figure()\n",
    "plt.pcolormesh(\n",
    "    nemo_bgc.dataset.longitude,\n",
    "    nemo_bgc.dataset.latitude,\n",
    "    nemo_bgc.dataset.dic.isel(t_dim=0).isel(z_dim=0),\n",
    "    cmap=\"RdYlBu_r\",\n",
    "    vmin=1600,\n",
    "    vmax=2080,\n",
    ")\n",
    "plt.colorbar()\n",
    "plt.title(\"DIC, mmol/m^3\")\n",
    "plt.xlabel(\"longitude\")\n",
    "plt.ylabel(\"latitude\")\n",
    "plt.show()"
   ]
  },
  {
   "cell_type": "code",
   "execution_count": null,
   "id": "ec225db2",
   "metadata": {},
   "outputs": [],
   "source": []
  }
 ],
 "metadata": {
  "kernelspec": {
   "display_name": "Python 3 (ipykernel)",
   "language": "python",
   "name": "python3"
  },
  "language_info": {
   "codemirror_mode": {
    "name": "ipython",
    "version": 3
   },
   "file_extension": ".py",
   "mimetype": "text/x-python",
   "name": "python",
   "nbconvert_exporter": "python",
   "pygments_lexer": "ipython3",
   "version": "3.10.12"
  }
 },
 "nbformat": 4,
 "nbformat_minor": 5
}
