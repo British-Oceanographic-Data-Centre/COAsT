{
 "cells": [
  {
   "cell_type": "markdown",
   "id": "fce85142",
   "metadata": {},
   "source": [
    "\n",
    "##  Example useage of Profile object.\n",
    "\n",
    "### Overview\n",
    "\n",
    "INDEXED type class for storing data from a CTD Profile (or similar\n",
    "down and up observations). The structure of the class is based around having\n",
    "discrete profile locations with independent depth dimensions and coords. \n",
    "The class dataset should contain two dimensions:\n",
    "\n",
    "    > id_dim      :: The profiles dimension. Each element of this dimension\n",
    "                 contains data (e.g. cast) for an individual location.\n",
    "    > z_dim   :: The dimension for depth levels. A profile object does not\n",
    "                 need to have shared depths, so NaNs might be used to\n",
    "                 pad any depth array.\n",
    "\n",
    "Alongside these dimensions, the following minimal coordinates should also\n",
    "be available:\n",
    "\n",
    "    > longitude (id_dim)   :: 1D array of longitudes, one for each id_dim\n",
    "    > latitude  (id_dim)   :: 1D array of latitudes, one for each id_dim\n",
    "    > time      (id_dim)   :: 1D array of times, one for each id_dim\n",
    "    > depth     (id_dim, z_dim)  :: 2D array of depths, with different depth\n",
    "                                levels being provided for each profile.\n",
    "                                Note that these depth levels need to be\n",
    "                                stored in a 2D array, so NaNs can be used\n",
    "                                to pad out profiles with shallower depths.\n",
    "    > id_name   (id_dim)   :: [Optional] Name of id_dim/case or id_dim number.\n",
    "\n",
    "## Introduction to Profile and ProfileAnalysis\n",
    "\n",
    "Below is a description of the available example scripts for this class as well\n",
    "as an overview of validation using `Profile` and `ProfileAnalysis`.\n",
    "\n",
    "### Example Scripts\n",
    "\n",
    "Please see `COAsT/example_scripts/notesbooks/runnable_notebooks/profile_validation/*.ipynb` and `COAsT/example_scripts/profile_validation/*.py` for some notebooks and equivalent scripts which\n",
    "demonstrate how to use the Profile and ProfileAnalysis classes for model\n",
    "validation. \n",
    "\n",
    "1. `analysis_preprocess_en4.py` : If you're using EN4 data, this kind of script\n",
    "might be your first step for analysis.\n",
    "\n",
    "2. `analysis_extract_and_compare.py`: This script shows you how to extract\n",
    "the nearest model profiles, compare them with EN4 observations and get errors\n",
    "throughout the vertical dimension and averaged in surface and bottom zones\n",
    "\n",
    "3. `analysis_extract_and_compare_single_process.py`: This script does the same\n",
    "as number 2. However, it is modified slightly to take a command line argument\n",
    "which helps it figure out which dates to analyse. This means that this script\n",
    "can act as a template for `jug` type parallel processing on, e.g. JASMIN.\n",
    "\n",
    "4. `analysis_mask_means.py`: This script demonstrates how to use boolean masks\n",
    "to obtain regional averages of profiles and errors.\n",
    "\n",
    "5. `analysis_average_into_grid_boxes.py`: This script demonstrates how to \n",
    "average the data inside a `Profile` object into regular grid boxes and \n",
    "seasonal climatologies.\n",
    "\n",
    "## Load and preprocess profile and model data\n",
    "\n",
    "Start by loading python packages\n"
   ]
  },
  {
   "cell_type": "code",
   "execution_count": 1,
   "id": "773ad868",
   "metadata": {
    "pycharm": {
     "name": "#%%\n"
    }
   },
   "outputs": [
    {
     "name": "stderr",
     "output_type": "stream",
     "text": [
      "/mnt/code/.pyenv/versions/3.10.12/envs/coast-10/lib/python3.10/site-packages/utide/harmonics.py:16: RuntimeWarning: invalid value encountered in cast\n",
      "  nshallow = np.ma.masked_invalid(const.nshallow).astype(int)\n",
      "/mnt/code/.pyenv/versions/3.10.12/envs/coast-10/lib/python3.10/site-packages/utide/harmonics.py:17: RuntimeWarning: invalid value encountered in cast\n",
      "  ishallow = np.ma.masked_invalid(const.ishallow).astype(int) - 1\n"
     ]
    }
   ],
   "source": [
    "import coast\n",
    "from os import path\n",
    "import numpy as np\n",
    "import matplotlib.pyplot as plt"
   ]
  },
  {
   "cell_type": "markdown",
   "id": "a7360869",
   "metadata": {
    "pycharm": {
     "name": "#%% md\n"
    }
   },
   "source": [
    "We can create a new Profile object easily:"
   ]
  },
  {
   "cell_type": "code",
   "execution_count": 2,
   "id": "30eaeb5c",
   "metadata": {
    "pycharm": {
     "name": "#%%\n"
    }
   },
   "outputs": [],
   "source": [
    "profile = coast.Profile()"
   ]
  },
  {
   "cell_type": "markdown",
   "id": "bd96e4ef",
   "metadata": {
    "pycharm": {
     "name": "#%% md\n"
    }
   },
   "source": [
    "Currently, this object is empty, and contains no dataset. There are some\n",
    "reading routines currently available in Profile for reading EN4 or WOD data\n",
    "files. These can be used to easily read data into your new profile object:\n"
   ]
  },
  {
   "cell_type": "code",
   "execution_count": 4,
   "id": "e5abc701",
   "metadata": {
    "pycharm": {
     "name": "#%%\n"
    }
   },
   "outputs": [
    {
     "name": "stdout",
     "output_type": "stream",
     "text": [
      "../../../../config/example_en4_profiles.json\n"
     ]
    }
   ],
   "source": [
    "# Read WOD data into profile object\n",
    "fn_prof = path.join(\"../../../../example_files\",\"WOD_example_ragged_standard_level.nc\")\n",
    "profile.read_wod( fn_prof )\n",
    "\n",
    "# Read EN4 data into profile object (OVERWRITES DATASET)\n",
    "fn_prof = path.join(\"../../../../example_files\", \"coast_example_en4_201008.nc\")\n",
    "fn_cfg_prof = path.join(\"../../../../config\",\"example_en4_profiles.json\")\n",
    "profile = coast.Profile(config=fn_cfg_prof)\n",
    "profile.read_en4( fn_prof )"
   ]
  },
  {
   "cell_type": "markdown",
   "id": "93799184",
   "metadata": {
    "pycharm": {
     "name": "#%% md\n"
    }
   },
   "source": [
    "Alternatively, you can pass an `xarray.dataset` straight to Profile:\n",
    "```\n",
    "profile = coast.Profile( dataset = your_dataset, config = config_file [opt] )\n",
    "```"
   ]
  },
  {
   "cell_type": "markdown",
   "id": "5fe9b182",
   "metadata": {
    "pycharm": {
     "name": "#%% md\n"
    }
   },
   "source": [
    "If you are using EN4 data, you can use the `process_en4()` routine to apply\n",
    "quality control flags to the data (replacing with NaNs):"
   ]
  },
  {
   "cell_type": "code",
   "execution_count": 5,
   "id": "8b5c8d53",
   "metadata": {
    "pycharm": {
     "name": "#%%\n"
    }
   },
   "outputs": [],
   "source": [
    "processed_profile = profile.process_en4()\n",
    "profile = processed_profile"
   ]
  },
  {
   "cell_type": "markdown",
   "id": "bf26b82e",
   "metadata": {},
   "source": [
    "We can do some simple spatial and temporal manipulations of this data:"
   ]
  },
  {
   "cell_type": "code",
   "execution_count": 6,
   "id": "8f2cdc8c",
   "metadata": {
    "pycharm": {
     "name": "#%%\n"
    }
   },
   "outputs": [],
   "source": [
    "# Cut out a geographical box\n",
    "profile = profile.subset_indices_lonlat_box(lonbounds = [-15, 15],\n",
    "                                            latbounds = [45, 65])\n",
    "\n",
    "# Cut out a time window\n",
    "profile = profile.time_slice( date0 = np.datetime64('2010-01-01'), date1 = np.datetime64(\"2010-01-20\"))"
   ]
  },
  {
   "cell_type": "markdown",
   "id": "18db7eba",
   "metadata": {
    "pycharm": {
     "name": "#%% md\n"
    }
   },
   "source": [
    "### Inspect profile locations\n",
    "Have a look inside the `profile.py` class to see what it can do"
   ]
  },
  {
   "cell_type": "code",
   "execution_count": 7,
   "id": "9ca87048",
   "metadata": {
    "pycharm": {
     "name": "#%%\n"
    }
   },
   "outputs": [
    {
     "data": {
      "image/png": "[encoded data removed]",
      "text/plain": [
       "<Figure size 640x480 with 2 Axes>"
      ]
     },
     "metadata": {},
     "output_type": "display_data"
    },
    {
     "data": {
      "text/plain": [
       "(<Figure size 640x480 with 2 Axes>, <GeoAxes: >)"
      ]
     },
     "execution_count": 7,
     "metadata": {},
     "output_type": "execute_result"
    }
   ],
   "source": [
    "profile.plot_map()"
   ]
  },
  {
   "cell_type": "markdown",
   "id": "8958c1c0",
   "metadata": {
    "pycharm": {
     "name": "#%% md\n"
    }
   },
   "source": [
    "### Direct Model comparison using obs_operator() method\n",
    "\n",
    "There are a number of routines available for interpolating in the horizontal,\n",
    "vertical and in time to do direct comparisons of model and profile data.\n",
    "`Profile.obs_operator` will do a nearest neighbour spatial interpolation of\n",
    "the data in a `Gridded` object to profile latitudes/longitudes. It will also\n",
    "do a custom time interpolation.\n",
    "\n",
    "#### First load some model data:"
   ]
  },
  {
   "cell_type": "code",
   "execution_count": 10,
   "id": "bba61dbf",
   "metadata": {
    "pycharm": {
     "name": "#%%\n"
    }
   },
   "outputs": [
    {
     "name": "stderr",
     "output_type": "stream",
     "text": [
      "/mnt/code/.pyenv/versions/3.10.12/envs/coast-10/lib/python3.10/site-packages/xarray/core/dataset.py:278: UserWarning: The specified chunks separate the stored chunks along dimension \"time_counter\" starting at index 2. This could degrade performance. Instead, consider rechunking after loading.\n",
      "  warnings.warn(\n"
     ]
    }
   ],
   "source": [
    "root = \"./\"\n",
    "# And by defining some file paths\n",
    "dn_files = root + \"../../../../example_files/\"\n",
    "fn_nemo_dat = path.join(dn_files, \"coast_example_nemo_data.nc\")\n",
    "fn_nemo_dom = path.join(dn_files, \"coast_example_nemo_domain.nc\")\n",
    "fn_nemo_config = path.join(root, \"../../../../config/example_nemo_grid_t.json\")\n",
    "\n",
    "# Create gridded object:\n",
    "nemo = coast.Gridded(fn_nemo_dat, fn_nemo_dom, multiple=True, config=fn_nemo_config)"
   ]
  },
  {
   "cell_type": "code",
   "execution_count": 12,
   "id": "1f4765f1-a650-47a6-93d3-79f9f4073be9",
   "metadata": {},
   "outputs": [
    {
     "data": {
      "text/html": [
       "<div><svg style=\"position: absolute; width: 0; height: 0; overflow: hidden\">\n",
       "<defs>\n",
       "<symbol id=\"icon-database\" viewBox=\"0 0 32 32\">\n",
       "<path d=\"M16 0c-8.837 0-16 2.239-16 5v4c0 2.761 7.163 5 16 5s16-2.239 16-5v-4c0-2.761-7.163-5-16-5z\"></path>\n",
       "<path d=\"M16 17c-8.837 0-16-2.239-16-5v6c0 2.761 7.163 5 16 5s16-2.239 16-5v-6c0 2.761-7.163 5-16 5z\"></path>\n",
       "<path d=\"M16 26c-8.837 0-16-2.239-16-5v6c0 2.761 7.163 5 16 5s16-2.239 16-5v-6c0 2.761-7.163 5-16 5z\"></path>\n",
       "</symbol>\n",
       "<symbol id=\"icon-file-text2\" viewBox=\"0 0 32 32\">\n",
       "<path d=\"M28.681 7.159c-0.694-0.947-1.662-2.053-2.724-3.116s-2.169-2.030-3.116-2.724c-1.612-1.182-2.393-1.319-2.841-1.319h-15.5c-1.378 0-2.5 1.121-2.5 2.5v27c0 1.378 1.122 2.5 2.5 2.5h23c1.378 0 2.5-1.122 2.5-2.5v-19.5c0-0.448-0.137-1.23-1.319-2.841zM24.543 5.457c0.959 0.959 1.712 1.825 2.268 2.543h-4.811v-4.811c0.718 0.556 1.584 1.309 2.543 2.268zM28 29.5c0 0.271-0.229 0.5-0.5 0.5h-23c-0.271 0-0.5-0.229-0.5-0.5v-27c0-0.271 0.229-0.5 0.5-0.5 0 0 15.499-0 15.5 0v7c0 0.552 0.448 1 1 1h7v19.5z\"></path>\n",
       "<path d=\"M23 26h-14c-0.552 0-1-0.448-1-1s0.448-1 1-1h14c0.552 0 1 0.448 1 1s-0.448 1-1 1z\"></path>\n",
       "<path d=\"M23 22h-14c-0.552 0-1-0.448-1-1s0.448-1 1-1h14c0.552 0 1 0.448 1 1s-0.448 1-1 1z\"></path>\n",
       "<path d=\"M23 18h-14c-0.552 0-1-0.448-1-1s0.448-1 1-1h14c0.552 0 1 0.448 1 1s-0.448 1-1 1z\"></path>\n",
       "</symbol>\n",
       "</defs>\n",
       "</svg>\n",
       "<style>/* CSS stylesheet for displaying xarray objects in jupyterlab.\n",
       " *\n",
       " */\n",
       "\n",
       ":root {\n",
       "  --xr-font-color0: var(--jp-content-font-color0, rgba(0, 0, 0, 1));\n",
       "  --xr-font-color2: var(--jp-content-font-color2, rgba(0, 0, 0, 0.54));\n",
       "  --xr-font-color3: var(--jp-content-font-color3, rgba(0, 0, 0, 0.38));\n",
       "  --xr-border-color: var(--jp-border-color2, #e0e0e0);\n",
       "  --xr-disabled-color: var(--jp-layout-color3, #bdbdbd);\n",
       "  --xr-background-color: var(--jp-layout-color0, white);\n",
       "  --xr-background-color-row-even: var(--jp-layout-color1, white);\n",
       "  --xr-background-color-row-odd: var(--jp-layout-color2, #eeeeee);\n",
       "}\n",
       "\n",
       "html[theme=dark],\n",
       "body[data-theme=dark],\n",
       "body.vscode-dark {\n",
       "  --xr-font-color0: rgba(255, 255, 255, 1);\n",
       "  --xr-font-color2: rgba(255, 255, 255, 0.54);\n",
       "  --xr-font-color3: rgba(255, 255, 255, 0.38);\n",
       "  --xr-border-color: #1F1F1F;\n",
       "  --xr-disabled-color: #515151;\n",
       "  --xr-background-color: #111111;\n",
       "  --xr-background-color-row-even: #111111;\n",
       "  --xr-background-color-row-odd: #313131;\n",
       "}\n",
       "\n",
       ".xr-wrap {\n",
       "  display: block !important;\n",
       "  min-width: 300px;\n",
       "  max-width: 700px;\n",
       "}\n",
       "\n",
       ".xr-text-repr-fallback {\n",
       "  /* fallback to plain text repr when CSS is not injected (untrusted notebook) */\n",
       "  display: none;\n",
       "}\n",
       "\n",
       ".xr-header {\n",
       "  padding-top: 6px;\n",
       "  padding-bottom: 6px;\n",
       "  margin-bottom: 4px;\n",
       "  border-bottom: solid 1px var(--xr-border-color);\n",
       "}\n",
       "\n",
       ".xr-header > div,\n",
       ".xr-header > ul {\n",
       "  display: inline;\n",
       "  margin-top: 0;\n",
       "  margin-bottom: 0;\n",
       "}\n",
       "\n",
       ".xr-obj-type,\n",
       ".xr-array-name {\n",
       "  margin-left: 2px;\n",
       "  margin-right: 10px;\n",
       "}\n",
       "\n",
       ".xr-obj-type {\n",
       "  color: var(--xr-font-color2);\n",
       "}\n",
       "\n",
       ".xr-sections {\n",
       "  padding-left: 0 !important;\n",
       "  display: grid;\n",
       "  grid-template-columns: 150px auto auto 1fr 20px 20px;\n",
       "}\n",
       "\n",
       ".xr-section-item {\n",
       "  display: contents;\n",
       "}\n",
       "\n",
       ".xr-section-item input {\n",
       "  display: none;\n",
       "}\n",
       "\n",
       ".xr-section-item input + label {\n",
       "  color: var(--xr-disabled-color);\n",
       "}\n",
       "\n",
       ".xr-section-item input:enabled + label {\n",
       "  cursor: pointer;\n",
       "  color: var(--xr-font-color2);\n",
       "}\n",
       "\n",
       ".xr-section-item input:enabled + label:hover {\n",
       "  color: var(--xr-font-color0);\n",
       "}\n",
       "\n",
       ".xr-section-summary {\n",
       "  grid-column: 1;\n",
       "  color: var(--xr-font-color2);\n",
       "  font-weight: 500;\n",
       "}\n",
       "\n",
       ".xr-section-summary > span {\n",
       "  display: inline-block;\n",
       "  padding-left: 0.5em;\n",
       "}\n",
       "\n",
       ".xr-section-summary-in:disabled + label {\n",
       "  color: var(--xr-font-color2);\n",
       "}\n",
       "\n",
       ".xr-section-summary-in + label:before {\n",
       "  display: inline-block;\n",
       "  content: '►';\n",
       "  font-size: 11px;\n",
       "  width: 15px;\n",
       "  text-align: center;\n",
       "}\n",
       "\n",
       ".xr-section-summary-in:disabled + label:before {\n",
       "  color: var(--xr-disabled-color);\n",
       "}\n",
       "\n",
       ".xr-section-summary-in:checked + label:before {\n",
       "  content: '▼';\n",
       "}\n",
       "\n",
       ".xr-section-summary-in:checked + label > span {\n",
       "  display: none;\n",
       "}\n",
       "\n",
       ".xr-section-summary,\n",
       ".xr-section-inline-details {\n",
       "  padding-top: 4px;\n",
       "  padding-bottom: 4px;\n",
       "}\n",
       "\n",
       ".xr-section-inline-details {\n",
       "  grid-column: 2 / -1;\n",
       "}\n",
       "\n",
       ".xr-section-details {\n",
       "  display: none;\n",
       "  grid-column: 1 / -1;\n",
       "  margin-bottom: 5px;\n",
       "}\n",
       "\n",
       ".xr-section-summary-in:checked ~ .xr-section-details {\n",
       "  display: contents;\n",
       "}\n",
       "\n",
       ".xr-array-wrap {\n",
       "  grid-column: 1 / -1;\n",
       "  display: grid;\n",
       "  grid-template-columns: 20px auto;\n",
       "}\n",
       "\n",
       ".xr-array-wrap > label {\n",
       "  grid-column: 1;\n",
       "  vertical-align: top;\n",
       "}\n",
       "\n",
       ".xr-preview {\n",
       "  color: var(--xr-font-color3);\n",
       "}\n",
       "\n",
       ".xr-array-preview,\n",
       ".xr-array-data {\n",
       "  padding: 0 5px !important;\n",
       "  grid-column: 2;\n",
       "}\n",
       "\n",
       ".xr-array-data,\n",
       ".xr-array-in:checked ~ .xr-array-preview {\n",
       "  display: none;\n",
       "}\n",
       "\n",
       ".xr-array-in:checked ~ .xr-array-data,\n",
       ".xr-array-preview {\n",
       "  display: inline-block;\n",
       "}\n",
       "\n",
       ".xr-dim-list {\n",
       "  display: inline-block !important;\n",
       "  list-style: none;\n",
       "  padding: 0 !important;\n",
       "  margin: 0;\n",
       "}\n",
       "\n",
       ".xr-dim-list li {\n",
       "  display: inline-block;\n",
       "  padding: 0;\n",
       "  margin: 0;\n",
       "}\n",
       "\n",
       ".xr-dim-list:before {\n",
       "  content: '(';\n",
       "}\n",
       "\n",
       ".xr-dim-list:after {\n",
       "  content: ')';\n",
       "}\n",
       "\n",
       ".xr-dim-list li:not(:last-child):after {\n",
       "  content: ',';\n",
       "  padding-right: 5px;\n",
       "}\n",
       "\n",
       ".xr-has-index {\n",
       "  font-weight: bold;\n",
       "}\n",
       "\n",
       ".xr-var-list,\n",
       ".xr-var-item {\n",
       "  display: contents;\n",
       "}\n",
       "\n",
       ".xr-var-item > div,\n",
       ".xr-var-item label,\n",
       ".xr-var-item > .xr-var-name span {\n",
       "  background-color: var(--xr-background-color-row-even);\n",
       "  margin-bottom: 0;\n",
       "}\n",
       "\n",
       ".xr-var-item > .xr-var-name:hover span {\n",
       "  padding-right: 5px;\n",
       "}\n",
       "\n",
       ".xr-var-list > li:nth-child(odd) > div,\n",
       ".xr-var-list > li:nth-child(odd) > label,\n",
       ".xr-var-list > li:nth-child(odd) > .xr-var-name span {\n",
       "  background-color: var(--xr-background-color-row-odd);\n",
       "}\n",
       "\n",
       ".xr-var-name {\n",
       "  grid-column: 1;\n",
       "}\n",
       "\n",
       ".xr-var-dims {\n",
       "  grid-column: 2;\n",
       "}\n",
       "\n",
       ".xr-var-dtype {\n",
       "  grid-column: 3;\n",
       "  text-align: right;\n",
       "  color: var(--xr-font-color2);\n",
       "}\n",
       "\n",
       ".xr-var-preview {\n",
       "  grid-column: 4;\n",
       "}\n",
       "\n",
       ".xr-index-preview {\n",
       "  grid-column: 2 / 5;\n",
       "  color: var(--xr-font-color2);\n",
       "}\n",
       "\n",
       ".xr-var-name,\n",
       ".xr-var-dims,\n",
       ".xr-var-dtype,\n",
       ".xr-preview,\n",
       ".xr-attrs dt {\n",
       "  white-space: nowrap;\n",
       "  overflow: hidden;\n",
       "  text-overflow: ellipsis;\n",
       "  padding-right: 10px;\n",
       "}\n",
       "\n",
       ".xr-var-name:hover,\n",
       ".xr-var-dims:hover,\n",
       ".xr-var-dtype:hover,\n",
       ".xr-attrs dt:hover {\n",
       "  overflow: visible;\n",
       "  width: auto;\n",
       "  z-index: 1;\n",
       "}\n",
       "\n",
       ".xr-var-attrs,\n",
       ".xr-var-data,\n",
       ".xr-index-data {\n",
       "  display: none;\n",
       "  background-color: var(--xr-background-color) !important;\n",
       "  padding-bottom: 5px !important;\n",
       "}\n",
       "\n",
       ".xr-var-attrs-in:checked ~ .xr-var-attrs,\n",
       ".xr-var-data-in:checked ~ .xr-var-data,\n",
       ".xr-index-data-in:checked ~ .xr-index-data {\n",
       "  display: block;\n",
       "}\n",
       "\n",
       ".xr-var-data > table {\n",
       "  float: right;\n",
       "}\n",
       "\n",
       ".xr-var-name span,\n",
       ".xr-var-data,\n",
       ".xr-index-name div,\n",
       ".xr-index-data,\n",
       ".xr-attrs {\n",
       "  padding-left: 25px !important;\n",
       "}\n",
       "\n",
       ".xr-attrs,\n",
       ".xr-var-attrs,\n",
       ".xr-var-data,\n",
       ".xr-index-data {\n",
       "  grid-column: 1 / -1;\n",
       "}\n",
       "\n",
       "dl.xr-attrs {\n",
       "  padding: 0;\n",
       "  margin: 0;\n",
       "  display: grid;\n",
       "  grid-template-columns: 125px auto;\n",
       "}\n",
       "\n",
       ".xr-attrs dt,\n",
       ".xr-attrs dd {\n",
       "  padding: 0;\n",
       "  margin: 0;\n",
       "  float: left;\n",
       "  padding-right: 10px;\n",
       "  width: auto;\n",
       "}\n",
       "\n",
       ".xr-attrs dt {\n",
       "  font-weight: normal;\n",
       "  grid-column: 1;\n",
       "}\n",
       "\n",
       ".xr-attrs dt:hover span {\n",
       "  display: inline-block;\n",
       "  background: var(--xr-background-color);\n",
       "  padding-right: 10px;\n",
       "}\n",
       "\n",
       ".xr-attrs dd {\n",
       "  grid-column: 2;\n",
       "  white-space: pre-wrap;\n",
       "  word-break: break-all;\n",
       "}\n",
       "\n",
       ".xr-icon-database,\n",
       ".xr-icon-file-text2,\n",
       ".xr-no-icon {\n",
       "  display: inline-block;\n",
       "  vertical-align: middle;\n",
       "  width: 1em;\n",
       "  height: 1.5em !important;\n",
       "  stroke-width: 0;\n",
       "  stroke: currentColor;\n",
       "  fill: currentColor;\n",
       "}\n",
       "</style><pre class='xr-text-repr-fallback'>&lt;xarray.Dataset&gt;\n",
       "Dimensions:              (z_dim: 51, axis_nbounds: 2, t_dim: 7, y_dim: 375,\n",
       "                          x_dim: 297)\n",
       "Coordinates:\n",
       "  * time                 (t_dim) datetime64[ns] 2007-01-01T11:58:56 ... 2007-...\n",
       "    longitude            (y_dim, x_dim) float32 ...\n",
       "    latitude             (y_dim, x_dim) float32 ...\n",
       "    depth_0              (z_dim, y_dim, x_dim) float32 0.5 0.5 0.5 ... 50.5 50.5\n",
       "Dimensions without coordinates: z_dim, axis_nbounds, t_dim, y_dim, x_dim\n",
       "Data variables:\n",
       "    deptht_bounds        (z_dim, axis_nbounds) float32 dask.array&lt;chunksize=(51, 2), meta=np.ndarray&gt;\n",
       "    ssh                  (t_dim, y_dim, x_dim) float32 dask.array&lt;chunksize=(2, 375, 297), meta=np.ndarray&gt;\n",
       "    time_counter_bounds  (t_dim, axis_nbounds) datetime64[ns] dask.array&lt;chunksize=(2, 2), meta=np.ndarray&gt;\n",
       "    time_instant         (t_dim) datetime64[ns] dask.array&lt;chunksize=(2,), meta=np.ndarray&gt;\n",
       "    temperature          (t_dim, z_dim, y_dim, x_dim) float32 dask.array&lt;chunksize=(2, 26, 188, 149), meta=np.ndarray&gt;\n",
       "    bathymetry           (y_dim, x_dim) float32 0.0 0.0 0.0 0.0 ... 0.0 0.0 0.0\n",
       "    e1                   (y_dim, x_dim) float32 ...\n",
       "    e2                   (y_dim, x_dim) float32 ...\n",
       "    e3_0                 (z_dim, y_dim, x_dim) float32 ...\n",
       "    bottom_level         (y_dim, x_dim) float32 ...\n",
       "Attributes:\n",
       "    name:         AMM7_1d_20070101_20070131_25hourm_grid_T\n",
       "    description:  ocean T grid variables, 25h meaned\n",
       "    title:        ocean T grid variables, 25h meaned\n",
       "    Conventions:  CF-1.6\n",
       "    timeStamp:    2019-Dec-26 04:35:28 GMT\n",
       "    uuid:         96cae459-d3a1-4f4f-b82b-9259179f95f7\n",
       "    history:      Tue May 19 12:07:51 2020: ncks -v votemper,sossheig -d time...\n",
       "    NCO:          4.4.7</pre><div class='xr-wrap' style='display:none'><div class='xr-header'><div class='xr-obj-type'>xarray.Dataset</div></div><ul class='xr-sections'><li class='xr-section-item'><input id='section-aa16278f-317e-408f-af9a-8d0bccd11428' class='xr-section-summary-in' type='checkbox' disabled ><label for='section-aa16278f-317e-408f-af9a-8d0bccd11428' class='xr-section-summary'  title='Expand/collapse section'>Dimensions:</label><div class='xr-section-inline-details'><ul class='xr-dim-list'><li><span>z_dim</span>: 51</li><li><span>axis_nbounds</span>: 2</li><li><span class='xr-has-index'>t_dim</span>: 7</li><li><span>y_dim</span>: 375</li><li><span>x_dim</span>: 297</li></ul></div><div class='xr-section-details'></div></li><li class='xr-section-item'><input id='section-438e1b9b-229d-4e68-82be-ed29770f3cdf' class='xr-section-summary-in' type='checkbox'  checked><label for='section-438e1b9b-229d-4e68-82be-ed29770f3cdf' class='xr-section-summary' >Coordinates: <span>(4)</span></label><div class='xr-section-inline-details'></div><div class='xr-section-details'><ul class='xr-var-list'><li class='xr-var-item'><div class='xr-var-name'><span class='xr-has-index'>time</span></div><div class='xr-var-dims'>(t_dim)</div><div class='xr-var-dtype'>datetime64[ns]</div><div class='xr-var-preview xr-preview'>2007-01-01T11:58:56 ... 2007-01-...</div><input id='attrs-0b2e3a22-c6ea-4fa1-bcad-39950757ffee' class='xr-var-attrs-in' type='checkbox' ><label for='attrs-0b2e3a22-c6ea-4fa1-bcad-39950757ffee' title='Show/Hide attributes'><svg class='icon xr-icon-file-text2'><use xlink:href='#icon-file-text2'></use></svg></label><input id='data-7e3f907f-9c65-4e40-b76d-a10cd5fb61d5' class='xr-var-data-in' type='checkbox'><label for='data-7e3f907f-9c65-4e40-b76d-a10cd5fb61d5' title='Show/Hide data repr'><svg class='icon xr-icon-database'><use xlink:href='#icon-database'></use></svg></label><div class='xr-var-attrs'><dl class='xr-attrs'><dt><span>axis :</span></dt><dd>T</dd><dt><span>standard_name :</span></dt><dd>time</dd><dt><span>long_name :</span></dt><dd>Time axis</dd><dt><span>time_origin :</span></dt><dd>1900-01-01 00:00:00</dd><dt><span>bounds :</span></dt><dd>time_counter_bounds</dd></dl></div><div class='xr-var-data'><pre>array([&#x27;2007-01-01T11:58:56.000000000&#x27;, &#x27;2007-01-06T12:01:04.000000000&#x27;,\n",
       "       &#x27;2007-01-11T11:58:56.000000000&#x27;, &#x27;2007-01-16T12:01:04.000000000&#x27;,\n",
       "       &#x27;2007-01-21T11:58:56.000000000&#x27;, &#x27;2007-01-26T12:01:04.000000000&#x27;,\n",
       "       &#x27;2007-01-31T11:58:56.000000000&#x27;], dtype=&#x27;datetime64[ns]&#x27;)</pre></div></li><li class='xr-var-item'><div class='xr-var-name'><span>longitude</span></div><div class='xr-var-dims'>(y_dim, x_dim)</div><div class='xr-var-dtype'>float32</div><div class='xr-var-preview xr-preview'>...</div><input id='attrs-77f71243-1123-495f-9b91-aaa8db810577' class='xr-var-attrs-in' type='checkbox' disabled><label for='attrs-77f71243-1123-495f-9b91-aaa8db810577' title='Show/Hide attributes'><svg class='icon xr-icon-file-text2'><use xlink:href='#icon-file-text2'></use></svg></label><input id='data-e3f52e3c-e2c4-47df-8e63-1d8a52b8b94b' class='xr-var-data-in' type='checkbox'><label for='data-e3f52e3c-e2c4-47df-8e63-1d8a52b8b94b' title='Show/Hide data repr'><svg class='icon xr-icon-database'><use xlink:href='#icon-database'></use></svg></label><div class='xr-var-attrs'><dl class='xr-attrs'></dl></div><div class='xr-var-data'><pre>[111375 values with dtype=float32]</pre></div></li><li class='xr-var-item'><div class='xr-var-name'><span>latitude</span></div><div class='xr-var-dims'>(y_dim, x_dim)</div><div class='xr-var-dtype'>float32</div><div class='xr-var-preview xr-preview'>...</div><input id='attrs-16a00c08-8bea-4f5b-ae68-7a787a3c6b77' class='xr-var-attrs-in' type='checkbox' disabled><label for='attrs-16a00c08-8bea-4f5b-ae68-7a787a3c6b77' title='Show/Hide attributes'><svg class='icon xr-icon-file-text2'><use xlink:href='#icon-file-text2'></use></svg></label><input id='data-55c99259-0116-43cc-8e0e-dfcdf6b6b79c' class='xr-var-data-in' type='checkbox'><label for='data-55c99259-0116-43cc-8e0e-dfcdf6b6b79c' title='Show/Hide data repr'><svg class='icon xr-icon-database'><use xlink:href='#icon-database'></use></svg></label><div class='xr-var-attrs'><dl class='xr-attrs'></dl></div><div class='xr-var-data'><pre>[111375 values with dtype=float32]</pre></div></li><li class='xr-var-item'><div class='xr-var-name'><span>depth_0</span></div><div class='xr-var-dims'>(z_dim, y_dim, x_dim)</div><div class='xr-var-dtype'>float32</div><div class='xr-var-preview xr-preview'>0.5 0.5 0.5 0.5 ... 50.5 50.5 50.5</div><input id='attrs-b5916145-0d3c-4a1b-9f85-6933bd3a0afc' class='xr-var-attrs-in' type='checkbox' ><label for='attrs-b5916145-0d3c-4a1b-9f85-6933bd3a0afc' title='Show/Hide attributes'><svg class='icon xr-icon-file-text2'><use xlink:href='#icon-file-text2'></use></svg></label><input id='data-42f48800-0467-4652-afb9-5af704a3e2fb' class='xr-var-data-in' type='checkbox'><label for='data-42f48800-0467-4652-afb9-5af704a3e2fb' title='Show/Hide data repr'><svg class='icon xr-icon-database'><use xlink:href='#icon-database'></use></svg></label><div class='xr-var-attrs'><dl class='xr-attrs'><dt><span>units :</span></dt><dd>m</dd><dt><span>standard_name :</span></dt><dd>Depth at time zero on the t-grid</dd></dl></div><div class='xr-var-data'><pre>array([[[5.00000000e-01, 5.00000000e-01, 5.00000000e-01, ...,\n",
       "         5.00000000e-01, 5.00000000e-01, 5.00000000e-01],\n",
       "        [5.00000000e-01, 4.97558594e-01, 4.97558594e-01, ...,\n",
       "         1.00097656e-01, 1.00097656e-01, 5.00000000e-01],\n",
       "        [5.00000000e-01, 4.97558594e-01, 4.97558594e-01, ...,\n",
       "         1.00097656e-01, 1.00097656e-01, 5.00000000e-01],\n",
       "        ...,\n",
       "        [5.00000000e-01, 1.00097656e-01, 1.00097656e-01, ...,\n",
       "         1.00097656e-01, 1.00097656e-01, 5.00000000e-01],\n",
       "        [5.00000000e-01, 1.00097656e-01, 1.00097656e-01, ...,\n",
       "         1.00097656e-01, 1.00097656e-01, 5.00000000e-01],\n",
       "        [5.00000000e-01, 5.00000000e-01, 5.00000000e-01, ...,\n",
       "         5.00000000e-01, 5.00000000e-01, 5.00000000e-01]],\n",
       "\n",
       "       [[1.50000000e+00, 1.50000000e+00, 1.50000000e+00, ...,\n",
       "         1.50000000e+00, 1.50000000e+00, 1.50000000e+00],\n",
       "        [1.50000000e+00, 1.51708984e+00, 1.51708984e+00, ...,\n",
       "         3.00292969e-01, 3.00292969e-01, 1.50000000e+00],\n",
       "        [1.50000000e+00, 1.51708984e+00, 1.51708984e+00, ...,\n",
       "         3.00292969e-01, 3.00292969e-01, 1.50000000e+00],\n",
       "...\n",
       "        [4.95000000e+01, 9.90966797e+00, 9.90966797e+00, ...,\n",
       "         9.90966797e+00, 9.90966797e+00, 4.95000000e+01],\n",
       "        [4.95000000e+01, 9.90966797e+00, 9.90966797e+00, ...,\n",
       "         9.90966797e+00, 9.90966797e+00, 4.95000000e+01],\n",
       "        [4.95000000e+01, 4.95000000e+01, 4.95000000e+01, ...,\n",
       "         4.95000000e+01, 4.95000000e+01, 4.95000000e+01]],\n",
       "\n",
       "       [[5.05000000e+01, 5.05000000e+01, 5.05000000e+01, ...,\n",
       "         5.05000000e+01, 5.05000000e+01, 5.05000000e+01],\n",
       "        [5.05000000e+01, 4.89461475e+03, 4.88646533e+03, ...,\n",
       "         1.01098633e+01, 1.01098633e+01, 5.05000000e+01],\n",
       "        [5.05000000e+01, 4.89435400e+03, 4.87952588e+03, ...,\n",
       "         1.01098633e+01, 1.01098633e+01, 5.05000000e+01],\n",
       "        ...,\n",
       "        [5.05000000e+01, 1.01098633e+01, 1.01098633e+01, ...,\n",
       "         1.01098633e+01, 1.01098633e+01, 5.05000000e+01],\n",
       "        [5.05000000e+01, 1.01098633e+01, 1.01098633e+01, ...,\n",
       "         1.01098633e+01, 1.01098633e+01, 5.05000000e+01],\n",
       "        [5.05000000e+01, 5.05000000e+01, 5.05000000e+01, ...,\n",
       "         5.05000000e+01, 5.05000000e+01, 5.05000000e+01]]], dtype=float32)</pre></div></li></ul></div></li><li class='xr-section-item'><input id='section-1fc214f4-f732-4346-bdc0-7bbf1b57f82c' class='xr-section-summary-in' type='checkbox'  checked><label for='section-1fc214f4-f732-4346-bdc0-7bbf1b57f82c' class='xr-section-summary' >Data variables: <span>(10)</span></label><div class='xr-section-inline-details'></div><div class='xr-section-details'><ul class='xr-var-list'><li class='xr-var-item'><div class='xr-var-name'><span>deptht_bounds</span></div><div class='xr-var-dims'>(z_dim, axis_nbounds)</div><div class='xr-var-dtype'>float32</div><div class='xr-var-preview xr-preview'>dask.array&lt;chunksize=(51, 2), meta=np.ndarray&gt;</div><input id='attrs-2a39260f-15d3-4c6f-bb03-5e81a43316f1' class='xr-var-attrs-in' type='checkbox' disabled><label for='attrs-2a39260f-15d3-4c6f-bb03-5e81a43316f1' title='Show/Hide attributes'><svg class='icon xr-icon-file-text2'><use xlink:href='#icon-file-text2'></use></svg></label><input id='data-30c6b915-d5f3-4da1-b218-7fcf88a28b0b' class='xr-var-data-in' type='checkbox'><label for='data-30c6b915-d5f3-4da1-b218-7fcf88a28b0b' title='Show/Hide data repr'><svg class='icon xr-icon-database'><use xlink:href='#icon-database'></use></svg></label><div class='xr-var-attrs'><dl class='xr-attrs'></dl></div><div class='xr-var-data'><table>\n",
       "    <tr>\n",
       "        <td>\n",
       "            <table style=\"border-collapse: collapse;\">\n",
       "                <thead>\n",
       "                    <tr>\n",
       "                        <td> </td>\n",
       "                        <th> Array </th>\n",
       "                        <th> Chunk </th>\n",
       "                    </tr>\n",
       "                </thead>\n",
       "                <tbody>\n",
       "                    \n",
       "                    <tr>\n",
       "                        <th> Bytes </th>\n",
       "                        <td> 408 B </td>\n",
       "                        <td> 408 B </td>\n",
       "                    </tr>\n",
       "                    \n",
       "                    <tr>\n",
       "                        <th> Shape </th>\n",
       "                        <td> (51, 2) </td>\n",
       "                        <td> (51, 2) </td>\n",
       "                    </tr>\n",
       "                    <tr>\n",
       "                        <th> Dask graph </th>\n",
       "                        <td colspan=\"2\"> 1 chunks in 2 graph layers </td>\n",
       "                    </tr>\n",
       "                    <tr>\n",
       "                        <th> Data type </th>\n",
       "                        <td colspan=\"2\"> float32 numpy.ndarray </td>\n",
       "                    </tr>\n",
       "                </tbody>\n",
       "            </table>\n",
       "        </td>\n",
       "        <td>\n",
       "        <svg width=\"83\" height=\"170\" style=\"stroke:rgb(0,0,0);stroke-width:1\" >\n",
       "\n",
       "  <!-- Horizontal lines -->\n",
       "  <line x1=\"0\" y1=\"0\" x2=\"33\" y2=\"0\" style=\"stroke-width:2\" />\n",
       "  <line x1=\"0\" y1=\"120\" x2=\"33\" y2=\"120\" style=\"stroke-width:2\" />\n",
       "\n",
       "  <!-- Vertical lines -->\n",
       "  <line x1=\"0\" y1=\"0\" x2=\"0\" y2=\"120\" style=\"stroke-width:2\" />\n",
       "  <line x1=\"33\" y1=\"0\" x2=\"33\" y2=\"120\" style=\"stroke-width:2\" />\n",
       "\n",
       "  <!-- Colored Rectangle -->\n",
       "  <polygon points=\"0.0,0.0 33.01282363906585,0.0 33.01282363906585,120.0 0.0,120.0\" style=\"fill:#ECB172A0;stroke-width:0\"/>\n",
       "\n",
       "  <!-- Text -->\n",
       "  <text x=\"16.506412\" y=\"140.000000\" font-size=\"1.0rem\" font-weight=\"100\" text-anchor=\"middle\" >2</text>\n",
       "  <text x=\"53.012824\" y=\"60.000000\" font-size=\"1.0rem\" font-weight=\"100\" text-anchor=\"middle\" transform=\"rotate(0,53.012824,60.000000)\">51</text>\n",
       "</svg>\n",
       "        </td>\n",
       "    </tr>\n",
       "</table></div></li><li class='xr-var-item'><div class='xr-var-name'><span>ssh</span></div><div class='xr-var-dims'>(t_dim, y_dim, x_dim)</div><div class='xr-var-dtype'>float32</div><div class='xr-var-preview xr-preview'>dask.array&lt;chunksize=(2, 375, 297), meta=np.ndarray&gt;</div><input id='attrs-25e5219f-1d10-4418-acc9-a62273ce8258' class='xr-var-attrs-in' type='checkbox' ><label for='attrs-25e5219f-1d10-4418-acc9-a62273ce8258' title='Show/Hide attributes'><svg class='icon xr-icon-file-text2'><use xlink:href='#icon-file-text2'></use></svg></label><input id='data-025a34ec-dac0-43c5-82d0-cdda23e19560' class='xr-var-data-in' type='checkbox'><label for='data-025a34ec-dac0-43c5-82d0-cdda23e19560' title='Show/Hide data repr'><svg class='icon xr-icon-database'><use xlink:href='#icon-database'></use></svg></label><div class='xr-var-attrs'><dl class='xr-attrs'><dt><span>units :</span></dt><dd>m</dd><dt><span>online_operation :</span></dt><dd>instant</dd><dt><span>interval_operation :</span></dt><dd>300 s</dd><dt><span>interval_write :</span></dt><dd>1 d</dd><dt><span>cell_methods :</span></dt><dd>time: point (interval: 300 s)</dd></dl></div><div class='xr-var-data'><table>\n",
       "    <tr>\n",
       "        <td>\n",
       "            <table style=\"border-collapse: collapse;\">\n",
       "                <thead>\n",
       "                    <tr>\n",
       "                        <td> </td>\n",
       "                        <th> Array </th>\n",
       "                        <th> Chunk </th>\n",
       "                    </tr>\n",
       "                </thead>\n",
       "                <tbody>\n",
       "                    \n",
       "                    <tr>\n",
       "                        <th> Bytes </th>\n",
       "                        <td> 2.97 MiB </td>\n",
       "                        <td> 870.12 kiB </td>\n",
       "                    </tr>\n",
       "                    \n",
       "                    <tr>\n",
       "                        <th> Shape </th>\n",
       "                        <td> (7, 375, 297) </td>\n",
       "                        <td> (2, 375, 297) </td>\n",
       "                    </tr>\n",
       "                    <tr>\n",
       "                        <th> Dask graph </th>\n",
       "                        <td colspan=\"2\"> 4 chunks in 2 graph layers </td>\n",
       "                    </tr>\n",
       "                    <tr>\n",
       "                        <th> Data type </th>\n",
       "                        <td colspan=\"2\"> float32 numpy.ndarray </td>\n",
       "                    </tr>\n",
       "                </tbody>\n",
       "            </table>\n",
       "        </td>\n",
       "        <td>\n",
       "        <svg width=\"171\" height=\"186\" style=\"stroke:rgb(0,0,0);stroke-width:1\" >\n",
       "\n",
       "  <!-- Horizontal lines -->\n",
       "  <line x1=\"10\" y1=\"0\" x2=\"26\" y2=\"16\" style=\"stroke-width:2\" />\n",
       "  <line x1=\"10\" y1=\"120\" x2=\"26\" y2=\"136\" style=\"stroke-width:2\" />\n",
       "\n",
       "  <!-- Vertical lines -->\n",
       "  <line x1=\"10\" y1=\"0\" x2=\"10\" y2=\"120\" style=\"stroke-width:2\" />\n",
       "  <line x1=\"14\" y1=\"4\" x2=\"14\" y2=\"124\" />\n",
       "  <line x1=\"19\" y1=\"9\" x2=\"19\" y2=\"129\" />\n",
       "  <line x1=\"24\" y1=\"14\" x2=\"24\" y2=\"134\" />\n",
       "  <line x1=\"26\" y1=\"16\" x2=\"26\" y2=\"136\" style=\"stroke-width:2\" />\n",
       "\n",
       "  <!-- Colored Rectangle -->\n",
       "  <polygon points=\"10.0,0.0 26.8499639175441,16.8499639175441 26.8499639175441,136.8499639175441 10.0,120.0\" style=\"fill:#ECB172A0;stroke-width:0\"/>\n",
       "\n",
       "  <!-- Horizontal lines -->\n",
       "  <line x1=\"10\" y1=\"0\" x2=\"105\" y2=\"0\" style=\"stroke-width:2\" />\n",
       "  <line x1=\"14\" y1=\"4\" x2=\"109\" y2=\"4\" />\n",
       "  <line x1=\"19\" y1=\"9\" x2=\"114\" y2=\"9\" />\n",
       "  <line x1=\"24\" y1=\"14\" x2=\"119\" y2=\"14\" />\n",
       "  <line x1=\"26\" y1=\"16\" x2=\"121\" y2=\"16\" style=\"stroke-width:2\" />\n",
       "\n",
       "  <!-- Vertical lines -->\n",
       "  <line x1=\"10\" y1=\"0\" x2=\"26\" y2=\"16\" style=\"stroke-width:2\" />\n",
       "  <line x1=\"105\" y1=\"0\" x2=\"121\" y2=\"16\" style=\"stroke-width:2\" />\n",
       "\n",
       "  <!-- Colored Rectangle -->\n",
       "  <polygon points=\"10.0,0.0 105.04,0.0 121.88996391754411,16.8499639175441 26.8499639175441,16.8499639175441\" style=\"fill:#ECB172A0;stroke-width:0\"/>\n",
       "\n",
       "  <!-- Horizontal lines -->\n",
       "  <line x1=\"26\" y1=\"16\" x2=\"121\" y2=\"16\" style=\"stroke-width:2\" />\n",
       "  <line x1=\"26\" y1=\"136\" x2=\"121\" y2=\"136\" style=\"stroke-width:2\" />\n",
       "\n",
       "  <!-- Vertical lines -->\n",
       "  <line x1=\"26\" y1=\"16\" x2=\"26\" y2=\"136\" style=\"stroke-width:2\" />\n",
       "  <line x1=\"121\" y1=\"16\" x2=\"121\" y2=\"136\" style=\"stroke-width:2\" />\n",
       "\n",
       "  <!-- Colored Rectangle -->\n",
       "  <polygon points=\"26.8499639175441,16.8499639175441 121.88996391754411,16.8499639175441 121.88996391754411,136.8499639175441 26.8499639175441,136.8499639175441\" style=\"fill:#ECB172A0;stroke-width:0\"/>\n",
       "\n",
       "  <!-- Text -->\n",
       "  <text x=\"74.369964\" y=\"156.849964\" font-size=\"1.0rem\" font-weight=\"100\" text-anchor=\"middle\" >297</text>\n",
       "  <text x=\"141.889964\" y=\"76.849964\" font-size=\"1.0rem\" font-weight=\"100\" text-anchor=\"middle\" transform=\"rotate(-90,141.889964,76.849964)\">375</text>\n",
       "  <text x=\"8.424982\" y=\"148.424982\" font-size=\"1.0rem\" font-weight=\"100\" text-anchor=\"middle\" transform=\"rotate(45,8.424982,148.424982)\">7</text>\n",
       "</svg>\n",
       "        </td>\n",
       "    </tr>\n",
       "</table></div></li><li class='xr-var-item'><div class='xr-var-name'><span>time_counter_bounds</span></div><div class='xr-var-dims'>(t_dim, axis_nbounds)</div><div class='xr-var-dtype'>datetime64[ns]</div><div class='xr-var-preview xr-preview'>dask.array&lt;chunksize=(2, 2), meta=np.ndarray&gt;</div><input id='attrs-1cc7627b-7cab-48e0-a1b6-5b9199d99f2e' class='xr-var-attrs-in' type='checkbox' disabled><label for='attrs-1cc7627b-7cab-48e0-a1b6-5b9199d99f2e' title='Show/Hide attributes'><svg class='icon xr-icon-file-text2'><use xlink:href='#icon-file-text2'></use></svg></label><input id='data-e697c2c6-3176-4972-bd86-3a384685ca37' class='xr-var-data-in' type='checkbox'><label for='data-e697c2c6-3176-4972-bd86-3a384685ca37' title='Show/Hide data repr'><svg class='icon xr-icon-database'><use xlink:href='#icon-database'></use></svg></label><div class='xr-var-attrs'><dl class='xr-attrs'></dl></div><div class='xr-var-data'><table>\n",
       "    <tr>\n",
       "        <td>\n",
       "            <table style=\"border-collapse: collapse;\">\n",
       "                <thead>\n",
       "                    <tr>\n",
       "                        <td> </td>\n",
       "                        <th> Array </th>\n",
       "                        <th> Chunk </th>\n",
       "                    </tr>\n",
       "                </thead>\n",
       "                <tbody>\n",
       "                    \n",
       "                    <tr>\n",
       "                        <th> Bytes </th>\n",
       "                        <td> 112 B </td>\n",
       "                        <td> 32 B </td>\n",
       "                    </tr>\n",
       "                    \n",
       "                    <tr>\n",
       "                        <th> Shape </th>\n",
       "                        <td> (7, 2) </td>\n",
       "                        <td> (2, 2) </td>\n",
       "                    </tr>\n",
       "                    <tr>\n",
       "                        <th> Dask graph </th>\n",
       "                        <td colspan=\"2\"> 4 chunks in 2 graph layers </td>\n",
       "                    </tr>\n",
       "                    <tr>\n",
       "                        <th> Data type </th>\n",
       "                        <td colspan=\"2\"> datetime64[ns] numpy.ndarray </td>\n",
       "                    </tr>\n",
       "                </tbody>\n",
       "            </table>\n",
       "        </td>\n",
       "        <td>\n",
       "        <svg width=\"93\" height=\"170\" style=\"stroke:rgb(0,0,0);stroke-width:1\" >\n",
       "\n",
       "  <!-- Horizontal lines -->\n",
       "  <line x1=\"0\" y1=\"0\" x2=\"43\" y2=\"0\" style=\"stroke-width:2\" />\n",
       "  <line x1=\"0\" y1=\"34\" x2=\"43\" y2=\"34\" />\n",
       "  <line x1=\"0\" y1=\"68\" x2=\"43\" y2=\"68\" />\n",
       "  <line x1=\"0\" y1=\"102\" x2=\"43\" y2=\"102\" />\n",
       "  <line x1=\"0\" y1=\"120\" x2=\"43\" y2=\"120\" style=\"stroke-width:2\" />\n",
       "\n",
       "  <!-- Vertical lines -->\n",
       "  <line x1=\"0\" y1=\"0\" x2=\"0\" y2=\"120\" style=\"stroke-width:2\" />\n",
       "  <line x1=\"43\" y1=\"0\" x2=\"43\" y2=\"120\" style=\"stroke-width:2\" />\n",
       "\n",
       "  <!-- Colored Rectangle -->\n",
       "  <polygon points=\"0.0,0.0 43.37894337633637,0.0 43.37894337633637,120.0 0.0,120.0\" style=\"fill:#ECB172A0;stroke-width:0\"/>\n",
       "\n",
       "  <!-- Text -->\n",
       "  <text x=\"21.689472\" y=\"140.000000\" font-size=\"1.0rem\" font-weight=\"100\" text-anchor=\"middle\" >2</text>\n",
       "  <text x=\"63.378943\" y=\"60.000000\" font-size=\"1.0rem\" font-weight=\"100\" text-anchor=\"middle\" transform=\"rotate(0,63.378943,60.000000)\">7</text>\n",
       "</svg>\n",
       "        </td>\n",
       "    </tr>\n",
       "</table></div></li><li class='xr-var-item'><div class='xr-var-name'><span>time_instant</span></div><div class='xr-var-dims'>(t_dim)</div><div class='xr-var-dtype'>datetime64[ns]</div><div class='xr-var-preview xr-preview'>dask.array&lt;chunksize=(2,), meta=np.ndarray&gt;</div><input id='attrs-75af6ab0-054f-46ca-b048-0259b362816d' class='xr-var-attrs-in' type='checkbox' ><label for='attrs-75af6ab0-054f-46ca-b048-0259b362816d' title='Show/Hide attributes'><svg class='icon xr-icon-file-text2'><use xlink:href='#icon-file-text2'></use></svg></label><input id='data-ed7e4fbd-3ec7-46a4-b51b-0403fbf973a0' class='xr-var-data-in' type='checkbox'><label for='data-ed7e4fbd-3ec7-46a4-b51b-0403fbf973a0' title='Show/Hide data repr'><svg class='icon xr-icon-database'><use xlink:href='#icon-database'></use></svg></label><div class='xr-var-attrs'><dl class='xr-attrs'><dt><span>standard_name :</span></dt><dd>time</dd><dt><span>long_name :</span></dt><dd>Time axis</dd><dt><span>time_origin :</span></dt><dd>1900-01-01 00:00:00</dd><dt><span>bounds :</span></dt><dd>time_instant_bounds</dd></dl></div><div class='xr-var-data'><table>\n",
       "    <tr>\n",
       "        <td>\n",
       "            <table style=\"border-collapse: collapse;\">\n",
       "                <thead>\n",
       "                    <tr>\n",
       "                        <td> </td>\n",
       "                        <th> Array </th>\n",
       "                        <th> Chunk </th>\n",
       "                    </tr>\n",
       "                </thead>\n",
       "                <tbody>\n",
       "                    \n",
       "                    <tr>\n",
       "                        <th> Bytes </th>\n",
       "                        <td> 56 B </td>\n",
       "                        <td> 16 B </td>\n",
       "                    </tr>\n",
       "                    \n",
       "                    <tr>\n",
       "                        <th> Shape </th>\n",
       "                        <td> (7,) </td>\n",
       "                        <td> (2,) </td>\n",
       "                    </tr>\n",
       "                    <tr>\n",
       "                        <th> Dask graph </th>\n",
       "                        <td colspan=\"2\"> 4 chunks in 2 graph layers </td>\n",
       "                    </tr>\n",
       "                    <tr>\n",
       "                        <th> Data type </th>\n",
       "                        <td colspan=\"2\"> datetime64[ns] numpy.ndarray </td>\n",
       "                    </tr>\n",
       "                </tbody>\n",
       "            </table>\n",
       "        </td>\n",
       "        <td>\n",
       "        <svg width=\"170\" height=\"90\" style=\"stroke:rgb(0,0,0);stroke-width:1\" >\n",
       "\n",
       "  <!-- Horizontal lines -->\n",
       "  <line x1=\"0\" y1=\"0\" x2=\"120\" y2=\"0\" style=\"stroke-width:2\" />\n",
       "  <line x1=\"0\" y1=\"40\" x2=\"120\" y2=\"40\" style=\"stroke-width:2\" />\n",
       "\n",
       "  <!-- Vertical lines -->\n",
       "  <line x1=\"0\" y1=\"0\" x2=\"0\" y2=\"40\" style=\"stroke-width:2\" />\n",
       "  <line x1=\"34\" y1=\"0\" x2=\"34\" y2=\"40\" />\n",
       "  <line x1=\"68\" y1=\"0\" x2=\"68\" y2=\"40\" />\n",
       "  <line x1=\"102\" y1=\"0\" x2=\"102\" y2=\"40\" />\n",
       "  <line x1=\"120\" y1=\"0\" x2=\"120\" y2=\"40\" style=\"stroke-width:2\" />\n",
       "\n",
       "  <!-- Colored Rectangle -->\n",
       "  <polygon points=\"0.0,0.0 120.0,0.0 120.0,40.46844837769698 0.0,40.46844837769698\" style=\"fill:#ECB172A0;stroke-width:0\"/>\n",
       "\n",
       "  <!-- Text -->\n",
       "  <text x=\"60.000000\" y=\"60.468448\" font-size=\"1.0rem\" font-weight=\"100\" text-anchor=\"middle\" >7</text>\n",
       "  <text x=\"140.000000\" y=\"20.234224\" font-size=\"1.0rem\" font-weight=\"100\" text-anchor=\"middle\" transform=\"rotate(0,140.000000,20.234224)\">1</text>\n",
       "</svg>\n",
       "        </td>\n",
       "    </tr>\n",
       "</table></div></li><li class='xr-var-item'><div class='xr-var-name'><span>temperature</span></div><div class='xr-var-dims'>(t_dim, z_dim, y_dim, x_dim)</div><div class='xr-var-dtype'>float32</div><div class='xr-var-preview xr-preview'>dask.array&lt;chunksize=(2, 26, 188, 149), meta=np.ndarray&gt;</div><input id='attrs-2837cb56-351b-47eb-9f76-ac059ca316bd' class='xr-var-attrs-in' type='checkbox' ><label for='attrs-2837cb56-351b-47eb-9f76-ac059ca316bd' title='Show/Hide attributes'><svg class='icon xr-icon-file-text2'><use xlink:href='#icon-file-text2'></use></svg></label><input id='data-ba9b0bab-295c-4a71-9cbc-771ebc16f049' class='xr-var-data-in' type='checkbox'><label for='data-ba9b0bab-295c-4a71-9cbc-771ebc16f049' title='Show/Hide data repr'><svg class='icon xr-icon-database'><use xlink:href='#icon-database'></use></svg></label><div class='xr-var-attrs'><dl class='xr-attrs'><dt><span>units :</span></dt><dd>degC</dd><dt><span>online_operation :</span></dt><dd>instant</dd><dt><span>interval_operation :</span></dt><dd>300 s</dd><dt><span>interval_write :</span></dt><dd>1 d</dd><dt><span>cell_methods :</span></dt><dd>time: point (interval: 300 s)</dd></dl></div><div class='xr-var-data'><table>\n",
       "    <tr>\n",
       "        <td>\n",
       "            <table style=\"border-collapse: collapse;\">\n",
       "                <thead>\n",
       "                    <tr>\n",
       "                        <td> </td>\n",
       "                        <th> Array </th>\n",
       "                        <th> Chunk </th>\n",
       "                    </tr>\n",
       "                </thead>\n",
       "                <tbody>\n",
       "                    \n",
       "                    <tr>\n",
       "                        <th> Bytes </th>\n",
       "                        <td> 151.68 MiB </td>\n",
       "                        <td> 5.56 MiB </td>\n",
       "                    </tr>\n",
       "                    \n",
       "                    <tr>\n",
       "                        <th> Shape </th>\n",
       "                        <td> (7, 51, 375, 297) </td>\n",
       "                        <td> (2, 26, 188, 149) </td>\n",
       "                    </tr>\n",
       "                    <tr>\n",
       "                        <th> Dask graph </th>\n",
       "                        <td colspan=\"2\"> 32 chunks in 2 graph layers </td>\n",
       "                    </tr>\n",
       "                    <tr>\n",
       "                        <th> Data type </th>\n",
       "                        <td colspan=\"2\"> float32 numpy.ndarray </td>\n",
       "                    </tr>\n",
       "                </tbody>\n",
       "            </table>\n",
       "        </td>\n",
       "        <td>\n",
       "        <svg width=\"364\" height=\"193\" style=\"stroke:rgb(0,0,0);stroke-width:1\" >\n",
       "\n",
       "  <!-- Horizontal lines -->\n",
       "  <line x1=\"0\" y1=\"0\" x2=\"28\" y2=\"0\" style=\"stroke-width:2\" />\n",
       "  <line x1=\"0\" y1=\"25\" x2=\"28\" y2=\"25\" style=\"stroke-width:2\" />\n",
       "\n",
       "  <!-- Vertical lines -->\n",
       "  <line x1=\"0\" y1=\"0\" x2=\"0\" y2=\"25\" style=\"stroke-width:2\" />\n",
       "  <line x1=\"8\" y1=\"0\" x2=\"8\" y2=\"25\" />\n",
       "  <line x1=\"16\" y1=\"0\" x2=\"16\" y2=\"25\" />\n",
       "  <line x1=\"24\" y1=\"0\" x2=\"24\" y2=\"25\" />\n",
       "  <line x1=\"28\" y1=\"0\" x2=\"28\" y2=\"25\" style=\"stroke-width:2\" />\n",
       "\n",
       "  <!-- Colored Rectangle -->\n",
       "  <polygon points=\"0.0,0.0 28.644938659824966,0.0 28.644938659824966,25.412616514582485 0.0,25.412616514582485\" style=\"fill:#ECB172A0;stroke-width:0\"/>\n",
       "\n",
       "  <!-- Text -->\n",
       "  <text x=\"14.322469\" y=\"45.412617\" font-size=\"1.0rem\" font-weight=\"100\" text-anchor=\"middle\" >7</text>\n",
       "  <text x=\"48.644939\" y=\"12.706308\" font-size=\"1.0rem\" font-weight=\"100\" text-anchor=\"middle\" transform=\"rotate(0,48.644939,12.706308)\">1</text>\n",
       "\n",
       "\n",
       "  <!-- Horizontal lines -->\n",
       "  <line x1=\"98\" y1=\"0\" x2=\"121\" y2=\"23\" style=\"stroke-width:2\" />\n",
       "  <line x1=\"98\" y1=\"60\" x2=\"121\" y2=\"83\" />\n",
       "  <line x1=\"98\" y1=\"120\" x2=\"121\" y2=\"143\" style=\"stroke-width:2\" />\n",
       "\n",
       "  <!-- Vertical lines -->\n",
       "  <line x1=\"98\" y1=\"0\" x2=\"98\" y2=\"120\" style=\"stroke-width:2\" />\n",
       "  <line x1=\"110\" y1=\"12\" x2=\"110\" y2=\"132\" />\n",
       "  <line x1=\"121\" y1=\"23\" x2=\"121\" y2=\"143\" style=\"stroke-width:2\" />\n",
       "\n",
       "  <!-- Colored Rectangle -->\n",
       "  <polygon points=\"98.0,0.0 121.66110632305437,23.66110632305437 121.66110632305437,143.66110632305436 98.0,120.0\" style=\"fill:#ECB172A0;stroke-width:0\"/>\n",
       "\n",
       "  <!-- Horizontal lines -->\n",
       "  <line x1=\"98\" y1=\"0\" x2=\"193\" y2=\"0\" style=\"stroke-width:2\" />\n",
       "  <line x1=\"110\" y1=\"12\" x2=\"205\" y2=\"12\" />\n",
       "  <line x1=\"121\" y1=\"23\" x2=\"216\" y2=\"23\" style=\"stroke-width:2\" />\n",
       "\n",
       "  <!-- Vertical lines -->\n",
       "  <line x1=\"98\" y1=\"0\" x2=\"121\" y2=\"23\" style=\"stroke-width:2\" />\n",
       "  <line x1=\"145\" y1=\"0\" x2=\"169\" y2=\"23\" />\n",
       "  <line x1=\"193\" y1=\"0\" x2=\"216\" y2=\"23\" style=\"stroke-width:2\" />\n",
       "\n",
       "  <!-- Colored Rectangle -->\n",
       "  <polygon points=\"98.0,0.0 193.04000000000002,0.0 216.70110632305438,23.66110632305437 121.66110632305437,23.66110632305437\" style=\"fill:#ECB172A0;stroke-width:0\"/>\n",
       "\n",
       "  <!-- Horizontal lines -->\n",
       "  <line x1=\"121\" y1=\"23\" x2=\"216\" y2=\"23\" style=\"stroke-width:2\" />\n",
       "  <line x1=\"121\" y1=\"83\" x2=\"216\" y2=\"83\" />\n",
       "  <line x1=\"121\" y1=\"143\" x2=\"216\" y2=\"143\" style=\"stroke-width:2\" />\n",
       "\n",
       "  <!-- Vertical lines -->\n",
       "  <line x1=\"121\" y1=\"23\" x2=\"121\" y2=\"143\" style=\"stroke-width:2\" />\n",
       "  <line x1=\"169\" y1=\"23\" x2=\"169\" y2=\"143\" />\n",
       "  <line x1=\"216\" y1=\"23\" x2=\"216\" y2=\"143\" style=\"stroke-width:2\" />\n",
       "\n",
       "  <!-- Colored Rectangle -->\n",
       "  <polygon points=\"121.66110632305437,23.66110632305437 216.70110632305438,23.66110632305437 216.70110632305438,143.66110632305436 121.66110632305437,143.66110632305436\" style=\"fill:#ECB172A0;stroke-width:0\"/>\n",
       "\n",
       "  <!-- Text -->\n",
       "  <text x=\"169.181106\" y=\"163.661106\" font-size=\"1.0rem\" font-weight=\"100\" text-anchor=\"middle\" >297</text>\n",
       "  <text x=\"236.701106\" y=\"83.661106\" font-size=\"1.0rem\" font-weight=\"100\" text-anchor=\"middle\" transform=\"rotate(-90,236.701106,83.661106)\">375</text>\n",
       "  <text x=\"99.830553\" y=\"151.830553\" font-size=\"1.0rem\" font-weight=\"100\" text-anchor=\"middle\" transform=\"rotate(45,99.830553,151.830553)\">51</text>\n",
       "</svg>\n",
       "        </td>\n",
       "    </tr>\n",
       "</table></div></li><li class='xr-var-item'><div class='xr-var-name'><span>bathymetry</span></div><div class='xr-var-dims'>(y_dim, x_dim)</div><div class='xr-var-dtype'>float32</div><div class='xr-var-preview xr-preview'>0.0 0.0 0.0 0.0 ... 0.0 0.0 0.0 0.0</div><input id='attrs-675384d2-c411-41a8-8c36-f4c9eaa78963' class='xr-var-attrs-in' type='checkbox' ><label for='attrs-675384d2-c411-41a8-8c36-f4c9eaa78963' title='Show/Hide attributes'><svg class='icon xr-icon-file-text2'><use xlink:href='#icon-file-text2'></use></svg></label><input id='data-ff16f2ec-29aa-4ad7-861c-9fb08c3a58de' class='xr-var-data-in' type='checkbox'><label for='data-ff16f2ec-29aa-4ad7-861c-9fb08c3a58de' title='Show/Hide data repr'><svg class='icon xr-icon-database'><use xlink:href='#icon-database'></use></svg></label><div class='xr-var-attrs'><dl class='xr-attrs'><dt><span>units :</span></dt><dd>m</dd><dt><span>standard_name :</span></dt><dd>bathymetry</dd><dt><span>description :</span></dt><dd>depth of last wet w-level on the horizontal t-grid</dd></dl></div><div class='xr-var-data'><pre>array([[   0.    ,    0.    ,    0.    , ...,    0.    ,    0.    ,\n",
       "           0.    ],\n",
       "       [   0.    , 4851.199 , 4843.125 , ...,    0.    ,    0.    ,\n",
       "           0.    ],\n",
       "       [   0.    , 4850.9414, 4836.246 , ...,    0.    ,    0.    ,\n",
       "           0.    ],\n",
       "       ...,\n",
       "       [   0.    ,    0.    ,    0.    , ...,    0.    ,    0.    ,\n",
       "           0.    ],\n",
       "       [   0.    ,    0.    ,    0.    , ...,    0.    ,    0.    ,\n",
       "           0.    ],\n",
       "       [   0.    ,    0.    ,    0.    , ...,    0.    ,    0.    ,\n",
       "           0.    ]], dtype=float32)</pre></div></li><li class='xr-var-item'><div class='xr-var-name'><span>e1</span></div><div class='xr-var-dims'>(y_dim, x_dim)</div><div class='xr-var-dtype'>float32</div><div class='xr-var-preview xr-preview'>...</div><input id='attrs-cdea6947-e131-46b0-bdb2-4609e59914ce' class='xr-var-attrs-in' type='checkbox' disabled><label for='attrs-cdea6947-e131-46b0-bdb2-4609e59914ce' title='Show/Hide attributes'><svg class='icon xr-icon-file-text2'><use xlink:href='#icon-file-text2'></use></svg></label><input id='data-b5c83f87-9fbf-4cff-b555-59488a53602c' class='xr-var-data-in' type='checkbox'><label for='data-b5c83f87-9fbf-4cff-b555-59488a53602c' title='Show/Hide data repr'><svg class='icon xr-icon-database'><use xlink:href='#icon-database'></use></svg></label><div class='xr-var-attrs'><dl class='xr-attrs'></dl></div><div class='xr-var-data'><pre>[111375 values with dtype=float32]</pre></div></li><li class='xr-var-item'><div class='xr-var-name'><span>e2</span></div><div class='xr-var-dims'>(y_dim, x_dim)</div><div class='xr-var-dtype'>float32</div><div class='xr-var-preview xr-preview'>...</div><input id='attrs-2cd82952-d25b-4e95-bd39-cbe90ecdd7da' class='xr-var-attrs-in' type='checkbox' disabled><label for='attrs-2cd82952-d25b-4e95-bd39-cbe90ecdd7da' title='Show/Hide attributes'><svg class='icon xr-icon-file-text2'><use xlink:href='#icon-file-text2'></use></svg></label><input id='data-e29225f0-045e-4477-9c59-58a35935759c' class='xr-var-data-in' type='checkbox'><label for='data-e29225f0-045e-4477-9c59-58a35935759c' title='Show/Hide data repr'><svg class='icon xr-icon-database'><use xlink:href='#icon-database'></use></svg></label><div class='xr-var-attrs'><dl class='xr-attrs'></dl></div><div class='xr-var-data'><pre>[111375 values with dtype=float32]</pre></div></li><li class='xr-var-item'><div class='xr-var-name'><span>e3_0</span></div><div class='xr-var-dims'>(z_dim, y_dim, x_dim)</div><div class='xr-var-dtype'>float32</div><div class='xr-var-preview xr-preview'>...</div><input id='attrs-f0e38732-1a66-4adc-88b9-1e767e360057' class='xr-var-attrs-in' type='checkbox' disabled><label for='attrs-f0e38732-1a66-4adc-88b9-1e767e360057' title='Show/Hide attributes'><svg class='icon xr-icon-file-text2'><use xlink:href='#icon-file-text2'></use></svg></label><input id='data-bfaacfb6-34d9-4f4d-8d03-cd7c42c798bd' class='xr-var-data-in' type='checkbox'><label for='data-bfaacfb6-34d9-4f4d-8d03-cd7c42c798bd' title='Show/Hide data repr'><svg class='icon xr-icon-database'><use xlink:href='#icon-database'></use></svg></label><div class='xr-var-attrs'><dl class='xr-attrs'></dl></div><div class='xr-var-data'><pre>[5680125 values with dtype=float32]</pre></div></li><li class='xr-var-item'><div class='xr-var-name'><span>bottom_level</span></div><div class='xr-var-dims'>(y_dim, x_dim)</div><div class='xr-var-dtype'>float32</div><div class='xr-var-preview xr-preview'>...</div><input id='attrs-f13460f3-c505-4970-bc6c-aa667961dc1e' class='xr-var-attrs-in' type='checkbox' disabled><label for='attrs-f13460f3-c505-4970-bc6c-aa667961dc1e' title='Show/Hide attributes'><svg class='icon xr-icon-file-text2'><use xlink:href='#icon-file-text2'></use></svg></label><input id='data-bedc69fd-368e-4b45-990d-7a2db2cedee4' class='xr-var-data-in' type='checkbox'><label for='data-bedc69fd-368e-4b45-990d-7a2db2cedee4' title='Show/Hide data repr'><svg class='icon xr-icon-database'><use xlink:href='#icon-database'></use></svg></label><div class='xr-var-attrs'><dl class='xr-attrs'></dl></div><div class='xr-var-data'><pre>[111375 values with dtype=float32]</pre></div></li></ul></div></li><li class='xr-section-item'><input id='section-15c0176f-1c48-477e-a50c-d02eb6d24d4e' class='xr-section-summary-in' type='checkbox'  ><label for='section-15c0176f-1c48-477e-a50c-d02eb6d24d4e' class='xr-section-summary' >Indexes: <span>(1)</span></label><div class='xr-section-inline-details'></div><div class='xr-section-details'><ul class='xr-var-list'><li class='xr-var-item'><div class='xr-index-name'><div>time</div></div><div class='xr-index-preview'>PandasIndex</div><div></div><input id='index-c254c4ef-d6ad-44a8-9478-83ac4e3bf320' class='xr-index-data-in' type='checkbox'/><label for='index-c254c4ef-d6ad-44a8-9478-83ac4e3bf320' title='Show/Hide index repr'><svg class='icon xr-icon-database'><use xlink:href='#icon-database'></use></svg></label><div class='xr-index-data'><pre>PandasIndex(DatetimeIndex([&#x27;2007-01-01 11:58:56&#x27;, &#x27;2007-01-06 12:01:04&#x27;,\n",
       "               &#x27;2007-01-11 11:58:56&#x27;, &#x27;2007-01-16 12:01:04&#x27;,\n",
       "               &#x27;2007-01-21 11:58:56&#x27;, &#x27;2007-01-26 12:01:04&#x27;,\n",
       "               &#x27;2007-01-31 11:58:56&#x27;],\n",
       "              dtype=&#x27;datetime64[ns]&#x27;, name=&#x27;time&#x27;, freq=None))</pre></div></li></ul></div></li><li class='xr-section-item'><input id='section-43b93fde-48de-4ff8-a27c-5367c6d83975' class='xr-section-summary-in' type='checkbox'  checked><label for='section-43b93fde-48de-4ff8-a27c-5367c6d83975' class='xr-section-summary' >Attributes: <span>(8)</span></label><div class='xr-section-inline-details'></div><div class='xr-section-details'><dl class='xr-attrs'><dt><span>name :</span></dt><dd>AMM7_1d_20070101_20070131_25hourm_grid_T</dd><dt><span>description :</span></dt><dd>ocean T grid variables, 25h meaned</dd><dt><span>title :</span></dt><dd>ocean T grid variables, 25h meaned</dd><dt><span>Conventions :</span></dt><dd>CF-1.6</dd><dt><span>timeStamp :</span></dt><dd>2019-Dec-26 04:35:28 GMT</dd><dt><span>uuid :</span></dt><dd>96cae459-d3a1-4f4f-b82b-9259179f95f7</dd><dt><span>history :</span></dt><dd>Tue May 19 12:07:51 2020: ncks -v votemper,sossheig -d time_counter,0,30,5 AMM7_1d_20070101_20070131_25hourm_grid_T.nc example_data.nc</dd><dt><span>NCO :</span></dt><dd>4.4.7</dd></dl></div></li></ul></div></div>"
      ],
      "text/plain": [
       "<xarray.Dataset>\n",
       "Dimensions:              (z_dim: 51, axis_nbounds: 2, t_dim: 7, y_dim: 375,\n",
       "                          x_dim: 297)\n",
       "Coordinates:\n",
       "  * time                 (t_dim) datetime64[ns] 2007-01-01T11:58:56 ... 2007-...\n",
       "    longitude            (y_dim, x_dim) float32 ...\n",
       "    latitude             (y_dim, x_dim) float32 ...\n",
       "    depth_0              (z_dim, y_dim, x_dim) float32 0.5 0.5 0.5 ... 50.5 50.5\n",
       "Dimensions without coordinates: z_dim, axis_nbounds, t_dim, y_dim, x_dim\n",
       "Data variables:\n",
       "    deptht_bounds        (z_dim, axis_nbounds) float32 dask.array<chunksize=(51, 2), meta=np.ndarray>\n",
       "    ssh                  (t_dim, y_dim, x_dim) float32 dask.array<chunksize=(2, 375, 297), meta=np.ndarray>\n",
       "    time_counter_bounds  (t_dim, axis_nbounds) datetime64[ns] dask.array<chunksize=(2, 2), meta=np.ndarray>\n",
       "    time_instant         (t_dim) datetime64[ns] dask.array<chunksize=(2,), meta=np.ndarray>\n",
       "    temperature          (t_dim, z_dim, y_dim, x_dim) float32 dask.array<chunksize=(2, 26, 188, 149), meta=np.ndarray>\n",
       "    bathymetry           (y_dim, x_dim) float32 0.0 0.0 0.0 0.0 ... 0.0 0.0 0.0\n",
       "    e1                   (y_dim, x_dim) float32 ...\n",
       "    e2                   (y_dim, x_dim) float32 ...\n",
       "    e3_0                 (z_dim, y_dim, x_dim) float32 ...\n",
       "    bottom_level         (y_dim, x_dim) float32 ...\n",
       "Attributes:\n",
       "    name:         AMM7_1d_20070101_20070131_25hourm_grid_T\n",
       "    description:  ocean T grid variables, 25h meaned\n",
       "    title:        ocean T grid variables, 25h meaned\n",
       "    Conventions:  CF-1.6\n",
       "    timeStamp:    2019-Dec-26 04:35:28 GMT\n",
       "    uuid:         96cae459-d3a1-4f4f-b82b-9259179f95f7\n",
       "    history:      Tue May 19 12:07:51 2020: ncks -v votemper,sossheig -d time...\n",
       "    NCO:          4.4.7"
      ]
     },
     "execution_count": 12,
     "metadata": {},
     "output_type": "execute_result"
    }
   ],
   "source": [
    "nemo.dataset"
   ]
  },
  {
   "cell_type": "markdown",
   "id": "6438363a",
   "metadata": {
    "pycharm": {
     "name": "#%% md\n"
    }
   },
   "source": [
    "#### Create a landmask array in Gridded\n",
    "In this example we add a `landmask` variable to the `Gridded` dataset.\n",
    "When this is present, the `obs_operator` will use this to interpolation to the\n",
    "nearest *wet* point. If not present, it will just take the nearest grid point (not implemented).\n",
    "\n",
    "We also rename the depth at initial time coordinate `depth_0` to `depth` as this is expected by Profile()"
   ]
  },
  {
   "cell_type": "code",
   "execution_count": null,
   "id": "13204fcc",
   "metadata": {
    "pycharm": {
     "name": "#%%\n"
    }
   },
   "outputs": [],
   "source": [
    "nemo.dataset[\"landmask\"] = nemo.dataset.bottom_level == 0\n",
    "nemo.dataset = nemo.dataset.rename({\"depth_0\": \"depth\"})  # profile methods will expect a `depth` coordinate"
   ]
  },
  {
   "cell_type": "markdown",
   "id": "d004c0a5",
   "metadata": {
    "pycharm": {
     "name": "#%% md\n"
    }
   },
   "source": [
    "### Interpolate model to horizontal observation locations using obs_operator() method"
   ]
  },
  {
   "cell_type": "code",
   "execution_count": null,
   "id": "fa6650d9",
   "metadata": {
    "pycharm": {
     "name": "#%%\n"
    }
   },
   "outputs": [],
   "source": [
    "# Use obs operator for horizontal remapping of Gridded onto Profile.\n",
    "model_profiles = profile.obs_operator(nemo)"
   ]
  },
  {
   "cell_type": "markdown",
   "id": "af86b273",
   "metadata": {
    "pycharm": {
     "name": "#%% md\n"
    }
   },
   "source": [
    "Now that we have interpolated the model onto Profiles, we have a new Profile\n",
    "object called `model_profiles`. This can be used to do some comparisons with\n",
    "our original `processed_profile` object, which we created above.\n",
    "\n",
    "### Discard profiles where the interpolation distance is too large\n",
    "\n",
    "However maybe we first want to restrict the set of model profiles to those that\n",
    " were close to the observations; perhaps, for example, the observational profiles are beyond the model domain.\n",
    "The model resolution would be an appropriate scale to pick"
   ]
  },
  {
   "cell_type": "code",
   "execution_count": null,
   "id": "c2fdeaeb",
   "metadata": {
    "pycharm": {
     "name": "#%%\n"
    }
   },
   "outputs": [],
   "source": [
    "too_far = 7  # distance km\n",
    "keep_indices = model_profiles.dataset.interp_dist <= too_far\n",
    "model_profiles = model_profiles.isel(id_dim=keep_indices)\n",
    "\n",
    "# Also drop the unwanted observational profiles\n",
    "profile = profile.isel(id_dim=keep_indices)"
   ]
  },
  {
   "cell_type": "markdown",
   "id": "5790cd22",
   "metadata": {
    "pycharm": {
     "name": "#%% md\n"
    }
   },
   "source": [
    "## Profile analysis\n",
    "\n",
    "### Create an object for Profile analysis\n",
    "\n",
    "Let's make our ProfileAnalysis object:"
   ]
  },
  {
   "cell_type": "code",
   "execution_count": null,
   "id": "2272ee1d",
   "metadata": {
    "pycharm": {
     "name": "#%%\n"
    }
   },
   "outputs": [],
   "source": [
    "analysis = coast.ProfileAnalysis()"
   ]
  },
  {
   "cell_type": "markdown",
   "id": "e3db5398",
   "metadata": {
    "pycharm": {
     "name": "#%% md\n"
    }
   },
   "source": [
    "We can use `ProfileAnalysis.interpolate_vertical` to interpolate all variables\n",
    "within a Profile object. This can be done onto a set of reference depths or,\n",
    "matching another object's depth coordinates by passing another profile object.\n",
    "Let's interpolate our model profiles onto observations depths, then interpolate\n",
    "both onto a set of reference depths:"
   ]
  },
  {
   "cell_type": "code",
   "execution_count": null,
   "id": "8a5b8fa3",
   "metadata": {
    "pycharm": {
     "name": "#%%\n"
    }
   },
   "outputs": [],
   "source": [
    "### Set depth averaging settings\n",
    "ref_depth = np.concatenate((np.arange(1, 100, 2), np.arange(100, 300, 5), np.arange(300, 1000, 50)))"
   ]
  },
  {
   "cell_type": "code",
   "execution_count": null,
   "id": "e7b718e7",
   "metadata": {
    "pycharm": {
     "name": "#%%\n"
    }
   },
   "outputs": [],
   "source": [
    "# Interpolate model profiles onto observation depths\n",
    "model_profiles_interp = analysis.interpolate_vertical(model_profiles, profile, interp_method=\"linear\")\n"
   ]
  },
  {
   "cell_type": "code",
   "execution_count": null,
   "id": "c8322758",
   "metadata": {
    "pycharm": {
     "name": "#%%\n"
    }
   },
   "outputs": [],
   "source": [
    "# Vertical interpolation of model profiles to reference depths\n",
    "model_profiles_interp_ref = analysis.interpolate_vertical(model_profiles_interp, ref_depth)"
   ]
  },
  {
   "cell_type": "markdown",
   "id": "03cd3eba",
   "metadata": {
    "pycharm": {
     "name": "#%% md\n"
    }
   },
   "source": [
    "```\n",
    "# Interpolation of obs profiles to reference depths\n",
    "profile_interp_ref = analysis.interpolate_vertical(profile, ref_depth)\n",
    "```\n",
    "However, there is a problem here as the `interpolate_vertical()` method tries to map the whole contents of `profile` to the `ref_depth` and the `profile` object contains some binary data from the original qc flags. The data from the qc flags was mapped using `process_en4()` so the original qc entries can be removed."
   ]
  },
  {
   "cell_type": "code",
   "execution_count": null,
   "id": "80fc1714",
   "metadata": {
    "pycharm": {
     "name": "#%%\n"
    }
   },
   "outputs": [],
   "source": [
    "## Strip out old QC variables\n",
    "profile.dataset = profile.dataset.drop_vars(['qc_potential_temperature','qc_practical_salinity',\n",
    "                                 'qc_depth','qc_time',\n",
    "                                 'qc_flags_profiles','qc_flags_levels'])"
   ]
  },
  {
   "cell_type": "code",
   "execution_count": null,
   "id": "87801c48",
   "metadata": {
    "pycharm": {
     "name": "#%%\n"
    }
   },
   "outputs": [],
   "source": [
    "# Interpolation of obs profiles to reference depths\n",
    "profile_interp_ref = analysis.interpolate_vertical(profile, ref_depth)"
   ]
  },
  {
   "cell_type": "markdown",
   "id": "1f62c76a",
   "metadata": {
    "pycharm": {
     "name": "#%% md\n"
    }
   },
   "source": [
    "### Differencing\n",
    "\n",
    "Now that we have two Profile objects that are horizontally and vertically\n",
    "comparable, we can use `difference()` to get some basic errors:"
   ]
  },
  {
   "cell_type": "code",
   "execution_count": null,
   "id": "3e43265e",
   "metadata": {
    "pycharm": {
     "name": "#%%\n"
    }
   },
   "outputs": [],
   "source": [
    "differences = analysis.difference(profile_interp_ref, model_profiles_interp_ref)"
   ]
  },
  {
   "cell_type": "markdown",
   "id": "728e13c7",
   "metadata": {
    "pycharm": {
     "name": "#%% md\n"
    }
   },
   "source": [
    "This will return a new `Profile` object that contains the variable difference,\n",
    "absolute differences and square differences at all depths and means for each\n",
    "profile.\n",
    "\n",
    "Type\n",
    "```\n",
    "differences.dataset\n",
    "```\n",
    "to see what it returns"
   ]
  },
  {
   "cell_type": "code",
   "execution_count": null,
   "id": "c63dc470",
   "metadata": {
    "pycharm": {
     "name": "#%%\n"
    }
   },
   "outputs": [],
   "source": [
    "# E.g. plot the differences on ind_dim vs z_dim axes\n",
    "differences.dataset.diff_temperature.plot()"
   ]
  },
  {
   "cell_type": "code",
   "execution_count": null,
   "id": "164e7e50",
   "metadata": {
    "pycharm": {
     "name": "#%%\n"
    }
   },
   "outputs": [],
   "source": [
    "# or a bit prettier on labelled axes\n",
    "cmap=plt.get_cmap('seismic')\n",
    "fig = plt.figure(figsize=(8, 3))\n",
    "\n",
    "plt.pcolormesh( differences.dataset.time, ref_depth, differences.dataset.diff_temperature.T,\n",
    "                    label='abs_diff', cmap=cmap,\n",
    "                    vmin=-5, vmax=5)\n",
    "plt.ylim([0,200])\n",
    "plt.gca().invert_yaxis()\n",
    "plt.ylabel('depth')\n",
    "plt.colorbar( label='temperature diff (obs-model)')"
   ]
  },
  {
   "cell_type": "markdown",
   "id": "cd62f0b5",
   "metadata": {
    "pycharm": {
     "name": "#%% md\n"
    }
   },
   "source": [
    "### Layer Averaging\n",
    "\n",
    "We can use the `Profile` object to get mean values between specific depth levels\n",
    "or for some layer above the bathymetric depth. The former can be done using\n",
    "`ProfileAnalysis.depth_means()`, for example the following will return a new\n",
    "Profile object containing the means of all variables between 0m and 5m:"
   ]
  },
  {
   "cell_type": "code",
   "execution_count": null,
   "id": "34599281",
   "metadata": {
    "pycharm": {
     "name": "#%%\n"
    }
   },
   "outputs": [],
   "source": [
    "profile_surface = analysis.depth_means(profile, [0, 5])  # 0 - 5 metres"
   ]
  },
  {
   "cell_type": "markdown",
   "id": "5822ef7c",
   "metadata": {
    "pycharm": {
     "name": "#%% md\n"
    }
   },
   "source": [
    "But since this can work on any Profile object it would be more interesting to apply it to the differences\n",
    "between the interpolated observations and model points"
   ]
  },
  {
   "cell_type": "code",
   "execution_count": null,
   "id": "d9de28c2",
   "metadata": {
    "pycharm": {
     "name": "#%%\n"
    }
   },
   "outputs": [],
   "source": [
    "surface_def = 10  # in metres\n",
    "\n",
    "model_profiles_surface = analysis.depth_means(model_profiles_interp_ref, [0, surface_def])\n",
    "obs_profiles_surface   = analysis.depth_means(profile_interp_ref, [0, surface_def])\n",
    "surface_errors = analysis.difference(obs_profiles_surface, model_profiles_surface)\n",
    "\n",
    "# Plot (observation - model) upper 10m averaged temperatures\n",
    "surface_errors.plot_map(var_str=\"diff_temperature\")"
   ]
  },
  {
   "cell_type": "markdown",
   "id": "bbd1e9be",
   "metadata": {},
   "source": [
    "This can be done for any arbitrary depth layer defined by two depths.\n",
    "\n",
    "However, in some cases it may be that one of the depth levels is not defined by a constant,\n",
    " e.g. when calculating bottom means. In this case you may want to calculate averages over a\n",
    "  height from the bottom that is conditional on the bottom depth. This can be done using\n",
    "   `ProfileAnalysis.bottom_means()`. For example:"
   ]
  },
  {
   "cell_type": "code",
   "execution_count": null,
   "id": "16252ee7",
   "metadata": {
    "pycharm": {
     "name": "#%%\n"
    }
   },
   "outputs": [],
   "source": [
    "bottom_height = [10, 50, 100]  # Average over bottom heights of 10m, 30m and 100m for...\n",
    "bottom_thresh = [100, 500, np.inf]  # ...bathymetry depths less than 100m, 100-500m and 500-infinite\n",
    "model_profiles_bottom = analysis.bottom_means(model_profiles_interp_ref, bottom_height, bottom_thresh)"
   ]
  },
  {
   "cell_type": "markdown",
   "id": "f93894de",
   "metadata": {
    "pycharm": {
     "name": "#%% md\n"
    }
   },
   "source": [
    "similarly compute the same for the observations... though first we have to patch in a `bathymetry` variable\n",
    "that will be expected by the method. Grab it from the model dataset."
   ]
  },
  {
   "cell_type": "code",
   "execution_count": null,
   "id": "8aaff406",
   "metadata": {
    "pycharm": {
     "name": "#%%\n"
    }
   },
   "outputs": [],
   "source": [
    "profile_interp_ref.dataset[\"bathymetry\"] = ([\"id_dim\"], model_profiles_interp_ref.dataset[\"bathymetry\"].values)\n",
    "obs_profiles_bottom = analysis.bottom_means(profile_interp_ref, bottom_height, bottom_thresh)"
   ]
  },
  {
   "cell_type": "markdown",
   "id": "d3ab0e15",
   "metadata": {
    "pycharm": {
     "name": "#%% md\n"
    }
   },
   "source": [
    "Now the difference can be calculated"
   ]
  },
  {
   "cell_type": "code",
   "execution_count": null,
   "id": "f836489b",
   "metadata": {
    "pycharm": {
     "name": "#%%\n"
    }
   },
   "outputs": [],
   "source": [
    "bottom_errors = analysis.difference( obs_profiles_bottom, model_profiles_bottom)\n",
    "\n",
    "# Plot (observation - model) upper 10m averaged temperatures\n",
    "bottom_errors.plot_map(var_str=\"diff_temperature\")"
   ]
  },
  {
   "cell_type": "markdown",
   "id": "2bc1dba8",
   "metadata": {
    "pycharm": {
     "name": "#%% md\n"
    }
   },
   "source": [
    "**NOTE1**: The bathymetry variable does not actually need to contain bathymetric depths, it can also be used to calculate means above any non-constant surface. For example, it could be mixed layer depth.\n",
    "\n",
    "**NOTE2**: This can be done for any Profile object. So, you could use this workflow to also average a Profile derived from the `difference()` routine."
   ]
  },
  {
   "cell_type": "code",
   "execution_count": null,
   "id": "9c02b3c9",
   "metadata": {
    "pycharm": {
     "name": "#%%\n"
    }
   },
   "outputs": [],
   "source": [
    "# Since they are indexed by 'id_dim' they can be plotted against time\n",
    "fig = plt.figure(figsize=(8, 3))\n",
    "\n",
    "plt.plot( surface_errors.dataset.time, surface_errors.dataset.diff_temperature, '.', label='surf T' )\n",
    "plt.plot( bottom_errors.dataset.time, bottom_errors.dataset.diff_temperature, '.', label='bed T' )\n",
    "plt.xlabel('time')\n",
    "plt.ylabel('temperature errors')\n",
    "plt.legend()\n",
    "plt.title(\"Temperature diff (obs-model)\")"
   ]
  },
  {
   "cell_type": "markdown",
   "id": "d5555bb9",
   "metadata": {
    "pycharm": {
     "name": "#%% md\n"
    }
   },
   "source": [
    "### Regional (Mask) Averaging\n",
    "\n",
    "We can use `Profile` in combination with `MaskMaker` to calculate averages over\n",
    "regions defined by masks. For example, to get the mean errors in the North Sea.\n",
    "Start by creating a list of boolean masks we would like to use:"
   ]
  },
  {
   "cell_type": "code",
   "execution_count": null,
   "id": "eba4492b",
   "metadata": {
    "pycharm": {
     "name": "#%%\n"
    }
   },
   "outputs": [],
   "source": [
    "mm = coast.MaskMaker()\n",
    "\n",
    "# Define Regional Masks\n",
    "regional_masks = []\n",
    "\n",
    "# Define convenient aliases based on nemo data\n",
    "lon = nemo.dataset.longitude.values\n",
    "lat = nemo.dataset.latitude.values\n",
    "bathy = nemo.dataset.bathymetry.values\n",
    "\n",
    "# Add regional mask for whole domain\n",
    "regional_masks.append(np.ones(lon.shape))\n",
    "\n",
    "# Add regional mask for English Channel\n",
    "regional_masks.append(mm.region_def_nws_english_channel(lon, lat, bathy))\n",
    "region_names = [\"whole_domain\",\"english_channel\",]"
   ]
  },
  {
   "cell_type": "markdown",
   "id": "92c16e1f",
   "metadata": {
    "pycharm": {
     "name": "#%% md\n"
    }
   },
   "source": [
    "Next, we must make these masks into datasets using `MaskMaker.make_mask_dataset`.\n",
    "Masks should be 2D datasets defined by booleans. In our example here we have used\n",
    "the latitude/longitude array from the nemo object, however it can be defined\n",
    "however you like."
   ]
  },
  {
   "cell_type": "code",
   "execution_count": null,
   "id": "2281b970",
   "metadata": {
    "pycharm": {
     "name": "#%%\n"
    }
   },
   "outputs": [],
   "source": [
    "mask_list = mm.make_mask_dataset(lon, lat, regional_masks)"
   ]
  },
  {
   "cell_type": "markdown",
   "id": "5f4f223b",
   "metadata": {
    "pycharm": {
     "name": "#%% md\n"
    }
   },
   "source": [
    "Then we use `ProfileAnalysis.determine_mask_indices` to figure out which\n",
    "profiles in a `Profile` object lie within each regional mask:"
   ]
  },
  {
   "cell_type": "code",
   "execution_count": null,
   "id": "00597ac4",
   "metadata": {
    "pycharm": {
     "name": "#%%\n"
    }
   },
   "outputs": [],
   "source": [
    "mask_indices = analysis.determine_mask_indices(profile, mask_list)"
   ]
  },
  {
   "cell_type": "markdown",
   "id": "20cac4be",
   "metadata": {
    "pycharm": {
     "name": "#%% md\n"
    }
   },
   "source": [
    "This returns an object called `mask_indices`, which is required to pass to\n",
    "`ProfileAnalysis.mask_means()`. This routine will return a new xarray dataset\n",
    "containing averaged data for each region:"
   ]
  },
  {
   "cell_type": "code",
   "execution_count": null,
   "id": "b73f43db",
   "metadata": {
    "pycharm": {
     "name": "#%%\n"
    }
   },
   "outputs": [],
   "source": [
    "mask_means = analysis.mask_means(profile, mask_indices)"
   ]
  },
  {
   "cell_type": "markdown",
   "id": "18d042fe",
   "metadata": {
    "pycharm": {
     "name": "#%% md\n"
    }
   },
   "source": [
    "which can be visualised or further processed"
   ]
  },
  {
   "cell_type": "code",
   "execution_count": null,
   "id": "d45aac07",
   "metadata": {
    "pycharm": {
     "name": "#%%\n"
    }
   },
   "outputs": [],
   "source": [
    "for count_region in range(len(region_names)):\n",
    "    plt.plot( mask_means.profile_mean_temperature.isel(dim_mask=count_region),\n",
    "          mask_means.profile_mean_depth.isel(dim_mask=count_region),\n",
    "          label=region_names[count_region],\n",
    "          marker=\".\", linestyle='none')\n",
    "\n",
    "plt.ylim([10,1000])\n",
    "plt.yscale(\"log\")\n",
    "plt.gca().invert_yaxis()\n",
    "plt.xlabel('temperature'); plt.ylabel('depth')\n",
    "plt.legend()\n"
   ]
  },
  {
   "cell_type": "markdown",
   "id": "a7051b22",
   "metadata": {
    "pycharm": {
     "name": "#%% md\n"
    }
   },
   "source": [
    "### Gridding Profile Data\n",
    "\n",
    "If you have large amount of profile data you may want to average it into\n",
    "grid boxes to get, for example, mean error maps or climatologies. This can be\n",
    "done using `ProfileAnalysis.average_into_grid_boxes()`.\n",
    "\n",
    "We can create a gridded dataset shape `(y_dim, x_dim)` from all the data using:"
   ]
  },
  {
   "cell_type": "code",
   "execution_count": null,
   "id": "b84802ac",
   "metadata": {
    "pycharm": {
     "name": "#%%\n"
    }
   },
   "outputs": [],
   "source": [
    "grid_lon = np.arange(-15, 15, 0.5)\n",
    "grid_lat = np.arange(45, 65, 0.5)\n",
    "prof_gridded = analysis.average_into_grid_boxes(profile, grid_lon, grid_lat)\n",
    "# NB this method does not separately treat `z_dim`, see docstr"
   ]
  },
  {
   "cell_type": "code",
   "execution_count": null,
   "id": "a3cae42d",
   "metadata": {
    "pycharm": {
     "name": "#%%\n"
    }
   },
   "outputs": [],
   "source": [
    "lat = prof_gridded.dataset.latitude\n",
    "lon = prof_gridded.dataset.longitude\n",
    "temperature = prof_gridded.dataset.temperature\n",
    "\n",
    "plt.pcolormesh( lon, lat, temperature)\n",
    "plt.title('gridded mean temperature')\n",
    "plt.colorbar()"
   ]
  },
  {
   "cell_type": "markdown",
   "id": "61c2a438",
   "metadata": {
    "pycharm": {
     "name": "#%% md\n"
    }
   },
   "source": [
    "Alternatively, we can calculate averages for each season:"
   ]
  },
  {
   "cell_type": "code",
   "execution_count": null,
   "id": "828632e0",
   "metadata": {
    "pycharm": {
     "name": "#%%\n"
    }
   },
   "outputs": [],
   "source": [
    "prof_gridded_DJF = analysis.average_into_grid_boxes(profile, grid_lon, grid_lat, season=\"DJF\", var_modifier=\"_DJF\")\n",
    "prof_gridded_MAM = analysis.average_into_grid_boxes(profile, grid_lon, grid_lat, season=\"MAM\", var_modifier=\"_MAM\")\n",
    "prof_gridded_JJA = analysis.average_into_grid_boxes(profile, grid_lon, grid_lat, season=\"JJA\", var_modifier=\"_JJA\")\n",
    "prof_gridded_SON = analysis.average_into_grid_boxes(profile, grid_lon, grid_lat, season=\"SON\", var_modifier=\"_SON\")"
   ]
  },
  {
   "cell_type": "markdown",
   "id": "07acdf68",
   "metadata": {},
   "source": [
    "Here, `season` specifies which season to average over and `var_modifier` is added to the end of\n",
    "all variable names in the object's dataset.\n",
    "\n",
    "NB with the example data only DJF has any data.\n",
    "\n",
    "This function returns a new Gridded object. It also contains a new variable\n",
    "called `grid_N`, which stores how many profiles were averaged into each grid box.\n",
    "You may want to use this when using or extending the analysis. E.g. use it with plot symbol size"
   ]
  },
  {
   "cell_type": "code",
   "execution_count": null,
   "id": "43c0f600",
   "metadata": {
    "pycharm": {
     "name": "#%%\n"
    }
   },
   "outputs": [],
   "source": [
    "temperature = prof_gridded_DJF.dataset.temperature_DJF\n",
    "N = prof_gridded_DJF.dataset.grid_N_DJF\n",
    "plt.scatter( lon, lat, c=temperature, s=N)\n",
    "plt.title('DJF gridded mean temperature')\n",
    "plt.colorbar()"
   ]
  }
 ],
 "metadata": {
  "kernelspec": {
   "display_name": "Python 3 (ipykernel)",
   "language": "python",
   "name": "python3"
  },
  "language_info": {
   "codemirror_mode": {
    "name": "ipython",
    "version": 3
   },
   "file_extension": ".py",
   "mimetype": "text/x-python",
   "name": "python",
   "nbconvert_exporter": "python",
   "pygments_lexer": "ipython3",
   "version": "3.10.12"
  }
 },
 "nbformat": 4,
 "nbformat_minor": 5
}
