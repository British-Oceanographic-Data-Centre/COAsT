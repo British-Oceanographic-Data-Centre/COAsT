{
 "cells": [
  {
   "cell_type": "code",
   "execution_count": 47,
   "id": "29d6a04f-f18b-4231-845e-a205fe21b26a",
   "metadata": {},
   "outputs": [],
   "source": [
    "import coast\n",
    "import xarray as xr\n",
    "%load_ext autoreload\n",
    "%autoreload 2"
   ]
  },
  {
   "cell_type": "code",
   "execution_count": null,
   "id": "38fb1589-6ed7-4744-8208-f2891e0dcb7d",
   "metadata": {},
   "outputs": [],
   "source": [
    "# ystart=1990\n",
    "# ystop=2019\n",
    "\n",
    "# EXPNAM = \"ZPS_TIDE\"\n",
    "# domain_datapath='/gws/nopw/j04/class_vol2/senemo/cwilso01/ZPS_REF_TIDE/OUTPUTS/'\n",
    "# fn_nemo_dom = '/gws/nopw/j04/class_vol2/senemo/cwilso01/EXP_REF_NOTIDE/domcfg_eORCA025_v2.nc'\n",
    "# fn_nemo_dat= coast.nemo_filename_maker(domain_datapath,ystart,ystop)            "
   ]
  },
  {
   "cell_type": "code",
   "execution_count": null,
   "id": "58364032-a05a-4944-9d53-2cc6e8cc1d38",
   "metadata": {},
   "outputs": [],
   "source": [
    "# domain_outpath='/home/users/jholt/work/SENEMO/ASSESSMENT/'\n",
    "# DOMNAM='ORCA025-SE-NEMO'\n",
    "# fn_out='{0}/{1}/{1}_{2}_{3}_{4}_SST_SSS_PEA_MonClimate.nc'.format(domain_outpath,DOMNAM,ystart,ystop,EXPNAM)"
   ]
  },
  {
   "cell_type": "code",
   "execution_count": 44,
   "id": "ede39607-63d4-460f-9a59-701e9e236732",
   "metadata": {},
   "outputs": [],
   "source": [
    "fn_nemo_dom = \"https://noc-msm-o.s3-ext.jc.rl.ac.uk/n06-coast-testing/mask.zarr\"\n",
    "fn_nemo_dat = \"https://noc-msm-o.s3-ext.jc.rl.ac.uk/n06-coast-testing/n06_T.zarr\"\n",
    "fn_config_t_grid='senemo_grid_t.json'"
   ]
  },
  {
   "cell_type": "code",
   "execution_count": 25,
   "id": "27c30450-83a5-45fb-ba8f-2af1e3cf4fe4",
   "metadata": {},
   "outputs": [],
   "source": [
    "dom = xr.open_zarr(fn_nemo_dom)\n",
    "t_grid = xr.open_zarr(fn_nemo_dat)"
   ]
  },
  {
   "cell_type": "code",
   "execution_count": 68,
   "id": "67a8a9f0-07da-49bf-b7e2-d8e51d352ab1",
   "metadata": {},
   "outputs": [],
   "source": [
    "# x = coast.data.config_parser.ConfigParser(fn_config_t_grid).config"
   ]
  },
  {
   "cell_type": "code",
   "execution_count": 76,
   "id": "9e06d05d-ef45-4509-a3b5-0ffcd101bf16",
   "metadata": {},
   "outputs": [],
   "source": [
    "# ds = xr.open_dataset('../../../../example_files/coast_example_nemo_domain.nc')\n",
    "# ds.variables"
   ]
  },
  {
   "cell_type": "code",
   "execution_count": null,
   "id": "063062c4-137e-4161-a643-51742ee87764",
   "metadata": {},
   "outputs": [],
   "source": []
  },
  {
   "cell_type": "code",
   "execution_count": 78,
   "id": "5c767512-7805-4921-95eb-7c2814493c65",
   "metadata": {},
   "outputs": [
    {
     "name": "stderr",
     "output_type": "stream",
     "text": [
      "/mnt/code/code/noc/coast/COAsT/coast/data/gridded.py:230: UserWarning: The model domain loaded, 'https://noc-msm-o.s3-ext.jc.rl.ac.uk/n06-coast-testing/mask.zarr', does not contain the bathy_metry' variable. This will result in the NEMO.dataset.bathymetry variable being set to zero, which may result in unexpected behaviour from routines that require this variable.\n",
      "  warnings.warn(\n"
     ]
    },
    {
     "ename": "AttributeError",
     "evalue": "'Dataset' object has no attribute 'e3w_0'",
     "output_type": "error",
     "traceback": [
      "\u001b[0;31m---------------------------------------------------------------------------\u001b[0m",
      "\u001b[0;31mAttributeError\u001b[0m                            Traceback (most recent call last)",
      "Cell \u001b[0;32mIn[78], line 1\u001b[0m\n\u001b[0;32m----> 1\u001b[0m nemo_dom\u001b[38;5;241m=\u001b[39m\u001b[43mcoast\u001b[49m\u001b[38;5;241;43m.\u001b[39;49m\u001b[43mGridded\u001b[49m\u001b[43m(\u001b[49m\u001b[43mfn_domain\u001b[49m\u001b[43m \u001b[49m\u001b[38;5;241;43m=\u001b[39;49m\u001b[43m \u001b[49m\u001b[43mfn_nemo_dom\u001b[49m\u001b[43m,\u001b[49m\u001b[43m \u001b[49m\u001b[43mconfig\u001b[49m\u001b[38;5;241;43m=\u001b[39;49m\u001b[43mfn_config_t_grid\u001b[49m\u001b[43m)\u001b[49m \u001b[38;5;66;03m#;nemo_dom = nemo_dom. subset_as_copy(y_dim=range(86,1000),x_dim=range(1080,1180))        \u001b[39;00m\n",
      "File \u001b[0;32m/mnt/code/code/noc/coast/COAsT/coast/data/gridded.py:49\u001b[0m, in \u001b[0;36mGridded.__init__\u001b[0;34m(self, fn_data, fn_domain, multiple, config, workers, threads, memory_limit_per_worker, **kwargs)\u001b[0m\n\u001b[1;32m     47\u001b[0m \u001b[38;5;28mself\u001b[39m\u001b[38;5;241m.\u001b[39mconfig \u001b[38;5;241m=\u001b[39m ConfigParser(config)\u001b[38;5;241m.\u001b[39mconfig\n\u001b[1;32m     48\u001b[0m \u001b[38;5;28;01mif\u001b[39;00m \u001b[38;5;28mself\u001b[39m\u001b[38;5;241m.\u001b[39mconfig\u001b[38;5;241m.\u001b[39mchunks:\n\u001b[0;32m---> 49\u001b[0m     \u001b[38;5;28;43mself\u001b[39;49m\u001b[38;5;241;43m.\u001b[39;49m\u001b[43m_setup_grid_obj\u001b[49m\u001b[43m(\u001b[49m\u001b[38;5;28;43mself\u001b[39;49m\u001b[38;5;241;43m.\u001b[39;49m\u001b[43mconfig\u001b[49m\u001b[38;5;241;43m.\u001b[39;49m\u001b[43mchunks\u001b[49m\u001b[43m,\u001b[49m\u001b[43m \u001b[49m\u001b[43mmultiple\u001b[49m\u001b[43m,\u001b[49m\u001b[43m \u001b[49m\u001b[38;5;241;43m*\u001b[39;49m\u001b[38;5;241;43m*\u001b[39;49m\u001b[43mkwargs\u001b[49m\u001b[43m)\u001b[49m\n\u001b[1;32m     50\u001b[0m \u001b[38;5;28;01melse\u001b[39;00m:\n\u001b[1;32m     51\u001b[0m     \u001b[38;5;28mself\u001b[39m\u001b[38;5;241m.\u001b[39m_setup_grid_obj(\u001b[38;5;28;01mNone\u001b[39;00m, multiple, \u001b[38;5;241m*\u001b[39m\u001b[38;5;241m*\u001b[39mkwargs)\n",
      "File \u001b[0;32m/mnt/code/code/noc/coast/COAsT/coast/data/gridded.py:100\u001b[0m, in \u001b[0;36mGridded._setup_grid_obj\u001b[0;34m(self, chunks, multiple, **kwargs)\u001b[0m\n\u001b[1;32m     98\u001b[0m \u001b[38;5;28;01mif\u001b[39;00m \u001b[38;5;28mself\u001b[39m\u001b[38;5;241m.\u001b[39mfn_data \u001b[38;5;129;01mis\u001b[39;00m \u001b[38;5;129;01mnot\u001b[39;00m \u001b[38;5;28;01mNone\u001b[39;00m:\n\u001b[1;32m     99\u001b[0m     dataset_domain \u001b[38;5;241m=\u001b[39m \u001b[38;5;28mself\u001b[39m\u001b[38;5;241m.\u001b[39mtrim_domain_size(dataset_domain)  \u001b[38;5;66;03m# Trim domain size if self.data is smaller\u001b[39;00m\n\u001b[0;32m--> 100\u001b[0m \u001b[38;5;28;43mself\u001b[39;49m\u001b[38;5;241;43m.\u001b[39;49m\u001b[43mset_timezero_depths\u001b[49m\u001b[43m(\u001b[49m\n\u001b[1;32m    101\u001b[0m \u001b[43m    \u001b[49m\u001b[43mdataset_domain\u001b[49m\u001b[43m,\u001b[49m\u001b[43m \u001b[49m\u001b[38;5;241;43m*\u001b[39;49m\u001b[38;5;241;43m*\u001b[39;49m\u001b[43mkwargs\u001b[49m\n\u001b[1;32m    102\u001b[0m \u001b[43m\u001b[49m\u001b[43m)\u001b[49m  \u001b[38;5;66;03m# THIS ADDS TO dataset_domain. Should it be 'return'ed (as in trim_domain_size) or is implicit OK?\u001b[39;00m\n\u001b[1;32m    103\u001b[0m \u001b[38;5;28mself\u001b[39m\u001b[38;5;241m.\u001b[39mmerge_domain_into_dataset(dataset_domain)\n\u001b[1;32m    104\u001b[0m debug(\u001b[38;5;124mf\u001b[39m\u001b[38;5;124m\"\u001b[39m\u001b[38;5;124mInitialised \u001b[39m\u001b[38;5;132;01m{\u001b[39;00mget_slug(\u001b[38;5;28mself\u001b[39m)\u001b[38;5;132;01m}\u001b[39;00m\u001b[38;5;124m\"\u001b[39m)\n",
      "File \u001b[0;32m/mnt/code/code/noc/coast/COAsT/coast/data/gridded.py:246\u001b[0m, in \u001b[0;36mGridded.set_timezero_depths\u001b[0;34m(self, dataset_domain, **kwargs)\u001b[0m\n\u001b[1;32m    244\u001b[0m \u001b[38;5;28;01mtry\u001b[39;00m:\n\u001b[1;32m    245\u001b[0m     \u001b[38;5;28;01mif\u001b[39;00m \u001b[38;5;28mself\u001b[39m\u001b[38;5;241m.\u001b[39mgrid_ref \u001b[38;5;241m==\u001b[39m \u001b[38;5;124m\"\u001b[39m\u001b[38;5;124mt-grid\u001b[39m\u001b[38;5;124m\"\u001b[39m:\n\u001b[0;32m--> 246\u001b[0m         e3w_0 \u001b[38;5;241m=\u001b[39m np\u001b[38;5;241m.\u001b[39msqueeze(\u001b[43mdataset_domain\u001b[49m\u001b[38;5;241;43m.\u001b[39;49m\u001b[43me3w_0\u001b[49m\u001b[38;5;241m.\u001b[39mvalues)\n\u001b[1;32m    247\u001b[0m         depth_0 \u001b[38;5;241m=\u001b[39m np\u001b[38;5;241m.\u001b[39mzeros_like(e3w_0)\n\u001b[1;32m    248\u001b[0m         depth_0[\u001b[38;5;241m0\u001b[39m, :, :] \u001b[38;5;241m=\u001b[39m \u001b[38;5;241m0.5\u001b[39m \u001b[38;5;241m*\u001b[39m e3w_0[\u001b[38;5;241m0\u001b[39m, :, :]\n",
      "File \u001b[0;32m/mnt/code/.pyenv/versions/3.10.12/envs/coast-10/lib/python3.10/site-packages/xarray/core/common.py:278\u001b[0m, in \u001b[0;36mAttrAccessMixin.__getattr__\u001b[0;34m(self, name)\u001b[0m\n\u001b[1;32m    276\u001b[0m         \u001b[38;5;28;01mwith\u001b[39;00m suppress(\u001b[38;5;167;01mKeyError\u001b[39;00m):\n\u001b[1;32m    277\u001b[0m             \u001b[38;5;28;01mreturn\u001b[39;00m source[name]\n\u001b[0;32m--> 278\u001b[0m \u001b[38;5;28;01mraise\u001b[39;00m \u001b[38;5;167;01mAttributeError\u001b[39;00m(\n\u001b[1;32m    279\u001b[0m     \u001b[38;5;124mf\u001b[39m\u001b[38;5;124m\"\u001b[39m\u001b[38;5;132;01m{\u001b[39;00m\u001b[38;5;28mtype\u001b[39m(\u001b[38;5;28mself\u001b[39m)\u001b[38;5;241m.\u001b[39m\u001b[38;5;18m__name__\u001b[39m\u001b[38;5;132;01m!r}\u001b[39;00m\u001b[38;5;124m object has no attribute \u001b[39m\u001b[38;5;132;01m{\u001b[39;00mname\u001b[38;5;132;01m!r}\u001b[39;00m\u001b[38;5;124m\"\u001b[39m\n\u001b[1;32m    280\u001b[0m )\n",
      "\u001b[0;31mAttributeError\u001b[0m: 'Dataset' object has no attribute 'e3w_0'"
     ]
    }
   ],
   "source": [
    "nemo_dom=coast.Gridded(fn_domain = fn_nemo_dom, config=fn_config_t_grid) #;nemo_dom = nemo_dom. subset_as_copy(y_dim=range(86,1000),x_dim=range(1080,1180))        "
   ]
  },
  {
   "cell_type": "code",
   "execution_count": 21,
   "id": "18459a44-ed0d-4710-ac95-a2d4eaeb162a",
   "metadata": {},
   "outputs": [],
   "source": []
  },
  {
   "cell_type": "code",
   "execution_count": null,
   "id": "278272c5-9c3e-412f-a6b4-f16cba5b26b8",
   "metadata": {},
   "outputs": [],
   "source": [
    "nemo = coast.Gridded(fn_data= fn_nemo_dat, fn_domain = fn_nemo_dom, config=fn_config_t_grid,multiple=True);#nemo = nemo. subset_as_copy(y_dim=range(86,1000),x_dim=range(1080,1180))\n",
    "nemo_dom=coast.Gridded(fn_domain = fn_nemo_dom, config=fn_config_t_grid) #;nemo_dom = nemo_dom. subset_as_copy(y_dim=range(86,1000),x_dim=range(1080,1180))        \n",
    "nemo.dataset['e3_0']=nemo_dom.dataset['e3_0']\n",
    "    \n",
    "nemo_out=coast.Gridded(fn_domain = fn_nemo_dom, config=fn_config_t_grid) #nemo_out = nemo_out. subset_as_copy(y_dim=range(86,1000),x_dim=range(1080,1180))  \n",
    "        \n",
    "coast.GriddedMonthlyHydrographicClimatology(nemo,nemo_out,Zmax=200)        \n",
    "nemo_out.dataset.to_netcdf(fn_out)"
   ]
  }
 ],
 "metadata": {
  "kernelspec": {
   "display_name": "Python 3 (ipykernel)",
   "language": "python",
   "name": "python3"
  },
  "language_info": {
   "codemirror_mode": {
    "name": "ipython",
    "version": 3
   },
   "file_extension": ".py",
   "mimetype": "text/x-python",
   "name": "python",
   "nbconvert_exporter": "python",
   "pygments_lexer": "ipython3",
   "version": "3.10.12"
  }
 },
 "nbformat": 4,
 "nbformat_minor": 5
}
