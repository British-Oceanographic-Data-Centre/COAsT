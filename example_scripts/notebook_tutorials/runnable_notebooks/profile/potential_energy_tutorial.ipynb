{
 "cells": [
  {
   "cell_type": "markdown",
   "id": "5eca7994-6fa1-44e1-b95c-fc8a0fecf7bd",
   "metadata": {},
   "source": [
    "A demonstration to calculate the Potential Energy Anomaly for Profile data.\n"
   ]
  },
  {
   "cell_type": "markdown",
   "id": "14277e0d-4dbc-4e0f-b3a2-6853dca66d46",
   "metadata": {},
   "source": [
    "### Relevant imports and filepath configuration"
   ]
  },
  {
   "cell_type": "code",
   "execution_count": null,
   "id": "c4773751-3544-4ebd-a795-cfe128b70743",
   "metadata": {},
   "outputs": [],
   "source": [
    "import coast\n",
    "import numpy as np\n",
    "from os import path\n",
    "import matplotlib.pyplot as plt\n",
    "import matplotlib.colors as colors  # colormap fiddling"
   ]
  },
  {
   "cell_type": "code",
   "execution_count": null,
   "id": "780605fd-ae53-4ec5-b7fd-80b2a2ee07ea",
   "metadata": {},
   "outputs": [],
   "source": [
    "# set some paths\n",
    "root = \"./\"\n",
    "dn_files = root + \"./example_files/\"\n",
    "fn_prof = path.join(dn_files, \"coast_example_en4_201008.nc\")\n",
    "fn_cfg_prof = path.join(\"config\",\"example_en4_profiles.json\")"
   ]
  },
  {
   "cell_type": "markdown",
   "id": "5d3f6987-f05d-4a54-a932-e4bbf84becb1",
   "metadata": {},
   "source": [
    "### Loading data"
   ]
  },
  {
   "cell_type": "code",
   "execution_count": null,
   "id": "7677050c-775d-4172-9561-61c3c89aa77b",
   "metadata": {},
   "outputs": [],
   "source": [
    "# Create a Profile object and load in the data:\n",
    "profile = coast.Profile(config=fn_cfg_prof)\n",
    "profile.read_en4( fn_prof )"
   ]
  },
  {
   "cell_type": "markdown",
   "id": "798994a1",
   "metadata": {},
   "source": [
    "If you are using EN4 data, you can use the process_en4() routine to apply quality control flags to the data (replacing with NaNs):"
   ]
  },
  {
   "cell_type": "code",
   "execution_count": null,
   "id": "58406dca",
   "metadata": {},
   "outputs": [],
   "source": [
    "processed_profile = profile.process_en4()\n",
    "profile = processed_profile"
   ]
  },
  {
   "cell_type": "markdown",
   "id": "84a15c7b",
   "metadata": {},
   "source": [
    "### Inspect profile locations\n",
    "Have a look inside the `profile.py` class to see what it can do. But first have a look at the spatial distribution of profiles."
   ]
  },
  {
   "cell_type": "code",
   "execution_count": null,
   "id": "f5b2d233",
   "metadata": {},
   "outputs": [],
   "source": [
    "profile.plot_map()"
   ]
  },
  {
   "cell_type": "markdown",
   "id": "d3e75a6d",
   "metadata": {},
   "source": [
    "### Calculates Potential Energy Anomaly\n",
    "\n",
    "Similar to the Gridded object, potential energy anomaly can be calculated for Profile objects. This method exists within a `ProfileStratifiction` object, which must be initialised\n",
    "\n"
   ]
  },
  {
   "cell_type": "code",
   "execution_count": null,
   "id": "e70f5db2",
   "metadata": {},
   "outputs": [],
   "source": [
    "pa = coast.ProfileStratification(profile)"
   ]
  },
  {
   "cell_type": "markdown",
   "id": "3e056769",
   "metadata": {},
   "source": [
    "Potential energy anomaly is calculated to a prescribed depth, Zmax:"
   ]
  },
  {
   "cell_type": "code",
   "execution_count": null,
   "id": "c49b40d3",
   "metadata": {},
   "outputs": [],
   "source": [
    "Zmax = 200  # metres\n",
    "pa.calc_pea(profile, Zmax)"
   ]
  },
  {
   "cell_type": "markdown",
   "id": "74603291",
   "metadata": {},
   "source": [
    "In this calculation a number of steps happen within ProfileStratification: for a supplied Profile, first the vertical spacing is calculated\n",
    "\n",
    "``profile.calculate_vertical_spacing()``\n",
    "\n",
    "Then a depth mask is calculated to exclude depth below the Zmax threshold.\n",
    "(The last depth level is a float between 0,1 denoting how much of the next spacing below is deeper than Zmax - To facilitate the integral to Zmax)\n",
    "\n",
    "``Zd_mask, kmax = profile.calculate_vertical_mask(Zmax)``\n",
    "\n",
    "Then densities (depth varying and depth averaged) are computed from the temperature and salinity fields\n",
    "``profile.construct_density()``\n",
    "\n",
    "Finally the depth integrals are calculated.\n"
   ]
  },
  {
   "cell_type": "markdown",
   "id": "8f897042-3697-4ddd-a812-04572500f0ec",
   "metadata": {},
   "source": [
    "## Make a plot\n",
    "\n",
    "\n",
    "THERE IS OBVIOUSLY AN ISSUE HERE WITH NEGATIVE PEA VALUES AND SMALL POSITIVE VALUES..."
   ]
  },
  {
   "cell_type": "code",
   "execution_count": null,
   "id": "a696835b",
   "metadata": {},
   "outputs": [],
   "source": [
    "fig, ax = pa.quick_plot(\"pea\")\n",
    "fig.tight_layout()"
   ]
  },
  {
   "cell_type": "code",
   "execution_count": null,
   "id": "bb540223",
   "metadata": {},
   "outputs": [],
   "source": [
    "plt.scatter( pa.dataset.longitude,\n",
    "            pa.dataset.latitude,\n",
    "            s=4, c=pa.dataset.pea)\n",
    "plt.clim([0,10])\n",
    "plt.colorbar()"
   ]
  },
  {
   "cell_type": "code",
   "execution_count": null,
   "id": "85229256",
   "metadata": {},
   "outputs": [],
   "source": []
  },
  {
   "cell_type": "code",
   "execution_count": null,
   "id": "a37a8291",
   "metadata": {},
   "outputs": [],
   "source": []
  }
 ],
 "metadata": {
  "kernelspec": {
   "display_name": "Python 3 (ipykernel)",
   "language": "python",
   "name": "python3"
  },
  "language_info": {
   "codemirror_mode": {
    "name": "ipython",
    "version": 3
   },
   "file_extension": ".py",
   "mimetype": "text/x-python",
   "name": "python",
   "nbconvert_exporter": "python",
   "pygments_lexer": "ipython3",
   "version": "3.8.10"
  }
 },
 "nbformat": 4,
 "nbformat_minor": 5
}
