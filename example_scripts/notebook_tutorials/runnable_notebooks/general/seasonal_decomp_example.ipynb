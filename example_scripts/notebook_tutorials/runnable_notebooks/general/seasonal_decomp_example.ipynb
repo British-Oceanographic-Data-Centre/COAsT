{
 "cells": [
  {
   "cell_type": "markdown",
   "id": "e0ef9180-a0f6-4fef-a57e-e102cb928f33",
   "metadata": {
    "tags": []
   },
   "source": [
    "## Overview\n",
    "A function within the Process_data class that will decompose time series into trend, seasonal and residual components. The function is a wrapper that adds functionality to the `seasonal_decompose` function contained in the [statsmodels](https://www.statsmodels.org/stable/generated/statsmodels.tsa.seasonal.seasonal_decompose.html#statsmodels.tsa.seasonal.seasonal_decompose) package to make it more convenient for large geospatial datasets.\n",
    "\n",
    "Specifically:\n",
    "1) Multiple time series spread across multiple dimensions, e.g. a gridded dataset, can be processed. The user simply passes in an xarray DataArray that has a \"t_dim\" dimension and 1 or more additional dimensions, for example gridded spatial dimensions\n",
    "2) Masked locations, such as land points, are handled\n",
    "3) A [dask](https://www.dask.org/) wrapper is applied to the function that \n",
    "    a) supports lazy evaluation\n",
    "    b) allows the dataset to be easily seperated into chunks so that processing can be carried out in parallel (rather than processing every time series sequentially)\n",
    "4) The decomposed time series are returned as xarray DataArrays within a single coast.Gridded object"
   ]
  },
  {
   "cell_type": "markdown",
   "id": "e5a61e97-87f1-4edd-a629-8044b1851f5a",
   "metadata": {},
   "source": [
    "## An example\n",
    "Below is an example using the `coast.Process_data.seasonal_decomposition` function with the example data. Note that we will artifically extend the length of the example data time series for demonstrative purposes.\n",
    "\n",
    "Begin by importing coast, defining paths to the data, and loading the example data into a gridded object:"
   ]
  },
  {
   "cell_type": "code",
   "execution_count": null,
   "id": "5be2d128-95b5-4053-9d9a-992af8e57737",
   "metadata": {},
   "outputs": [],
   "source": [
    "import coast\n",
    "import numpy as np\n",
    "import xarray as xr\n",
    "\n",
    "# Path to a data file\n",
    "root = \"./\"\n",
    "dn_files = root + \"./example_files/\"\n",
    "\n",
    "fn_nemo_dat  = dn_files + \"coast_example_nemo_data.nc\"\n",
    "# Set path for domain file if required.\n",
    "fn_nemo_dom  = dn_files + \"coast_example_nemo_domain.nc\"\n",
    "# Set path for model configuration file\n",
    "config = root + \"./config/example_nemo_grid_t.json\"\n",
    "\n",
    "# Read in data (This example uses NEMO data.)\n",
    "grd = coast.Gridded(fn_nemo_dat, fn_nemo_dom, config=config)"
   ]
  },
  {
   "cell_type": "markdown",
   "id": "25c88e04-77f4-4614-a9e5-adb297f8fe66",
   "metadata": {},
   "source": [
    "The loaded example data only has 7 time stamps, the code below creates a new (fake) extended temperature variable with 48 monthly records. This code is not required to use the function, it is only included here to make a set of time series that are long enough to be interesting."
   ]
  },
  {
   "cell_type": "code",
   "execution_count": null,
   "id": "786790ba-8666-4ab9-b084-4e74c94b5732",
   "metadata": {},
   "outputs": [],
   "source": [
    "# create a 4 yr monthly time coordinate array\n",
    "time_array = np.arange(\n",
    "    np.datetime64(\"2010-01-01\"), np.datetime64(\"2014-01-01\"), np.timedelta64(1, \"M\"), dtype=\"datetime64[M]\"\n",
    ").astype(\"datetime64[s]\")\n",
    "\n",
    "# create 4 years of monthly temperature data based on the loaded data\n",
    "temperature_array = (\n",
    "    (np.arange(0, 48) * 0.05)[:, np.newaxis, np.newaxis, np.newaxis]\n",
    "    + np.random.normal(0, 0.1, 48)[:, np.newaxis, np.newaxis, np.newaxis]\n",
    "    + np.tile(grd.dataset.temperature[:-1, :2, :, :], (8, 1, 1, 1))\n",
    ")\n",
    "\n",
    "# create a new temperature DataArray\n",
    "temperature = xr.DataArray(\n",
    "    temperature_array,\n",
    "    coords={\n",
    "        \"t_dim\": time_array,\n",
    "        \"depth_0\": grd.dataset.depth_0[:2, :, :],\n",
    "        \"longitude\": grd.dataset.longitude,\n",
    "        \"latitude\": grd.dataset.latitude,\n",
    "    },\n",
    "    dims=[\"t_dim\", \"z_dim\", \"y_dim\", \"x_dim\"],\n",
    ")"
   ]
  },
  {
   "cell_type": "markdown",
   "id": "f2698ce2-1eec-4393-a6ea-814ecca6a8e4",
   "metadata": {},
   "source": [
    "Check out the new data"
   ]
  },
  {
   "cell_type": "code",
   "execution_count": null,
   "id": "325db8b4-f848-41f1-b44e-f230d0e6149d",
   "metadata": {},
   "outputs": [],
   "source": [
    "#temperature # uncomment to print data object summary"
   ]
  },
  {
   "cell_type": "code",
   "execution_count": null,
   "id": "744a6f72-3398-43d2-97b9-1fa879b14e50",
   "metadata": {},
   "outputs": [],
   "source": [
    "temperature[0,0,:,:].plot()"
   ]
  },
  {
   "cell_type": "markdown",
   "id": "ab0997fc-1ef7-4e88-b89c-2554676c02a5",
   "metadata": {},
   "source": [
    "Check out time series at 2 different grid points"
   ]
  },
  {
   "cell_type": "code",
   "execution_count": null,
   "id": "720de2e8-7a6c-47a2-865f-52f614bbffcb",
   "metadata": {},
   "outputs": [],
   "source": [
    "temperature[:,0,50,50].plot()\n",
    "temperature[:,0,200,200].plot()"
   ]
  },
  {
   "cell_type": "markdown",
   "id": "f9b80240-f779-42d6-8a66-c218152e41c0",
   "metadata": {},
   "source": [
    "Create a `coast.Process_data` object, and call the `seasonal_decomposition` function, passing in the required arguments. The first two arguments are:\n",
    "1. The input data, here the temperature data as an xarray DataArray\n",
    "2. The number of chuncks to split the data into. Here we split the data into 2 chunks so that the dask scheduler will try to run 4 processes in parallel\n",
    "\n",
    "The remaining arguments are keyword arguments for the underlying `statsmodels.tsa.seasonal.seasonal_decompose` function, which are documented on the [statsmodels documentation pages](https://www.statsmodels.org/stable/generated/statsmodels.tsa.seasonal.seasonal_decompose.html#statsmodels.tsa.seasonal.seasonal_decompose).  Here we specify:\n",
    "\n",
    "3. three The type of model, i.e. an additive model\n",
    "4. The period of the seasonal cycle, here it is 6 months\n",
    "5. Extrapolate the trend component to cover the entire range of the time series (this is required because the trend is calculated using a convolution filter) \n"
   ]
  },
  {
   "cell_type": "code",
   "execution_count": null,
   "id": "5dc94b1c-58bb-492e-8ff8-2df5b25f5b2d",
   "metadata": {},
   "outputs": [],
   "source": [
    "proc_data = coast.Process_data()\n",
    "grd = proc_data.seasonal_decomposition(temperature, 2, model=\"additive\", period=6, extrapolate_trend=\"freq\")"
   ]
  },
  {
   "cell_type": "markdown",
   "id": "08457970-bf03-4813-88cc-91ef02b1a3a1",
   "metadata": {},
   "source": [
    "The returned xarray Dataset contains the decomposed time series (trend, seasonal, residual) as dask arrays"
   ]
  },
  {
   "cell_type": "code",
   "execution_count": null,
   "id": "57206039-b377-4ac0-a3b5-2fc19cd3b5a5",
   "metadata": {},
   "outputs": [],
   "source": [
    "#grd.dataset # uncomment to print data object summary"
   ]
  },
  {
   "cell_type": "markdown",
   "id": "78cb6dd3-224e-4174-be0d-07d72c86f0e7",
   "metadata": {},
   "source": [
    "Execute the computation"
   ]
  },
  {
   "cell_type": "code",
   "execution_count": null,
   "id": "fa9efc0f-6f5d-4436-b489-a44dd5f30bf4",
   "metadata": {},
   "outputs": [],
   "source": [
    "grd.dataset.compute()"
   ]
  },
  {
   "cell_type": "markdown",
   "id": "6054b3f3-9ccb-4452-a8c8-e420a420eb2f",
   "metadata": {},
   "source": [
    "Plot the decomposed time series"
   ]
  },
  {
   "cell_type": "code",
   "execution_count": null,
   "id": "458a31ef-f164-4197-a151-d183dd28b98f",
   "metadata": {},
   "outputs": [],
   "source": [
    "component = xr.DataArray( [\"trend\",\"seasonal\",\"residual\"], dims=\"component\", name=\"component\" )\n",
    "temp_decomp = xr.concat( \n",
    "    [grd.dataset.trend, grd.dataset.seasonal,grd.dataset.residual], dim=component \n",
    ")\n",
    "temp_decomp.name = \"temperature\"\n",
    "temp_decomp[:,:,0,200,200].plot(hue=\"component\")"
   ]
  },
  {
   "cell_type": "code",
   "execution_count": null,
   "id": "ca4600e9",
   "metadata": {},
   "outputs": [],
   "source": []
  }
 ],
 "metadata": {
  "kernelspec": {
   "display_name": "Python 3 (ipykernel)",
   "language": "python",
   "name": "python3"
  },
  "language_info": {
   "codemirror_mode": {
    "name": "ipython",
    "version": 3
   },
   "file_extension": ".py",
   "mimetype": "text/x-python",
   "name": "python",
   "nbconvert_exporter": "python",
   "pygments_lexer": "ipython3",
   "version": "3.10.12"
  }
 },
 "nbformat": 4,
 "nbformat_minor": 5
}
