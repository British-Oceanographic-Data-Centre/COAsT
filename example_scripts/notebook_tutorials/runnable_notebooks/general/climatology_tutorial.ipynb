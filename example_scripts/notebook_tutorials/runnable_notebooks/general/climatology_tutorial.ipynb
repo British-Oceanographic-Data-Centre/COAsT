{
 "cells": [
  {
   "cell_type": "markdown",
   "id": "ec863bc1-f22a-42bd-a494-49be5028db4a",
   "metadata": {},
   "source": [
    "This demonstration has two parts:\n",
    "\n",
    "1)  Climatology.make_climatology():\n",
    "    This demonstration uses the COAsT package to calculate a climatological mean of an\n",
    "    input dataset at a desired output frequency. Output can be written straight\n",
    "    to file.\n",
    "\n",
    "2) Climatology.make_multiyear_climatology():\n",
    "    This demonstrations uses the COAsT package to calculate a climatological mean of an\n",
    "    input dataset at a desired output frequency, over multiple years, but will work with single year datasets too.\n",
    "\n",
    "COAsT and xarray should preserve any lazy loading and chunking. If defined\n",
    "properly in the read function, memory issues can be avoided and parallel\n",
    "processes will automatically be used."
   ]
  },
  {
   "cell_type": "code",
   "execution_count": 1,
   "id": "1217a907-103b-43b5-b673-dbd4171c766e",
   "metadata": {},
   "outputs": [
    {
     "name": "stderr",
     "output_type": "stream",
     "text": [
      "/mnt/code/.pyenv/versions/3.10.12/envs/coast-10/lib/python3.10/site-packages/utide/harmonics.py:16: RuntimeWarning: invalid value encountered in cast\n",
      "  nshallow = np.ma.masked_invalid(const.nshallow).astype(int)\n",
      "/mnt/code/.pyenv/versions/3.10.12/envs/coast-10/lib/python3.10/site-packages/utide/harmonics.py:17: RuntimeWarning: invalid value encountered in cast\n",
      "  ishallow = np.ma.masked_invalid(const.ishallow).astype(int) - 1\n"
     ]
    }
   ],
   "source": [
    "import coast"
   ]
  },
  {
   "cell_type": "markdown",
   "id": "fa5b1d34-06c3-4139-a1c8-122bd6afadcf",
   "metadata": {},
   "source": [
    "### Usage of coast.Climatology.make_climatology().\n",
    "\n",
    "Calculates mean over a given period of time. This doesn't take different years into account, unless using the\n",
    "'years' frequency."
   ]
  },
  {
   "cell_type": "code",
   "execution_count": 3,
   "id": "505111f9-6168-4cca-ae06-c6ba02cec218",
   "metadata": {},
   "outputs": [
    {
     "name": "stderr",
     "output_type": "stream",
     "text": [
      "/mnt/code/.pyenv/versions/3.10.12/envs/coast-10/lib/python3.10/site-packages/xarray/core/dataset.py:278: UserWarning: The specified chunks separate the stored chunks along dimension \"time_counter\" starting at index 2. This could degrade performance. Instead, consider rechunking after loading.\n",
      "  warnings.warn(\n"
     ]
    }
   ],
   "source": [
    "root = \"../../../../\"\n",
    "# Paths to a single or multiple data files.\n",
    "dn_files = root + \"./example_files/\"\n",
    "fn_nemo_dat = dn_files + \"coast_example_nemo_data.nc\"\n",
    "fn_nemo_config = root + \"./config/example_nemo_grid_t.json\"\n",
    "# Set path for domain file if required.\n",
    "fn_nemo_dom = dn_files + \"coast_example_nemo_domain.nc\"\n",
    "# Define output filepath (optional: None or str)\n",
    "fn_out = None\n",
    "\n",
    "# Read in multiyear data (This example uses NEMO data from a single file.)\n",
    "nemo_data = coast.Gridded(fn_data=fn_nemo_dat,\n",
    "                          fn_domain=fn_nemo_dom,\n",
    "                          config=fn_nemo_config,\n",
    "                          ).dataset\n"
   ]
  },
  {
   "cell_type": "markdown",
   "id": "8b130ea3",
   "metadata": {},
   "source": [
    "Calculate the climatology for temperature and sea surface height (ssh) as an example:"
   ]
  },
  {
   "cell_type": "code",
   "execution_count": 4,
   "id": "b5e3a382",
   "metadata": {},
   "outputs": [],
   "source": [
    "# Select specific data variables.\n",
    "data = nemo_data[[\"temperature\", \"ssh\"]]\n",
    "\n",
    "# Define frequency -- Any xarray time string: season, month, etc\n",
    "climatology_frequency = \"month\"\n",
    "\n",
    "# Calculate the climatology and write to file.\n",
    "clim = coast.Climatology()\n",
    "clim_mean = clim.make_climatology(data, climatology_frequency, fn_out=fn_out)"
   ]
  },
  {
   "cell_type": "markdown",
   "id": "a6b46dda",
   "metadata": {},
   "source": [
    "Below shows the structure of a dataset returned, containing 1 month worth of meaned temperature and sea surface height data:"
   ]
  },
  {
   "cell_type": "code",
   "execution_count": 5,
   "id": "5497105f",
   "metadata": {},
   "outputs": [],
   "source": [
    "#clim_mean  # uncomment to print data object summary"
   ]
  },
  {
   "cell_type": "markdown",
   "id": "1f96bfa3-4bf6-4e5d-89bb-440ca400de5a",
   "metadata": {},
   "source": [
    "### Usage of coast.Climatology.multiyear_averages().\n",
    "\n",
    "Calculates the mean over a specified period and groups the data by year-period. Here a fully working example is not available as multi-year example data is not in the `example_files`. However a working example using synthetic data is given in: `tests/test_climatology.py`. This method is designed to be compatible with multi-year datasets, but will work with single year datasets too."
   ]
  },
  {
   "cell_type": "markdown",
   "id": "21488020",
   "metadata": {},
   "source": [
    "```\n",
    "# Paths to a single or multiple data files.\n",
    "fn_nemo_data = \"/path/to/nemo/*.nc\"\n",
    "# Set path for domain file if required.\n",
    "fn_nemo_domain = None\n",
    "# Set path to configuration file\n",
    "fn_nemo_config = \"/path/to/nemo/*.json\"\n",
    "\n",
    "# Read in multiyear data (This example uses NEMO data from multiple datafiles.)\n",
    "nemo_data = coast.Gridded(fn_data=fn_nemo_data,\n",
    "                          fn_domain=fn_nemo_domain,\n",
    "                          config=fn_nemo_config,\n",
    "                          multiple=True).dataset\n",
    "\n",
    "```"
   ]
  },
  {
   "cell_type": "markdown",
   "id": "55aaa2fc",
   "metadata": {},
   "source": [
    "Now calculate temperature and ssh means of each season across multiple years for specified data, using seasons module to specify time period."
   ]
  },
  {
   "cell_type": "markdown",
   "id": "8b0b5624",
   "metadata": {},
   "source": [
    "```\n",
    "from coast._utils import seasons\n",
    "\n",
    "# Select specific data variables.\n",
    "data = nemo_data[[\"temperature\", \"ssh\"]]\n",
    "\n",
    "clim = coast.Climatology()\n",
    "# SPRING, SUMMER, AUTUMN, WINTER, ALL are valid values for seasons.\n",
    "clim_multiyear = clim.multiyear_averages(data, seasons.ALL, time_var='time', time_dim='t_dim')\n",
    "\n",
    "# Or explicitly defining specific month periods.\n",
    "# A list of tuples defining start and end month integers. The start months should be in chronological order.\n",
    "# (you may need to read/load the data again if it gives an error)\n",
    "\n",
    "month_periods = [(1,2), (12,2)] # Specifies January -> February and December -> February for each year of data. \n",
    "clim_multiyear = clim.multiyear_averages(data, month_periods , time_var='time', time_dim='t_dim')\n",
    "```"
   ]
  },
  {
   "cell_type": "code",
   "execution_count": null,
   "id": "2152d01f",
   "metadata": {},
   "outputs": [],
   "source": []
  }
 ],
 "metadata": {
  "kernelspec": {
   "display_name": "Python 3 (ipykernel)",
   "language": "python",
   "name": "python3"
  },
  "language_info": {
   "codemirror_mode": {
    "name": "ipython",
    "version": 3
   },
   "file_extension": ".py",
   "mimetype": "text/x-python",
   "name": "python",
   "nbconvert_exporter": "python",
   "pygments_lexer": "ipython3",
   "version": "3.10.12"
  }
 },
 "nbformat": 4,
 "nbformat_minor": 5
}
