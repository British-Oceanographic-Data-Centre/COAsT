{
 "cells": [
  {
   "cell_type": "markdown",
   "id": "ec863bc1-f22a-42bd-a494-49be5028db4a",
   "metadata": {},
   "source": [
    "This demonstration will show how to reproject the NEMO velocities for plotting.\n",
    "\n",
    "NEMO velocities are usually calculated and saved in along grid i and j directions. This causes an issue when plotting velocities as vectors on a map where it is assumed that i and j velocities point eastwards and northwards.\n",
    "\n",
    "There are additonal isses when plotting quivers over the poles that we will cover."
   ]
  },
  {
   "cell_type": "code",
   "execution_count": 2,
   "id": "1217a907-103b-43b5-b673-dbd4171c766e",
   "metadata": {},
   "outputs": [
    {
     "name": "stderr",
     "output_type": "stream",
     "text": [
      "c:\\Users\\benbar\\AppData\\Local\\anaconda3\\envs\\coast\\lib\\site-packages\\utide\\harmonics.py:16: RuntimeWarning: invalid value encountered in cast\n",
      "  nshallow = np.ma.masked_invalid(const.nshallow).astype(int)\n",
      "c:\\Users\\benbar\\AppData\\Local\\anaconda3\\envs\\coast\\lib\\site-packages\\utide\\harmonics.py:17: RuntimeWarning: invalid value encountered in cast\n",
      "  ishallow = np.ma.masked_invalid(const.ishallow).astype(int) - 1\n"
     ]
    }
   ],
   "source": [
    "import numpy as np\n",
    "import matplotlib.pyplot as plt\n",
    "import cartopy.crs as ccrs\n",
    "import cartopy.feature as cfeature\n",
    "import coast\n"
   ]
  },
  {
   "cell_type": "markdown",
   "id": "fa5b1d34-06c3-4139-a1c8-122bd6afadcf",
   "metadata": {},
   "source": [
    "### Usage of coast._utils.plot_util.py.\n",
    "\n",
    "Plotting quivers"
   ]
  },
  {
   "cell_type": "code",
   "execution_count": null,
   "id": "40205eda",
   "metadata": {},
   "outputs": [],
   "source": [
    "import xarray as xr\n",
    "# check size of other examples\n",
    "root = \"../../../../\"\n",
    "# Paths to a single or multiple data files.\n",
    "dn_files = root + \"example_files/\"\n",
    "\n",
    "fn_nemo_dat = dn_files + \"coast_example_nemo_data.nc\"\n",
    "fn_nemo_config = root + \"./config/example_nemo_grid_t.json\"\n",
    "# Set path for domain file if required.\n",
    "fn_nemo_dom = dn_files + \"coast_example_nemo_domain.nc\"\n",
    "\n",
    "ds = xr.open_dataset(fn_nemo_dat)\n",
    "print(ds)\n",
    "\n",
    "ds = xr.open_dataset(fn_nemo_dom)\n",
    "#print(ds)"
   ]
  },
  {
   "cell_type": "code",
   "execution_count": 15,
   "id": "505111f9-6168-4cca-ae06-c6ba02cec218",
   "metadata": {},
   "outputs": [],
   "source": [
    "root = \"../../../../\"\n",
    "# Paths to a single or multiple data files.\n",
    "dn_files = root + \"example_files/\"\n",
    "fn_nemo_dat_t = dn_files + \"HadGEM3-GC31-HH_hist_thetao.nc\"\n",
    "#fn_nemo_dat_t = dn_files + \"thetao_Omon_HadGEM3-GC31-HH_hist-1950_r1i1p1f1_gn_195001-195001.nc\"\n",
    "fn_nemo_dat_u = dn_files + \"HadGEM3-GC31-HH_hist_uo.nc\"\n",
    "fn_nemo_dat_v = dn_files + \"HadGEM3-GC31-HH_hist_vo.nc\"\n",
    "fn_nemo_config_t = root + \"config/gc31_nemo_grid_t.json\"\n",
    "fn_nemo_config_u = root + \"config/gc31_nemo_grid_u.json\"\n",
    "fn_nemo_config_v = root + \"config/gc31_nemo_grid_v.json\"\n",
    "# Set path for domain file if required.\n",
    "#fn_nemo_dom = dn_files + \"eORCA12_v2.4_domain.nc\"\n",
    "fn_nemo_dom = dn_files + \"gc31_domain.nc\"\n",
    "#fn_nemo_dom = dn_files + \"mesh_mask_eORCA12_v2.4.nc\"\n",
    "# Define output filepath (optional: None or str)\n",
    "fn_out = './quiver_plot.png'\n",
    "\n",
    "# Read in multiyear data (This example uses NEMO data from a single file.)\n",
    "nemo_data_t = coast.Gridded(fn_data=fn_nemo_dat_t,\n",
    "                          fn_domain=fn_nemo_dom,\n",
    "                          config=fn_nemo_config_t,\n",
    "                          ).dataset\n",
    "nemo_data_u = coast.Gridded(fn_data=fn_nemo_dat_u,\n",
    "                          fn_domain=fn_nemo_dom,\n",
    "                          config=fn_nemo_config_u,\n",
    "                          ).dataset\n",
    "nemo_data_v = coast.Gridded(fn_data=fn_nemo_dat_v,\n",
    "                          fn_domain=fn_nemo_dom,\n",
    "                          config=fn_nemo_config_v,\n",
    "                          ).dataset"
   ]
  },
  {
   "cell_type": "markdown",
   "id": "8b130ea3",
   "metadata": {},
   "source": [
    "Select surface u and v as an example:"
   ]
  },
  {
   "cell_type": "code",
   "execution_count": 18,
   "id": "b5e3a382",
   "metadata": {},
   "outputs": [
    {
     "name": "stdout",
     "output_type": "stream",
     "text": [
      "done1\n",
      "<xarray.Dataset>\n",
      "Dimensions:             (z_dim: 75, bnds: 2, t_dim: 1, y_dim: 151, x_dim: 864,\n",
      "                         vertices: 4)\n",
      "Coordinates:\n",
      "    i                   (x_dim) float64 2.0 7.0 12.0 ... 4.312e+03 4.317e+03\n",
      "    j                   (y_dim) float64 3.002e+03 3.006e+03 ... 3.602e+03\n",
      "    latitude            (y_dim, x_dim) float32 0.0 0.0 0.0 0.0 ... 0.0 0.0 0.0\n",
      "    depth_0             (z_dim, y_dim, x_dim) float64 0.0 0.0 0.0 ... 0.0 0.0\n",
      "    longitude           (y_dim, x_dim) float32 0.0 0.0 0.0 0.0 ... 0.0 0.0 0.0\n",
      "    time                (t_dim) object 1950-01-16 00:00:00\n",
      "Dimensions without coordinates: z_dim, bnds, t_dim, y_dim, x_dim, vertices\n",
      "Data variables:\n",
      "    lev_bnds            (z_dim, bnds) float64 dask.array<chunksize=(75, 2), meta=np.ndarray>\n",
      "    temperature         (t_dim, z_dim, y_dim, x_dim) float32 dask.array<chunksize=(1, 75, 151, 864), meta=np.ndarray>\n",
      "    time_bnds           (t_dim, bnds) object dask.array<chunksize=(1, 2), meta=np.ndarray>\n",
      "    vertices_latitude   (y_dim, x_dim, vertices) float64 dask.array<chunksize=(151, 864, 4), meta=np.ndarray>\n",
      "    vertices_longitude  (y_dim, x_dim, vertices) float64 dask.array<chunksize=(151, 864, 4), meta=np.ndarray>\n",
      "    bathymetry          (y_dim, x_dim) float64 0.0 0.0 0.0 0.0 ... 0.0 0.0 0.0\n",
      "    e1                  (y_dim, x_dim) float64 0.0 0.0 0.0 0.0 ... 0.0 0.0 0.0\n",
      "    e2                  (y_dim, x_dim) float64 0.0 0.0 0.0 0.0 ... 0.0 0.0 0.0\n",
      "    e3_0                (z_dim, y_dim, x_dim) float64 0.0 0.0 0.0 ... 0.0 0.0\n",
      "    mask                (z_dim, y_dim, x_dim) float64 0.0 0.0 0.0 ... 0.0 0.0\n",
      "    bathy_metry         (y_dim, x_dim) float64 0.0 0.0 0.0 0.0 ... 0.0 0.0 0.0\n",
      "Attributes: (12/49)\n",
      "    Conventions:            CF-1.7 CMIP-6.2\n",
      "    activity_id:            HighResMIP\n",
      "    branch_method:          fixed historical forcing from 1950 was applied fo...\n",
      "    branch_time_in_child:   0.0\n",
      "    branch_time_in_parent:  10800.0\n",
      "    creation_date:          2020-05-29T18:22:02Z\n",
      "    ...                     ...\n",
      "    history:                Mon Nov  6 16:55:31 2023: ncks -d j,3000.,3604. t...\n",
      "    institution_id:         NERC\n",
      "    NCO:                    netCDF Operators version 4.7.5 (Homepage = http:/...\n",
      "    institution:            Natural Environment Research Council, STFC-RAL, H...\n",
      "    further_info_url:       https://furtherinfo.es-doc.org/CMIP6.NERC.HadGEM3...\n",
      "    license:                CMIP6 model data produced by NERC is licensed und...\n",
      "done2\n",
      "done3\n"
     ]
    }
   ],
   "source": [
    "#print(nemo_data_t)\n",
    "# Coarsen the data\n",
    "nemo_data_uc = nemo_data_u.coarsen(y_dim=4, x_dim=5).mean()\n",
    "nemo_data_vc = nemo_data_v.coarsen(y_dim=4, x_dim=5).mean()\n",
    "nemo_data_tc = nemo_data_t.coarsen(y_dim=4, x_dim=5).mean()\n",
    "print('done1')\n",
    "print(nemo_data_tc)\n",
    "\n",
    "# Select specific data variables.\n",
    "data_u = nemo_data_uc[[\"u_velocity\"]]\n",
    "data_v = nemo_data_vc[[\"v_velocity\"]]\n",
    "\n",
    "# Select one time step and surface currents\n",
    "data_u = data_u.isel(t_dim=0, z_dim=0)\n",
    "data_v = data_v.isel(t_dim=0, z_dim=0)\n",
    "print('done2')\n",
    "\n",
    "# Calculate speed\n",
    "speed = ((data_u.to_array().values[0, :, :] ** 2 + data_v.to_array().values[0, :, :] ** 2) ** 0.5)\n",
    "print('done3')\n",
    "\n",
    "# Calculate adjustment\n",
    "u_new, v_new = coast._utils.plot_util.velocity_grid_to_geo(\n",
    "        nemo_data_t.longitude.values, nemo_data_t.latitude.values, \n",
    "        data_u.to_array().values[0, :, :], data_v.to_array().values[0, :, :], polar_stereo=False)\n",
    "print('done4')"
   ]
  },
  {
   "cell_type": "code",
   "execution_count": null,
   "id": "3fc0351e",
   "metadata": {},
   "outputs": [],
   "source": [
    "# Set things up for plotting North Pole stereographic projection\n",
    "\n",
    "def set_circle(ax):\n",
    "    # Compute a circle in axes coordinates, which we can use as a boundary\n",
    "    # for the map. We can pan/zoom as much as we like - the boundary will be\n",
    "    # permanently circular.\n",
    "    theta = np.linspace(0, 2 * np.pi, 100)\n",
    "    center, radius = [0.5, 0.5], 0.5\n",
    "    verts = np.vstack([np.sin(theta), np.cos(theta)]).T\n",
    "    circle = mpath.Path(verts * radius + center)\n",
    "    ax.set_boundary(circle, transform=ax.transAxes)\n",
    "\n",
    "# Data projection\n",
    "data_crs = ccrs.PlateCarree()\n",
    "# Plot projection\n",
    "mrc = ccrs.NorthPolarStereo(central_longitude=0.0)"
   ]
  },
  {
   "cell_type": "markdown",
   "id": "f8c7117d",
   "metadata": {},
   "source": [
    "Below shows the u and v velocities when plotted with and without adjustment."
   ]
  },
  {
   "cell_type": "code",
   "execution_count": null,
   "id": "5497105f",
   "metadata": {},
   "outputs": [],
   "source": [
    "# Subplot axes settings\n",
    "n_r = 1  # Number of subplot rows\n",
    "n_c = 2  # Number of subplot columns\n",
    "figsize = (10, 5)  # Figure size\n",
    "subplot_padding = 0.5  # Amount of vertical and horizontal padding between plots\n",
    "fig_pad = (0.075, 0.075, 0.1, 0.1)  # Figure padding (left, top, right, bottom)\n",
    "\n",
    "# Labels and Titles\n",
    "fig_title = \"Velocity Plot\"  # Whole figure title\n",
    "\n",
    "# Create plot and flatten axis array\n",
    "fig, ax = plt.subplots(n_r, n_c, subplot_kw={\"projection\": mrc}, sharey=True, sharex=True, figsize=figsize)\n",
    "\n",
    "if n_r * n_c > 1:\n",
    "    ax = ax.flatten()\n",
    "    for rr in range(n_r * n_c):\n",
    "        ax[rr].add_feature(cfeature.LAND, zorder=100)\n",
    "        ax[rr].gridlines()\n",
    "        ax[rr].set_extent([-180, 180, 60, 90], crs=data_crs)\n",
    "        set_circle(ax[rr])\n",
    "\n",
    "\n",
    "ax[0].pcolormesh(nemo_data_t.longitude.values, nemo_data_t.latitude.values, speed, transform=data_crs)\n",
    "ax[0].quiver(nemo_data_t.longitude.values, nemo_data_t.latitude.values, \n",
    "    data_u.to_array().values[0, :, :], data_v.to_array().values[0, :, :], \n",
    "    color='w', transform=data_crs, angles='xy', regrid_shape=40)\n",
    "\n",
    "ax[1].pcolormesh(nemo_data_t.longitude.values, nemo_data_t.latitude.values, speed, transform=data_crs)\n",
    "ax[1].quiver(nemo_data_t.longitude.values, nemo_data_t.latitude.values, \n",
    "    u_new, v_new, \n",
    "    color='w', transform=data_crs, angles='xy', regrid_shape=40)\n",
    "\n",
    "#ax4.streamplot(lon_grid[::skip, ::skip], lat_grid[::skip, ::skip], u_psi_ad[::skip, ::skip], v_psi_ad[::skip, ::skip], linewidth=1, density=3, color='w', zorder=101)\n",
    "\n",
    "fig.tight_layout(w_pad=subplot_padding, h_pad=subplot_padding)\n",
    "fig.subplots_adjust(left=(fig_pad[0]), bottom=(fig_pad[1]), right=(1 - fig_pad[2]), top=(1 - fig_pad[3]))\n",
    "\n",
    "#fig.savefig(fn_out)\n",
    "plt.show()"
   ]
  },
  {
   "cell_type": "code",
   "execution_count": null,
   "id": "2152d01f",
   "metadata": {},
   "outputs": [],
   "source": []
  }
 ],
 "metadata": {
  "kernelspec": {
   "display_name": "Python 3 (ipykernel)",
   "language": "python",
   "name": "python3"
  },
  "language_info": {
   "codemirror_mode": {
    "name": "ipython",
    "version": 3
   },
   "file_extension": ".py",
   "mimetype": "text/x-python",
   "name": "python",
   "nbconvert_exporter": "python",
   "pygments_lexer": "ipython3",
   "version": "3.8.10"
  }
 },
 "nbformat": 4,
 "nbformat_minor": 5
}
