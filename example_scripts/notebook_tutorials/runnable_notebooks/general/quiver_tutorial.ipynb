{
 "cells": [
  {
   "cell_type": "markdown",
   "id": "ec863bc1-f22a-42bd-a494-49be5028db4a",
   "metadata": {},
   "source": [
    "# Quiver Plot Tutorial\n",
    "\n",
    "This demonstration will show how to re-project the NEMO velocities for quiver plotting.\n",
    "\n",
    "NEMO velocities are usually calculated and saved in along grid i and j directions. This causes an issue when plotting velocities as vectors on a map where it is assumed that i and j velocities point eastwards and northwards but the grid is curvilinear.\n",
    "\n",
    "There are additional isses when plotting quivers over the poles that we will cover.\n",
    "\n",
    "The data we use here comes from a global model that has been cropped to the Arctic region. For Arctic contour plotting see `example_scripts/configuration_gallery/gc31_arctic_example_plot.py`"
   ]
  },
  {
   "cell_type": "code",
   "execution_count": null,
   "id": "1217a907-103b-43b5-b673-dbd4171c766e",
   "metadata": {},
   "outputs": [],
   "source": [
    "import matplotlib.pyplot as plt\n",
    "import cartopy.crs as ccrs\n",
    "import cartopy.feature as cfeature\n",
    "import coast\n"
   ]
  },
  {
   "cell_type": "markdown",
   "id": "fa5b1d34-06c3-4139-a1c8-122bd6afadcf",
   "metadata": {},
   "source": [
    "### Usage of coast._utils.plot_util.velocity_grid_to_geo()\n",
    "\n",
    "Plotting velocities with curvilinear grid and/or on a polar stereographic projection."
   ]
  },
  {
   "cell_type": "code",
   "execution_count": null,
   "id": "505111f9-6168-4cca-ae06-c6ba02cec218",
   "metadata": {},
   "outputs": [],
   "source": [
    "root = \"../../../../\"\n",
    "# Paths to a single or multiple data files.\n",
    "dn_files = root + \"example_files/\"\n",
    "fn_nemo_dat_t = dn_files + \"HadGEM3-GC31-HH_hist_thetao.nc\"\n",
    "fn_nemo_dat_u = dn_files + \"HadGEM3-GC31-HH_hist_uo.nc\"\n",
    "fn_nemo_dat_v = dn_files + \"HadGEM3-GC31-HH_hist_vo.nc\"\n",
    "fn_nemo_config_t = root + \"config/gc31_nemo_grid_t.json\"\n",
    "fn_nemo_config_u = root + \"config/gc31_nemo_grid_u.json\"\n",
    "fn_nemo_config_v = root + \"config/gc31_nemo_grid_v.json\"\n",
    "\n",
    "# Set path for domain file if required.\n",
    "fn_nemo_dom = dn_files + \"gc31_domain.nc\"\n",
    "\n",
    "# Define output filepath (optional: None or str)\n",
    "fn_out = './quiver_plot.png'\n",
    "\n",
    "# Read in multiyear data (This example uses NEMO data from a single file.)\n",
    "nemo_data_t = coast.Gridded(fn_data=fn_nemo_dat_t,\n",
    "                          fn_domain=fn_nemo_dom,\n",
    "                          config=fn_nemo_config_t,\n",
    "                          ).dataset\n",
    "nemo_data_u = coast.Gridded(fn_data=fn_nemo_dat_u,\n",
    "                          fn_domain=fn_nemo_dom,\n",
    "                          config=fn_nemo_config_u,\n",
    "                          ).dataset\n",
    "nemo_data_v = coast.Gridded(fn_data=fn_nemo_dat_v,\n",
    "                          fn_domain=fn_nemo_dom,\n",
    "                          config=fn_nemo_config_v,\n",
    "                          ).dataset"
   ]
  },
  {
   "cell_type": "markdown",
   "id": "8b130ea3",
   "metadata": {},
   "source": [
    "Select surface u and v as an example:"
   ]
  },
  {
   "cell_type": "code",
   "execution_count": null,
   "id": "b5e3a382",
   "metadata": {},
   "outputs": [],
   "source": [
    "# Coarsen the data to make it run faster, also we don't need to plot the full resolution for such a wide area.\n",
    "nemo_data_uc = nemo_data_u.coarsen(y_dim=10, x_dim=10).mean()\n",
    "nemo_data_vc = nemo_data_v.coarsen(y_dim=10, x_dim=10).mean()\n",
    "nemo_data_tc = nemo_data_t.coarsen(y_dim=10, x_dim=10).mean()\n",
    "\n",
    "# Select specific data variables.\n",
    "data_u = nemo_data_uc[[\"u_velocity\"]]\n",
    "data_v = nemo_data_vc[[\"v_velocity\"]]\n",
    "\n",
    "# Select one time step and surface currents\n",
    "data_u = data_u.isel(t_dim=0, z_dim=0)\n",
    "data_v = data_v.isel(t_dim=0, z_dim=0)\n",
    "\n",
    "# Calculate speed\n",
    "speed = ((data_u.to_array().values[0, :, :] ** 2 + data_v.to_array().values[0, :, :] ** 2) ** 0.5)\n",
    "\n",
    "# Calculate adjustment for the curvilinear grid\n",
    "u_new, v_new = coast._utils.plot_util.velocity_grid_to_geo(\n",
    "        nemo_data_tc.longitude.values, nemo_data_tc.latitude.values, \n",
    "        data_u.to_array().values[0, :, :], data_v.to_array().values[0, :, :], polar_stereo=False)\n"
   ]
  },
  {
   "cell_type": "code",
   "execution_count": null,
   "id": "9eb7642b",
   "metadata": {},
   "outputs": [],
   "source": [
    "# Apply the CartoPy stereographic polar correction\n",
    "# NOTE: This could have been applied automatically with `polar_stereo=True` in\n",
    "# coast._utils.plot_util.velocity_grid_to_geo()\n",
    "\n",
    "u_pol, v_pol = coast._utils.plot_util.velocity_polar(u_new, v_new, nemo_data_tc.latitude.values)"
   ]
  },
  {
   "cell_type": "code",
   "execution_count": null,
   "id": "3fc0351e",
   "metadata": {},
   "outputs": [],
   "source": [
    "# Set things up for plotting North Pole stereographic projection\n",
    "\n",
    "# Data projection\n",
    "data_crs = ccrs.PlateCarree()\n",
    "# Plot projection\n",
    "mrc = ccrs.NorthPolarStereo(central_longitude=0.0)"
   ]
  },
  {
   "cell_type": "markdown",
   "id": "f8c7117d",
   "metadata": {},
   "source": [
    "Below shows the u and v velocities when plotted with and without adjustment.\n",
    "\n",
    "The plot shows three cases: 1:no correction, 2:the NEMO grid correction, and 3:the NEMO grid correction with polar stereographic plot correction. We also plot the final corrected u and v velocities as streamlines.\n",
    "- In case 1, the lower latitude velocities aren't too bad but become irregular further north as the grid lines deviate form lat and lon.\n",
    "- In case 2, the irregularity still persists even with the grid correction. This is the result of a CartoPy bug which also worsens at high latitudes.\n",
    "- In case 3, both corrections have been applied and the velocities quivers now align with the route of strong current speed as would be expected."
   ]
  },
  {
   "cell_type": "code",
   "execution_count": null,
   "id": "5497105f",
   "metadata": {},
   "outputs": [],
   "source": [
    "# Subplot axes settings\n",
    "n_r = 2  # Number of subplot rows\n",
    "n_c = 2  # Number of subplot columns\n",
    "figsize = (10, 10)  # Figure size\n",
    "subplot_padding = 0.5  # Amount of vertical and horizontal padding between plots\n",
    "fig_pad = (0.075, 0.075, 0.1, 0.1)  # Figure padding (left, top, right, bottom)\n",
    "\n",
    "# Labels and Titles\n",
    "fig_title = \"Velocity Plot\"  # Whole figure title\n",
    "\n",
    "# Create plot and flatten axis array\n",
    "fig, ax = plt.subplots(n_r, n_c, subplot_kw={\"projection\": mrc}, sharey=True, sharex=True, figsize=figsize)\n",
    "cax = fig.add_axes([0.3, 0.96, 0.4, 0.01])\n",
    "\n",
    "\n",
    "ax = ax.flatten()\n",
    "for rr in range(n_r * n_c):\n",
    "    ax[rr].add_feature(cfeature.LAND, zorder=100)\n",
    "    ax[rr].gridlines()\n",
    "    ax[rr].set_extent([-180, 180, 70, 90], crs=data_crs)\n",
    "    coast._utils.plot_util.set_circle(ax[rr])\n",
    "\n",
    "\n",
    "cs = ax[0].pcolormesh(nemo_data_tc.longitude.values, nemo_data_tc.latitude.values, speed, transform=data_crs, vmin=0, vmax=0.3)\n",
    "ax[0].quiver(nemo_data_tc.longitude.values, nemo_data_tc.latitude.values, \n",
    "    data_u.to_array().values[0, :, :], data_v.to_array().values[0, :, :], \n",
    "    color='w', transform=data_crs, angles='xy', regrid_shape=40)\n",
    "\n",
    "ax[1].pcolormesh(nemo_data_tc.longitude.values, nemo_data_tc.latitude.values, speed, transform=data_crs, vmin=0, vmax=0.3)\n",
    "ax[1].quiver(nemo_data_tc.longitude.values, nemo_data_tc.latitude.values, \n",
    "    u_new, v_new, \n",
    "    color='w', transform=data_crs, angles='xy', regrid_shape=40)\n",
    "\n",
    "ax[2].pcolormesh(nemo_data_tc.longitude.values, nemo_data_tc.latitude.values, speed, transform=data_crs, vmin=0, vmax=0.3)\n",
    "ax[2].quiver(nemo_data_tc.longitude.values, nemo_data_tc.latitude.values, \n",
    "    u_pol, v_pol, \n",
    "    color='w', transform=data_crs, angles='xy', regrid_shape=40)\n",
    "\n",
    "ax[3].pcolormesh(nemo_data_tc.longitude.values, nemo_data_tc.latitude.values, speed, transform=data_crs, vmin=0, vmax=0.3)\n",
    "ax[3].streamplot(nemo_data_tc.longitude.values, nemo_data_tc.latitude.values, \n",
    "    u_pol, v_pol, transform=data_crs, linewidth=1, density=2, color='w', zorder=101)\n",
    "\n",
    "ax[0].set_title('1: No Correction')\n",
    "ax[1].set_title('2: NEMO Grid Correction')\n",
    "ax[2].set_title('3: Grid Correction and Polar Correction')\n",
    "ax[3].set_title('As left but with streamlines')\n",
    "\n",
    "fig.colorbar(cs, cax=cax, orientation='horizontal')\n",
    "cax.set_xlabel('U (m s$^{-1}$)')\n",
    "\n",
    "#fig.tight_layout(w_pad=subplot_padding, h_pad=subplot_padding)\n",
    "#fig.subplots_adjust(left=(fig_pad[0]), bottom=(fig_pad[1]), right=(1 - fig_pad[2]), top=(1 - fig_pad[3]))\n",
    "\n",
    "plt.show()\n",
    "fig.savefig(fn_out)"
   ]
  }
 ],
 "metadata": {
  "kernelspec": {
   "display_name": "Python 3 (ipykernel)",
   "language": "python",
   "name": "python3"
  },
  "language_info": {
   "codemirror_mode": {
    "name": "ipython",
    "version": 3
   },
   "file_extension": ".py",
   "mimetype": "text/x-python",
   "name": "python",
   "nbconvert_exporter": "python",
   "pygments_lexer": "ipython3",
   "version": "3.10.0"
  }
 },
 "nbformat": 4,
 "nbformat_minor": 5
}