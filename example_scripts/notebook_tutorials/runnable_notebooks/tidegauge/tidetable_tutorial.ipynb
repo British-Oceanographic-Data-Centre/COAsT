{
 "cells": [
  {
   "cell_type": "markdown",
   "metadata": {},
   "source": [
    "### Tutorial for processing tabulated tide gauge data."
   ]
  },
  {
   "cell_type": "markdown",
   "metadata": {},
   "source": [
    "Tidal highs and lows can be scraped from a website such as:<br>\n",
    "https://www.ntslf.org/tides/tidepred?port=Liverpool<br>\n",
    "![NTSLF tidal predictions](https://www.ntslf.org/files/ntslf_php/plottide.php?port=Liverpool)\n",
    "\n",
    "and format them into a csv file:<br>\n",
    "\n",
    "LIVERPOOL (GLADSTONE DOCK)    TZ: UT(GMT)/BST     Units: METRES    Datum: Chart Datum<br>\n",
    "01/10/2020  06:29    1.65<br>\n",
    "01/10/2020  11:54    9.01<br>\n",
    "01/10/2020  18:36    1.87<br>\n",
    "\n",
    "The data can be used in the following demonstration."
   ]
  },
  {
   "cell_type": "code",
   "execution_count": 1,
   "metadata": {},
   "outputs": [
    {
     "name": "stderr",
     "output_type": "stream",
     "text": [
      "/mnt/code/.pyenv/versions/3.10.12/envs/coast-10/lib/python3.10/site-packages/utide/harmonics.py:16: RuntimeWarning: invalid value encountered in cast\n",
      "/mnt/code/.pyenv/versions/3.10.12/envs/coast-10/lib/python3.10/site-packages/utide/harmonics.py:17: RuntimeWarning: invalid value encountered in cast\n"
     ]
    }
   ],
   "source": [
    "import coast\n",
    "import numpy as np"
   ]
  },
  {
   "cell_type": "markdown",
   "metadata": {},
   "source": [
    "Load and plot High and Low Water data."
   ]
  },
  {
   "cell_type": "code",
   "execution_count": 8,
   "metadata": {},
   "outputs": [
    {
     "name": "stdout",
     "output_type": "stream",
     "text": [
      "load and plot HLW data\n"
     ]
    }
   ],
   "source": [
    "print(\"load and plot HLW data\")\n",
    "filnam = \"./example_files/Gladstone_2020-10_HLW.txt\""
   ]
  },
  {
   "cell_type": "markdown",
   "metadata": {},
   "source": [
    "Set the start and end dates."
   ]
  },
  {
   "cell_type": "code",
   "execution_count": 9,
   "metadata": {},
   "outputs": [],
   "source": [
    "date_start = np.datetime64(\"2020-10-12 23:59\")\n",
    "date_end = np.datetime64(\"2020-10-14 00:01\")"
   ]
  },
  {
   "cell_type": "markdown",
   "metadata": {},
   "source": [
    "Initiate a TideGauge object, if a filename is passed it assumes it is a GESLA type object."
   ]
  },
  {
   "cell_type": "code",
   "execution_count": 10,
   "metadata": {},
   "outputs": [
    {
     "name": "stdout",
     "output_type": "stream",
     "text": [
      "Tidegauge object at 0x7fbe1e59da00 initialised\n"
     ]
    }
   ],
   "source": [
    "tg = coast.Tidegauge()"
   ]
  },
  {
   "cell_type": "markdown",
   "metadata": {},
   "source": [
    "Specify the data read as a High Low Water dataset."
   ]
  },
  {
   "cell_type": "code",
   "execution_count": 11,
   "metadata": {},
   "outputs": [],
   "source": [
    "tg.read_hlw(filnam, date_start, date_end)"
   ]
  },
  {
   "cell_type": "markdown",
   "metadata": {},
   "source": [
    "Show dataset. If timezone is specified then it is presented as requested, otherwise uses UTC."
   ]
  },
  {
   "cell_type": "code",
   "execution_count": 12,
   "metadata": {},
   "outputs": [
    {
     "name": "stdout",
     "output_type": "stream",
     "text": [
      "Try the TideGauge.show() method:\n"
     ]
    }
   ],
   "source": [
    "print(\"Try the TideGauge.show() method:\")\n",
    "tg.show(timezone=\"Europe/London\")"
   ]
  },
  {
   "cell_type": "markdown",
   "metadata": {},
   "source": [
    "Do a basic plot of these points."
   ]
  },
  {
   "cell_type": "code",
   "execution_count": 13,
   "metadata": {},
   "outputs": [
    {
     "data": {
      "text/plain": [
       "<matplotlib.collections.PathCollection at 0x7fbd8d3e3d90>"
      ]
     },
     "execution_count": 13,
     "metadata": {},
     "output_type": "execute_result"
    },
    {
     "data": {
      "image/png": "[encoded data removed]",
      "text/plain": [
       "<Figure size 640x480 with 1 Axes>"
      ]
     },
     "metadata": {},
     "output_type": "display_data"
    }
   ],
   "source": [
    "tg.dataset.plot.scatter(x=\"time\", y=\"ssh\")"
   ]
  },
  {
   "cell_type": "markdown",
   "metadata": {},
   "source": [
    "There is a method to locate HLW events around an approximate date and time.\n",
    "First state the time of interest."
   ]
  },
  {
   "cell_type": "code",
   "execution_count": 14,
   "metadata": {},
   "outputs": [],
   "source": [
    "time_guess = np.datetime64(\"2020-10-13 12:48\")"
   ]
  },
  {
   "cell_type": "markdown",
   "metadata": {},
   "source": [
    "Then recover all the HLW events in a +/- window, of specified size (iteger hrs).\n",
    "The default winsize = 2 (hrs)."
   ]
  },
  {
   "cell_type": "code",
   "execution_count": 15,
   "metadata": {},
   "outputs": [],
   "source": [
    "HLW = tg.get_tide_table_times(np.datetime64(\"2020-10-13 12:48\"), method=\"window\", winsize=24)"
   ]
  },
  {
   "cell_type": "markdown",
   "metadata": {},
   "source": [
    "Alternatively recover the closest HLW event to the input timestamp."
   ]
  },
  {
   "cell_type": "code",
   "execution_count": 16,
   "metadata": {},
   "outputs": [],
   "source": [
    "HLW = tg.get_tide_table_times(np.datetime64(\"2020-10-13 12:48\"), method=\"nearest_1\")"
   ]
  },
  {
   "cell_type": "markdown",
   "metadata": {},
   "source": [
    "Or the nearest two events to the input timestamp."
   ]
  },
  {
   "cell_type": "code",
   "execution_count": 17,
   "metadata": {},
   "outputs": [],
   "source": [
    "HLW = tg.get_tide_table_times(np.datetime64(\"2020-10-13 12:48\"), method=\"nearest_2\")"
   ]
  },
  {
   "cell_type": "markdown",
   "metadata": {},
   "source": [
    "Extract the Low Tide value."
   ]
  },
  {
   "cell_type": "code",
   "execution_count": 18,
   "metadata": {},
   "outputs": [
    {
     "name": "stdout",
     "output_type": "stream",
     "text": [
      "Try the TideGauge.get_tidetabletimes() methods:\n",
      "LT: 2.83 m at 2020-10-13T14:36:00.000000000\n"
     ]
    }
   ],
   "source": [
    "print(\"Try the TideGauge.get_tidetabletimes() methods:\")\n",
    "print(\"LT:\", HLW[np.argmin(HLW.data)].values, \"m at\", HLW[np.argmin(HLW.data)].time.values)"
   ]
  },
  {
   "cell_type": "markdown",
   "metadata": {},
   "source": [
    "Extract the High Tide value."
   ]
  },
  {
   "cell_type": "code",
   "execution_count": 19,
   "metadata": {},
   "outputs": [
    {
     "name": "stdout",
     "output_type": "stream",
     "text": [
      "HT: 8.01 m at 2020-10-13T07:59:00.000000000\n"
     ]
    }
   ],
   "source": [
    "print(\"HT:\", HLW[np.argmax(HLW.data)].values, \"m at\", HLW[np.argmax(HLW.data)].time.values)"
   ]
  },
  {
   "cell_type": "markdown",
   "metadata": {},
   "source": [
    "Or use the the nearest High Tide method to get High Tide."
   ]
  },
  {
   "cell_type": "code",
   "execution_count": 20,
   "metadata": {},
   "outputs": [
    {
     "name": "stdout",
     "output_type": "stream",
     "text": [
      "HT: 8.01 m at 2020-10-13T07:59:00.000000000\n"
     ]
    }
   ],
   "source": [
    "HT = tg.get_tide_table_times(np.datetime64(\"2020-10-13 12:48\"), method=\"nearest_HW\")\n",
    "print(\"HT:\", HT.values, \"m at\", HT.time.values)"
   ]
  },
  {
   "cell_type": "markdown",
   "metadata": {},
   "source": [
    "The get_tidetabletimes() method can take extra paremeters such as a window size, an integer number of hours to seek either side of the guess."
   ]
  },
  {
   "cell_type": "code",
   "execution_count": 21,
   "metadata": {},
   "outputs": [],
   "source": [
    "HLW = tg.get_tide_table_times(np.datetime64(\"2020-10-13 12:48\"), winsize=2, method=\"nearest_1\")\n",
    "\n",
    "\n",
    "HLW = tg.get_tide_table_times(np.datetime64(\"2020-10-13 12:48\"), winsize=1, method=\"nearest_1\")"
   ]
  }
 ],
 "metadata": {
  "kernelspec": {
   "display_name": "Python 3 (ipykernel)",
   "language": "python",
   "name": "python3"
  },
  "language_info": {
   "codemirror_mode": {
    "name": "ipython",
    "version": 3
   },
   "file_extension": ".py",
   "mimetype": "text/x-python",
   "name": "python",
   "nbconvert_exporter": "python",
   "pygments_lexer": "ipython3",
   "version": "3.10.12"
  },
  "vscode": {
   "interpreter": {
    "hash": "edbd2e3cb8183e66d063e2b638973e07e1c11d7f682ee3a27358b79f7159feb3"
   }
  }
 },
 "nbformat": 4,
 "nbformat_minor": 4
}
