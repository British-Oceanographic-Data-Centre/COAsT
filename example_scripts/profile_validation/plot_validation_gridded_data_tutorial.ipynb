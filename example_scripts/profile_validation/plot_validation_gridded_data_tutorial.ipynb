{
 "cells": [
  {
   "cell_type": "markdown",
   "id": "f117f4e0-d33b-448b-bba5-c9912439c285",
   "metadata": {},
   "source": [
    "A tutorial  to plot up surface or bottom (or any fixed level) errors from a profile object\n",
    "with no z_dim (vertical dimension). Provide an array of netcdf files and \n",
    "mess with the options to get a figure you like.\n",
    "\n",
    "You can define how many rows and columns the plot will have. This script will\n",
    "plot the provided list of netcdf datasets from left to right and top to bottom.\n",
    "\n",
    "A colorbar will be placed right of the figure."
   ]
  },
  {
   "cell_type": "markdown",
   "id": "102aaa95-db59-46fa-9358-218b2ca864e1",
   "metadata": {},
   "source": [
    "### Import relevant packages"
   ]
  },
  {
   "cell_type": "code",
   "execution_count": null,
   "id": "a1619853-b0ed-47df-be59-70e318040820",
   "metadata": {},
   "outputs": [],
   "source": [
    "import xarray as xr\n",
    "import matplotlib.pyplot as plt\n",
    "import numpy as np\n",
    "import sys\n",
    "import coast\n",
    "import pandas as pd"
   ]
  },
  {
   "cell_type": "markdown",
   "id": "ecf73bb2-0c9f-4569-aeab-b2fe212780f5",
   "metadata": {},
   "source": [
    "### Set file settings and paths"
   ]
  },
  {
   "cell_type": "code",
   "execution_count": null,
   "id": "cb24ad3a-633b-4229-a07c-4dc0b411ab33",
   "metadata": {},
   "outputs": [],
   "source": [
    "# File settings\n",
    "run_name = \"test\"\n",
    "\n",
    "# List of analysis output files. Profiles from each will be plotted\n",
    "# on each axis of the plot\n",
    "fn_list = [\n",
    "    \"~/transfer/test_grid.nc\",\n",
    "    \"~/transfer/test_grid.nc\",\n",
    "]\n",
    "\n",
    "# Filename for the output\n",
    "fn_out = \"output_{0}.png\".format(run_name)"
   ]
  },
  {
   "cell_type": "markdown",
   "id": "80ed72fe-0be3-42ba-9e4c-e4e1ac53a351",
   "metadata": {},
   "source": [
    "### Set general plot settings"
   ]
  },
  {
   "cell_type": "code",
   "execution_count": null,
   "id": "0a380a62-f8bb-4be4-b74d-6dc5eef9f894",
   "metadata": {},
   "outputs": [],
   "source": [
    "var_name = \"abs_diff_temperature\"  # Variable name in analysis file to plot\n",
    "# If you used var modified to make gridded data\n",
    "# then this is where to select season etc.\n",
    "save_plot = False\n",
    "\n",
    "# Masking out grid cells that don't contain many points\n",
    "min_points_in_average = 5\n",
    "name_of_count_variable = \"grid_N\"\n",
    "\n",
    "# Subplot axes settings\n",
    "n_r = 2  # Number of subplot rows\n",
    "n_c = 2  # Number of subplot columns\n",
    "figsize = (10, 5)  # Figure size\n",
    "lonbounds = [-15, 9.5]  # Longitude bounds\n",
    "latbounds = [45, 64]  # Latitude bounds\n",
    "subplot_padding = 0.5  # Amount of vertical and horizontal padding between plots\n",
    "fig_pad = (0.075, 0.075, 0.1, 0.1)  # Figure padding (left, top, right, bottom)\n",
    "# Leave some space on right for colorbar\n",
    "# Scatter opts\n",
    "marker_size = 3  # Marker size\n",
    "cmap = \"bwr\"  # Colormap for normal points\n",
    "clim = (-1, 1)  # Color limits for normal points\n",
    "discrete_cmap = True  # Discretize colormap\n",
    "cmap_levels = 14\n",
    "\n",
    "# Labels and Titles\n",
    "fig_title = \"SST Errors\"  # Whole figure title\n",
    "title_fontsize = 13  # Fontsize of title\n",
    "title_fontweight = \"bold\"  # Fontweight to use for title\n",
    "dataset_names = [\"CO9p0\", \"CO9p0\", \"CO9p0\"]  # Names to use for labelling plots\n",
    "subtitle_fontsize = 11  # Fontsize for dataset subtitles\n",
    "subtitle_fontweight = \"normal\"  # Fontweight for dataset subtitles\n",
    "\n",
    "# PLOT SEASONS. Make sure n_r = 2 and n_c = 2\n",
    "# If this option is true, only the first dataset will be plotted, with seasonal\n",
    "# variables on each subplot. The season_suffixes will be added to var_name\n",
    "# for each subplot panel.\n",
    "plot_seasons = True\n",
    "season_suffixes = [\"DJF\", \"MAM\", \"JJA\", \"SON\"]"
   ]
  },
  {
   "cell_type": "markdown",
   "id": "749fe8bf-b5b9-4ebf-a5f7-b492f1b9660e",
   "metadata": {},
   "source": [
    "### Read and plot data"
   ]
  },
  {
   "cell_type": "code",
   "execution_count": null,
   "id": "38c58efc-ed25-4168-8d33-01b6bb8d0442",
   "metadata": {},
   "outputs": [],
   "source": [
    "# Read all datasets into list\n",
    "ds_list = [xr.open_dataset(dd) for dd in fn_list]\n",
    "n_ds = len(ds_list)\n",
    "n_ax = n_r * n_c\n",
    "\n",
    "# Create plot and flatten axis array\n",
    "f, a = coast.plot_util.create_geo_subplots(lonbounds, latbounds, n_r, n_c, figsize=figsize)\n",
    "a_flat = a.flatten()\n",
    "\n",
    "# Dicretize colormap maybe\n",
    "if discrete_cmap:\n",
    "    cmap = plt.cm.get_cmap(cmap, cmap_levels)\n",
    "\n",
    "# Determine if we will extend the colormap or not\n",
    "extend_cbar = []\n",
    "\n",
    "# Loop over dataset\n",
    "for ii in range(n_ax):\n",
    "    ur_index = np.unravel_index(ii, (n_r, n_c))\n",
    "\n",
    "    # Select season if required\n",
    "    if plot_seasons:\n",
    "        ds = ds_list[0]\n",
    "        var_ii = var_name + \"_{0}\".format(season_suffixes[ii])\n",
    "        N_var = \"{0}_{1}\".format(name_of_count_variable, season_suffixes[ii])\n",
    "        a_flat[ii].text(0.05, 1.02, season_suffixes[ii], transform=a_flat[ii].transAxes, fontweight=\"bold\")\n",
    "    else:\n",
    "        ds = ds_list[ii]\n",
    "        var_ii = var_name\n",
    "        a_flat[ii].set_title(dataset_names[ii], fontsize=subtitle_fontsize, fontweight=subtitle_fontweight)\n",
    "        N_var = name_of_count_variable\n",
    "\n",
    "    data = ds[var_ii].values\n",
    "    count_var = ds[N_var]\n",
    "    data[count_var < min_points_in_average] = np.nan\n",
    "\n",
    "    # Scatter and set title\n",
    "    pc = a_flat[ii].pcolormesh(\n",
    "        ds.longitude,\n",
    "        ds.latitude,\n",
    "        data,\n",
    "        cmap=cmap,\n",
    "        vmin=clim[0],\n",
    "        vmax=clim[1],\n",
    "    )\n",
    "\n",
    "    # Will we extend the colorbar for this dataset?\n",
    "    extend_cbar.append(coast.plot_util.determine_colorbar_extension(data, clim[0], clim[1]))\n",
    "\n",
    "# Set Figure title\n",
    "f.suptitle(fig_title, fontsize=title_fontsize, fontweight=title_fontweight)\n",
    "\n",
    "# Set tight figure layout\n",
    "f.tight_layout(w_pad=subplot_padding, h_pad=subplot_padding)\n",
    "f.subplots_adjust(left=(fig_pad[0]), bottom=(fig_pad[1]), right=(1 - fig_pad[2]), top=(1 - fig_pad[3]))\n",
    "\n",
    "# Handle colorbar -- will we extend it?\n",
    "if \"both\" in extend_cbar:\n",
    "    extend = \"both\"\n",
    "elif \"max\" in extend_cbar and \"min\" in extend_cbar:\n",
    "    extend = \"both\"\n",
    "elif \"max\" in extend_cbar:\n",
    "    extend = \"max\"\n",
    "elif \"min\" in extend_cbar:\n",
    "    extend = \"min\"\n",
    "else:\n",
    "    extend = \"neither\"\n",
    "cbar_ax = f.add_axes([(1 - fig_pad[2] + fig_pad[2] * 0.15), 0.15, 0.025, 0.7])\n",
    "f.colorbar(pc, cax=cbar_ax, extend=extend)"
   ]
  }
 ],
 "metadata": {
  "kernelspec": {
   "display_name": "Python 3 (ipykernel)",
   "language": "python",
   "name": "python3"
  },
  "language_info": {
   "codemirror_mode": {
    "name": "ipython",
    "version": 3
   },
   "file_extension": ".py",
   "mimetype": "text/x-python",
   "name": "python",
   "nbconvert_exporter": "python",
   "pygments_lexer": "ipython3",
   "version": "3.8.13"
  }
 },
 "nbformat": 4,
 "nbformat_minor": 5
}