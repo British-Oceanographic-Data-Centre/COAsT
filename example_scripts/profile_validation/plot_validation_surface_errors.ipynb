{
 "cells": [
  {
   "cell_type": "markdown",
   "id": "ce9f379a-ee7c-451e-ae95-1ca2f041e425",
   "metadata": {},
   "source": [
    "Plot up surface or bottom (or any fixed level) errors from a profile object with no z_dim (vertical dimension). Provide an array of netcdf files and mess with the options to get a figure you like.\n",
    "\n",
    "You can define how many rows and columns the plot will have. This script will plot the provided list of netcdf datasets from left to right and top to bottom.\n",
    "\n",
    "A colorbar will be placed right of the figure."
   ]
  },
  {
   "cell_type": "code",
   "execution_count": null,
   "id": "c0292f0e-e045-4299-aa20-5401bd283710",
   "metadata": {},
   "outputs": [],
   "source": [
    "import xarray as xr\n",
    "import matplotlib.pyplot as plt\n",
    "import numpy as np\n",
    "import sys\n",
    "\n",
    "sys.path.append(\"/Users/dbyrne/code/COAsT\")\n",
    "import coast\n",
    "import pandas as pd\n",
    "\n",
    "#%% File settings\n",
    "run_name = \"test\""
   ]
  },
  {
   "cell_type": "markdown",
   "id": "d5caedee-f137-45cc-bee8-00e025a688bc",
   "metadata": {},
   "source": [
    "List of analysis output files. Profiles from each will be plotted on each axis of the plot."
   ]
  },
  {
   "cell_type": "code",
   "execution_count": null,
   "id": "c6d8710a-ffb2-4c4b-9ad9-949bb1c5503a",
   "metadata": {},
   "outputs": [],
   "source": [
    "fn_list = [\n",
    "    \"/Users/dbyrne/transfer/surface_data_test.nc\",\n",
    "    \"/Users/dbyrne/transfer/surface_data_test.nc\",\n",
    "]"
   ]
  },
  {
   "cell_type": "markdown",
   "id": "cfb0667b-e1ce-4c05-9798-15806bd77226",
   "metadata": {},
   "source": [
    "Filename for the output."
   ]
  },
  {
   "cell_type": "code",
   "execution_count": null,
   "id": "14c34de8-5219-4a7b-bb03-750f091beeb6",
   "metadata": {},
   "outputs": [],
   "source": [
    "fn_out = \"/Users/dbyrne/transfer/surface_errors_{0}.png\".format(run_name)"
   ]
  },
  {
   "cell_type": "markdown",
   "id": "32968f10-d249-4e0f-ab02-ac047a164cf0",
   "metadata": {},
   "source": [
    "General Plot Settings."
   ]
  },
  {
   "cell_type": "code",
   "execution_count": null,
   "id": "3d893ae3-09fb-4b30-afd5-49f1721884e0",
   "metadata": {},
   "outputs": [],
   "source": [
    "var_name = \"diff_temperature\"  # Variable name in analysis file to plot\n",
    "save_plot = False"
   ]
  },
  {
   "cell_type": "markdown",
   "id": "bb0ebaa5-ae54-4c2a-b91c-da9ea18eba0e",
   "metadata": {},
   "source": [
    "Subplot axes settings."
   ]
  },
  {
   "cell_type": "code",
   "execution_count": null,
   "id": "1c3af72b-fd5f-4540-b7e7-64196c37289c",
   "metadata": {},
   "outputs": [],
   "source": [
    "n_r = 1  # Number of subplot rows\n",
    "n_c = 2  # Number of subplot columns\n",
    "figsize = (10, 5)  # Figure size\n",
    "lonbounds = [-18, 9.5]  # Longitude bounds\n",
    "latbounds = [45, 64]  # Latitude bounds\n",
    "subplot_padding = 0.5  # Amount of vertical and horizontal padding between plots\n",
    "fig_pad = (0.075, 0.075, 0.1, 0.1)  # Figure padding (left, top, right, bottom)"
   ]
  },
  {
   "cell_type": "markdown",
   "id": "a9983f35-cf1b-47c1-846c-0e0f7c9f0eda",
   "metadata": {},
   "source": [
    "Leave some space on right for colorbar\n",
    "Scatter opts"
   ]
  },
  {
   "cell_type": "code",
   "execution_count": null,
   "id": "babb63fb-b985-46f9-a051-9ad73d213b16",
   "metadata": {},
   "outputs": [],
   "source": [
    "marker_size = 3  # Marker size\n",
    "cmap = \"bwr\"  # Colormap for normal points\n",
    "clim = (-0.35, 0.35)  # Color limits for normal points\n",
    "discrete_cmap = True  # Discretize colormap\n",
    "cmap_levels = 13"
   ]
  },
  {
   "cell_type": "markdown",
   "id": "c538ae47-6cd1-48ea-bffe-4c88b639648b",
   "metadata": {},
   "source": [
    "Labels and Titles."
   ]
  },
  {
   "cell_type": "code",
   "execution_count": null,
   "id": "3fadfc09-4994-424e-b27d-4afe146dec85",
   "metadata": {},
   "outputs": [],
   "source": [
    "fig_title = \"SST Errors\"  # Whole figure title\n",
    "title_fontsize = 13  # Fontsize of title\n",
    "title_fontweight = \"bold\"  # Fontweight to use for title\n",
    "dataset_names = [\"CO9p0\", \"CO9p0\", \"CO9p0\"]  # Names to use for labelling plots\n",
    "subtitle_fontsize = 11  # Fontsize for dataset subtitles\n",
    "subtitle_fontweight = \"normal\"  # Fontweight for dataset subtitles"
   ]
  },
  {
   "cell_type": "markdown",
   "id": "0e91c29d-ccd4-422a-aa56-68cd378ddee0",
   "metadata": {},
   "source": [
    "Season opts."
   ]
  },
  {
   "cell_type": "code",
   "execution_count": null,
   "id": "96eb62a1-67ea-4a8f-b7d3-3bd9dbc91705",
   "metadata": {},
   "outputs": [],
   "source": [
    "select_season = True  # Only plot data from specified season\n",
    "season_str = \"DJF\"  # DJF, MAM, JJA or SON"
   ]
  },
  {
   "cell_type": "markdown",
   "id": "c1668a1c-2f56-48c8-81df-06c1d01ba833",
   "metadata": {},
   "source": [
    "Read and plotdata.\n",
    "\n",
    "Read all datasets into list."
   ]
  },
  {
   "cell_type": "code",
   "execution_count": null,
   "id": "cb862277-6e27-49c9-8da6-c02cd7239faa",
   "metadata": {},
   "outputs": [],
   "source": [
    "ds_list = [xr.open_dataset(dd)[var_name] for dd in fn_list]\n",
    "n_ds = len(ds_list)\n",
    "n_ax = n_r * n_c"
   ]
  },
  {
   "cell_type": "markdown",
   "id": "71b7704c-a2f1-4406-bcc7-36517465ab57",
   "metadata": {},
   "source": [
    "Create plot and flatten axis array."
   ]
  },
  {
   "cell_type": "code",
   "execution_count": null,
   "id": "9674d94b-2c21-4125-acf6-7a979f311a82",
   "metadata": {},
   "outputs": [],
   "source": [
    "f, a = coast.plot_util.create_geo_subplots(lonbounds, latbounds, n_r, n_c, figsize=figsize)\n",
    "a_flat = a.flatten()"
   ]
  },
  {
   "cell_type": "markdown",
   "id": "c1957d04-9fd7-4b79-8501-ea3c2293e51f",
   "metadata": {},
   "source": [
    "Dicretize colormap maybe."
   ]
  },
  {
   "cell_type": "code",
   "execution_count": null,
   "id": "e7e154eb-cdd3-4735-bd62-b7076bf21e6b",
   "metadata": {},
   "outputs": [],
   "source": [
    "if discrete_cmap:\n",
    "    cmap = plt.cm.get_cmap(cmap, cmap_levels)"
   ]
  },
  {
   "cell_type": "markdown",
   "id": "d29b37a3-3123-442e-9cf1-ee79e9d71409",
   "metadata": {},
   "source": [
    "Determine if we will extend the colormap or not."
   ]
  },
  {
   "cell_type": "code",
   "execution_count": null,
   "id": "6c494579-95db-4aad-beac-2ea5f22bffdc",
   "metadata": {},
   "outputs": [],
   "source": [
    "extend_cbar = []"
   ]
  },
  {
   "cell_type": "markdown",
   "id": "83b3716c-6f5e-4252-aadc-252764017d6b",
   "metadata": {},
   "source": [
    "Loop over dataset."
   ]
  },
  {
   "cell_type": "code",
   "execution_count": null,
   "id": "e100af01-6eeb-4c48-8c9e-dbe8ff01936b",
   "metadata": {},
   "outputs": [],
   "source": [
    "for ii in range(n_ax):\n",
    "    ur_index = np.unravel_index(ii, (n_r, n_c))\n",
    "\n",
    "    # If we are not differencing datasets\n",
    "    ds = ds_list[ii]\n",
    "\n",
    "    # Select season if required\n",
    "    if select_season:\n",
    "        seasons = coast.general_utils.determine_season(ds.time)\n",
    "        s_ind = seasons == season_str\n",
    "        ds = ds.isel(profile=s_ind)\n",
    "\n",
    "    # Scatter and set title\n",
    "    sc = a_flat[ii].scatter(\n",
    "        ds.longitude, ds.latitude, c=ds, s=marker_size, cmap=cmap, vmin=clim[0], vmax=clim[1], linewidths=0\n",
    "    )\n",
    "    a_flat[ii].set_title(dataset_names[ii], fontsize=subtitle_fontsize, fontweight=subtitle_fontweight)\n",
    "\n",
    "    # Will we extend the colorbar for this dataset?\n",
    "    extend_cbar.append(coast.plot_util.determine_colorbar_extension(ds, clim[0], clim[1]))"
   ]
  },
  {
   "cell_type": "markdown",
   "id": "d19f57a2-7a54-4fb2-970d-90d7e27a62bb",
   "metadata": {},
   "source": [
    "Set Figure title."
   ]
  },
  {
   "cell_type": "code",
   "execution_count": null,
   "id": "11033468-e3a8-4211-9e30-9748518d5560",
   "metadata": {},
   "outputs": [],
   "source": [
    "f.suptitle(fig_title, fontsize=title_fontsize, fontweight=title_fontweight)"
   ]
  },
  {
   "cell_type": "markdown",
   "id": "caca4872-ae65-449e-9aa0-c8f62d85d6ef",
   "metadata": {},
   "source": [
    "Set tight figure layout."
   ]
  },
  {
   "cell_type": "code",
   "execution_count": null,
   "id": "432f2cca-2d8c-4c0c-8f6b-8d543793d77e",
   "metadata": {},
   "outputs": [],
   "source": [
    "f.tight_layout(w_pad=subplot_padding, h_pad=subplot_padding)\n",
    "f.subplots_adjust(left=(fig_pad[0]), bottom=(fig_pad[1]), right=(1 - fig_pad[2]), top=(1 - fig_pad[3]))"
   ]
  },
  {
   "cell_type": "markdown",
   "id": "b461b984-c3c1-4293-9a82-f30ba4b30c0c",
   "metadata": {},
   "source": [
    "Handle colorbar -- will we extend it?"
   ]
  },
  {
   "cell_type": "code",
   "execution_count": null,
   "id": "2a9bb3c6-8c74-42be-a6b4-0a9ac5eb9228",
   "metadata": {},
   "outputs": [],
   "source": [
    "if \"both\" in extend_cbar:\n",
    "    extend = \"both\"\n",
    "elif \"max\" in extend_cbar and \"min\" in extend_cbar:\n",
    "    extend = \"both\"\n",
    "elif \"max\" in extend_cbar:\n",
    "    extend = \"max\"\n",
    "elif \"min\" in extend_cbar:\n",
    "    extend = \"min\"\n",
    "else:\n",
    "    extend = \"neither\"\n",
    "cbar_ax = f.add_axes([(1 - fig_pad[2] + fig_pad[2] * 0.15), 0.15, 0.025, 0.7])\n",
    "f.colorbar(sc, cax=cbar_ax, extend=extend)"
   ]
  },
  {
   "cell_type": "markdown",
   "id": "2ef91150-bf3d-4e4a-a70c-2ee03c0ebd73",
   "metadata": {},
   "source": [
    "Save plot maybe."
   ]
  },
  {
   "cell_type": "code",
   "execution_count": null,
   "id": "78b1a30b-02df-483d-9c21-1fb768ec9299",
   "metadata": {},
   "outputs": [],
   "source": [
    "if save_plot:\n",
    "    f.savefig(fn_out)"
   ]
  }
 ],
 "metadata": {
  "kernelspec": {
   "display_name": "Python 3 (ipykernel)",
   "language": "python",
   "name": "python3"
  },
  "language_info": {
   "codemirror_mode": {
    "name": "ipython",
    "version": 3
   },
   "file_extension": ".py",
   "mimetype": "text/x-python",
   "name": "python",
   "nbconvert_exporter": "python",
   "pygments_lexer": "ipython3",
   "version": "3.8.13"
  }
 },
 "nbformat": 4,
 "nbformat_minor": 5
}
