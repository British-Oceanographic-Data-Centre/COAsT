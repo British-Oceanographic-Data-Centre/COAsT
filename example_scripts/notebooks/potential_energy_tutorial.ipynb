{
 "cells": [
  {
   "cell_type": "markdown",
   "id": "5eca7994-6fa1-44e1-b95c-fc8a0fecf7bd",
   "metadata": {},
   "source": [
    "A demonstration to calculate the Potential Energy Anomaly.\n"
   ]
  },
  {
   "cell_type": "markdown",
   "id": "14277e0d-4dbc-4e0f-b3a2-6853dca66d46",
   "metadata": {},
   "source": [
    "### Relevant imports and filepath configuration"
   ]
  },
  {
   "cell_type": "code",
   "execution_count": null,
   "id": "c4773751-3544-4ebd-a795-cfe128b70743",
   "metadata": {},
   "outputs": [],
   "source": [
    "import coast\n",
    "import numpy as np\n",
    "import os\n",
    "import matplotlib.pyplot as plt\n",
    "import matplotlib.colors as colors  # colormap fiddling"
   ]
  },
  {
   "cell_type": "code",
   "execution_count": null,
   "id": "780605fd-ae53-4ec5-b7fd-80b2a2ee07ea",
   "metadata": {},
   "outputs": [],
   "source": [
    "# set some paths\n",
    "root = \"./\"\n",
    "dn_files = root + \"./example_files/\"\n",
    "fn_nemo_grid_t_dat = dn_files + \"nemo_data_T_grid_Aug2015.nc\"\n",
    "fn_nemo_dom = dn_files + \"coast_example_nemo_domain.nc\"\n",
    "config_t = root + \"./config/example_nemo_grid_t.json\"\n",
    "config_w = root + \"./config/example_nemo_grid_w.json\""
   ]
  },
  {
   "cell_type": "markdown",
   "id": "5d3f6987-f05d-4a54-a932-e4bbf84becb1",
   "metadata": {},
   "source": [
    "### Loading data"
   ]
  },
  {
   "cell_type": "code",
   "execution_count": null,
   "id": "7677050c-775d-4172-9561-61c3c89aa77b",
   "metadata": {},
   "outputs": [],
   "source": [
    "# Create a Gridded object and load in the data:\n",
    "nemo_t = coast.Gridded(fn_nemo_grid_t_dat, fn_nemo_dom, config=config_t)"
   ]
  },
  {
   "cell_type": "markdown",
   "id": "d3e75a6d",
   "metadata": {},
   "source": [
    "### Calculates Potential Energy Anomaly\n",
    "\n",
    "The density and depth averaged density can be supplied within gridded_t as `density` and\n",
    "`density_bar` DataArrays, respectively. If they are not supplied they will be calculated.\n",
    "`density_bar` is calcuated using depth averages of temperature and salinity.\n",
    "\n"
   ]
  },
  {
   "cell_type": "code",
   "execution_count": null,
   "id": "269a51fc",
   "metadata": {},
   "outputs": [],
   "source": [
    "# Compute a vertical max to exclude depths below 200m\n",
    "Zd_mask, kmax, Ikmax = nemo_t.calculate_vertical_mask(200.)\n",
    "\n",
    "# Initiate a stratification diagnostics object\n",
    "strat = coast.GriddedStratification(nemo_t)"
   ]
  },
  {
   "cell_type": "code",
   "execution_count": null,
   "id": "8f55363d",
   "metadata": {},
   "outputs": [],
   "source": [
    "# calculate PEA for unmasked depths\n",
    "strat.calc_pea(nemo_t, Zd_mask)"
   ]
  },
  {
   "cell_type": "markdown",
   "id": "8f897042-3697-4ddd-a812-04572500f0ec",
   "metadata": {},
   "source": [
    "### Plotting data\n",
    "\n",
    "Finally we plot potential energy anomaly using an GriddedStratification method:"
   ]
  },
  {
   "cell_type": "code",
   "execution_count": null,
   "id": "6d0f5239-6f1d-4f7d-aa22-e51a9736fff6",
   "metadata": {},
   "outputs": [],
   "source": [
    "strat.quick_plot('PEA')"
   ]
  },
  {
   "cell_type": "code",
   "execution_count": null,
   "id": "15e1d364-3323-4229-8d05-dc1f71d109bb",
   "metadata": {},
   "outputs": [],
   "source": [
    "strat.quick_plot()\n"
   ]
  }
 ],
 "metadata": {
  "kernelspec": {
   "display_name": "Python 3 (ipykernel)",
   "language": "python",
   "name": "python3"
  },
  "language_info": {
   "codemirror_mode": {
    "name": "ipython",
    "version": 3
   },
   "file_extension": ".py",
   "mimetype": "text/x-python",
   "name": "python",
   "nbconvert_exporter": "python",
   "pygments_lexer": "ipython3",
   "version": "3.8.13"
  }
 },
 "nbformat": 4,
 "nbformat_minor": 5
}
