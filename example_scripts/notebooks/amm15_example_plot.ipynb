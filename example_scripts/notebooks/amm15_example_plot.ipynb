{
 "cells": [
  {
   "cell_type": "markdown",
   "id": "aa1e3d77-fb21-444a-a36f-58dee7f198fc",
   "metadata": {},
   "source": [
    "Make simple AMM15 SST plot."
   ]
  },
  {
   "cell_type": "markdown",
   "id": "705f7969-91f8-48e2-a941-d71a47374fa5",
   "metadata": {},
   "source": [
    "### Import dependencies"
   ]
  },
  {
   "cell_type": "code",
   "execution_count": null,
   "id": "5fe3f2c0-f76d-4003-88bd-e5e6acaadbdc",
   "metadata": {},
   "outputs": [],
   "source": [
    "import coast\n",
    "import matplotlib.pyplot as plt"
   ]
  },
  {
   "cell_type": "markdown",
   "id": "3d1173e7-d246-4d66-bbec-d0e91af73b2a",
   "metadata": {},
   "source": [
    "### Load data"
   ]
  },
  {
   "cell_type": "code",
   "execution_count": null,
   "id": "eb57a73f-6135-4028-b1e6-fa5043683d11",
   "metadata": {},
   "outputs": [],
   "source": [
    "config = \"AMM15\"\n",
    "dir_nam = \"/projectsa/NEMO/gmaya/2013p2/\"\n",
    "fil_nam = \"20130415_25hourm_grid_T.nc\"\n",
    "dom_nam = \"/projectsa/NEMO/gmaya/AMM15_GRID/amm15.mesh_mask.cs3x.nc\"\n",
    "config = \"/work/jelt/GitHub/COAsT/config/example_nemo_grid_t.json\"\n",
    "\n",
    "sci_t = coast.Gridded(dir_nam + fil_nam, dom_nam, config=config)  # , chunks=chunks)\n",
    "chunks = {\n",
    "    \"x_dim\": 10,\n",
    "    \"y_dim\": 10,\n",
    "    \"t_dim\": 10,\n",
    "}  # Chunks are prescribed in the config json file, but can be adjusted while the data is lazy loaded.\n",
    "\n",
    "sci_t.dataset.chunk(chunks)\n",
    "\n",
    "# create an empty w-grid object, to store stratification\n",
    "sci_w = coast.Gridded(fn_domain=dom_nam, config=config.replace(\"t_nemo\", \"w_nemo\"))\n",
    "sci_w.dataset.chunk({\"x_dim\": 10, \"y_dim\": 10})  # Can reset after loading config json\n",
    "\n",
    "print(\"* Loaded \", config, \" data\")"
   ]
  },
  {
   "cell_type": "markdown",
   "id": "b8a8bbf3-b93c-42dc-8a60-47a4404ec809",
   "metadata": {},
   "source": [
    "### Subset data and domain"
   ]
  },
  {
   "cell_type": "code",
   "execution_count": null,
   "id": "46e333d1-e8f8-4690-9e23-9c92486fb14a",
   "metadata": {},
   "outputs": [],
   "source": [
    "# Pick out a North Sea subdomain\n",
    "print(\"* Extract North Sea subdomain\")\n",
    "ind_sci = sci_t.subset_indices(start=[51, -4], end=[62, 15])\n",
    "sci_nwes_t = sci_t.isel(y_dim=ind_sci[0], x_dim=ind_sci[1])  # nwes = northwest europe shelf\n",
    "ind_sci = sci_w.subset_indices(start=[51, -4], end=[62, 15])\n",
    "sci_nwes_w = sci_w.isel(y_dim=ind_sci[0], x_dim=ind_sci[1])  # nwes = northwest europe shelf"
   ]
  },
  {
   "cell_type": "markdown",
   "id": "094300e2-b8a2-420b-a3a2-1f09ed4398cd",
   "metadata": {},
   "source": [
    "### Mask data"
   ]
  },
  {
   "cell_type": "code",
   "execution_count": null,
   "id": "9b524780-e024-4dd4-9136-7f603e61f616",
   "metadata": {},
   "outputs": [],
   "source": [
    "#%% Apply masks to temperature and salinity\n",
    "if config == \"AMM15\":\n",
    "    sci_nwes_t.dataset[\"temperature_m\"] = sci_nwes_t.dataset.temperature.where(\n",
    "        sci_nwes_t.dataset.mask.expand_dims(dim=sci_nwes_t.dataset[\"t_dim\"].sizes) > 0\n",
    "    )\n",
    "    sci_nwes_t.dataset[\"salinity_m\"] = sci_nwes_t.dataset.salinity.where(\n",
    "        sci_nwes_t.dataset.mask.expand_dims(dim=sci_nwes_t.dataset[\"t_dim\"].sizes) > 0\n",
    "    )\n",
    "else:\n",
    "    # Apply fake masks to temperature and salinity\n",
    "    sci_nwes_t.dataset[\"temperature_m\"] = sci_nwes_t.dataset.temperature\n",
    "    sci_nwes_t.dataset[\"salinity_m\"] = sci_nwes_t.dataset.salinity"
   ]
  },
  {
   "cell_type": "markdown",
   "id": "c2151276-956a-4b2b-8b2d-c73f27835293",
   "metadata": {},
   "source": [
    "### Plot data"
   ]
  },
  {
   "cell_type": "code",
   "execution_count": null,
   "id": "225ebfc8-4021-4f47-b683-5741ec1042b1",
   "metadata": {},
   "outputs": [],
   "source": [
    "#%% Plots\n",
    "fig = plt.figure()\n",
    "\n",
    "plt.pcolormesh(sci_t.dataset.longitude, sci_t.dataset.latitude, sci_t.dataset.temperature.isel(z_dim=0).squeeze())\n",
    "plt.xlabel('longitude')\n",
    "plt.ylabel('latitude')\n",
    "plt.colorbar()\n",
    "plt.axis(\"off\")\n",
    "plt.show()"
   ]
  },
  {
   "cell_type": "markdown",
   "id": "79d3b6b6-6a20-4e58-8f5b-b2fdaf53e82c",
   "metadata": {},
   "source": [
    "### Save plot"
   ]
  },
  {
   "cell_type": "code",
   "execution_count": null,
   "id": "48d99d19-36cf-4eab-a125-2034c4768bcb",
   "metadata": {},
   "outputs": [],
   "source": [
    "fig.savefig(\"AMM15_SST_nocolorbar.png\", dpi=120)"
   ]
  }
 ],
 "metadata": {
  "kernelspec": {
   "display_name": "Python 3 (ipykernel)",
   "language": "python",
   "name": "python3"
  },
  "language_info": {
   "codemirror_mode": {
    "name": "ipython",
    "version": 3
   },
   "file_extension": ".py",
   "mimetype": "text/x-python",
   "name": "python",
   "nbconvert_exporter": "python",
   "pygments_lexer": "ipython3",
   "version": "3.8.13"
  },
  "vscode": {
   "interpreter": {
    "hash": "edbd2e3cb8183e66d063e2b638973e07e1c11d7f682ee3a27358b79f7159feb3"
   }
  }
 },
 "nbformat": 4,
 "nbformat_minor": 5
}
