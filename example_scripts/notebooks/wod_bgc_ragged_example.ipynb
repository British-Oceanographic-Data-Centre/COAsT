{
 "cells": [
  {
   "cell_type": "markdown",
   "id": "961e2a97-b533-4389-a101-7cc1f5713973",
   "metadata": {},
   "source": [
    "LOAD MODULES."
   ]
  },
  {
   "cell_type": "code",
   "execution_count": null,
   "id": "e1fef943-5f21-4c9a-91f6-cc419460bc66",
   "metadata": {},
   "outputs": [],
   "source": [
    "import coast\n",
    "import glob  # For getting file paths\n",
    "import gsw\n",
    "import matplotlib.pyplot as plt\n",
    "import datetime\n",
    "import numpy as np\n",
    "import xarray as xr\n",
    "import coast._utils.general_utils as general_utils\n",
    "import scipy as sp\n",
    "\n",
    "# ====================== UNIV PARAMS ===========================\n",
    "path_examples = \"./example_files/\"\n",
    "path_config = \"./config/\""
   ]
  },
  {
   "cell_type": "markdown",
   "id": "a58e03d6-0944-4c43-90bb-6dca39e024c2",
   "metadata": {},
   "source": [
    "load data."
   ]
  },
  {
   "cell_type": "code",
   "execution_count": null,
   "id": "5880b09c-d811-4c23-a574-b3e31f4f86f7",
   "metadata": {},
   "outputs": [],
   "source": [
    "fn_wod_var = path_examples + \"WOD_example_ragged_standard_level.nc\"\n",
    "fn_wod_config = path_config + \"example_wod_profiles.json\"\n",
    "\n",
    "wod_profile_1d = coast.Profile(config=fn_wod_config)\n",
    "wod_profile_1d.read_wod(fn_wod_var)"
   ]
  },
  {
   "cell_type": "markdown",
   "id": "8690b96e-fe91-41ec-9c41-76af908f58a9",
   "metadata": {},
   "source": [
    "Reshape TO 2D.\n",
    "Choose which observed variables you want."
   ]
  },
  {
   "cell_type": "code",
   "execution_count": null,
   "id": "e672c870-2ffd-4115-839d-9921c59de9cf",
   "metadata": {},
   "outputs": [],
   "source": [
    "var_user_want = [\"salinity\", \"temperature\", \"nitrate\", \"oxygen\", \"dic\", \"phosphate\", \"alkalinity\"]\n",
    "wod_profile = coast.Profile.reshape_2d(wod_profile_1d, var_user_want)"
   ]
  },
  {
   "cell_type": "markdown",
   "id": "29c5ab15-78b4-45ab-97cb-b41d099e5778",
   "metadata": {},
   "source": [
    "Keep subset."
   ]
  },
  {
   "cell_type": "code",
   "execution_count": null,
   "id": "a2c4c445-c3a8-47d7-ba4c-60a87edad80e",
   "metadata": {},
   "outputs": [],
   "source": [
    "ind = wod_profile.subset_indices_lonlat_box([90, 120], [-5, 5])[0]\n",
    "wod_profile = wod_profile.isel(profile=ind)"
   ]
  },
  {
   "cell_type": "markdown",
   "id": "950bc4a8-cba0-4ba9-bd4c-b1fbe016d376",
   "metadata": {},
   "source": [
    "SEAsia read BGC.\n",
    "Note in this simple test nemo data are only for 3 months from 1990 so the comparisons are not going to be correct but just as a demo."
   ]
  },
  {
   "cell_type": "code",
   "execution_count": null,
   "id": "21b03bcd-c4c6-43d8-9a12-dd115a4b76ab",
   "metadata": {},
   "outputs": [],
   "source": [
    "fn_seasia_domain = path_examples + \"coast_example_domain_SEAsia.nc\"\n",
    "fn_seasia_config_bgc = path_config + \"example_nemo_bgc.json\"\n",
    "fn_seasia_var = path_examples + \"coast_example_SEAsia_BGC_1990.nc\"\n",
    "\n",
    "seasia_bgc = coast.Gridded(\n",
    "    fn_data=fn_seasia_var, fn_domain=fn_seasia_domain, config=fn_seasia_config_bgc, multiple=True\n",
    ")"
   ]
  },
  {
   "cell_type": "markdown",
   "id": "d86b34e8-6514-4ad2-87fd-7cf43814a536",
   "metadata": {},
   "source": [
    "Domain file does not have mask so this is just a trick."
   ]
  },
  {
   "cell_type": "code",
   "execution_count": null,
   "id": "b062bbca-2690-4887-828c-ff062d69a91b",
   "metadata": {},
   "outputs": [],
   "source": [
    "seasia_bgc.dataset[\"landmask\"] = seasia_bgc.dataset.bottom_level == 0\n",
    "seasia_bgc.dataset = seasia_bgc.dataset.rename({\"depth_0\": \"depth\"})\n",
    "model_profiles = wod_profile.obs_operator(seasia_bgc)"
   ]
  },
  {
   "cell_type": "markdown",
   "id": "c0d1e539-168a-4d12-9eda-13f56273ceaf",
   "metadata": {},
   "source": [
    "Remove any points that are farmodel."
   ]
  },
  {
   "cell_type": "code",
   "execution_count": null,
   "id": "868819ff-d5c4-4e62-94fa-e2024245d3ff",
   "metadata": {},
   "outputs": [],
   "source": [
    "too_far = 5\n",
    "keep_indices = model_profiles.dataset.interp_dist <= too_far\n",
    "model_profiles = model_profiles.isel(profile=keep_indices)\n",
    "wod_profile = wod_profile.isel(profile=keep_indices)"
   ]
  },
  {
   "cell_type": "markdown",
   "id": "c6d078db-1383-49f8-90ec-c0baa75648a8",
   "metadata": {},
   "source": [
    "Transform observed DIC from mmol/l to mmol C/ m^3 that the model has."
   ]
  },
  {
   "cell_type": "code",
   "execution_count": null,
   "id": "5b597bf1-af21-4412-9a7a-412195a0d077",
   "metadata": {},
   "outputs": [],
   "source": [
    "fig = plt.figure()\n",
    "plt.plot(1000 * wod_profile.dataset.dic[8, :], wod_profile.dataset.depth[8, :], linestyle=\"\", marker=\"o\")\n",
    "plt.plot(model_profiles.dataset.dic[8, :], model_profiles.dataset.depth[:, 8], linestyle=\"\", marker=\"o\")\n",
    "plt.ylim([2500, 0])\n",
    "plt.title(\"DIC vs depth\")\n",
    "plt.show()\n",
    "\n",
    "fig = plt.figure()\n",
    "plt.plot(wod_profile.dataset.oxygen[8, :], wod_profile.dataset.depth[8, :], linestyle=\"\", marker=\"o\")\n",
    "plt.plot(model_profiles.dataset.oxygen[8, :], model_profiles.dataset.depth[:, 8], linestyle=\"\", marker=\"o\")\n",
    "plt.ylim([2500, 0])\n",
    "plt.title(\"Oxygen vs depth\")\n",
    "plt.show()\n",
    "\n",
    "fig = plt.figure()\n",
    "plt.plot(wod_profile.dataset.phosphate[8, :], wod_profile.dataset.depth[8, :], linestyle=\"\", marker=\"o\")\n",
    "plt.plot(model_profiles.dataset.phosphate[8, :], model_profiles.dataset.depth[:, 8], linestyle=\"\", marker=\"o\")\n",
    "plt.ylim([2500, 0])\n",
    "plt.title(\"Phosphate vs depth\")\n",
    "plt.show()"
   ]
  },
  {
   "cell_type": "markdown",
   "id": "ae55892e-17fe-47af-b0ea-15b02aa8f5d6",
   "metadata": {},
   "source": [
    "Interpolate seasia to profile depths."
   ]
  },
  {
   "cell_type": "code",
   "execution_count": null,
   "id": "ea6d5437-40f9-4805-876b-3790d96b8776",
   "metadata": {},
   "outputs": [],
   "source": [
    "reference_depths = wod_profile.dataset.depth[20, :].values\n",
    "model_profiles.dataset = model_profiles.dataset[[\"dic\"]] / 1000\n",
    "model_profiles_interp = model_profiles.interpolate_vertical(reference_depths, interp_method=\"linear\")\n",
    "\n",
    "#!!NOTE INTERPOLATE does not work with wod_profiles (maybe due to all nans in some points)\n",
    "# wod_profile.dataset = wod_profile.dataset[[\"DIC\", \"depth\"]]\n",
    "# wod_interp = wod_profile.interpolate_vertical(reference_depths, interp_method=\"linear\")"
   ]
  },
  {
   "cell_type": "markdown",
   "id": "b75c93b6-b59d-42a2-88b3-b80560710527",
   "metadata": {},
   "source": [
    "Calculate differences."
   ]
  },
  {
   "cell_type": "code",
   "execution_count": null,
   "id": "1b241c86-b16b-4fa7-90bc-7b34f6507b7f",
   "metadata": {},
   "outputs": [],
   "source": [
    "differences = wod_profile.difference(model_profiles_interp)\n",
    "differences.dataset.load()"
   ]
  }
 ],
 "metadata": {
  "kernelspec": {
   "display_name": "Python 3 (ipykernel)",
   "language": "python",
   "name": "python3"
  },
  "language_info": {
   "codemirror_mode": {
    "name": "ipython",
    "version": 3
   },
   "file_extension": ".py",
   "mimetype": "text/x-python",
   "name": "python",
   "nbconvert_exporter": "python",
   "pygments_lexer": "ipython3",
   "version": "3.8.13"
  }
 },
 "nbformat": 4,
 "nbformat_minor": 5
}
