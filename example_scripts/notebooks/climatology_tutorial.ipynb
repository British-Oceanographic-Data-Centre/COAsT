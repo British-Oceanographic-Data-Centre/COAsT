{
 "cells": [
  {
   "cell_type": "markdown",
   "id": "ec863bc1-f22a-42bd-a494-49be5028db4a",
   "metadata": {},
   "source": [
    "This file has two main example scripts:\n",
    "\n",
    "1)  make_climatology():\n",
    "    This script uses the COAsT package to calculate a climatological mean of an\n",
    "    input dataset at a desired output frequency. Output will be written straight\n",
    "    to file.\n",
    "\n",
    "2) make_multiyear_climatology():\n",
    "    This script uses the COAsT package to calculate a climatological mean of an\n",
    "    input dataset at a desired output frequency, over multiple years.\n",
    "\n",
    "COAsT and xarray should preserve any lazy loading and chunking. If defined\n",
    "properly in the read function, memory issues can be avoided and parallel\n",
    "processes will automatically be used."
   ]
  },
  {
   "cell_type": "code",
   "execution_count": null,
   "id": "1217a907-103b-43b5-b673-dbd4171c766e",
   "metadata": {},
   "outputs": [],
   "source": [
    "import coast\n",
    "from coast._utils import seasons"
   ]
  },
  {
   "cell_type": "markdown",
   "id": "fa5b1d34-06c3-4139-a1c8-122bd6afadcf",
   "metadata": {},
   "source": [
    "### Example code explaining the usage of coast.CLIMATOLOGY.make_climatology().\n",
    "\n",
    "Calculates mean over a given period of time. This doesn't take different years into account, unless using the\n",
    "'years' frequency."
   ]
  },
  {
   "cell_type": "code",
   "execution_count": null,
   "id": "505111f9-6168-4cca-ae06-c6ba02cec218",
   "metadata": {},
   "outputs": [],
   "source": [
    "def make_climatology():\n",
    "    root = \"./\"\n",
    "    # Paths to a single or multiple data files.\n",
    "    dn_files = root + \"./example_files/\"\n",
    "    fn_nemo_dat = dn_files + \"coast_example_nemo_data.nc\"\n",
    "    fn_nemo_config = root + \"./config/example_nemo_grid_t.json\"\n",
    "    # Set path for domain file if required.\n",
    "    fn_nemo_dom = dn_files + \"coast_example_nemo_domain.nc\"\n",
    "    # Define output filepath (optional: None or str)\n",
    "    fn_out = None\n",
    "\n",
    "    # Define frequency -- Any xarray time string: season, month, etc\n",
    "    climatology_frequency = \"season\"\n",
    "\n",
    "    # Read in multiyear data (This example uses NEMO data from a single file.)\n",
    "    nemo_data = coast.Gridded(fn_data=fn_nemo_dat,\n",
    "                              fn_domain=fn_nemo_dom,\n",
    "                              config=fn_nemo_config,\n",
    "                              ).dataset\n",
    "    # Select specific data variables.\n",
    "    data = nemo_data[[\"temperature\", \"ssh\"]]\n",
    "\n",
    "    # Calculate the climatology and write to file.\n",
    "    clim = coast.Climatology()\n",
    "    clim_mean = clim.make_climatology(data, climatology_frequency, fn_out=fn_out)\n",
    "    return clim_mean\n",
    "\n",
    "make_climatology()"
   ]
  },
  {
   "cell_type": "markdown",
   "id": "1f96bfa3-4bf6-4e5d-89bb-440ca400de5a",
   "metadata": {},
   "source": [
    "### Example code explaining the usage of coast.Climatology.multiyear_averages().\n",
    "\n",
    "Calculates the mean over a specified period and groups the data by year-period. Here a fully working example is not available as multi-year example data is not in the `example_files`. However a working example using synthetic data is given in: `tests/test_climatology.py`"
   ]
  },
  {
   "cell_type": "markdown",
   "id": "21488020",
   "metadata": {},
   "source": [
    "```\n",
    "def make_multiyear_climatology():\n",
    "    # Paths to a single or multiple data files.\n",
    "    fn_nemo_data = \"/path/to/nemo/*.nc\"\n",
    "    # Set path for domain file if required.\n",
    "    fn_nemo_domain = None\n",
    "    # Set path to configuration file\n",
    "    fn_nemo_config = \"/path/to/nemo/*.json\"\n",
    "\n",
    "    # Read in multiyear data (This example uses NEMO data from multiple datafiles.)\n",
    "    nemo_data = coast.Gridded(fn_data=fn_nemo_data,\n",
    "                              fn_domain=fn_nemo_domain,\n",
    "                              config=fn_nemo_config,\n",
    "                              multiple=True).dataset\n",
    "    # Select specific data variables.\n",
    "    data = nemo_data[[\"temperature\", \"ssh\", \"salinity\"]]\n",
    "\n",
    "    # Calculate means of each season across multiple years for specified data.\n",
    "    clim = coast.Climatology()\n",
    "    clim_multiyear = clim.multiyear_averages(data, seasons.ALL, time_var=\"time\", time_dim=\"t_dim\")\n",
    "    return clim_multiyear\n",
    "\n",
    "make_multiyear_climatology()\n",
    "```"
   ]
  },
  {
   "cell_type": "code",
   "execution_count": null,
   "id": "91dc0914",
   "metadata": {},
   "outputs": [],
   "source": []
  }
 ],
 "metadata": {
  "kernelspec": {
   "display_name": "Python 3 (ipykernel)",
   "language": "python",
   "name": "python3"
  },
  "language_info": {
   "codemirror_mode": {
    "name": "ipython",
    "version": 3
   },
   "file_extension": ".py",
   "mimetype": "text/x-python",
   "name": "python",
   "nbconvert_exporter": "python",
   "pygments_lexer": "ipython3",
   "version": "3.8.13"
  }
 },
 "nbformat": 4,
 "nbformat_minor": 5
}