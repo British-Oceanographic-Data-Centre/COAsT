{
 "cells": [
  {
   "cell_type": "markdown",
   "id": "92bd773c-5a35-491d-a06d-6e0d936aa368",
   "metadata": {},
   "source": [
    "This is a demonstration script for using the Transect class in the COAsT\n",
    "package. This object has strict data formatting requirements, which are\n",
    "outlined in tranect.py.  \n",
    "    _**Transect subsetting** (a vertical slice of data between two coordinates): Creating them and performing some custom diagnostics with them._  \n",
    "\n",
    "In this tutorial we take a look at subsetting the model data along a transect (a custom straight line) and creating some bespoke diagnostics along it. We look at:\n",
    "\n",
    "    1. Creating a TRANSECT object, defined between two points.\n",
    "    2. Plotting data along a transect.\n",
    "    3. Calculating flow normal to the transect"
   ]
  },
  {
   "cell_type": "markdown",
   "id": "f63fad45-1418-4264-98ec-778b4496a87c",
   "metadata": {},
   "source": [
    "### Import relevant packages"
   ]
  },
  {
   "cell_type": "code",
   "execution_count": null,
   "id": "d1f40cee-9571-4016-8fa4-c69bd1b6e041",
   "metadata": {},
   "outputs": [],
   "source": [
    "import coast\n",
    "import matplotlib.pyplot as plt"
   ]
  },
  {
   "cell_type": "markdown",
   "id": "84438d56-17c0-40a3-8616-c00d0e9471ff",
   "metadata": {},
   "source": [
    "### Define filepaths for data and configuration"
   ]
  },
  {
   "cell_type": "code",
   "execution_count": null,
   "id": "72949b87-a0d1-49bc-93ba-2fb460a4f8f9",
   "metadata": {},
   "outputs": [],
   "source": [
    "fn_nemo_dat_t = \"./example_files/nemo_data_T_grid.nc\"\n",
    "fn_nemo_dat_u = \"./example_files/nemo_data_U_grid.nc\"\n",
    "fn_nemo_dat_v = \"./example_files/nemo_data_V_grid.nc\"\n",
    "fn_nemo_dom = \"./example_files/coast_example_nemo_domain.nc\"\n",
    "# Configuration files describing the data files\n",
    "fn_config_t_grid = \"./config/example_nemo_grid_t.json\"\n",
    "fn_config_f_grid = \"./config/example_nemo_grid_f.json\"\n",
    "fn_config_u_grid = \"./config/example_nemo_grid_u.json\"\n",
    "fn_config_v_grid = \"./config/example_nemo_grid_v.json\""
   ]
  },
  {
   "cell_type": "markdown",
   "id": "09e278f5-ac1f-45c8-b639-a082c14a50ea",
   "metadata": {},
   "source": [
    "### Load data variables that are on the NEMO t-grid"
   ]
  },
  {
   "cell_type": "code",
   "execution_count": null,
   "id": "74e52052-b084-4bec-8563-a000f44149cd",
   "metadata": {},
   "outputs": [],
   "source": [
    "nemo_t = coast.Gridded(fn_data=fn_nemo_dat_t, fn_domain=fn_nemo_dom, config=fn_config_t_grid)"
   ]
  },
  {
   "cell_type": "markdown",
   "id": "c364f30e-94fa-48bf-b550-6672aa2c4be7",
   "metadata": {},
   "source": [
    "### Now create a transect using the `coast.TransectT` object. \n",
    "The transect is between the points (54 N 15 W) and (56 N, 12 W). This needs to be passed the corresponding NEMO object and transect end points. The model points closest to these coordinates will be selected as the transect end points.\n"
   ]
  },
  {
   "cell_type": "code",
   "execution_count": null,
   "id": "2013128e-0d86-4509-aa7b-e8817ae1112e",
   "metadata": {},
   "outputs": [],
   "source": [
    "tran_t = coast.TransectT(nemo_t, (54, -15), (56, -12))\n",
    "\n",
    "# Inspect the data\n",
    "tran_t.data"
   ]
  },
  {
   "cell_type": "markdown",
   "id": "72d8357b-2363-422f-be8a-fc0204e42a60",
   "metadata": {},
   "source": [
    "### Plot the data"
   ]
  },
  {
   "cell_type": "code",
   "execution_count": null,
   "id": "c54e91d4-eea3-4ad9-bcb8-7bd9aaafbc4c",
   "metadata": {},
   "outputs": [],
   "source": [
    "# It is simple to plot a scalar such as temperature along the transect:\n",
    "temp_mean = tran_t.data.temperature.mean(dim=\"t_dim\")\n",
    "plt.figure()\n",
    "temp_mean.plot.pcolormesh(y=\"depth_0\", yincrease=False)\n",
    "plt.show()"
   ]
  },
  {
   "cell_type": "markdown",
   "id": "663a3ec3-1032-4b8d-b645-5efde1c3b59d",
   "metadata": {},
   "source": [
    "### Create a nemo f-grid object\n",
    "With NEMO’s staggered grid, the first step is to define the transect on the f-grid so that the velocity components are between f-points. We do not need any model data on the f-grid, just the grid information, so create a nemo f-grid object\n"
   ]
  },
  {
   "cell_type": "code",
   "execution_count": null,
   "id": "20fcfe54-a6f7-480d-b48f-8e104cdc4f14",
   "metadata": {},
   "outputs": [],
   "source": [
    "nemo_f = coast.Gridded(fn_domain=fn_nemo_dom, config=fn_config_f_grid)"
   ]
  },
  {
   "cell_type": "markdown",
   "id": "5bad4292-ba95-41b4-9aee-a2c5b6ceb233",
   "metadata": {},
   "source": [
    "### Transect on the f-grid"
   ]
  },
  {
   "cell_type": "code",
   "execution_count": null,
   "id": "7bccd96f-5954-4b55-bf53-a61f701fced0",
   "metadata": {},
   "outputs": [],
   "source": [
    "tran_f = coast.TransectF(nemo_f, (54, -15), (56, -12))\n",
    "# Inspect the data\n",
    "tran_f.data"
   ]
  },
  {
   "cell_type": "markdown",
   "id": "43df64d0-9fc9-43f1-8f98-84f3d3654413",
   "metadata": {},
   "source": [
    "### Load model data on the u- and v- grids"
   ]
  },
  {
   "cell_type": "code",
   "execution_count": null,
   "id": "3eaa7c2c-2738-4a56-839b-085afd9973bb",
   "metadata": {},
   "outputs": [],
   "source": [
    "nemo_u = coast.Gridded(fn_data=fn_nemo_dat_u, fn_domain=fn_nemo_dom, config=fn_config_u_grid)\n",
    "nemo_v = coast.Gridded(fn_data=fn_nemo_dat_v, fn_domain=fn_nemo_dom, config=fn_config_v_grid)"
   ]
  },
  {
   "cell_type": "markdown",
   "id": "08a5bf45-0369-4dcb-b169-3cc487d56bc7",
   "metadata": {},
   "source": [
    "### Calculate the flow across the transect"
   ]
  },
  {
   "cell_type": "code",
   "execution_count": null,
   "id": "84822481-fdab-4482-afca-def71261f0f9",
   "metadata": {},
   "outputs": [],
   "source": [
    "tran_f.calc_flow_across_transect(nemo_u, nemo_v)\n",
    "\n",
    "# The flow across the transect is stored in a new dataset where the variables are all defined at the points between f-points.\n",
    "tran_f.data_cross_tran_flow"
   ]
  },
  {
   "cell_type": "markdown",
   "id": "dce5c202-29cb-498c-822d-a5648ff847b1",
   "metadata": {},
   "source": [
    "### Plot the time averaged velocity across the transect"
   ]
  },
  {
   "cell_type": "code",
   "execution_count": null,
   "id": "4797779b-9831-407d-bbd2-c0058ed0af0b",
   "metadata": {},
   "outputs": [],
   "source": [
    "# To do this we can plot the ‘normal_velocities’ variable.\n",
    "cross_velocity_mean = tran_f.data_cross_tran_flow.normal_velocities.mean(dim=\"t_dim\")\n",
    "plt.figure()\n",
    "cross_velocity_mean.rolling(r_dim=2).mean().plot.pcolormesh(yincrease=False, y=\"depth_0\", cbar_kwargs={\"label\": \"m/s\"})\n",
    "plt.show()"
   ]
  },
  {
   "cell_type": "markdown",
   "id": "b830c152-740e-44ff-9f1c-ecf7b7ad9a75",
   "metadata": {},
   "source": [
    "### Plot volume transport across the transect"
   ]
  },
  {
   "cell_type": "code",
   "execution_count": null,
   "id": "c3afd74c-f3b2-4edc-89c8-c6e317c36de6",
   "metadata": {},
   "outputs": [],
   "source": [
    "# To do this we can plot the ‘normal_transports’ variable.\n",
    "plt.figure()\n",
    "cross_transport_mean = tran_f.data_cross_tran_flow.normal_transports.mean(dim=\"t_dim\")\n",
    "cross_transport_mean.rolling(r_dim=2).mean().plot()\n",
    "plt.ylabel(\"Sv\")\n",
    "plt.show()"
   ]
  }
 ],
 "metadata": {
  "kernelspec": {
   "display_name": "Python 3 (ipykernel)",
   "language": "python",
   "name": "python3"
  },
  "language_info": {
   "codemirror_mode": {
    "name": "ipython",
    "version": 3
   },
   "file_extension": ".py",
   "mimetype": "text/x-python",
   "name": "python",
   "nbconvert_exporter": "python",
   "pygments_lexer": "ipython3",
   "version": "3.8.13"
  }
 },
 "nbformat": 4,
 "nbformat_minor": 5
}
