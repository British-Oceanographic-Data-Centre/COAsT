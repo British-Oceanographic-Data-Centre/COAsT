{
 "cells": [
  {
   "cell_type": "markdown",
   "id": "bfd78839-67d1-4417-b0da-57c9b0d3364a",
   "metadata": {},
   "source": [
    "Make simple Belize SSH plot."
   ]
  },
  {
   "cell_type": "code",
   "execution_count": null,
   "id": "1abf656c-7d6a-4180-9449-26ee0d1f0b8c",
   "metadata": {},
   "outputs": [],
   "source": [
    "import coast\n",
    "import matplotlib.pyplot as plt"
   ]
  },
  {
   "cell_type": "markdown",
   "id": "43ecf30a-626c-4d90-9ad0-98f876c5fa85",
   "metadata": {},
   "source": [
    "\n",
    "Load data.\n"
   ]
  },
  {
   "cell_type": "code",
   "execution_count": null,
   "id": "6ce7d6e3-aed2-4659-970a-7d5c1a8316d0",
   "metadata": {},
   "outputs": [],
   "source": [
    "dir_nam = \"./BLZE12_02/2015/\"\n",
    "fil_nam = \"BLZE12_1h_20151101_20151130_grid_T.nc\"\n",
    "dom_nam = \"./domain/domain_cfg.nc\"\n",
    "config_t = \"./config/example_nemo_grid_t.json\"\n",
    "config_u = \"./config/example_nemo_grid_u.json\"\n",
    "config_v = \"./config/example_nemo_grid_v.json\"\n",
    "config_w = \"./config/example_nemo_grid_w.json\"\n",
    "\n",
    "sci_t = coast.Gridded(dir_nam + fil_nam, dom_nam, config=config_t)\n",
    "\n",
    "sci_u = coast.Gridded(dir_nam + fil_nam.replace(\"grid_T\", \"grid_U\"), dom_nam, config=config_u)\n",
    "\n",
    "sci_v = coast.Gridded(dir_nam + fil_nam.replace(\"grid_T\", \"grid_V\"), dom_nam, config=config_v)"
   ]
  },
  {
   "cell_type": "markdown",
   "id": "28288704-5f19-4340-836c-a7e32dcb56ec",
   "metadata": {},
   "source": [
    "create an empty w-grid object, to store stratification."
   ]
  },
  {
   "cell_type": "code",
   "execution_count": null,
   "id": "7d2adab9-d903-4d3d-a637-e54f6b79a7fc",
   "metadata": {},
   "outputs": [],
   "source": [
    "sci_w = coast.Gridded(fn_domain=dom_nam, config=config_w)"
   ]
  },
  {
   "cell_type": "markdown",
   "id": "f655007b-1e05-41be-9c77-809a32532eaa",
   "metadata": {},
   "source": [
    "Plot."
   ]
  },
  {
   "cell_type": "code",
   "execution_count": null,
   "id": "be524f1a-a0b7-456f-8df8-b9793a22b0c9",
   "metadata": {},
   "outputs": [],
   "source": [
    "plt.pcolormesh(sci_t.dataset.ssh.isel(t_dim=0))\n",
    "plt.show()"
   ]
  }
 ],
 "metadata": {
  "kernelspec": {
   "display_name": "Python 3 (ipykernel)",
   "language": "python",
   "name": "python3"
  },
  "language_info": {
   "codemirror_mode": {
    "name": "ipython",
    "version": 3
   },
   "file_extension": ".py",
   "mimetype": "text/x-python",
   "name": "python",
   "nbconvert_exporter": "python",
   "pygments_lexer": "ipython3",
   "version": "3.8.13"
  }
 },
 "nbformat": 4,
 "nbformat_minor": 5
}
