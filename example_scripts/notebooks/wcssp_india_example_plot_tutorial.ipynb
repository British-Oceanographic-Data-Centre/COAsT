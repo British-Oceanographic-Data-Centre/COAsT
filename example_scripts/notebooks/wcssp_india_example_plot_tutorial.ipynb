{
 "cells": [
  {
   "cell_type": "markdown",
   "id": "4c3df02e-f01f-4350-871a-1a85b3259f80",
   "metadata": {},
   "source": [
    "India subcontinent maritime domain.  \n",
    "WCSSP India configuration.\n",
    "\n",
    "Tutorial to make a simple plot of sea surface temperature."
   ]
  },
  {
   "cell_type": "markdown",
   "id": "8c74f416-6ff2-4bb4-bcda-3e0c4429b3fa",
   "metadata": {},
   "source": [
    "### Import the relevant packages"
   ]
  },
  {
   "cell_type": "code",
   "execution_count": null,
   "id": "9bcbd445-9b09-4483-b047-7602bf4f14cd",
   "metadata": {},
   "outputs": [],
   "source": [
    "import coast\n",
    "import matplotlib.pyplot as plt"
   ]
  },
  {
   "cell_type": "markdown",
   "id": "285e66e8-e9c6-4422-8142-b3f206d4d240",
   "metadata": {},
   "source": [
    "### Define file paths for data"
   ]
  },
  {
   "cell_type": "code",
   "execution_count": null,
   "id": "32464cef-e719-44cd-a9ab-211c7509f200",
   "metadata": {},
   "outputs": [],
   "source": [
    "dir_nam = \"/projectsa/COAsT/NEMO_example_data/MO_INDIA/\"\n",
    "fil_nam = \"ind_1d_cat_20180101_20180105_25hourm_grid_T.nc\"\n",
    "dom_nam = \"domain_cfg_wcssp.nc\"\n",
    "config_t = \"/work/jelt/GitHub/COAsT/config/example_nemo_grid_t.json\""
   ]
  },
  {
   "cell_type": "markdown",
   "id": "aa6326c0-d9fa-4906-812d-233aabe0bc41",
   "metadata": {},
   "source": [
    "### Create a Gridded object"
   ]
  },
  {
   "cell_type": "code",
   "execution_count": null,
   "id": "11091d41-5e01-479f-ab25-63333f5e32f2",
   "metadata": {},
   "outputs": [],
   "source": [
    "sci_t = coast.Gridded(dir_nam + fil_nam, dir_nam + dom_nam, config=config_t)"
   ]
  },
  {
   "cell_type": "markdown",
   "id": "d1b3c641-a605-4e30-8e42-2092992e6476",
   "metadata": {},
   "source": [
    "### Plot sea surface temperature"
   ]
  },
  {
   "cell_type": "code",
   "execution_count": null,
   "id": "e58a95fc-4621-49e2-a66b-93b81cb9ba09",
   "metadata": {},
   "outputs": [],
   "source": [
    "fig = plt.figure()\n",
    "\n",
    "plt.pcolormesh(sci_t.dataset.longitude, sci_t.dataset.latitude, sci_t.dataset.temperature.isel(t_dim=0).isel(z_dim=0))\n",
    "plt.xlabel(\"longitude\")\n",
    "plt.ylabel(\"latitude\")\n",
    "plt.title(\"WCSSP India SST\")\n",
    "plt.colorbar()\n",
    "plt.show()"
   ]
  }
 ],
 "metadata": {
  "kernelspec": {
   "display_name": "Python 3 (ipykernel)",
   "language": "python",
   "name": "python3"
  },
  "language_info": {
   "codemirror_mode": {
    "name": "ipython",
    "version": 3
   },
   "file_extension": ".py",
   "mimetype": "text/x-python",
   "name": "python",
   "nbconvert_exporter": "python",
   "pygments_lexer": "ipython3",
   "version": "3.8.13"
  }
 },
 "nbformat": 4,
 "nbformat_minor": 5
}
