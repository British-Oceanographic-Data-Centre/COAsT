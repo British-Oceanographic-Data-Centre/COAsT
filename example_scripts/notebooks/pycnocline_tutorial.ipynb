{
 "cells": [
  {
   "cell_type": "markdown",
   "id": "5eca7994-6fa1-44e1-b95c-fc8a0fecf7bd",
   "metadata": {},
   "source": [
    "A demonstration of pycnocline depth and thickness diagnostics. The first and second depth moments of stratification are computed as proxies for pycnocline depth and thickness, suitable for a nearly two-layer fluid.\n",
    "\n",
    "Note that in the AMM7 example data the plots are not particularly spectacular as the internal tide is poorly resolved at 7km."
   ]
  },
  {
   "cell_type": "markdown",
   "id": "14277e0d-4dbc-4e0f-b3a2-6853dca66d46",
   "metadata": {},
   "source": [
    "### Relevant imports and filepath configuration"
   ]
  },
  {
   "cell_type": "code",
   "execution_count": null,
   "id": "c4773751-3544-4ebd-a795-cfe128b70743",
   "metadata": {},
   "outputs": [],
   "source": [
    "import coast\n",
    "import numpy as np\n",
    "import os\n",
    "import matplotlib.pyplot as plt\n",
    "import matplotlib.colors as colors  # colormap fiddling"
   ]
  },
  {
   "cell_type": "code",
   "execution_count": null,
   "id": "780605fd-ae53-4ec5-b7fd-80b2a2ee07ea",
   "metadata": {},
   "outputs": [],
   "source": [
    "# set some paths\n",
    "config = 'AMM7'\n",
    "fn_nemo_grid_t_dat = './example_files/nemo_data_T_grid_Aug2015.nc'\n",
    "fn_nemo_dom = './example_files/coast_example_nemo_domain.nc'\n",
    "config_t = \"./config/example_nemo_grid_t.json\"\n",
    "config_w = \"./config/example_nemo_grid_w.json\""
   ]
  },
  {
   "cell_type": "markdown",
   "id": "5d3f6987-f05d-4a54-a932-e4bbf84becb1",
   "metadata": {},
   "source": [
    "### Loading data"
   ]
  },
  {
   "cell_type": "code",
   "execution_count": null,
   "id": "7677050c-775d-4172-9561-61c3c89aa77b",
   "metadata": {},
   "outputs": [],
   "source": [
    "# Create a Gridded object and load in the data:\n",
    "\n",
    "nemo_t = coast.Gridded(fn_nemo_grid_t_dat, fn_nemo_dom, config=config_t)"
   ]
  },
  {
   "cell_type": "code",
   "execution_count": null,
   "id": "6d0f5239-6f1d-4f7d-aa22-e51a9736fff6",
   "metadata": {},
   "outputs": [],
   "source": [
    "# The stratification variables are computed as centred differences of the t-grid variables. \n",
    "# These will become w-grid variables. So, create an empty w-grid object, to store stratification. \n",
    "# Note how we do not pass a NEMO data file for this load.\n",
    "nemo_w = coast.Gridded(fn_domain=fn_nemo_dom, config=config_w)\n"
   ]
  },
  {
   "cell_type": "markdown",
   "id": "edfacafa-51e5-4824-9482-48046e605082",
   "metadata": {},
   "source": [
    "### Subset the domain\n",
    "\n",
    "We are not interested in the whole doman so it is computationally efficient to subset the data for the region of interest. Here we will look at the North Sea between (51N: 62N) and (-4E:15E).\n",
    "We will great subset objects for both the t- and w-grids:"
   ]
  },
  {
   "cell_type": "code",
   "execution_count": null,
   "id": "37f4de58-2499-445f-9c9d-1e0fb5d3681d",
   "metadata": {},
   "outputs": [],
   "source": [
    "ind_2d = nemo_t.subset_indices([51,-4], [62,15])\n",
    "nemo_nwes_t = nemo_t.isel(y_dim=ind_2d[0], x_dim=ind_2d[1]) #nwes = northwest european shelf\n",
    "ind_2d = nemo_w.subset_indices([51,-4], [62,15])\n",
    "nemo_nwes_w = nemo_w.isel(y_dim=ind_2d[0], x_dim=ind_2d[1]) #nwes = northwest european shelf\n",
    "nemo_nwes_t.dataset"
   ]
  },
  {
   "cell_type": "markdown",
   "id": "cc63dbfb-64f1-4ca0-baf0-264f8657d65b",
   "metadata": {},
   "source": [
    "### Diagnostic calculations and plotting \n",
    "\n",
    "We can use a COAsT method to construct the in-situ density:\n"
   ]
  },
  {
   "cell_type": "code",
   "execution_count": null,
   "id": "9994f6ef-ea88-4a79-9ee2-61a484027d6f",
   "metadata": {},
   "outputs": [],
   "source": [
    "nemo_nwes_t.construct_density( eos='EOS10' )\n"
   ]
  },
  {
   "cell_type": "markdown",
   "id": "0db71659-f5a7-44c2-ae1e-02b16c1e2a81",
   "metadata": {},
   "source": [
    "Then we construct stratification using a COAsT method to take the vertical derivative. Noting that the inputs are on t-pts and the outputs are on w-pt"
   ]
  },
  {
   "cell_type": "code",
   "execution_count": null,
   "id": "a0767780-5452-4918-8844-df390e94d20d",
   "metadata": {},
   "outputs": [],
   "source": [
    "nemo_nwes_w = nemo_nwes_t.differentiate( 'density', dim='z_dim', out_var_str='rho_dz', out_obj=nemo_nwes_w ) # --> sci_nwes_w.rho_dz\n"
   ]
  },
  {
   "cell_type": "markdown",
   "id": "969e4145-1c5c-4bcb-bd86-80f4948d4966",
   "metadata": {},
   "source": [
    "This has created a variable called `nemo_nwes_w.rho_dz`.\n",
    "\n",
    "###  Create internal tide diagnostics\n",
    "\n",
    "We can now use the InternalTide class to construct the first and second moments (over depth) of density. In the limit of an idealised two-layer fluid these converge to the depth and thickness of the interface. I.e. the pycnocline depth and thickness respectively."
   ]
  },
  {
   "cell_type": "code",
   "execution_count": null,
   "id": "f2376a30-38fa-49b0-9259-465db02c8fa2",
   "metadata": {},
   "outputs": [],
   "source": [
    "\n",
    "IT = coast.InternalTide(nemo_nwes_t, nemo_nwes_w)\n",
    "\n",
    "#%%  Construct pycnocline variables: depth and thickness\n",
    "IT.construct_pycnocline_vars( nemo_nwes_t, nemo_nwes_w )"
   ]
  },
  {
   "cell_type": "markdown",
   "id": "8f897042-3697-4ddd-a812-04572500f0ec",
   "metadata": {},
   "source": [
    "### Plotting data\n",
    "\n",
    "Finally we plot pycnocline variables (depth and thickness) using an InternalTide method:"
   ]
  },
  {
   "cell_type": "code",
   "execution_count": null,
   "id": "15e1d364-3323-4229-8d05-dc1f71d109bb",
   "metadata": {},
   "outputs": [],
   "source": [
    "IT.quick_plot()\n"
   ]
  },
  {
   "cell_type": "markdown",
   "id": "402feecd-53c7-4352-b5c0-52ab2aee74ce",
   "metadata": {},
   "source": [
    "INSERT STRATE_FIG_1 : https://british-oceanographic-data-centre.github.io/COAsT/docs/examples/stratification/strat_1st_mom_hu2ed8891258e49ea755dd6f023fe99f6f_75991_600x700_fit_catmullrom_2.png"
   ]
  }
 ],
 "metadata": {
  "kernelspec": {
   "display_name": "Python 3 (ipykernel)",
   "language": "python",
   "name": "python3"
  },
  "language_info": {
   "codemirror_mode": {
    "name": "ipython",
    "version": 3
   },
   "file_extension": ".py",
   "mimetype": "text/x-python",
   "name": "python",
   "nbconvert_exporter": "python",
   "pygments_lexer": "ipython3",
   "version": "3.8.8"
  }
 },
 "nbformat": 4,
 "nbformat_minor": 5
}
