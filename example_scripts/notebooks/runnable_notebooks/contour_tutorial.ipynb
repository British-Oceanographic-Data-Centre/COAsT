{
 "cells": [
  {
   "cell_type": "markdown",
   "id": "46ccdc85-20a4-4b12-8aed-12bb9173ba73",
   "metadata": {},
   "source": [
    "This is a demonstration script for using the Contour class in the COAsT\n",
    "package. This object has strict data formatting requirements, which are\n",
    "outlined in contour.py.\n",
    "\n",
    "The code is taken directly from `unit_tesing/unit_test.py`\n",
    "\n",
    "In this tutorial we take a look the following Isobath Contour Methods:\n",
    "\n",
    "    a. Extract isbath contour between two points\n",
    "    b. Plot contour on map\n",
    "    c. Calculate pressure along contour\n",
    "    d. Calculate flow across contour\n",
    "    e. Calculate pressure gradient driven flow across contour\n"
   ]
  },
  {
   "cell_type": "markdown",
   "id": "56c95cc2-d8c8-432f-8abe-d608c426d836",
   "metadata": {},
   "source": [
    "### Load packages and define some file paths."
   ]
  },
  {
   "cell_type": "code",
   "execution_count": null,
   "id": "13dd40a1-9cfa-489c-97e5-b556262d7653",
   "metadata": {},
   "outputs": [],
   "source": [
    "import coast\n",
    "import matplotlib.pyplot as plt\n",
    "\n",
    "# Define some file paths\n",
    "root = \"./\"\n",
    "dn_files = root + \"./example_files/\"\n",
    "\n",
    "fn_nemo_dat_t = dn_files + \"nemo_data_T_grid.nc\"\n",
    "fn_nemo_dat_u = dn_files + \"nemo_data_U_grid.nc\"\n",
    "fn_nemo_dat_v = dn_files + \"nemo_data_V_grid.nc\"\n",
    "fn_nemo_dom = dn_files + \"coast_example_nemo_domain.nc\"\n",
    "# Configuration files describing the data files\n",
    "fn_config_t_grid = root + \"./config/example_nemo_grid_t.json\"\n",
    "fn_config_f_grid = root + \"./config/example_nemo_grid_f.json\"\n",
    "fn_config_u_grid = root + \"./config/example_nemo_grid_u.json\"\n",
    "fn_config_v_grid = root + \"./config/example_nemo_grid_v.json\""
   ]
  },
  {
   "cell_type": "markdown",
   "id": "8f51acb0-4c9d-4ffa-bd3e-597027710407",
   "metadata": {},
   "source": [
    "\n",
    "### Extract isobath contour between two points and create contour object.\n",
    "\n",
    "\n",
    "Create a gridded object with the grid only."
   ]
  },
  {
   "cell_type": "code",
   "execution_count": null,
   "id": "fbe7ca20-47bb-4cc4-abec-8f3556caa168",
   "metadata": {},
   "outputs": [],
   "source": [
    "nemo_f = coast.Gridded(fn_domain=fn_nemo_dom, config=fn_config_f_grid)"
   ]
  },
  {
   "cell_type": "markdown",
   "id": "1ebf2481-34fd-4b42-9849-614c93bc857b",
   "metadata": {},
   "source": [
    "Then create a contour object on the 200m isobath."
   ]
  },
  {
   "cell_type": "code",
   "execution_count": null,
   "id": "7fe50a07-8ccc-4fad-bee2-d58cf3ce1626",
   "metadata": {},
   "outputs": [],
   "source": [
    "contours, no_contours = coast.Contour.get_contours(nemo_f, 200)"
   ]
  },
  {
   "cell_type": "markdown",
   "id": "05e59f47-4604-4619-a162-3929191da9a2",
   "metadata": {},
   "source": [
    "Extract the indices for the contour in a specified box."
   ]
  },
  {
   "cell_type": "code",
   "execution_count": null,
   "id": "0a205fe6-19fb-45d4-9e49-6841c3e544b0",
   "metadata": {},
   "outputs": [],
   "source": [
    "y_ind, x_ind, contour = coast.Contour.get_contour_segment(nemo_f, contours[0], [50, -10], [60, 3])"
   ]
  },
  {
   "cell_type": "markdown",
   "id": "998a5ea1-cbf9-4adf-bb1f-9d2f3d53acd6",
   "metadata": {},
   "source": [
    "Extract the contour for the specified indices."
   ]
  },
  {
   "cell_type": "code",
   "execution_count": null,
   "id": "5b2c9b23-9015-47c4-85e0-b8ab380916cf",
   "metadata": {},
   "outputs": [],
   "source": [
    "cont_f = coast.ContourF(nemo_f, y_ind, x_ind, 200)"
   ]
  },
  {
   "cell_type": "markdown",
   "id": "68474259-66f3-4df9-8dc9-f4890bff0632",
   "metadata": {},
   "source": [
    "### Plot contour on map"
   ]
  },
  {
   "cell_type": "code",
   "execution_count": null,
   "id": "d049ba6c-537d-4cb0-877d-d11b243384e7",
   "metadata": {},
   "outputs": [],
   "source": [
    "plt.figure()\n",
    "coast.Contour.plot_contour(nemo_f, contour)\n",
    "plt.show()"
   ]
  },
  {
   "cell_type": "markdown",
   "id": "8b418955-b615-49f8-84c1-a24794e884ad",
   "metadata": {},
   "source": [
    "\n",
    "### Calculate pressure along contour.\n",
    "\n",
    "\n",
    "Repeat the above procedure but on t-points."
   ]
  },
  {
   "cell_type": "code",
   "execution_count": null,
   "id": "1329816f-08b9-4187-ba7e-218ca9105337",
   "metadata": {},
   "outputs": [],
   "source": [
    "nemo_t = coast.Gridded(fn_data=fn_nemo_dat_t, fn_domain=fn_nemo_dom, config=fn_config_t_grid)\n",
    "contours, no_contours = coast.Contour.get_contours(nemo_t, 200)\n",
    "y_ind, x_ind, contour = coast.Contour.get_contour_segment(nemo_t, contours[0], [50, -10], [60, 3])\n",
    "cont_t = coast.ContourT(nemo_t, y_ind, x_ind, 200)"
   ]
  },
  {
   "cell_type": "markdown",
   "id": "19807e8a-66dc-49fb-8b6d-7de8908b6898",
   "metadata": {},
   "source": [
    "Now contruct pressure along this contour segment."
   ]
  },
  {
   "cell_type": "code",
   "execution_count": null,
   "id": "6c22cee6-de85-4451-97f7-8e826b3785ba",
   "metadata": {},
   "outputs": [],
   "source": [
    "cont_t.construct_pressure(1027)\n",
    "\n",
    "# This creates ``cont_t.data_contour.pressure_s`` and ``cont_t.data_contour.pressure_h_zlevels`` fields."
   ]
  },
  {
   "cell_type": "markdown",
   "id": "d6f3c838-e50e-4549-894a-74967a9a82c0",
   "metadata": {},
   "source": [
    "\n",
    "### Calculate flow across contour.\n",
    "\n",
    "Create the contour segement on f-points again."
   ]
  },
  {
   "cell_type": "code",
   "execution_count": null,
   "id": "7d1bed7d-8ba0-4de8-9d65-591255441cd7",
   "metadata": {},
   "outputs": [],
   "source": [
    "nemo_f = coast.Gridded(fn_domain=fn_nemo_dom, config=fn_config_f_grid)\n",
    "nemo_u = coast.Gridded(fn_data=fn_nemo_dat_u, fn_domain=fn_nemo_dom, config=fn_config_u_grid)\n",
    "nemo_v = coast.Gridded(fn_data=fn_nemo_dat_v, fn_domain=fn_nemo_dom, config=fn_config_v_grid)\n",
    "contours, no_contours = coast.Contour.get_contours(nemo_f, 200)\n",
    "y_ind, x_ind, contour = coast.Contour.get_contour_segment(nemo_f, contours[0], [50, -10], [60, 3])\n",
    "cont_f = coast.ContourF(nemo_f, y_ind, x_ind, 200)"
   ]
  },
  {
   "cell_type": "markdown",
   "id": "4706ba4c-fac7-432d-9642-493440719370",
   "metadata": {},
   "source": [
    "Calculate the flow across the contour, pass u- and v- gridded velocity objects."
   ]
  },
  {
   "cell_type": "code",
   "execution_count": null,
   "id": "28dd2c38-d57e-4be1-9c30-fbc8dd834361",
   "metadata": {},
   "outputs": [],
   "source": [
    "cont_f.calc_cross_contour_flow(nemo_u, nemo_v)\n",
    "\n",
    "# This creates fields ``cont_f.data_cross_flow.normal_velocities`` and\n",
    "## ``cont_f.data_cross_flow.depth_integrated_normal_transport``"
   ]
  },
  {
   "cell_type": "markdown",
   "id": "6f9d0b66-f617-4eaa-810d-79304279931e",
   "metadata": {},
   "source": [
    "\n",
    "### Calculate pressure gradient driven flow across contour.\n",
    "                                                                    \n",
    "\n",
    "The \"calc_geostrophic_flow()\" operates on f-grid objects and requires configuration files for the u- and v- grids."
   ]
  },
  {
   "cell_type": "code",
   "execution_count": null,
   "id": "7f909f08-540d-48ac-b4dc-d976c59cb832",
   "metadata": {
    "pycharm": {
     "name": "#%%\n"
    }
   },
   "outputs": [],
   "source": [
    "cont_f.calc_geostrophic_flow(nemo_t, config_u=fn_config_u_grid, config_v=fn_config_v_grid, ref_density=1027)\n",
    "\n",
    "\"\"\"\n",
    " This constructs:\n",
    "    cont_f.data_cross_flow.normal_velocity_hpg\n",
    "    cont_f.data_cross_flow.normal_velocity_spg\n",
    "    cont_f.data_cross_flow.transport_across_AB_hpg\n",
    "    cont_f.data_cross_flow.transport_across_AB_spg\n",
    "\"\"\""
   ]
  },
  {
   "cell_type": "code",
   "execution_count": null,
   "id": "50450594",
   "metadata": {},
   "outputs": [],
   "source": []
  }
 ],
 "metadata": {
  "kernelspec": {
   "display_name": "Python 3 (ipykernel)",
   "language": "python",
   "name": "python3"
  },
  "language_info": {
   "codemirror_mode": {
    "name": "ipython",
    "version": 3
   },
   "file_extension": ".py",
   "mimetype": "text/x-python",
   "name": "python",
   "nbconvert_exporter": "python",
   "pygments_lexer": "ipython3",
   "version": "3.8.13"
  }
 },
 "nbformat": 4,
 "nbformat_minor": 5
}