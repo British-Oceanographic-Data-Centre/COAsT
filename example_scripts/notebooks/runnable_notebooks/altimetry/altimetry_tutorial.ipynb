{
 "cells": [
  {
   "cell_type": "markdown",
   "id": "5e724b6e-e8e4-42ea-a551-007dbcb4fcde",
   "metadata": {},
   "source": [
    "This is a demonstration script for using the Altimetry object in the COAsT package. This object has strict data formatting requirements, which are outlined in altimetry.py."
   ]
  },
  {
   "cell_type": "markdown",
   "id": "f6a8cc62-59b6-47fb-a77f-0a4c95f8ea2a",
   "metadata": {},
   "source": [
    "### Relevant imports and filepath configuration"
   ]
  },
  {
   "cell_type": "code",
   "execution_count": null,
   "id": "4ebcdef5-712f-4e7b-a482-78889740526e",
   "metadata": {},
   "outputs": [],
   "source": [
    "# Begin by importing coast and other packages\n",
    "import coast\n",
    "\n",
    "root = \"./\"\n",
    "# And by defining some file paths\n",
    "dn_files = root + \"./example_files/\"\n",
    "fn_nemo_dat = dn_files + \"coast_example_nemo_data.nc\"\n",
    "fn_nemo_dom = dn_files + \"coast_example_nemo_domain.nc\"\n",
    "fn_nemo_config = root + \"./config/example_nemo_grid_t.json\"\n",
    "fn_altimetry = dn_files + \"coast_example_altimetry_data.nc\"\n",
    "fn_altimetry_config = root + \"./config/example_altimetry.json\""
   ]
  },
  {
   "cell_type": "markdown",
   "id": "953ee8e1",
   "metadata": {},
   "source": [
    "### Load data"
   ]
  },
  {
   "cell_type": "code",
   "execution_count": null,
   "id": "83d827f6-ac10-4bed-b98b-4369d937ee3f",
   "metadata": {},
   "outputs": [],
   "source": [
    "# We need to load in a NEMO object for doing NEMO things.\n",
    "nemo = coast.Gridded(fn_nemo_dat, fn_nemo_dom, config=fn_nemo_config)\n",
    "\n",
    "# And now we can load in our Altimetry data. By default, Altimetry is set up\n",
    "# to read in CMEMS netCDF files. However, if no path is supplied, then the\n",
    "# object's dataset will be initialised as None. Custom data can then be loaded\n",
    "# if desired, as long as it follows the data formatting for Altimetry.\n",
    "# altimetry = coast.Altimetry(fn_altimetry)\n",
    "altimetry = coast.Altimetry(fn_altimetry, config=fn_altimetry_config)"
   ]
  },
  {
   "cell_type": "markdown",
   "id": "e1ef12d0-eb9f-40d1-95cf-75e0d4fc719c",
   "metadata": {},
   "source": [
    "### Subsetting"
   ]
  },
  {
   "cell_type": "code",
   "execution_count": null,
   "id": "634e67fe-2ebe-4b16-a785-17ba7c76cb56",
   "metadata": {},
   "outputs": [],
   "source": [
    "# Before going any further, lets just cut out the bit of the altimetry that\n",
    "# is over the model domain. This can be done using `subset_indices_lonlat_box`\n",
    "# to find relevant indices and then `isel` to extract them. The data here is then also\n",
    "# also thinned slightly.\n",
    "ind = altimetry.subset_indices_lonlat_box([-10, 10], [45, 60])\n",
    "ind = ind[::4]\n",
    "altimetry = altimetry.isel(t_dim=ind)"
   ]
  },
  {
   "cell_type": "markdown",
   "id": "052796fe-6ee1-4a9c-bc8d-f287dc752102",
   "metadata": {},
   "source": [
    "### Model interpolation"
   ]
  },
  {
   "cell_type": "code",
   "execution_count": null,
   "id": "cbed61f5-f036-4501-b5c3-307070ae1395",
   "metadata": {},
   "outputs": [],
   "source": [
    "# Before comparing our observations to the model, we will interpolate a model\n",
    "# variable to the same time and geographical space as the altimetry. This is\n",
    "# done using the obs_operator() method:\n",
    "altimetry.obs_operator(nemo, mod_var_name=\"ssh\", time_interp=\"nearest\")\n",
    "\n",
    "# Doing this has created a new interpolated variable called interp_ssh and\n",
    "# saved it back into our Altimetry object. Take a look at altimetry.dataset\n",
    "# to see for yourself."
   ]
  },
  {
   "cell_type": "code",
   "execution_count": null,
   "id": "d394fd46",
   "metadata": {
    "pycharm": {
     "name": "#%%\n"
    }
   },
   "outputs": [],
   "source": [
    "#altimetry.dataset # uncomment to print data object summary"
   ]
  },
  {
   "cell_type": "markdown",
   "id": "afe939d5-f62a-4419-8b46-a6fd11b58424",
   "metadata": {},
   "source": [
    "### Interpolated vs observed"
   ]
  },
  {
   "cell_type": "code",
   "execution_count": null,
   "id": "c11ae399-42b8-470d-b57d-c3f31339c2fb",
   "metadata": {},
   "outputs": [],
   "source": [
    "# Next we will compare this interpolated variable to an observed variable\n",
    "# using some basic metrics. The basic_stats() routine can be used for this,\n",
    "# which calculates some simple metrics including differences, RMSE and\n",
    "# correlations. NOTE: This may not be a wise choice of variables.\n",
    "stats = altimetry.basic_stats(\"ocean_tide_standard_name\", \"interp_ssh\")"
   ]
  },
  {
   "cell_type": "code",
   "execution_count": null,
   "id": "1994eafb",
   "metadata": {
    "pycharm": {
     "name": "#%%\n"
    }
   },
   "outputs": [],
   "source": [
    "# Take a look inside stats.dataset to see all of the new variables. When using\n",
    "# basic stats, the returned object is also an Altimetry object, so all of the\n",
    "# same methods can be applied. Alternatively, if you want to save the new\n",
    "# metrics to the original altimetry object, set 'create_new_object = False'.\n",
    "\n",
    "#stats.dataset  # uncomment to print data object summary"
   ]
  },
  {
   "cell_type": "code",
   "execution_count": null,
   "id": "72deea38-8d70-45fc-95b4-7a9b38147dfb",
   "metadata": {},
   "outputs": [],
   "source": [
    "# Now we will do a more complex comparison using the Continuous Ranked\n",
    "# Probability Score (CRPS). For this, we need to hand over the model object,\n",
    "# a model variable and an observed variable. We also give it a neighbourhood\n",
    "# radius in km (nh_radius).\n",
    "crps = altimetry.crps(nemo, model_var_name=\"ssh\", obs_var_name=\"ocean_tide_standard_name\", nh_radius=20)\n",
    "\n",
    "# Again, take a look inside `crps.dataset` to see some new variables. Similarly\n",
    "# to basic_stats, `create_new_object` keyword arg can be set to `false` to save output to\n",
    "# the original altimetry object.\n",
    "\n",
    "#crps.dataset  # uncomment to print data object summary"
   ]
  },
  {
   "cell_type": "markdown",
   "id": "5eba3a99-64c5-49a2-bb57-487b8ccff901",
   "metadata": {},
   "source": [
    "### Plotting data"
   ]
  },
  {
   "cell_type": "code",
   "execution_count": null,
   "id": "ea7ccdfe-27b0-46d3-bad2-6c821032a428",
   "metadata": {},
   "outputs": [],
   "source": [
    "# Altimetry has a ready built quick_plot() routine for taking a look at any\n",
    "# of the observed or derived quantities above. So to take a look at the\n",
    "# 'sla_filtered' variable:\n",
    "fig, ax = altimetry.quick_plot(\"ocean_tide_standard_name\")"
   ]
  },
  {
   "cell_type": "code",
   "execution_count": null,
   "id": "ac31391e-9cde-4efa-86e9-74e12b55d30c",
   "metadata": {},
   "outputs": [],
   "source": [
    "# As stats and crps are also Altimetry objects, quick_plot() can also be used:\n",
    "# crps quick_plot:\n",
    "fig, ax = crps.quick_plot(\"crps\")"
   ]
  },
  {
   "cell_type": "code",
   "execution_count": null,
   "id": "02a98b01-7c09-4214-a514-667bb3fa4d43",
   "metadata": {
    "pycharm": {
     "name": "#%%\n"
    }
   },
   "outputs": [],
   "source": [
    "# stats quick_plot:\n",
    "fig, ax = stats.quick_plot(\"absolute_error\")"
   ]
  }
 ],
 "metadata": {
  "kernelspec": {
   "display_name": "Python 3 (ipykernel)",
   "language": "python",
   "name": "python3"
  },
  "language_info": {
   "codemirror_mode": {
    "name": "ipython",
    "version": 3
   },
   "file_extension": ".py",
   "mimetype": "text/x-python",
   "name": "python",
   "nbconvert_exporter": "python",
   "pygments_lexer": "ipython3",
   "version": "3.8.13"
  }
 },
 "nbformat": 4,
 "nbformat_minor": 5
}
