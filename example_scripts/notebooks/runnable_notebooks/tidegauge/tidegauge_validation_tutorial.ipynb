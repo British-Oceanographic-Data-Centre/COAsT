{
 "cells": [
  {
   "cell_type": "markdown",
   "id": "56cbe624-02d9-4615-975b-408c97f9b97c",
   "metadata": {},
   "source": [
    "This tutorial gives an overview of some of validation tools available when\n",
    "using the Tidegauge objects in COAsT.\n",
    "\n",
    "This includes:\n",
    "- creating tidegauge objects\n",
    "    - reading in tidegauge data\n",
    "    - creating tidegauge object from gridded simulation data\n",
    "- basic plotting\n",
    "    - on maps and timeseries\n",
    "- analysis\n",
    "    - harmonic analysis and calculation of non-tidal residual\n",
    "    - doodsonX0 tidal filtering\n",
    "    - threshold statistics\n",
    "    - error calculation: mean errors, mean absolute error (MAE), mean square error (MSE)\n",
    "    "
   ]
  },
  {
   "cell_type": "markdown",
   "id": "e10c23ed-dce8-410b-acf0-733b248be2ad",
   "metadata": {},
   "source": [
    "### Import necessary libraries\n"
   ]
  },
  {
   "cell_type": "code",
   "execution_count": null,
   "id": "b15ab58f",
   "metadata": {},
   "outputs": [],
   "source": [
    "import xarray as xr\n",
    "import numpy as np\n",
    "import coast\n",
    "import datetime\n",
    "import matplotlib.pyplot as plt"
   ]
  },
  {
   "cell_type": "markdown",
   "id": "2ebbe06c-6788-4c49-aafb-4a476a4be685",
   "metadata": {},
   "source": [
    "### Define paths\n"
   ]
  },
  {
   "cell_type": "code",
   "execution_count": null,
   "id": "d8727892",
   "metadata": {},
   "outputs": [],
   "source": [
    "fn_dom = \"<PATH_TO_NEMO_DOMAIN>\"\n",
    "fn_dat = \"<PATH_TO_NEMO_DATA>\"\n",
    "fn_config = \"<PATH_TO_CONFIG.json>\"\n",
    "fn_tg = \"<PATH_TO_TIDEGAUGE_NETCDF>\"  # This should already be processed, on the same time dimension\n",
    "\n",
    "# Change this to 0 to not use default files.\n",
    "if 1:\n",
    "    #print(f\"Use default files\")\n",
    "    dir = \"./example_files/\"\n",
    "    fn_dom = dir + \"coast_example_nemo_domain.nc\"\n",
    "    fn_dat = dir + \"coast_example_nemo_data.nc\"\n",
    "    fn_config = \"./config/example_nemo_grid_t.json\"\n",
    "    fn_tidegauge = dir + \"tide_gauges/lowestoft-p024-uk-bodc\"\n",
    "    fn_tg = dir + \"tide_gauges/coast_example_tidegauges.nc\"  # These are a collection (xr.DataSet) of tidegauge observations. Created for this demonstration, they are synthetic."
   ]
  },
  {
   "cell_type": "markdown",
   "id": "827c084b",
   "metadata": {},
   "source": [
    "### Reading data\n",
    "\n",
    "We can create our empty tidegauge object:"
   ]
  },
  {
   "cell_type": "code",
   "execution_count": null,
   "id": "e5c5273f",
   "metadata": {},
   "outputs": [],
   "source": [
    "tidegauge = coast.Tidegauge()"
   ]
  },
  {
   "cell_type": "markdown",
   "id": "7331af92",
   "metadata": {},
   "source": [
    "The `Tidegauge` class contains multiple methods for reading different typical\n",
    "tidegauge formats. This includes reading from the GESLA and BODC databases.\n",
    "To read a gesla file between two dates, we can use:"
   ]
  },
  {
   "cell_type": "code",
   "execution_count": null,
   "id": "9c7c24e9",
   "metadata": {},
   "outputs": [],
   "source": [
    "date0 = datetime.datetime(2007,1,10)\n",
    "date1 = datetime.datetime(2007,1,12)\n",
    "tidegauge.read_gesla_v3(fn_tidegauge, date_start = date0, date_end = date1)"
   ]
  },
  {
   "cell_type": "markdown",
   "id": "a4a44e61",
   "metadata": {},
   "source": [
    "A Tidegauge object is a type of Timeseries object, so it has the form:"
   ]
  },
  {
   "cell_type": "code",
   "execution_count": null,
   "id": "8b5271b8",
   "metadata": {},
   "outputs": [],
   "source": [
    "tidegauge.dataset"
   ]
  },
  {
   "cell_type": "markdown",
   "id": "f826f84e",
   "metadata": {},
   "source": [
    "An example data variable could be ssh, or ntr (non-tidal residual). This object can also be used for other instrument types, not just tide gauges. For example moorings.\n",
    "\n",
    "Every id index for this object should use the same time coordinates. Therefore, timeseries need to be aligned before being placed into the object. If there is any padding needed, then NaNs should be used. NaNs should also be used for quality control/data rejection."
   ]
  },
  {
   "cell_type": "markdown",
   "id": "43bc89b0",
   "metadata": {},
   "source": [
    "\n",
    "For the rest of our examples, we will use data from multiple tide gauges\n",
    "on the same time dimension. It will be read in from a simple netCDF file:"
   ]
  },
  {
   "cell_type": "code",
   "execution_count": null,
   "id": "35f6d6b2",
   "metadata": {},
   "outputs": [],
   "source": [
    "tt = xr.open_dataset(fn_tg)\n",
    "obs = coast.Tidegauge(dataset=tt)"
   ]
  },
  {
   "cell_type": "code",
   "execution_count": null,
   "id": "33278a83",
   "metadata": {},
   "outputs": [],
   "source": [
    "# Create the object and then inset the netcdf dataset\n",
    "tt = xr.open_dataset(fn_tg)\n",
    "obs = coast.Tidegauge(dataset=tt)\n",
    "obs.dataset = obs.dataset.set_coords(\"time\")"
   ]
  },
  {
   "cell_type": "markdown",
   "id": "0727e04a",
   "metadata": {},
   "source": [
    "## Quick plotting to visualise Tidegauge data\n",
    "\n",
    "Tidegauge has ready made quick plotting routines for viewing time series and tide gauge location. To look at the tide gauge location:"
   ]
  },
  {
   "cell_type": "code",
   "execution_count": null,
   "id": "6f26be75",
   "metadata": {},
   "outputs": [],
   "source": [
    "fig, ax = obs.plot_on_map()"
   ]
  },
  {
   "cell_type": "markdown",
   "id": "24e0c86e",
   "metadata": {},
   "source": [
    "There is also a slightly expanded version where you can plot multiple tidegauge objects, included as a list, and also the colour (if it is a dataarray with one value per location)."
   ]
  },
  {
   "cell_type": "code",
   "execution_count": null,
   "id": "59d2e821",
   "metadata": {},
   "outputs": [],
   "source": [
    "# plot a list tidegauge datasets (here repeating obs for the point of demonstration) and colour\n",
    "fig, ax = obs.plot_on_map_multiple([obs,obs], color_var_str=\"latitude\")"
   ]
  },
  {
   "cell_type": "markdown",
   "id": "ac21b4a0",
   "metadata": {},
   "source": [
    "Time series can be plotted using `matplotlib.pyplot` methods. However `xarray` has its own plotting wrappers that can be used, which offers some conveniences with labelling"
   ]
  },
  {
   "cell_type": "code",
   "execution_count": null,
   "id": "b2e893cb",
   "metadata": {},
   "outputs": [],
   "source": [
    "stn_id=1  # pick a gauge station\n",
    "\n",
    "plt.subplot(2,1,1)\n",
    "obs.dataset.ssh[stn_id].plot()  # rename time dimension to enable automatic x-axis labelling\n",
    "\n",
    "plt.subplot(2,1,2)\n",
    "obs.dataset.ssh[stn_id].rename({'t_dim':'time'}).plot()  # rename time dimension to enable automatic x-axis labelling\n",
    "plt.tight_layout()\n",
    "plt.show()"
   ]
  },
  {
   "cell_type": "markdown",
   "id": "48797df0",
   "metadata": {},
   "source": [
    "Or you can use the `Tidegauge.plot_timeseries()` method, in which start and end dates can also be specified."
   ]
  },
  {
   "cell_type": "code",
   "execution_count": null,
   "id": "1b99331b",
   "metadata": {},
   "outputs": [],
   "source": [
    "obs.isel(id_dim=stn_id).plot_timeseries(date_start=np.datetime64('2007-01-01'),\n",
    "                                        date_end = np.datetime64('2007-01-31') )"
   ]
  },
  {
   "cell_type": "markdown",
   "id": "68a18c52",
   "metadata": {},
   "source": [
    "## Basic manipulation: subsetting + plotting\n",
    "\n",
    "\n",
    "\n",
    "We can do some simple spatial and temporal manipulations of this data:\n"
   ]
  },
  {
   "cell_type": "code",
   "execution_count": null,
   "id": "6b1a5413",
   "metadata": {},
   "outputs": [],
   "source": [
    "# Cut out a time window\n",
    "obs_cut = obs.time_slice( date0 = datetime.datetime(2007, 1, 1), date1 = datetime.datetime(2007,1,31))\n",
    "\n",
    "# Cut out geographical boxes\n",
    "obs_upper = obs_cut.subset_indices_lonlat_box(lonbounds = [0, 3],\n",
    "                                            latbounds = [50, 55])\n",
    "obs_lower = obs_cut.subset_indices_lonlat_box(lonbounds = [-9, -3],\n",
    "                                            latbounds = [55.5, 59])\n",
    "\n",
    "#fig, ax = obs_cut.plot_on_map()\n",
    "fig, ax = obs_upper.plot_on_map_multiple([obs_upper, obs_lower], color_var_str=\"latitude\")"
   ]
  },
  {
   "cell_type": "markdown",
   "id": "8b143cc4-7ae9-4edf-8d0b-92c189c18bd7",
   "metadata": {},
   "source": [
    "### Gridded model comparison"
   ]
  },
  {
   "cell_type": "markdown",
   "id": "cec1a539",
   "metadata": {},
   "source": [
    "To compare our observations to the model, we will interpolate a model variable to the same time and geographical space as the tidegauge. This is done using the `obs_operator()` method.\n",
    "\n",
    "But first load some gridded data and manipulate some variable names for convenience"
   ]
  },
  {
   "cell_type": "code",
   "execution_count": null,
   "id": "d5f05c40",
   "metadata": {},
   "outputs": [],
   "source": [
    "nemo = coast.Gridded(fn_dat, fn_dom, multiple=True, config=fn_config)\n",
    "# Rename depth_0 to be depth\n",
    "nemo.dataset = nemo.dataset.rename({\"depth_0\": \"depth\"})\n",
    "#nemo.dataset = nemo.dataset[[\"ssh\", \"landmask\"]]"
   ]
  },
  {
   "cell_type": "markdown",
   "id": "942149ef",
   "metadata": {},
   "source": [
    "interpolate model onto obs locations\n",
    "```\n",
    "tidegauge_from_model = obs.obs_operator(nemo, time_interp='nearest')\n",
    "```"
   ]
  },
  {
   "cell_type": "markdown",
   "id": "99f5d34c",
   "metadata": {},
   "source": [
    "Doing this would create a new interpolated tidegauge called `tidegauge_from_model`\n",
    "Take a look at `tidegauge_from_model.dataset` to see for yourself. If a `landmask`\n",
    "variable is present in the `Gridded` dataset then the nearest wet points will\n",
    "be taken. Otherwise, just the nearest point is taken. If `landmask` is required\n",
    "but not present you will need to insert it into the dataset yourself. For nemo\n",
    "data, you could use the `bottom_level` or `mbathy` variables to do this. E.g:\n"
   ]
  },
  {
   "cell_type": "code",
   "execution_count": null,
   "id": "9312099b",
   "metadata": {},
   "outputs": [],
   "source": [
    "# Create a landmask array and put it into the nemo object.\n",
    "# Here, using the bottom_level == 0 variable from the domain file is enough.\n",
    "nemo.dataset[\"landmask\"] = nemo.dataset.bottom_level == 0\n",
    "\n",
    "# Then do the interpolation\n",
    "tidegauge_from_model = obs.obs_operator(nemo, time_interp='nearest')"
   ]
  },
  {
   "cell_type": "markdown",
   "id": "ad8d0be3-7941-40ba-af6f-ef747ae2912d",
   "metadata": {},
   "source": [
    "However, the new `tidegauge_from_model` will the same number of time entries as the `obs` data (rather than the model data). So, for a more useful demonstration we trim the observed gauge data so it better matches the model data."
   ]
  },
  {
   "cell_type": "code",
   "execution_count": null,
   "id": "cbcee060",
   "metadata": {},
   "outputs": [],
   "source": [
    "# Cut down data to be only in 2007 to match model data.\n",
    "start_date = datetime.datetime(2007, 1, 1)\n",
    "end_date = datetime.datetime(2007, 1, 31)\n",
    "obs = obs.time_slice(start_date, end_date)"
   ]
  },
  {
   "cell_type": "markdown",
   "id": "ae46af6e-94eb-4e5f-b2aa-7d6abf11e30c",
   "metadata": {},
   "source": [
    "### Interpolate model data onto obs locations"
   ]
  },
  {
   "cell_type": "code",
   "execution_count": null,
   "id": "4eac4319",
   "metadata": {},
   "outputs": [],
   "source": [
    "model_timeseries = obs.obs_operator(nemo)\n",
    "\n",
    "# Take a look\n",
    "model_timeseries.dataset"
   ]
  },
  {
   "cell_type": "markdown",
   "id": "88736e30",
   "metadata": {},
   "source": [
    "We can see that the structure for the new dataset `model_timeseries`, generated from the gridded model simulation, is that of a `tidegauge` object. NB in the example simulation data the ssh variable is output as 5-day means. So it is not particulatly useful for high frequency validation but serves as a demonstration of the workflow."
   ]
  },
  {
   "cell_type": "markdown",
   "id": "5ba915ea",
   "metadata": {},
   "source": [
    "## Tidegauge analysis methods\n",
    "\n",
    "For a good comparison, we would like to make sure that both the observed and\n",
    "modelled `Tidegauge` objects contain the same missing values. `TidegaugeAnalysis`\n",
    "contains a routine for ensuring this. First create our analysis object:"
   ]
  },
  {
   "cell_type": "code",
   "execution_count": null,
   "id": "6a364fdd",
   "metadata": {},
   "outputs": [],
   "source": [
    "tganalysis = coast.TidegaugeAnalysis()"
   ]
  },
  {
   "cell_type": "code",
   "execution_count": null,
   "id": "2ec2fed0",
   "metadata": {},
   "outputs": [],
   "source": [
    "# In this case, transpose the interpolated dataset\n",
    "model_timeseries.dataset = model_timeseries.dataset.transpose()\n",
    "\n",
    "# This routine searches for missing values in each dataset and applies them\n",
    "# equally to each corresponding dataset\n",
    "obs_new, model_new = tganalysis.match_missing_values(obs.dataset.ssh, model_timeseries.dataset.ssh)"
   ]
  },
  {
   "cell_type": "markdown",
   "id": "79577fad",
   "metadata": {},
   "source": [
    "Although we input data arrays to the above routine, it returns two new Tidegauge objects. Now you have equivalent and comparable sets of time series that can be easily compared."
   ]
  },
  {
   "cell_type": "markdown",
   "id": "a272f401-3021-49b8-88e6-254ee53914e0",
   "metadata": {},
   "source": [
    "### Harmonic Analysis & Non tidal-Residuals\n",
    "\n",
    "The `Tidegauge` object contains some routines which make harmonic analysis and\n",
    "the calculation/comparison of non-tidal residuals easier. Harmonic analysis is\n",
    "done using the `utide` package. Please see [here](https://pypi.org/project/UTide/) for more info.\n",
    "\n",
    "First we can use the `TidegaugeAnalysis` class to do a harmonic analysis. Suppose\n",
    "we have two `Tidegauge` objects called `obs` and `model_timeseries` generated from tidegauge observations and model simulations respectively.\n",
    "\n",
    "Then subtract means from all the time series"
   ]
  },
  {
   "cell_type": "code",
   "execution_count": null,
   "id": "62347fb4",
   "metadata": {},
   "outputs": [],
   "source": [
    "# Subtract means from all time series\n",
    "obs_new = tganalysis.demean_timeseries(obs_new.dataset)\n",
    "model_new = tganalysis.demean_timeseries(model_new.dataset)\n",
    "\n",
    "# Now you have equivalent and comparable sets of time series that can be\n",
    "# easily compared."
   ]
  },
  {
   "cell_type": "code",
   "execution_count": null,
   "id": "663a5270",
   "metadata": {},
   "outputs": [],
   "source": []
  },
  {
   "cell_type": "code",
   "execution_count": null,
   "id": "2d7aa25a",
   "metadata": {},
   "outputs": [],
   "source": [
    "plt.figure()\n",
    "plt.plot( model_new.dataset.time, model_new.dataset.ssh.isel(id_dim=stn_id),\n",
    "         label='model - demeaned', color='orange' )\n",
    "plt.plot( obs_new.dataset.time, obs_new.dataset.ssh.isel(id_dim=stn_id) ,\n",
    "         label='obs - demeaned', color='blue' )\n",
    "plt.title(f'model and observed timeseries : {obs_new.dataset.site_name.isel(id_dim=stn_id).coords}')\n",
    "plt.legend()\n",
    "plt.xticks(rotation=45)\n",
    "plt.show()"
   ]
  },
  {
   "cell_type": "markdown",
   "id": "36cb5707",
   "metadata": {},
   "source": [
    "Then we can apply the harmonic analysis (though the example data is too short for this example to be that meaningful and the model data is only saved as 5-day means! Nevertheless we proceed):"
   ]
  },
  {
   "cell_type": "markdown",
   "id": "2df64464-45cc-45a3-85fc-437fc2309743",
   "metadata": {},
   "source": [
    "### Calculate non tidal residuals\n"
   ]
  },
  {
   "cell_type": "markdown",
   "id": "d96b9c94",
   "metadata": {},
   "source": [
    "\n",
    "First, do a harmonic analysis. This routine uses utide"
   ]
  },
  {
   "cell_type": "code",
   "execution_count": null,
   "id": "658f7a9a",
   "metadata": {},
   "outputs": [],
   "source": [
    "ha_mod = tganalysis.harmonic_analysis_utide(model_new.dataset.ssh, min_datapoints=1)\n",
    "ha_obs = tganalysis.harmonic_analysis_utide(obs_new.dataset.ssh, min_datapoints=1)"
   ]
  },
  {
   "cell_type": "markdown",
   "id": "000717dd",
   "metadata": {},
   "source": [
    "The `harmonic_analysis_utide` routine returns a list of `utide` structure object,\n",
    "one for each `id_dim` in the `Tidegauge` object. It can be passed any of the\n",
    "arguments that go to `utide`. It also has an additional argument `min_datapoints`\n",
    "which determines a minimum number of data points for the harmonics analysis.\n",
    "If a tidegauge `id_dim` has less than this number, it will not return an analysis.\n",
    "\n",
    "Now, create new `TidegaugeMultiple` objects containing reconstructed tides:\n"
   ]
  },
  {
   "cell_type": "code",
   "execution_count": null,
   "id": "36bad30b",
   "metadata": {},
   "outputs": [],
   "source": [
    "tide_mod = tganalysis.reconstruct_tide_utide(model_new.dataset.time, ha_mod)\n",
    "tide_obs = tganalysis.reconstruct_tide_utide(obs_new.dataset.time, ha_obs)\n"
   ]
  },
  {
   "cell_type": "markdown",
   "id": "d6439a17",
   "metadata": {},
   "source": [
    "Get new TidegaugeMultiple objects containing non tidal residuals:"
   ]
  },
  {
   "cell_type": "code",
   "execution_count": null,
   "id": "84e7a3fb",
   "metadata": {},
   "outputs": [],
   "source": [
    "ntr_mod = tganalysis.calculate_non_tidal_residuals(model_new.dataset.ssh, tide_mod.dataset.reconstructed)\n",
    "ntr_obs = tganalysis.calculate_non_tidal_residuals(obs_new.dataset.ssh, tide_obs.dataset.reconstructed)\n",
    "\n",
    "# Take a look\n",
    "ntr_mod.dataset"
   ]
  },
  {
   "cell_type": "markdown",
   "id": "ac23e4ee",
   "metadata": {},
   "source": [
    "The dataset structure is preserved and has created a new variable called `ntr` - non-tidal residual.\n",
    "\n",
    "By default, this routines will apply `scipy.signal.savgol_filter` to the non-tidal residuals\n",
    "to remove some noise. This can be switched off using `apply_filter = False`.\n",
    "\n",
    "The Doodson X0 filter is an alternative way of estimating non-tidal residuals. This will return a new Tidegauge() object containing filtered ssh data:"
   ]
  },
  {
   "cell_type": "code",
   "execution_count": null,
   "id": "ae40e908",
   "metadata": {},
   "outputs": [],
   "source": [
    "dx0 = tganalysis.doodson_x0_filter(obs_new.dataset, \"ssh\")\n",
    "\n",
    "# take a look\n",
    "dx0.dataset\n"
   ]
  },
  {
   "cell_type": "markdown",
   "id": "ca8b8ae6",
   "metadata": {},
   "source": [
    "We can compare these analyses e.g. the observed timeseries against the harmonic reconstruction. Noting we can in principle extend the harmoninc reconstruction beyond the observation time window."
   ]
  },
  {
   "cell_type": "code",
   "execution_count": null,
   "id": "b23719a6",
   "metadata": {},
   "outputs": [],
   "source": [
    "plt.figure()\n",
    "plt.plot( tide_obs.dataset.time, tide_obs.dataset.reconstructed.isel(id_dim=stn_id), label='reconstructed from harmonics', color='orange' )\n",
    "plt.plot( obs_new.dataset.time, obs_new.dataset.ssh.isel(id_dim=stn_id) , label='observed', color='blue' )\n",
    "plt.legend()\n",
    "plt.xticks(rotation=45)\n",
    "plt.show()"
   ]
  },
  {
   "cell_type": "markdown",
   "id": "7b3c4076",
   "metadata": {},
   "source": [
    "We can also look closer at the difference between the observed timeseries and the harmonic reconstruction, that is the non-tidal residual. And we can compare the observed and modelled non-harmonic residual and contrast the different methods of removing the tides. Here we contrast using a harmonic analysis (and creating a \"non-tidal residual\") with the DoodsonX0 filter. Note that the timeseries is far too short for a sensible analysis and that this is really a demonstration of concept."
   ]
  },
  {
   "cell_type": "code",
   "execution_count": null,
   "id": "7a3abf06",
   "metadata": {},
   "outputs": [],
   "source": [
    "plt.figure()\n",
    "plt.subplot(2,1,1)\n",
    "plt.plot( dx0.dataset.time, dx0.isel(id_dim=stn_id).dataset.ssh, label='obs: doodsonX0 filtered', color='orange' )\n",
    "plt.plot( ntr_obs.dataset.time, ntr_obs.isel(id_dim=stn_id).dataset.ntr, label='obs: non-tidal residual', color='blue' )\n",
    "plt.title('analysis comparison: non-tidal residual vs doodsonX0')\n",
    "plt.legend()\n",
    "plt.xticks(rotation=45)\n",
    "\n",
    "plt.subplot(2,1,2)\n",
    "plt.plot( ntr_mod.dataset.time, ntr_mod.isel(id_dim=stn_id).dataset.ntr, label='model: non-tidal residual', color='g' )\n",
    "plt.plot( ntr_obs.dataset.time, ntr_obs.isel(id_dim=stn_id).dataset.ntr, label='obs: non-tidal residual', color='blue' )\n",
    "plt.title('model vs observation: non-tidal residual')\n",
    "plt.legend()\n",
    "plt.xticks(rotation=45)\n",
    "\n",
    "plt.tight_layout()\n"
   ]
  },
  {
   "cell_type": "markdown",
   "id": "b9e45f07-043d-4c46-9d82-27127e66ddde",
   "metadata": {},
   "source": [
    "### Threshold Statistics for non-tidal residuals\n",
    "\n",
    "This is a simple extreme value analysis of whatever data you use. It will count the number of peaks and the total time spent over each threshold provided. It will also count the numbers of daily and monthly maxima over each threshold. To this, a Tidegauge object and an array of thresholds (in metres) should be passed. The method return `peak_count_*`, `time_over_threshold_*`, `dailymax_count_*`, `monthlymax_count_*`:\n"
   ]
  },
  {
   "cell_type": "code",
   "execution_count": null,
   "id": "6dba7711",
   "metadata": {},
   "outputs": [],
   "source": [
    "thresh_mod = tganalysis.threshold_statistics(ntr_mod.dataset, thresholds=np.arange(-2, 2, 0.1))\n",
    "thresh_obs = tganalysis.threshold_statistics(ntr_obs.dataset, thresholds=np.arange(-2, 2, 0.1))"
   ]
  },
  {
   "cell_type": "code",
   "execution_count": null,
   "id": "d8e4b81a",
   "metadata": {},
   "outputs": [],
   "source": [
    "# Have a look\n",
    "thresh_obs"
   ]
  },
  {
   "cell_type": "code",
   "execution_count": null,
   "id": "34868071",
   "metadata": {},
   "outputs": [],
   "source": [
    "plt.plot( thresh_obs.threshold, thresh_obs.peak_count_ntr.mean(dim='id_dim') )\n",
    "#plt.ylim([0,15])\n",
    "plt.title(f\"Observed peaks over threshold\")\n",
    "plt.xlabel('Analysis threshold (m)')\n",
    "plt.ylabel('event count')"
   ]
  },
  {
   "cell_type": "markdown",
   "id": "1c344448",
   "metadata": {},
   "source": [
    "Note that the non-tidal residual is a noisy timeseries (computed as a difference between two timeseries) so peaks do not necessarily correspond to peaks in total water level. For this reason `time_over_threshold_*` can be useful. Below we see that about 6% (y-axis) of the observations of non-tidal residual exceed 20cm (x-axis). Again, threshold statistics are more useful with a longer record."
   ]
  },
  {
   "cell_type": "code",
   "execution_count": null,
   "id": "607364e5",
   "metadata": {},
   "outputs": [],
   "source": [
    "normalised_event_count = 100 * thresh_obs.time_over_threshold_ntr.isel(id_dim=stn_id) / thresh_obs.time_over_threshold_ntr.isel(id_dim=stn_id).max()\n",
    "\n",
    "plt.plot( thresh_obs.threshold, normalised_event_count )\n",
    "plt.ylim([0,20])\n",
    "plt.xlim([0.1,0.4])\n",
    "plt.title(f\"time over threshold\")\n",
    "plt.xlabel('Analysis threshold (m)')\n",
    "plt.ylabel('normalised event count (%)')\n",
    "plt.plot(thresh_obs.threshold[22], normalised_event_count[22], 'r+', markersize=20)"
   ]
  },
  {
   "cell_type": "markdown",
   "id": "101abcf1",
   "metadata": {},
   "source": [
    "\n",
    "## Other TidegaugeAnalysis methods \n",
    "\n",
    "### Calculate errors\n",
    "\n",
    "The difference() routine will calculate differences, absolute_differences and squared differenced for all variables. Corresponding new variables are created with names `diff_*`, `abs_diff_*` and `square_diff_*`"
   ]
  },
  {
   "cell_type": "code",
   "execution_count": null,
   "id": "c4231f71",
   "metadata": {},
   "outputs": [],
   "source": [
    "ntr_diff = tganalysis.difference(ntr_obs.dataset, ntr_mod.dataset)\n",
    "ssh_diff = tganalysis.difference(obs_new.dataset, model_new.dataset)\n",
    "\n",
    "# Take a look\n",
    "ntr_diff.dataset"
   ]
  },
  {
   "cell_type": "markdown",
   "id": "bc57ec3d",
   "metadata": {},
   "source": [
    "We can then easily get mean errors, MAE and MSE\n"
   ]
  },
  {
   "cell_type": "code",
   "execution_count": null,
   "id": "9e7597b4",
   "metadata": {},
   "outputs": [],
   "source": [
    "mean_stats = ntr_diff.dataset.mean(dim=\"t_dim\", skipna=True)"
   ]
  },
  {
   "cell_type": "code",
   "execution_count": null,
   "id": "400086e9",
   "metadata": {},
   "outputs": [],
   "source": []
  }
 ],
 "metadata": {
  "kernelspec": {
   "display_name": "Python 3 (ipykernel)",
   "language": "python",
   "name": "python3"
  },
  "language_info": {
   "codemirror_mode": {
    "name": "ipython",
    "version": 3
   },
   "file_extension": ".py",
   "mimetype": "text/x-python",
   "name": "python",
   "nbconvert_exporter": "python",
   "pygments_lexer": "ipython3",
   "version": "3.8.10"
  }
 },
 "nbformat": 4,
 "nbformat_minor": 5
}