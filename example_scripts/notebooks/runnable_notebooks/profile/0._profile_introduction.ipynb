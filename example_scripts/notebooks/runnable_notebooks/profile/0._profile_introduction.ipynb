{
 "cells": [
  {
   "cell_type": "markdown",
   "id": "fce85142",
   "metadata": {},
   "source": [
    "\n",
    "##  Example useage of Profile object.\n",
    "\n",
    "### Overview\n",
    "\n",
    "INDEXED type class for storing data from a CTD Profile (or similar\n",
    "down and up observations). The structure of the class is based around having\n",
    "discrete profile locations with independent depth dimensions and coords. \n",
    "The class dataset should contain two dimensions:\n",
    "\n",
    "    > id_dim      :: The profiles dimension. Each element of this dimension\n",
    "                 contains data (e.g. cast) for an individual location.\n",
    "    > z_dim   :: The dimension for depth levels. A profile object does not\n",
    "                 need to have shared depths, so NaNs might be used to\n",
    "                 pad any depth array.\n",
    "\n",
    "Alongside these dimensions, the following minimal coordinates should also\n",
    "be available:\n",
    "\n",
    "    > longitude (id_dim)   :: 1D array of longitudes, one for each id_dim\n",
    "    > latitude  (id_dim)   :: 1D array of latitudes, one for each id_dim\n",
    "    > time      (id_dim)   :: 1D array of times, one for each id_dim\n",
    "    > depth     (id_dim, z_dim)  :: 2D array of depths, with different depth\n",
    "                                levels being provided for each profile.\n",
    "                                Note that these depth levels need to be\n",
    "                                stored in a 2D array, so NaNs can be used\n",
    "                                to pad out profiles with shallower depths.\n",
    "    > id_name   (id_dim)   :: [Optional] Name of id_dim/case or id_dim number.\n",
    "\n",
    "## Introduction to Profile and ProfileAnalysis\n",
    "\n",
    "Below is a description of the available example scripts for this class as well\n",
    "as an overview of validation using `Profile` and `ProfileAnalysis`.\n",
    "\n",
    "### Example Scripts\n",
    "\n",
    "Please see `COAsT/example_scripts/notesbooks/runnable_notebooks/profile_validation/*.ipynb` and `COAsT/example_scripts/profile_validation/*.py` for some notebooks and equivalent scripts which\n",
    "demonstrate how to use the Profile and ProfileAnalysis classes for model\n",
    "validation. \n",
    "\n",
    "1. `analysis_preprocess_en4.py` : If you're using EN4 data, this kind of script\n",
    "might be your first step for analysis.\n",
    "\n",
    "2. `analysis_extract_and_compare.py`: This script shows you how to extract\n",
    "the nearest model profiles, compare them with EN4 observations and get errors\n",
    "throughout the vertical dimension and averaged in surface and bottom zones\n",
    "\n",
    "3. `analysis_extract_and_compare_single_process.py`: This script does the same\n",
    "as number 2. However, it is modified slightly to take a command line argument\n",
    "which helps it figure out which dates to analyse. This means that this script\n",
    "can act as a template for `jug` type parallel processing on, e.g. JASMIN.\n",
    "\n",
    "4. `analysis_mask_means.py`: This script demonstrates how to use boolean masks\n",
    "to obtain regional averages of profiles and errors.\n",
    "\n",
    "5. `analysis_average_into_grid_boxes.py`: This script demonstrates how to \n",
    "average the data inside a `Profile` object into regular grid boxes and \n",
    "seasonal climatologies.\n",
    "\n",
    "## Load and preprocess profile and model data\n",
    "\n",
    "Start by loading python packages\n"
   ]
  },
  {
   "cell_type": "code",
   "execution_count": null,
   "id": "773ad868",
   "metadata": {
    "pycharm": {
     "name": "#%%\n"
    }
   },
   "outputs": [],
   "source": [
    "import coast\n",
    "from os import path\n",
    "import numpy as np\n",
    "import matplotlib.pyplot as plt"
   ]
  },
  {
   "cell_type": "markdown",
   "id": "a7360869",
   "metadata": {
    "pycharm": {
     "name": "#%% md\n"
    }
   },
   "source": [
    "We can create a new Profile object easily:"
   ]
  },
  {
   "cell_type": "code",
   "execution_count": null,
   "id": "30eaeb5c",
   "metadata": {
    "pycharm": {
     "name": "#%%\n"
    }
   },
   "outputs": [],
   "source": [
    "profile = coast.Profile()"
   ]
  },
  {
   "cell_type": "markdown",
   "id": "bd96e4ef",
   "metadata": {
    "pycharm": {
     "name": "#%% md\n"
    }
   },
   "source": [
    "Currently, this object is empty, and contains no dataset. There are some\n",
    "reading routines currently available in Profile for reading EN4 or WOD data\n",
    "files. These can be used to easily read data into your new profile object:\n"
   ]
  },
  {
   "cell_type": "code",
   "execution_count": null,
   "id": "e5abc701",
   "metadata": {
    "pycharm": {
     "name": "#%%\n"
    }
   },
   "outputs": [],
   "source": [
    "# Read WOD data into profile object\n",
    "fn_prof = path.join(\"example_files\",\"WOD_example_ragged_standard_level.nc\")\n",
    "profile.read_wod( fn_prof )\n",
    "\n",
    "# Read EN4 data into profile object (OVERWRITES DATASET)\n",
    "fn_prof = path.join(\"example_files\", \"coast_example_en4_201008.nc\")\n",
    "fn_cfg_prof = path.join(\"config\",\"example_en4_profiles.json\")\n",
    "profile = coast.Profile(config=fn_cfg_prof)\n",
    "profile.read_en4( fn_prof )"
   ]
  },
  {
   "cell_type": "markdown",
   "id": "93799184",
   "metadata": {
    "pycharm": {
     "name": "#%% md\n"
    }
   },
   "source": [
    "Alternatively, you can pass an `xarray.dataset` straight to Profile:\n",
    "```\n",
    "profile = coast.Profile( dataset = your_dataset, config = config_file [opt] )\n",
    "```"
   ]
  },
  {
   "cell_type": "markdown",
   "id": "5fe9b182",
   "metadata": {
    "pycharm": {
     "name": "#%% md\n"
    }
   },
   "source": [
    "If you are using EN4 data, you can use the `process_en4()` routine to apply\n",
    "quality control flags to the data (replacing with NaNs):"
   ]
  },
  {
   "cell_type": "code",
   "execution_count": null,
   "id": "8b5c8d53",
   "metadata": {
    "pycharm": {
     "name": "#%%\n"
    }
   },
   "outputs": [],
   "source": [
    "processed_profile = profile.process_en4()\n",
    "profile = processed_profile"
   ]
  },
  {
   "cell_type": "markdown",
   "id": "bf26b82e",
   "metadata": {},
   "source": [
    "We can do some simple spatial and temporal manipulations of this data:"
   ]
  },
  {
   "cell_type": "code",
   "execution_count": null,
   "id": "8f2cdc8c",
   "metadata": {
    "pycharm": {
     "name": "#%%\n"
    }
   },
   "outputs": [],
   "source": [
    "# Cut out a geographical box\n",
    "profile = profile.subset_indices_lonlat_box(lonbounds = [-15, 15],\n",
    "                                            latbounds = [45, 65])\n",
    "\n",
    "# Cut out a time window\n",
    "profile = profile.time_slice( date0 = np.datetime64('2010-01-01'), date1 = np.datetime64(\"2010-01-20\"))"
   ]
  },
  {
   "cell_type": "markdown",
   "id": "18db7eba",
   "metadata": {
    "pycharm": {
     "name": "#%% md\n"
    }
   },
   "source": [
    "### Inspect profile locations\n",
    "Have a look inside the `profile.py` class to see what it can do"
   ]
  },
  {
   "cell_type": "code",
   "execution_count": null,
   "id": "9ca87048",
   "metadata": {
    "pycharm": {
     "name": "#%%\n"
    }
   },
   "outputs": [],
   "source": [
    "profile.plot_map()"
   ]
  },
  {
   "cell_type": "markdown",
   "id": "8958c1c0",
   "metadata": {
    "pycharm": {
     "name": "#%% md\n"
    }
   },
   "source": [
    "### Direct Model comparison using obs_operator() method\n",
    "\n",
    "There are a number of routines available for interpolating in the horizontal,\n",
    "vertical and in time to do direct comparisons of model and profile data.\n",
    "`Profile.obs_operator` will do a nearest neighbour spatial interpolation of\n",
    "the data in a `Gridded` object to profile latitudes/longitudes. It will also\n",
    "do a custom time interpolation.\n",
    "\n",
    "#### First load some model data:"
   ]
  },
  {
   "cell_type": "code",
   "execution_count": null,
   "id": "bba61dbf",
   "metadata": {
    "pycharm": {
     "name": "#%%\n"
    }
   },
   "outputs": [],
   "source": [
    "root = \"./\"\n",
    "# And by defining some file paths\n",
    "dn_files = root + \"./example_files/\"\n",
    "fn_nemo_dat = path.join(dn_files, \"coast_example_nemo_data.nc\")\n",
    "fn_nemo_dom = path.join(dn_files, \"coast_example_nemo_domain.nc\")\n",
    "fn_nemo_config = path.join(root, \"./config/example_nemo_grid_t.json\")\n",
    "\n",
    "# Create gridded object:\n",
    "nemo = coast.Gridded(fn_nemo_dat, fn_nemo_dom, multiple=True, config=fn_nemo_config)"
   ]
  },
  {
   "cell_type": "markdown",
   "id": "6438363a",
   "metadata": {
    "pycharm": {
     "name": "#%% md\n"
    }
   },
   "source": [
    "#### Create a landmask array in Gridded\n",
    "In this example we add a `landmask` variable to the `Gridded` dataset.\n",
    "When this is present, the `obs_operator` will use this to interpolation to the\n",
    "nearest *wet* point. If not present, it will just take the nearest grid point (not implemented).\n",
    "\n",
    "We also rename the depth at initial time coordinate `depth_0` to `depth` as this is expected by Profile()"
   ]
  },
  {
   "cell_type": "code",
   "execution_count": null,
   "id": "13204fcc",
   "metadata": {
    "pycharm": {
     "name": "#%%\n"
    }
   },
   "outputs": [],
   "source": [
    "nemo.dataset[\"landmask\"] = nemo.dataset.bottom_level == 0\n",
    "nemo.dataset = nemo.dataset.rename({\"depth_0\": \"depth\"})  # profile methods will expect a `depth` coordinate"
   ]
  },
  {
   "cell_type": "markdown",
   "id": "d004c0a5",
   "metadata": {
    "pycharm": {
     "name": "#%% md\n"
    }
   },
   "source": [
    "### Interpolate model to horizontal observation locations using obs_operator() method"
   ]
  },
  {
   "cell_type": "code",
   "execution_count": null,
   "id": "fa6650d9",
   "metadata": {
    "pycharm": {
     "name": "#%%\n"
    }
   },
   "outputs": [],
   "source": [
    "# Use obs operator for horizontal remapping of Gridded onto Profile.\n",
    "model_profiles = profile.obs_operator(nemo)"
   ]
  },
  {
   "cell_type": "markdown",
   "id": "af86b273",
   "metadata": {
    "pycharm": {
     "name": "#%% md\n"
    }
   },
   "source": [
    "Now that we have interpolated the model onto Profiles, we have a new Profile\n",
    "object called `model_profiles`. This can be used to do some comparisons with\n",
    "our original `processed_profile` object, which we created above.\n",
    "\n",
    "### Discard profiles where the interpolation distance is too large\n",
    "\n",
    "However maybe we first want to restrict the set of model profiles to those that\n",
    " were close to the observations; perhaps, for example, the observational profiles are beyond the model domain.\n",
    "The model resolution would be an appropriate scale to pick"
   ]
  },
  {
   "cell_type": "code",
   "execution_count": null,
   "id": "c2fdeaeb",
   "metadata": {
    "pycharm": {
     "name": "#%%\n"
    }
   },
   "outputs": [],
   "source": [
    "too_far = 7  # distance km\n",
    "keep_indices = model_profiles.dataset.interp_dist <= too_far\n",
    "model_profiles = model_profiles.isel(id_dim=keep_indices)\n",
    "\n",
    "# Also drop the unwanted observational profiles\n",
    "profile = profile.isel(id_dim=keep_indices)"
   ]
  },
  {
   "cell_type": "markdown",
   "id": "5790cd22",
   "metadata": {
    "pycharm": {
     "name": "#%% md\n"
    }
   },
   "source": [
    "## Profile analysis\n",
    "\n",
    "### Create an object for Profile analysis\n",
    "\n",
    "Let's make our ProfileAnalysis object:"
   ]
  },
  {
   "cell_type": "code",
   "execution_count": null,
   "id": "2272ee1d",
   "metadata": {
    "pycharm": {
     "name": "#%%\n"
    }
   },
   "outputs": [],
   "source": [
    "analysis = coast.ProfileAnalysis()"
   ]
  },
  {
   "cell_type": "markdown",
   "id": "e3db5398",
   "metadata": {
    "pycharm": {
     "name": "#%% md\n"
    }
   },
   "source": [
    "We can use `ProfileAnalysis.interpolate_vertical` to interpolate all variables\n",
    "within a Profile object. This can be done onto a set of reference depths or,\n",
    "matching another object's depth coordinates by passing another profile object.\n",
    "Let's interpolate our model profiles onto observations depths, then interpolate\n",
    "both onto a set of reference depths:"
   ]
  },
  {
   "cell_type": "code",
   "execution_count": null,
   "id": "8a5b8fa3",
   "metadata": {
    "pycharm": {
     "name": "#%%\n"
    }
   },
   "outputs": [],
   "source": [
    "### Set depth averaging settings\n",
    "ref_depth = np.concatenate((np.arange(1, 100, 2), np.arange(100, 300, 5), np.arange(300, 1000, 50)))"
   ]
  },
  {
   "cell_type": "code",
   "execution_count": null,
   "id": "e7b718e7",
   "metadata": {
    "pycharm": {
     "name": "#%%\n"
    }
   },
   "outputs": [],
   "source": [
    "# Interpolate model profiles onto observation depths\n",
    "model_profiles_interp = analysis.interpolate_vertical(model_profiles, profile, interp_method=\"linear\")\n"
   ]
  },
  {
   "cell_type": "code",
   "execution_count": null,
   "id": "c8322758",
   "metadata": {
    "pycharm": {
     "name": "#%%\n"
    }
   },
   "outputs": [],
   "source": [
    "# Vertical interpolation of model profiles to reference depths\n",
    "model_profiles_interp_ref = analysis.interpolate_vertical(model_profiles_interp, ref_depth)"
   ]
  },
  {
   "cell_type": "markdown",
   "id": "03cd3eba",
   "metadata": {
    "pycharm": {
     "name": "#%% md\n"
    }
   },
   "source": [
    "```\n",
    "# Interpolation of obs profiles to reference depths\n",
    "profile_interp_ref = analysis.interpolate_vertical(profile, ref_depth)\n",
    "```\n",
    "However, there is a problem here as the `interpolate_vertical()` method tries to map the whole contents of `profile` to the `ref_depth` and the `profile` object contains some binary data from the original qc flags. The data from the qc flags was mapped using `process_en4()` so the original qc entries can be removed."
   ]
  },
  {
   "cell_type": "code",
   "execution_count": null,
   "id": "80fc1714",
   "metadata": {
    "pycharm": {
     "name": "#%%\n"
    }
   },
   "outputs": [],
   "source": [
    "## Strip out old QC variables\n",
    "profile.dataset = profile.dataset.drop_vars(['qc_potential_temperature','qc_practical_salinity',\n",
    "                                 'qc_depth','qc_time',\n",
    "                                 'qc_flags_profiles','qc_flags_levels'])"
   ]
  },
  {
   "cell_type": "code",
   "execution_count": null,
   "id": "87801c48",
   "metadata": {
    "pycharm": {
     "name": "#%%\n"
    }
   },
   "outputs": [],
   "source": [
    "# Interpolation of obs profiles to reference depths\n",
    "profile_interp_ref = analysis.interpolate_vertical(profile, ref_depth)"
   ]
  },
  {
   "cell_type": "markdown",
   "id": "1f62c76a",
   "metadata": {
    "pycharm": {
     "name": "#%% md\n"
    }
   },
   "source": [
    "### Differencing\n",
    "\n",
    "Now that we have two Profile objects that are horizontally and vertically\n",
    "comparable, we can use `difference()` to get some basic errors:"
   ]
  },
  {
   "cell_type": "code",
   "execution_count": null,
   "id": "3e43265e",
   "metadata": {
    "pycharm": {
     "name": "#%%\n"
    }
   },
   "outputs": [],
   "source": [
    "differences = analysis.difference(profile_interp_ref, model_profiles_interp_ref)"
   ]
  },
  {
   "cell_type": "markdown",
   "id": "728e13c7",
   "metadata": {
    "pycharm": {
     "name": "#%% md\n"
    }
   },
   "source": [
    "This will return a new `Profile` object that contains the variable difference,\n",
    "absolute differences and square differences at all depths and means for each\n",
    "profile.\n",
    "\n",
    "Type\n",
    "```\n",
    "differences.dataset\n",
    "```\n",
    "to see what it returns"
   ]
  },
  {
   "cell_type": "code",
   "execution_count": null,
   "id": "c63dc470",
   "metadata": {
    "pycharm": {
     "name": "#%%\n"
    }
   },
   "outputs": [],
   "source": [
    "# E.g. plot the differences on ind_dim vs z_dim axes\n",
    "differences.dataset.diff_temperature.plot()"
   ]
  },
  {
   "cell_type": "code",
   "execution_count": null,
   "id": "164e7e50",
   "metadata": {
    "pycharm": {
     "name": "#%%\n"
    }
   },
   "outputs": [],
   "source": [
    "# or a bit prettier on labelled axes\n",
    "cmap=plt.get_cmap('seismic')\n",
    "fig = plt.figure(figsize=(8, 3))\n",
    "\n",
    "plt.pcolormesh( differences.dataset.time, ref_depth, differences.dataset.diff_temperature.T,\n",
    "                    label='abs_diff', cmap=cmap,\n",
    "                    vmin=-5, vmax=5)\n",
    "plt.ylim([0,200])\n",
    "plt.gca().invert_yaxis()\n",
    "plt.ylabel('depth')\n",
    "plt.colorbar( label='temperature diff (obs-model)')"
   ]
  },
  {
   "cell_type": "markdown",
   "id": "cd62f0b5",
   "metadata": {
    "pycharm": {
     "name": "#%% md\n"
    }
   },
   "source": [
    "### Layer Averaging\n",
    "\n",
    "We can use the `Profile` object to get mean values between specific depth levels\n",
    "or for some layer above the bathymetric depth. The former can be done using\n",
    "`ProfileAnalysis.depth_means()`, for example the following will return a new\n",
    "Profile object containing the means of all variables between 0m and 5m:"
   ]
  },
  {
   "cell_type": "code",
   "execution_count": null,
   "id": "34599281",
   "metadata": {
    "pycharm": {
     "name": "#%%\n"
    }
   },
   "outputs": [],
   "source": [
    "profile_surface = analysis.depth_means(profile, [0, 5])  # 0 - 5 metres"
   ]
  },
  {
   "cell_type": "markdown",
   "id": "5822ef7c",
   "metadata": {
    "pycharm": {
     "name": "#%% md\n"
    }
   },
   "source": [
    "But since this can work on any Profile object it would be more interesting to apply it to the differences\n",
    "between the interpolated observations and model points"
   ]
  },
  {
   "cell_type": "code",
   "execution_count": null,
   "id": "d9de28c2",
   "metadata": {
    "pycharm": {
     "name": "#%%\n"
    }
   },
   "outputs": [],
   "source": [
    "surface_def = 10  # in metres\n",
    "\n",
    "model_profiles_surface = analysis.depth_means(model_profiles_interp_ref, [0, surface_def])\n",
    "obs_profiles_surface   = analysis.depth_means(profile_interp_ref, [0, surface_def])\n",
    "surface_errors = analysis.difference(obs_profiles_surface, model_profiles_surface)\n",
    "\n",
    "# Plot (observation - model) upper 10m averaged temperatures\n",
    "surface_errors.plot_map(var_str=\"diff_temperature\")"
   ]
  },
  {
   "cell_type": "markdown",
   "id": "bbd1e9be",
   "metadata": {},
   "source": [
    "This can be done for any arbitrary depth layer defined by two depths.\n",
    "\n",
    "However, in some cases it may be that one of the depth levels is not defined by a constant,\n",
    " e.g. when calculating bottom means. In this case you may want to calculate averages over a\n",
    "  height from the bottom that is conditional on the bottom depth. This can be done using\n",
    "   `ProfileAnalysis.bottom_means()`. For example:"
   ]
  },
  {
   "cell_type": "code",
   "execution_count": null,
   "id": "16252ee7",
   "metadata": {
    "pycharm": {
     "name": "#%%\n"
    }
   },
   "outputs": [],
   "source": [
    "bottom_height = [10, 50, 100]  # Average over bottom heights of 10m, 30m and 100m for...\n",
    "bottom_thresh = [100, 500, np.inf]  # ...bathymetry depths less than 100m, 100-500m and 500-infinite\n",
    "model_profiles_bottom = analysis.bottom_means(model_profiles_interp_ref, bottom_height, bottom_thresh)"
   ]
  },
  {
   "cell_type": "markdown",
   "id": "f93894de",
   "metadata": {
    "pycharm": {
     "name": "#%% md\n"
    }
   },
   "source": [
    "similarly compute the same for the observations... though first we have to patch in a `bathymetry` variable\n",
    "that will be expected by the method. Grab it from the model dataset."
   ]
  },
  {
   "cell_type": "code",
   "execution_count": null,
   "id": "8aaff406",
   "metadata": {
    "pycharm": {
     "name": "#%%\n"
    }
   },
   "outputs": [],
   "source": [
    "profile_interp_ref.dataset[\"bathymetry\"] = ([\"id_dim\"], model_profiles_interp_ref.dataset[\"bathymetry\"].values)\n",
    "obs_profiles_bottom = analysis.bottom_means(profile_interp_ref, bottom_height, bottom_thresh)"
   ]
  },
  {
   "cell_type": "markdown",
   "id": "d3ab0e15",
   "metadata": {
    "pycharm": {
     "name": "#%% md\n"
    }
   },
   "source": [
    "Now the difference can be calculated"
   ]
  },
  {
   "cell_type": "code",
   "execution_count": null,
   "id": "f836489b",
   "metadata": {
    "pycharm": {
     "name": "#%%\n"
    }
   },
   "outputs": [],
   "source": [
    "bottom_errors = analysis.difference( obs_profiles_bottom, model_profiles_bottom)\n",
    "\n",
    "# Plot (observation - model) upper 10m averaged temperatures\n",
    "bottom_errors.plot_map(var_str=\"diff_temperature\")"
   ]
  },
  {
   "cell_type": "markdown",
   "id": "2bc1dba8",
   "metadata": {
    "pycharm": {
     "name": "#%% md\n"
    }
   },
   "source": [
    "**NOTE1**: The bathymetry variable does not actually need to contain bathymetric depths, it can also be used to calculate means above any non-constant surface. For example, it could be mixed layer depth.\n",
    "\n",
    "**NOTE2**: This can be done for any Profile object. So, you could use this workflow to also average a Profile derived from the `difference()` routine."
   ]
  },
  {
   "cell_type": "code",
   "execution_count": null,
   "id": "9c02b3c9",
   "metadata": {
    "pycharm": {
     "name": "#%%\n"
    }
   },
   "outputs": [],
   "source": [
    "# Since they are indexed by 'id_dim' they can be plotted against time\n",
    "fig = plt.figure(figsize=(8, 3))\n",
    "\n",
    "plt.plot( surface_errors.dataset.time, surface_errors.dataset.diff_temperature, '.', label='surf T' )\n",
    "plt.plot( bottom_errors.dataset.time, bottom_errors.dataset.diff_temperature, '.', label='bed T' )\n",
    "plt.xlabel('time')\n",
    "plt.ylabel('temperature errors')\n",
    "plt.legend()\n",
    "plt.title(\"Temperature diff (obs-model)\")"
   ]
  },
  {
   "cell_type": "markdown",
   "id": "d5555bb9",
   "metadata": {
    "pycharm": {
     "name": "#%% md\n"
    }
   },
   "source": [
    "### Regional (Mask) Averaging\n",
    "\n",
    "We can use `Profile` in combination with `MaskMaker` to calculate averages over\n",
    "regions defined by masks. For example, to get the mean errors in the North Sea.\n",
    "Start by creating a list of boolean masks we would like to use:"
   ]
  },
  {
   "cell_type": "code",
   "execution_count": null,
   "id": "eba4492b",
   "metadata": {
    "pycharm": {
     "name": "#%%\n"
    }
   },
   "outputs": [],
   "source": [
    "mm = coast.MaskMaker()\n",
    "\n",
    "# Define Regional Masks\n",
    "regional_masks = []\n",
    "\n",
    "# Define convenient aliases based on nemo data\n",
    "lon = nemo.dataset.longitude.values\n",
    "lat = nemo.dataset.latitude.values\n",
    "bathy = nemo.dataset.bathymetry.values\n",
    "\n",
    "# Add regional mask for whole domain\n",
    "regional_masks.append(np.ones(lon.shape))\n",
    "\n",
    "# Add regional mask for English Channel\n",
    "regional_masks.append(mm.region_def_nws_english_channel(lon, lat, bathy))\n",
    "region_names = [\"whole_domain\",\"english_channel\",]"
   ]
  },
  {
   "cell_type": "markdown",
   "id": "92c16e1f",
   "metadata": {
    "pycharm": {
     "name": "#%% md\n"
    }
   },
   "source": [
    "Next, we must make these masks into datasets using `MaskMaker.make_mask_dataset`.\n",
    "Masks should be 2D datasets defined by booleans. In our example here we have used\n",
    "the latitude/longitude array from the nemo object, however it can be defined\n",
    "however you like."
   ]
  },
  {
   "cell_type": "code",
   "execution_count": null,
   "id": "2281b970",
   "metadata": {
    "pycharm": {
     "name": "#%%\n"
    }
   },
   "outputs": [],
   "source": [
    "mask_list = mm.make_mask_dataset(lon, lat, regional_masks)"
   ]
  },
  {
   "cell_type": "markdown",
   "id": "5f4f223b",
   "metadata": {
    "pycharm": {
     "name": "#%% md\n"
    }
   },
   "source": [
    "Then we use `ProfileAnalysis.determine_mask_indices` to figure out which\n",
    "profiles in a `Profile` object lie within each regional mask:"
   ]
  },
  {
   "cell_type": "code",
   "execution_count": null,
   "id": "00597ac4",
   "metadata": {
    "pycharm": {
     "name": "#%%\n"
    }
   },
   "outputs": [],
   "source": [
    "mask_indices = analysis.determine_mask_indices(profile, mask_list)"
   ]
  },
  {
   "cell_type": "markdown",
   "id": "20cac4be",
   "metadata": {
    "pycharm": {
     "name": "#%% md\n"
    }
   },
   "source": [
    "This returns an object called `mask_indices`, which is required to pass to\n",
    "`ProfileAnalysis.mask_means()`. This routine will return a new xarray dataset\n",
    "containing averaged data for each region:"
   ]
  },
  {
   "cell_type": "code",
   "execution_count": null,
   "id": "b73f43db",
   "metadata": {
    "pycharm": {
     "name": "#%%\n"
    }
   },
   "outputs": [],
   "source": [
    "mask_means = analysis.mask_means(profile, mask_indices)"
   ]
  },
  {
   "cell_type": "markdown",
   "id": "18d042fe",
   "metadata": {
    "pycharm": {
     "name": "#%% md\n"
    }
   },
   "source": [
    "which can be visualised or further processed"
   ]
  },
  {
   "cell_type": "code",
   "execution_count": null,
   "id": "d45aac07",
   "metadata": {
    "pycharm": {
     "name": "#%%\n"
    }
   },
   "outputs": [],
   "source": [
    "for count_region in range(len(region_names)):\n",
    "    plt.plot( mask_means.profile_mean_temperature.isel(dim_mask=count_region),\n",
    "          mask_means.profile_mean_depth.isel(dim_mask=count_region),\n",
    "          label=region_names[count_region],\n",
    "          marker=\".\", linestyle='none')\n",
    "\n",
    "plt.ylim([10,1000])\n",
    "plt.yscale(\"log\")\n",
    "plt.gca().invert_yaxis()\n",
    "plt.xlabel('temperature'); plt.ylabel('depth')\n",
    "plt.legend()\n"
   ]
  },
  {
   "cell_type": "markdown",
   "id": "a7051b22",
   "metadata": {
    "pycharm": {
     "name": "#%% md\n"
    }
   },
   "source": [
    "### Gridding Profile Data\n",
    "\n",
    "If you have large amount of profile data you may want to average it into\n",
    "grid boxes to get, for example, mean error maps or climatologies. This can be\n",
    "done using `ProfileAnalysis.average_into_grid_boxes()`.\n",
    "\n",
    "We can create a gridded dataset shape `(y_dim, x_dim)` from all the data using:"
   ]
  },
  {
   "cell_type": "code",
   "execution_count": null,
   "id": "b84802ac",
   "metadata": {
    "pycharm": {
     "name": "#%%\n"
    }
   },
   "outputs": [],
   "source": [
    "grid_lon = np.arange(-15, 15, 0.5)\n",
    "grid_lat = np.arange(45, 65, 0.5)\n",
    "prof_gridded = analysis.average_into_grid_boxes(profile, grid_lon, grid_lat)\n",
    "# NB this method does not separately treat `z_dim`, see docstr"
   ]
  },
  {
   "cell_type": "code",
   "execution_count": null,
   "id": "a3cae42d",
   "metadata": {
    "pycharm": {
     "name": "#%%\n"
    }
   },
   "outputs": [],
   "source": [
    "lat = prof_gridded.dataset.latitude\n",
    "lon = prof_gridded.dataset.longitude\n",
    "temperature = prof_gridded.dataset.temperature\n",
    "\n",
    "plt.pcolormesh( lon, lat, temperature)\n",
    "plt.title('gridded mean temperature')\n",
    "plt.colorbar()"
   ]
  },
  {
   "cell_type": "markdown",
   "id": "61c2a438",
   "metadata": {
    "pycharm": {
     "name": "#%% md\n"
    }
   },
   "source": [
    "Alternatively, we can calculate averages for each season:"
   ]
  },
  {
   "cell_type": "code",
   "execution_count": null,
   "id": "828632e0",
   "metadata": {
    "pycharm": {
     "name": "#%%\n"
    }
   },
   "outputs": [],
   "source": [
    "prof_gridded_DJF = analysis.average_into_grid_boxes(profile, grid_lon, grid_lat, season=\"DJF\", var_modifier=\"_DJF\")\n",
    "prof_gridded_MAM = analysis.average_into_grid_boxes(profile, grid_lon, grid_lat, season=\"MAM\", var_modifier=\"_MAM\")\n",
    "prof_gridded_JJA = analysis.average_into_grid_boxes(profile, grid_lon, grid_lat, season=\"JJA\", var_modifier=\"_JJA\")\n",
    "prof_gridded_SON = analysis.average_into_grid_boxes(profile, grid_lon, grid_lat, season=\"SON\", var_modifier=\"_SON\")"
   ]
  },
  {
   "cell_type": "markdown",
   "id": "07acdf68",
   "metadata": {},
   "source": [
    "Here, `season` specifies which season to average over and `var_modifier` is added to the end of\n",
    "all variable names in the object's dataset.\n",
    "\n",
    "NB with the example data only DJF has any data.\n",
    "\n",
    "This function returns a new Gridded object. It also contains a new variable\n",
    "called `grid_N`, which stores how many profiles were averaged into each grid box.\n",
    "You may want to use this when using or extending the analysis. E.g. use it with plot symbol size"
   ]
  },
  {
   "cell_type": "code",
   "execution_count": null,
   "id": "43c0f600",
   "metadata": {
    "pycharm": {
     "name": "#%%\n"
    }
   },
   "outputs": [],
   "source": [
    "temperature = prof_gridded_DJF.dataset.temperature_DJF\n",
    "N = prof_gridded_DJF.dataset.grid_N_DJF\n",
    "plt.scatter( lon, lat, c=temperature, s=N)\n",
    "plt.title('DJF gridded mean temperature')\n",
    "plt.colorbar()"
   ]
  }
 ],
 "metadata": {
  "kernelspec": {
   "display_name": "Python 3 (ipykernel)",
   "language": "python",
   "name": "python3"
  },
  "language_info": {
   "codemirror_mode": {
    "name": "ipython",
    "version": 3
   },
   "file_extension": ".py",
   "mimetype": "text/x-python",
   "name": "python",
   "nbconvert_exporter": "python",
   "pygments_lexer": "ipython3",
   "version": "3.8.10"
  }
 },
 "nbformat": 4,
 "nbformat_minor": 5
}