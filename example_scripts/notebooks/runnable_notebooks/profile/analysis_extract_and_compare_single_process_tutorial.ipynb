{
 "cells": [
  {
   "cell_type": "markdown",
   "id": "625382e0-87ed-4505-b7e1-3175cee4604f",
   "metadata": {},
   "source": [
    "This runs the same analysis as `analysis_extract_and_compare.py` however it\n",
    "does so in time blocks (multiples of months) to avoid memory problems, and can not be run with the `example_files`.\n",
    "At the top of this file are two variables called min_date and end_date\n",
    "and freq_monthgs. These are the dates that this script will run an analysis\n",
    "between and the monthly multiples to run per block. You must pass an index\n",
    "to this file at the command line, telling the script which month index to run.  \n",
    "\n",
    "For example... If the dates are between 20040101 and 20050101, then an index\n",
    "of 0 will run for the period 20040101 -> 20040201. An index of 4 will run\n",
    "for the period 20040301 -> 20040401.\n",
    "\n",
    "This script exists to be used as part of a parallel scheme on a platform like\n",
    "JASMIN. For example, using a command interface such as jug. This script\n",
    "should be run on each process, being passed just a single index.\n",
    "\n",
    "If uneditted, this script will output five files PER PROCESS to the output\n",
    "directory specified by dn_out:\n",
    "\n",
    "1) extracted_profiles: Model data on model levels extracted at obs locs\n",
    "2) interpolated_profiles: Model data on ref depth level\n",
    "3) interpolated_obs: Obs data on ref depth levels\n",
    "4) profile_errors: Differences between interpolated_profiles and _obs\n",
    "5) surface_data: Surface data and errors\n",
    "6) bottom_data: Bottom data and errors\n",
    "\n",
    "The files can then be concatenated and given to an averaging routine such\n",
    "as `analysis_mask_means.py` or `analysis_average_into_grid.py`."
   ]
  },
  {
   "cell_type": "markdown",
   "id": "9b5db0a8-b528-4d78-a10b-b16618618723",
   "metadata": {},
   "source": [
    "### Import relevant packages"
   ]
  },
  {
   "cell_type": "markdown",
   "id": "9ced2f1a",
   "metadata": {},
   "source": [
    "```\n",
    "import sys\n",
    "import coast\n",
    "import xarray as xr\n",
    "import numpy as np\n",
    "import datetime\n",
    "from dateutil.relativedelta import relativedelta\n",
    "```"
   ]
  },
  {
   "cell_type": "markdown",
   "id": "a2d90a66-f4f7-4f15-8864-bb7dc70596e3",
   "metadata": {},
   "source": [
    "### Define settings"
   ]
  },
  {
   "cell_type": "markdown",
   "id": "a75705e7",
   "metadata": {},
   "source": [
    "```\n",
    "index = 1\n",
    "# Name of the run -- used mainly for naming output files\n",
    "run_name = \"co7\"\n",
    "# Start and end dates for the analysis. The script will cut down model\n",
    "# and EN4 data to be witin this range.\n",
    "min_date = datetime.datetime(2004, 1, 1)\n",
    "freq_months = 12\n",
    "end_date = datetime.datetime(2004, 3, 1)\n",
    "```"
   ]
  },
  {
   "cell_type": "markdown",
   "id": "75c49b95-537d-4e56-8b5b-0fc7959068c8",
   "metadata": {},
   "source": [
    "### Figure out what the date range is for this analysis process"
   ]
  },
  {
   "cell_type": "markdown",
   "id": "1d470d41",
   "metadata": {},
   "source": [
    "```\n",
    "start_date = min_date + relativedelta(months=int(index * freq_months))\n",
    "end_date = start_date + relativedelta(months=int(freq_months))\n",
    "print(\"Analysis Range: {0} -->> {1}\".format(start_date.strftime(\"%Y%m%d\"), end_date.strftime(\"%Y%m%d\")), flush=True)\n",
    "```"
   ]
  },
  {
   "cell_type": "markdown",
   "id": "912db96f-d211-42c7-8644-27abb70c6468",
   "metadata": {},
   "source": [
    "### Set depth averaging settings"
   ]
  },
  {
   "cell_type": "markdown",
   "id": "7b47671b",
   "metadata": {},
   "source": [
    "```\n",
    "ref_depth = np.concatenate((np.arange(1, 100, 2), np.arange(100, 300, 5), np.arange(300, 1000, 50)))\n",
    "surface_def = 5  # in metres\n",
    "bottom_height = [10, 30, 100]  # Use bottom heights of 10m, 30m and 100m for...\n",
    "bottom_thresh = [100, 500, np.inf]  # ...depths less than 100m, 500m and infinite\n",
    "```"
   ]
  },
  {
   "cell_type": "markdown",
   "id": "4ce86276-bb76-4ab7-a6d4-839f6608acfc",
   "metadata": {},
   "source": [
    "### Set file paths"
   ]
  },
  {
   "cell_type": "markdown",
   "id": "8a3dc92c",
   "metadata": {},
   "source": [
    "```\n",
    "# define some file paths\n",
    "\n",
    "fn_dom = \"<PATH_TO_NEMO_DOMAIN_FILE>\"\n",
    "fn_dat = \"<PATH_TO_NEMO_DATA_FILE(S)>\"  # .format(run_name, start_date.year)\n",
    "dn_out = \"<PATH_TO_OUTPUT_DIRECTORY>\"  # .format(run_name)\n",
    "fn_prof = \"<PATH_TO_PROCESSED_EN4_DATA>\"\n",
    "fn_cfg_nemo = \"<PATH_TO_COAST_GRIDDED_CONFIG_FILE>\"\n",
    "fn_cfg_prof = \"<PATH_TO_CODE_PROFILE_CONFIG_FILE>\"\n",
    "```"
   ]
  },
  {
   "cell_type": "markdown",
   "id": "03bbdd09-a947-4247-b991-c37b168c59bb",
   "metadata": {},
   "source": [
    "### Create NEMO object and read in NEMO data."
   ]
  },
  {
   "cell_type": "markdown",
   "id": "5ec70457",
   "metadata": {},
   "source": [
    "```\n",
    "nemo = coast.Gridded(fn_dat, fn_dom, multiple=True, config=fn_cfg_nemo)\n",
    "```"
   ]
  },
  {
   "cell_type": "markdown",
   "id": "ee1f9b28-7a57-4b59-ab3a-cbd40b849d87",
   "metadata": {},
   "source": [
    "### Extract latitude and longitude"
   ]
  },
  {
   "cell_type": "markdown",
   "id": "57862bfc",
   "metadata": {},
   "source": [
    "```\n",
    "lat = nemo.dataset.latitude.values.squeeze()\n",
    "lon = nemo.dataset.longitude.values.squeeze()\n",
    "```"
   ]
  },
  {
   "cell_type": "markdown",
   "id": "c5040ac3-f995-4bfa-b823-5530b0fc4ccc",
   "metadata": {},
   "source": [
    "### Extract time indices between start and end dates"
   ]
  },
  {
   "cell_type": "markdown",
   "id": "ecf2e40c",
   "metadata": {},
   "source": [
    "```\n",
    "nemo = nemo.time_slice(start_date, end_date)\n",
    "```"
   ]
  },
  {
   "cell_type": "markdown",
   "id": "e26a481f",
   "metadata": {},
   "source": [
    "```\n",
    "nemo.dataset.temperature.values\n",
    "```"
   ]
  },
  {
   "cell_type": "markdown",
   "id": "b469636e",
   "metadata": {},
   "source": [
    "### Create a landmask array\n",
    "This is important for obs_operator We can get a landmask from bottom_level."
   ]
  },
  {
   "cell_type": "markdown",
   "id": "69eb4b7c",
   "metadata": {},
   "source": [
    "```\n",
    "nemo.dataset[\"landmask\"] = nemo.dataset.bottom_level == 0\n",
    "nemo.dataset = nemo.dataset.rename({\"depth_0\": \"depth\"})\n",
    "print(\"Landmask calculated\", flush=True)\n",
    "```"
   ]
  },
  {
   "cell_type": "markdown",
   "id": "81145bed-3079-4e36-b822-81cbc47363c0",
   "metadata": {},
   "source": [
    "### Create EN4 Profile object"
   ]
  },
  {
   "cell_type": "markdown",
   "id": "03a2695f",
   "metadata": {},
   "source": [
    "```\n",
    "# CREATE EN4 PROFILE OBJECT containing processed data. We just need to\n",
    "# create a Profile object and place the data straight into its dataset\n",
    "profile = coast.Profile()\n",
    "profile.dataset = xr.open_dataset(fn_prof, chunks={\"id_dim\": 10000})\n",
    "profile = profile.time_slice(start_date, end_date)\n",
    "print(\"Profile object created\", flush=True)\n",
    "```"
   ]
  },
  {
   "cell_type": "markdown",
   "id": "3c95d5ab-b7f6-48fc-aa36-154903c2e13b",
   "metadata": {},
   "source": [
    "### Extract only the variables that we want"
   ]
  },
  {
   "cell_type": "markdown",
   "id": "01eea7b9",
   "metadata": {},
   "source": [
    "```\n",
    "nemo.dataset = nemo.dataset[[\"temperature\", \"salinity\", \"bathymetry\", \"bottom_level\", \"landmask\"]]\n",
    "profile.dataset = profile.dataset[[\"potential_temperature\", \"practical_salinity\", \"depth\"]]\n",
    "profile.dataset = profile.dataset.rename({\"potential_temperature\": \"temperature\", \"practical_salinity\": \"salinity\"})\n",
    "```"
   ]
  },
  {
   "cell_type": "markdown",
   "id": "c78697d9-6f31-4b90-ac2a-e5efcb7306dd",
   "metadata": {},
   "source": [
    "### Create Profile analysis object"
   ]
  },
  {
   "cell_type": "markdown",
   "id": "fd24ac6c",
   "metadata": {},
   "source": [
    "```\n",
    "profile_analysis = coast.ProfileAnalysis()\n",
    "```"
   ]
  },
  {
   "cell_type": "markdown",
   "id": "eefb0955-cfc6-47ee-968f-7a51330d14c2",
   "metadata": {},
   "source": [
    "### Interpolate model to obs using obs_operator()"
   ]
  },
  {
   "cell_type": "markdown",
   "id": "21d37729",
   "metadata": {},
   "source": [
    "```\n",
    "model_profiles = profile.obs_operator(nemo)\n",
    "print(\"Obs_operator successful.\", flush=True)\n",
    "```"
   ]
  },
  {
   "cell_type": "markdown",
   "id": "d2ea0433-bd9e-4ffe-a923-5b8ffa9ff90c",
   "metadata": {},
   "source": [
    "### Throw away profiles where the interpolation distance is larger than 5km."
   ]
  },
  {
   "cell_type": "markdown",
   "id": "a02800b7",
   "metadata": {},
   "source": [
    "```\n",
    "keep_indices = model_profiles.dataset.interp_dist <= 5\n",
    "model_profiles = model_profiles.isel(profile=keep_indices)\n",
    "profile = profile.isel(profile=keep_indices)\n",
    "```"
   ]
  },
  {
   "cell_type": "markdown",
   "id": "c62c27da-c9ec-4496-b121-3c17a28a1cf6",
   "metadata": {},
   "source": [
    "### Load the profiles (careful with memory)"
   ]
  },
  {
   "cell_type": "markdown",
   "id": "8df5e811",
   "metadata": {},
   "source": [
    "```\n",
    "profile.dataset.load()\n",
    "print(\"Model interpolated to obs locations\", flush=True)\n",
    "```"
   ]
  },
  {
   "cell_type": "markdown",
   "id": "c29a3349-0fea-4723-8fe4-cbd777fb91c9",
   "metadata": {},
   "source": [
    "### Vertical Interpolation of model profiles to obs depths"
   ]
  },
  {
   "cell_type": "markdown",
   "id": "11f523d0",
   "metadata": {},
   "source": [
    "```\n",
    "model_profiles_interp = profile_analysis.interpolate_vertical(model_profiles, profile, interp_method=\"linear\")\n",
    "print(\"Model interpolated to obs depths\", flush=True)\n",
    "```"
   ]
  },
  {
   "cell_type": "markdown",
   "id": "ff60b0d9-4d85-4504-9683-cf4c53b3736d",
   "metadata": {},
   "source": [
    "### Vertical interpolation of model profiles to reference depths"
   ]
  },
  {
   "cell_type": "markdown",
   "id": "f61f2885",
   "metadata": {},
   "source": [
    "```\n",
    "model_profiles_interp = profile_analysis.interpolate_vertical(model_profiles_interp, ref_depth)\n",
    "model_profiles.dataset.to_netcdf(\n",
    "    dn_out\n",
    "    + \"extracted_profiles_{0}_{1}_{2}.nc\".format(run_name, start_date.strftime(\"%Y%m\"), end_date.strftime(\"%Y%m\"))\n",
    ")\n",
    "model_profiles_interp.dataset.to_netcdf(\n",
    "    dn_out\n",
    "    + \"interpolated_profiles_{0}_{1}_{2}.nc\".format(run_name, start_date.strftime(\"%Y%m\"), end_date.strftime(\"%Y%m\"))\n",
    ")\n",
    "print(\"Model interpolated to ref depths\", flush=True)\n",
    "```"
   ]
  },
  {
   "cell_type": "markdown",
   "id": "57e2bbc4-4680-4487-956d-c343d8d61857",
   "metadata": {},
   "source": [
    "### Interpolation of obs profiles to reference depths"
   ]
  },
  {
   "cell_type": "markdown",
   "id": "2dc0610a",
   "metadata": {},
   "source": [
    "```\n",
    "profile_interp = profile_analysis.interpolate_vertical(profile, ref_depth)\n",
    "profile_interp.dataset.to_netcdf(\n",
    "    dn_out + \"interpolated_obs_{0}_{1}_{2}.nc\".format(run_name, start_date.strftime(\"%Y%m\"), end_date.strftime(\"%Y%m\"))\n",
    ")\n",
    "print(\"Obs interpolated to reference depths\", flush=True)\n",
    "```"
   ]
  },
  {
   "cell_type": "markdown",
   "id": "48b78715-2c14-48db-ae05-fb075cb6ca24",
   "metadata": {},
   "source": [
    "### Get difference between Model and Obs"
   ]
  },
  {
   "cell_type": "markdown",
   "id": "c17fbd67",
   "metadata": {},
   "source": [
    "```\n",
    "differences = profile_analysis.difference(profile_interp, model_profiles_interp)\n",
    "differences.dataset.load()\n",
    "differences.dataset.to_netcdf(\n",
    "    dn_out + \"profile_errors_{0}_{1}_{2}.nc\".format(run_name, start_date.strftime(\"%Y%m\"), end_date.strftime(\"%Y%m\"))\n",
    ")\n",
    "print(\"Calculated errors and written\", flush=True)\n",
    "```"
   ]
  },
  {
   "cell_type": "markdown",
   "id": "b92f4c40-0e14-4aff-a612-ecd632c6aa83",
   "metadata": {},
   "source": [
    "### Get surface values and errors"
   ]
  },
  {
   "cell_type": "markdown",
   "id": "29e5b2fc",
   "metadata": {},
   "source": [
    "```\n",
    "model_profiles_surface = profile_analysis.depth_means(model_profiles, [0, surface_def])\n",
    "obs_profiles_surface = profile_analysis.depth_means(profile, [0, surface_def])\n",
    "surface_errors = profile_analysis.difference(obs_profiles_surface, model_profiles_surface)\n",
    "surface_data = xr.merge(\n",
    "    (surface_errors.dataset, model_profiles_surface.dataset, obs_profiles_surface.dataset), compat=\"override\"\n",
    ")\n",
    "surface_data.to_netcdf(\n",
    "    dn_out + \"surface_data_{0}_{1}_{2}.nc\".format(run_name, start_date.strftime(\"%Y%m\"), end_date.strftime(\"%Y%m\"))\n",
    ")\n",
    "```"
   ]
  },
  {
   "cell_type": "markdown",
   "id": "a55be8f8-abb0-44d9-a398-1c6f8c7973bd",
   "metadata": {
    "tags": []
   },
   "source": [
    "### Get bottom values and errors"
   ]
  },
  {
   "cell_type": "markdown",
   "id": "92a3d8f4",
   "metadata": {},
   "source": [
    "```\n",
    "model_profiles_bottom = profile_analysis.bottom_means(model_profiles, bottom_height, bottom_thresh)\n",
    "obs_bathymetry = model_profiles.dataset[\"bathymetry\"].values\n",
    "profile.dataset[\"bathymetry\"] = ([\"id_dim\"], obs_bathymetry)\n",
    "obs_profiles_bottom = profile_analysis.bottom_means(profile, bottom_height, bottom_thresh)\n",
    "bottom_errors = profile_analysis.difference(model_profiles_bottom, obs_profiles_bottom)\n",
    "bottom_data = xr.merge(\n",
    "    (bottom_errors.dataset, model_profiles_bottom.dataset, obs_profiles_bottom.dataset), compat=\"override\"\n",
    ")\n",
    "bottom_data.to_netcdf(\n",
    "    dn_out + \"bottom_data_{0}_{1}_{2}.nc\".format(run_name, start_date.strftime(\"%Y%m\"), end_date.strftime(\"%Y%m\"))\n",
    ")\n",
    "```"
   ]
  }
 ],
 "metadata": {
  "kernelspec": {
   "display_name": "Python 3 (ipykernel)",
   "language": "python",
   "name": "python3"
  },
  "language_info": {
   "codemirror_mode": {
    "name": "ipython",
    "version": 3
   },
   "file_extension": ".py",
   "mimetype": "text/x-python",
   "name": "python",
   "nbconvert_exporter": "python",
   "pygments_lexer": "ipython3",
   "version": "3.8.13"
  }
 },
 "nbformat": 4,
 "nbformat_minor": 5
}
