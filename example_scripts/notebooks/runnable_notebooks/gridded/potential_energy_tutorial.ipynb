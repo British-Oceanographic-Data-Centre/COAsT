{
 "cells": [
  {
   "cell_type": "markdown",
   "id": "5eca7994-6fa1-44e1-b95c-fc8a0fecf7bd",
   "metadata": {},
   "source": [
    "A demonstration to calculate the Potential Energy Anomaly and demonstrate regional masking with MaskMaker\n"
   ]
  },
  {
   "cell_type": "markdown",
   "id": "14277e0d-4dbc-4e0f-b3a2-6853dca66d46",
   "metadata": {},
   "source": [
    "### Relevant imports and filepath configuration"
   ]
  },
  {
   "cell_type": "code",
   "execution_count": null,
   "id": "c4773751-3544-4ebd-a795-cfe128b70743",
   "metadata": {},
   "outputs": [],
   "source": [
    "import coast\n",
    "import numpy as np\n",
    "import os\n",
    "import matplotlib.pyplot as plt\n",
    "import matplotlib.colors as colors  # colormap fiddling\n",
    "import xarray as xr"
   ]
  },
  {
   "cell_type": "code",
   "execution_count": null,
   "id": "780605fd-ae53-4ec5-b7fd-80b2a2ee07ea",
   "metadata": {},
   "outputs": [],
   "source": [
    "# set some paths\n",
    "root = \"./\"\n",
    "dn_files = root + \"./example_files/\"\n",
    "fn_nemo_grid_t_dat = dn_files + \"nemo_data_T_grid_Aug2015.nc\"\n",
    "fn_nemo_dom = dn_files + \"coast_example_nemo_domain.nc\"\n",
    "config_t = root + \"./config/example_nemo_grid_t.json\""
   ]
  },
  {
   "cell_type": "markdown",
   "id": "5d3f6987-f05d-4a54-a932-e4bbf84becb1",
   "metadata": {},
   "source": [
    "### Loading data"
   ]
  },
  {
   "cell_type": "code",
   "execution_count": null,
   "id": "7677050c-775d-4172-9561-61c3c89aa77b",
   "metadata": {},
   "outputs": [],
   "source": [
    "# Create a Gridded object and load in the data:\n",
    "nemo = coast.Gridded(fn_nemo_grid_t_dat, fn_nemo_dom, config=config_t)"
   ]
  },
  {
   "cell_type": "markdown",
   "id": "d3e75a6d",
   "metadata": {},
   "source": [
    "### Calculates Potential Energy Anomaly\n",
    "\n",
    "The density and depth averaged density can be supplied within gridded_t as `density` and\n",
    "`density_bar` DataArrays, respectively. If they are not supplied they will be calculated.\n",
    "`density_bar` is calcuated using depth averages of temperature and salinity.\n",
    "\n"
   ]
  },
  {
   "cell_type": "code",
   "execution_count": null,
   "id": "269a51fc",
   "metadata": {},
   "outputs": [],
   "source": [
    "# Compute a vertical max to exclude depths below 200m\n",
    "Zd_mask, kmax, Ikmax = nemo.calculate_vertical_mask(200.)\n",
    "\n",
    "# Initiate a stratification diagnostics object\n",
    "strat = coast.GriddedStratification(nemo)"
   ]
  },
  {
   "cell_type": "code",
   "execution_count": null,
   "id": "d342e9b0",
   "metadata": {},
   "outputs": [],
   "source": []
  },
  {
   "cell_type": "code",
   "execution_count": null,
   "id": "8f55363d",
   "metadata": {},
   "outputs": [],
   "source": [
    "# calculate PEA for unmasked depths\n",
    "strat.calc_pea(nemo, Zd_mask)"
   ]
  },
  {
   "cell_type": "markdown",
   "id": "8f897042-3697-4ddd-a812-04572500f0ec",
   "metadata": {},
   "source": [
    "## make a plot"
   ]
  },
  {
   "cell_type": "code",
   "execution_count": null,
   "id": "6d0f5239-6f1d-4f7d-aa22-e51a9736fff6",
   "metadata": {
    "pycharm": {
     "name": "#%%\n"
    }
   },
   "outputs": [],
   "source": [
    "strat.quick_plot('PEA')"
   ]
  },
  {
   "cell_type": "code",
   "execution_count": null,
   "id": "a8b2bf5b",
   "metadata": {},
   "outputs": [],
   "source": [
    "strat.dataset"
   ]
  },
  {
   "cell_type": "markdown",
   "id": "c4572cc6",
   "metadata": {},
   "source": [
    "# Use MaskMaker to define regions and do regional analysis\n",
    "\n",
    "MaskMaker can build a stack of boolean masks in an xarray dataset for regional analysis. For the NWS we can use some built-in regions.  "
   ]
  },
  {
   "cell_type": "code",
   "execution_count": null,
   "id": "96c64f90",
   "metadata": {},
   "outputs": [],
   "source": [
    "mm = coast.MaskMaker()\n",
    "\n",
    "# Define Regional Masks\n",
    "regional_masks = []\n",
    "\n",
    "# Define convenient aliases based on nemo data\n",
    "lon = nemo.dataset.longitude.values\n",
    "lat = nemo.dataset.latitude.values\n",
    "bathy = nemo.dataset.bathymetry.values\n",
    "\n",
    "# Add regional mask for whole domain\n",
    "regional_masks.append(np.ones(lon.shape))\n",
    "\n",
    "# Add regional mask for English Channel\n",
    "regional_masks.append(mm.region_def_nws_north_sea(lon, lat, bathy))\n",
    "regional_masks.append(mm.region_def_nws_outer_shelf(lon, lat, bathy))\n",
    "regional_masks.append(mm.region_def_nws_norwegian_trench(lon, lat, bathy))\n",
    "regional_masks.append(mm.region_def_nws_english_channel(lon, lat, bathy))\n",
    "regional_masks.append(mm.region_def_south_north_sea(lon, lat, bathy))\n",
    "regional_masks.append(mm.region_def_off_shelf(lon, lat, bathy))\n",
    "regional_masks.append(mm.region_def_irish_sea(lon, lat, bathy))\n",
    "regional_masks.append(mm.region_def_kattegat(lon, lat, bathy))\n",
    "\n",
    "region_names = [\"whole domain\", \"north sea\", \"outer shelf\", \"norwegian trench\",\n",
    "                \"english_channel\", \"southern north sea\", \"off shelf\",\n",
    "                \"irish sea\", \"kattegat\",]"
   ]
  },
  {
   "cell_type": "markdown",
   "id": "ed5d7ddf",
   "metadata": {},
   "source": [
    "Convert this list of masks into a dataset"
   ]
  },
  {
   "cell_type": "code",
   "execution_count": null,
   "id": "c43565af",
   "metadata": {},
   "outputs": [],
   "source": [
    "mask_list = mm.make_mask_dataset(lon, lat, regional_masks, region_names)"
   ]
  },
  {
   "cell_type": "code",
   "execution_count": null,
   "id": "15bb0838",
   "metadata": {},
   "outputs": [],
   "source": [
    "mask_list"
   ]
  },
  {
   "cell_type": "markdown",
   "id": "68a07b35",
   "metadata": {},
   "source": [
    "Inspect the mask with a `quick_plot()` method. "
   ]
  },
  {
   "cell_type": "code",
   "execution_count": null,
   "id": "9daf7c40",
   "metadata": {},
   "outputs": [],
   "source": [
    "mm.quick_plot(mask_list)\n"
   ]
  },
  {
   "cell_type": "markdown",
   "id": "454bdeb4",
   "metadata": {},
   "source": [
    "NB overlapping regions are not given special treatment, the layers are blindly superimposed on each other. E.g. as demonstrated with \"Norwegian Trench\" and \"off shelf\", or \"whole domain\" and any other region."
   ]
  },
  {
   "cell_type": "code",
   "execution_count": null,
   "id": "c1217563",
   "metadata": {},
   "outputs": [],
   "source": [
    "\n",
    "plt.subplot(2,2,1)\n",
    "mm.quick_plot(mask_list.sel(dim_mask=[0,3]))\n",
    "\n",
    "plt.subplot(2,2,2)\n",
    "mm.quick_plot(mask_list.sel(dim_mask=[1,2,4,5,6,7,8]))\n",
    "\n",
    "\n",
    "\n",
    "plt.tight_layout()"
   ]
  },
  {
   "cell_type": "code",
   "execution_count": null,
   "id": "7e4a3a6f",
   "metadata": {},
   "outputs": [],
   "source": [
    "# Show overlap\n",
    "mask_list.mask.sum(dim='dim_mask').plot( levels=(1,2,3,4))\n",
    "\n",
    "# Save if required\n",
    "#plt.savefig('tmp.png')"
   ]
  },
  {
   "cell_type": "markdown",
   "id": "3b8544cc",
   "metadata": {},
   "source": [
    "# Regional analysis\n",
    "\n",
    "Average stratification object over regions using the mask"
   ]
  },
  {
   "cell_type": "code",
   "execution_count": null,
   "id": "4b72009d",
   "metadata": {},
   "outputs": [],
   "source": [
    "mask_means = (strat.dataset*mask_list.mask).mean(dim='x_dim').mean(dim='y_dim')"
   ]
  },
  {
   "cell_type": "code",
   "execution_count": null,
   "id": "6ac2a67a",
   "metadata": {},
   "outputs": [],
   "source": [
    "mask_means"
   ]
  },
  {
   "cell_type": "code",
   "execution_count": null,
   "id": "ad05f3e9",
   "metadata": {},
   "outputs": [],
   "source": [
    "# Plot timeseries per region\n",
    "\n",
    "for count_region in range(mask_means.dims['dim_mask']):\n",
    "    \n",
    "    plt.plot( \n",
    "        mask_means.PEA.isel(dim_mask=count_region),\n",
    "        label=mask_means.region_names[count_region].values,\n",
    "        marker=\".\", linestyle='none')\n",
    "\n",
    "plt.xlabel('time'); plt.ylabel('PEA')\n",
    "plt.legend()"
   ]
  }
 ],
 "metadata": {
  "kernelspec": {
   "display_name": "Python 3 (ipykernel)",
   "language": "python",
   "name": "python3"
  },
  "language_info": {
   "codemirror_mode": {
    "name": "ipython",
    "version": 3
   },
   "file_extension": ".py",
   "mimetype": "text/x-python",
   "name": "python",
   "nbconvert_exporter": "python",
   "pygments_lexer": "ipython3",
   "version": "3.8.10"
  }
 },
 "nbformat": 4,
 "nbformat_minor": 5
}