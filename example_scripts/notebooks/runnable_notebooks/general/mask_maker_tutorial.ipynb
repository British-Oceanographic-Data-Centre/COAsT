{
 "cells": [
  {
   "cell_type": "markdown",
   "id": "5eca7994-6fa1-44e1-b95c-fc8a0fecf7bd",
   "metadata": {},
   "source": [
    "A demonstration of the MaskMaker class to build and use regional masking\n",
    "\n",
    "MaskMasker is a class of methods to assist with making regional masks within COAsT.\n",
    "Presently the mask generated are external to MaskMaker.\n",
    "Masks are constructed as gridded boolean numpy array for each region, which are stacked over a dim_mask dimension. \n",
    "The mask arrays are generated on a supplied horizontal grid. The masks are then stored in xarray objects along with regions names.\n",
    "\n",
    "Examples are given working with Gridded and Profile data."
   ]
  },
  {
   "cell_type": "markdown",
   "id": "14277e0d-4dbc-4e0f-b3a2-6853dca66d46",
   "metadata": {},
   "source": [
    "### Relevant imports and filepath configuration"
   ]
  },
  {
   "cell_type": "code",
   "execution_count": null,
   "id": "c4773751-3544-4ebd-a795-cfe128b70743",
   "metadata": {},
   "outputs": [],
   "source": [
    "import coast\n",
    "import numpy as np\n",
    "from os import path\n",
    "import matplotlib.pyplot as plt\n",
    "import matplotlib.colors as colors  # colormap fiddling\n",
    "import xarray as xr"
   ]
  },
  {
   "cell_type": "code",
   "execution_count": null,
   "id": "780605fd-ae53-4ec5-b7fd-80b2a2ee07ea",
   "metadata": {},
   "outputs": [],
   "source": [
    "# set some paths\n",
    "root = \"./\"\n",
    "dn_files = root + \"./example_files/\"\n",
    "fn_nemo_grid_t_dat = dn_files + \"nemo_data_T_grid_Aug2015.nc\"\n",
    "fn_nemo_dom = dn_files + \"coast_example_nemo_domain.nc\"\n",
    "config_t = root + \"./config/example_nemo_grid_t.json\""
   ]
  },
  {
   "cell_type": "markdown",
   "id": "5d3f6987-f05d-4a54-a932-e4bbf84becb1",
   "metadata": {},
   "source": [
    "### Loading data"
   ]
  },
  {
   "cell_type": "code",
   "execution_count": null,
   "id": "7677050c-775d-4172-9561-61c3c89aa77b",
   "metadata": {},
   "outputs": [],
   "source": [
    "# Create a Gridded object and load in the data:\n",
    "nemo = coast.Gridded(fn_nemo_grid_t_dat, fn_nemo_dom, config=config_t)"
   ]
  },
  {
   "cell_type": "markdown",
   "id": "c4572cc6",
   "metadata": {},
   "source": [
    "# Initialise MaskMaker and define target grid\n"
   ]
  },
  {
   "cell_type": "code",
   "execution_count": null,
   "id": "21b40170",
   "metadata": {},
   "outputs": [],
   "source": [
    "mm = coast.MaskMaker()\n",
    "\n",
    "# Define Regional Masks\n",
    "regional_masks = []\n",
    "\n",
    "# Define convenient aliases based on nemo data\n",
    "lon = nemo.dataset.longitude.values\n",
    "lat = nemo.dataset.latitude.values\n",
    "bathy = nemo.dataset.bathymetry.values\n"
   ]
  },
  {
   "cell_type": "markdown",
   "id": "91dc27a4",
   "metadata": {},
   "source": [
    "# Use MaskMaker to define new regions\n",
    "\n",
    "MaskMaker can build a stack of boolean masks in an xarray dataset for regional analysis. Regions can be supplied by providing vertices coordiates to the `make_region_from_vertices` method. (Vertices coordinates can be passed as xarray objects or as numpy arrays).\n",
    "The method returns a numpy array of booleans."
   ]
  },
  {
   "cell_type": "code",
   "execution_count": null,
   "id": "9b151cd2",
   "metadata": {},
   "outputs": [],
   "source": [
    "# Draw and fill a square\n",
    "vertices_lon = [-5, -5, 5, 5]\n",
    "vertices_lat = [40, 60, 60, 40]\n",
    "\n",
    "# input lat/lon as xr.DataArray\n",
    "filled1 = mm.make_region_from_vertices(nemo.dataset.longitude, nemo.dataset.latitude, vertices_lon, vertices_lat)\n",
    "# input lat/lon as np.ndarray\n",
    "filled2 = mm.make_region_from_vertices(\n",
    "    nemo.dataset.longitude.values, nemo.dataset.latitude.values, vertices_lon, vertices_lat\n",
    ")\n",
    "\n",
    "check = (filled1 == filled2).all()\n",
    "print(f\"numpy array outputs are the same? {check}\")"
   ]
  },
  {
   "cell_type": "markdown",
   "id": "3c6ed915",
   "metadata": {},
   "source": [
    "The boolean numpy array can then be converted to an xarray object using `make_mask_dataset()` for improved interactions with other xarray objects. "
   ]
  },
  {
   "cell_type": "code",
   "execution_count": null,
   "id": "c978714c",
   "metadata": {},
   "outputs": [],
   "source": [
    "mask_xr = mm.make_mask_dataset(nemo.dataset.longitude.values, nemo.dataset.latitude.values, filled1)"
   ]
  },
  {
   "cell_type": "markdown",
   "id": "2189f08d",
   "metadata": {},
   "source": [
    "# Use MaskMaker for predefined regions\n",
    "\n",
    "The NWS has a number of predefined regions. These are numpy boolean arrays as functions of the specified latitude, longitude and bathymetry. They can be appended into a list of arrays, which can be similarly converted into an xarray object."
   ]
  },
  {
   "cell_type": "code",
   "execution_count": null,
   "id": "96c64f90",
   "metadata": {},
   "outputs": [],
   "source": [
    "masks_list = []\n",
    "\n",
    "# Add regional mask for whole domain\n",
    "masks_list.append(np.ones(lon.shape))\n",
    "\n",
    "# Add regional mask for English Channel\n",
    "masks_list.append(mm.region_def_nws_north_sea(lon, lat, bathy))\n",
    "masks_list.append(mm.region_def_nws_outer_shelf(lon, lat, bathy))\n",
    "masks_list.append(mm.region_def_nws_norwegian_trench(lon, lat, bathy))\n",
    "masks_list.append(mm.region_def_nws_english_channel(lon, lat, bathy))\n",
    "masks_list.append(mm.region_def_south_north_sea(lon, lat, bathy))\n",
    "masks_list.append(mm.region_def_off_shelf(lon, lat, bathy))\n",
    "masks_list.append(mm.region_def_irish_sea(lon, lat, bathy))\n",
    "masks_list.append(mm.region_def_kattegat(lon, lat, bathy))\n",
    "\n",
    "masks_names = [\"whole domain\", \"north sea\", \"outer shelf\", \"norwegian trench\",\n",
    "                \"english_channel\", \"southern north sea\", \"off shelf\",\n",
    "                \"irish sea\", \"kattegat\",]"
   ]
  },
  {
   "cell_type": "markdown",
   "id": "ed5d7ddf",
   "metadata": {},
   "source": [
    "As before the numpy arrays (here as a list) can be converted into an xarray dataset where each mask is separated along the `dim_mask` dimension"
   ]
  },
  {
   "cell_type": "code",
   "execution_count": null,
   "id": "c43565af",
   "metadata": {},
   "outputs": [],
   "source": [
    "mask_xr = mm.make_mask_dataset(lon, lat, masks_list, masks_names)"
   ]
  },
  {
   "cell_type": "code",
   "execution_count": null,
   "id": "15bb0838",
   "metadata": {},
   "outputs": [],
   "source": [
    "# Inspect mask xarray object structure\n",
    "mask_xr"
   ]
  },
  {
   "cell_type": "markdown",
   "id": "68a07b35",
   "metadata": {},
   "source": [
    "## Plot masks\n",
    "\n",
    "Inspect the mask with a `quick_plot()` method."
   ]
  },
  {
   "cell_type": "code",
   "execution_count": null,
   "id": "9daf7c40",
   "metadata": {},
   "outputs": [],
   "source": [
    "mm.quick_plot(mask_xr)\n"
   ]
  },
  {
   "cell_type": "markdown",
   "id": "454bdeb4",
   "metadata": {},
   "source": [
    "NB overlapping regions are not given special treatment, the layers are blindly superimposed on each other. E.g. as demonstrated with \"Norwegian Trench\" and \"off shelf\", or \"whole domain\" and any other region."
   ]
  },
  {
   "cell_type": "code",
   "execution_count": null,
   "id": "c1217563",
   "metadata": {},
   "outputs": [],
   "source": [
    "plt.subplot(2,2,1)\n",
    "mm.quick_plot(mask_xr.sel(dim_mask=[0,3]))\n",
    "\n",
    "plt.subplot(2,2,2)\n",
    "mm.quick_plot(mask_xr.sel(dim_mask=[1,2,4,5,6,7,8]))\n",
    "\n",
    "plt.tight_layout()"
   ]
  },
  {
   "cell_type": "code",
   "execution_count": null,
   "id": "7e4a3a6f",
   "metadata": {},
   "outputs": [],
   "source": [
    "# Show overlap\n",
    "mask_xr.mask.sum(dim='dim_mask').plot(levels=(1,2,3,4))\n",
    "\n",
    "# Save if required\n",
    "#plt.savefig('tmp.png')"
   ]
  },
  {
   "cell_type": "markdown",
   "id": "dcbd7b05",
   "metadata": {},
   "source": [
    "# Regional analysis with Profile data\n",
    "\n",
    "Apply the regional masks to average SST"
   ]
  },
  {
   "cell_type": "code",
   "execution_count": null,
   "id": "d34185a9",
   "metadata": {},
   "outputs": [],
   "source": [
    "# Read EN4 data into profile object\n",
    "fn_prof = path.join(dn_files, \"coast_example_en4_201008.nc\")\n",
    "fn_cfg_prof = path.join(\"config\",\"example_en4_profiles.json\")\n",
    "profile = coast.Profile(config=fn_cfg_prof)\n",
    "profile.read_en4( fn_prof )\n"
   ]
  },
  {
   "cell_type": "markdown",
   "id": "181cdef2",
   "metadata": {},
   "source": [
    "Then we use `ProfileAnalysis.determine_mask_indices()` to figure out which profiles in a Profile object lie within each regional mask:"
   ]
  },
  {
   "cell_type": "code",
   "execution_count": null,
   "id": "1f57e1a1",
   "metadata": {},
   "outputs": [],
   "source": [
    "analysis = coast.ProfileAnalysis()\n",
    "mask_indices = analysis.determine_mask_indices(profile, mask_xr)"
   ]
  },
  {
   "cell_type": "markdown",
   "id": "49ef3d40",
   "metadata": {},
   "source": [
    "This returns an object called `mask_indices`, which is required to pass to `ProfileAnalysis.mask_means()`. This routine will return a new xarray dataset containing averaged data for each region:"
   ]
  },
  {
   "cell_type": "code",
   "execution_count": null,
   "id": "74900bf2",
   "metadata": {},
   "outputs": [],
   "source": [
    "profile_mask_means = analysis.mask_means(profile, mask_indices)"
   ]
  },
  {
   "cell_type": "markdown",
   "id": "69f6cdb0",
   "metadata": {},
   "source": [
    "This routine operates over all variables in the `profile` object. It calculates means by region preserving depth information (`profile_mean_*`) and also averaging over depth information (`all_mean_*`). The variables are returned with these prefixes accordingly. "
   ]
  },
  {
   "cell_type": "code",
   "execution_count": null,
   "id": "4ab174e8",
   "metadata": {},
   "outputs": [],
   "source": [
    "profile_mask_means"
   ]
  },
  {
   "cell_type": "markdown",
   "id": "4e70c0df",
   "metadata": {},
   "source": [
    "Notices that the number of mask dimensions is not necessarily preserved between the mask and the mask averaged variables. This happens if, for example, there are no profiles in one of the mask regions"
   ]
  },
  {
   "cell_type": "code",
   "execution_count": null,
   "id": "c756a11c",
   "metadata": {},
   "outputs": [],
   "source": [
    "check1 = mask_indices.dims[\"dim_mask\"] == profile_mask_means.dims[\"dim_mask\"]\n",
    "print(check1)"
   ]
  },
  {
   "cell_type": "markdown",
   "id": "5a033719",
   "metadata": {},
   "source": [
    "The mean profiles can be visualised or further processed (notice the Irish Sea region is missing because there were no profiles in the example dataset)"
   ]
  },
  {
   "cell_type": "code",
   "execution_count": null,
   "id": "749b6e8a",
   "metadata": {},
   "outputs": [],
   "source": [
    "for count_region in range(profile_mask_means.sizes['dim_mask']):    \n",
    "    plt.plot( \n",
    "            profile_mask_means.profile_mean_temperature.isel(dim_mask=count_region),\n",
    "            profile_mask_means.profile_mean_depth.isel(dim_mask=count_region),\n",
    "            label=profile_mask_means.region_names[count_region].values,\n",
    "            marker=\".\", linestyle='none')\n",
    "\n",
    "plt.ylim([10,1000])\n",
    "plt.yscale(\"log\")\n",
    "plt.gca().invert_yaxis()\n",
    "plt.xlabel('temperature'); plt.ylabel('depth')\n",
    "plt.legend()\n"
   ]
  },
  {
   "cell_type": "markdown",
   "id": "3b8544cc",
   "metadata": {},
   "source": [
    "# Regional analysis with Gridded data\n",
    "\n",
    "Apply the regional masks to average SST. This is done manually as there are not yet COAsT methods to broadcast the operations across all variables."
   ]
  },
  {
   "cell_type": "code",
   "execution_count": null,
   "id": "4b72009d",
   "metadata": {},
   "outputs": [],
   "source": [
    "# Syntax: xr.where(if <first>, then <2nd>, else <3rd>) \n",
    "mask_SST = xr.where( mask_xr.mask, nemo.dataset.temperature.isel(z_dim=0), np.NaN)\n",
    "\n",
    "# Take the mean over space for each region\n",
    "mask_mean_SST = mask_SST.mean(dim=\"x_dim\").mean(dim=\"y_dim\")"
   ]
  },
  {
   "cell_type": "code",
   "execution_count": null,
   "id": "8257a975",
   "metadata": {},
   "outputs": [],
   "source": [
    "# Inspect the processed data\n",
    "mask_mean_SST.plot()"
   ]
  },
  {
   "cell_type": "code",
   "execution_count": null,
   "id": "ad05f3e9",
   "metadata": {},
   "outputs": [],
   "source": [
    "# Plot timeseries per region\n",
    "\n",
    "for count_region in range(mask_mean_SST.sizes['dim_mask']):\n",
    "    \n",
    "    plt.plot( \n",
    "        mask_mean_SST.isel(dim_mask=count_region),\n",
    "        label=mask_mean_SST.region_names[count_region].values,\n",
    "        marker=\".\", linestyle='none')\n",
    "\n",
    "plt.xlabel('time'); plt.ylabel('SST')\n",
    "plt.legend()"
   ]
  },
  {
   "cell_type": "code",
   "execution_count": null,
   "id": "73fe919e",
   "metadata": {},
   "outputs": [],
   "source": []
  }
 ],
 "metadata": {
  "kernelspec": {
   "display_name": "Python 3 (ipykernel)",
   "language": "python",
   "name": "python3"
  },
  "language_info": {
   "codemirror_mode": {
    "name": "ipython",
    "version": 3
   },
   "file_extension": ".py",
   "mimetype": "text/x-python",
   "name": "python",
   "nbconvert_exporter": "python",
   "pygments_lexer": "ipython3",
   "version": "3.8.10"
  }
 },
 "nbformat": 4,
 "nbformat_minor": 5
}
