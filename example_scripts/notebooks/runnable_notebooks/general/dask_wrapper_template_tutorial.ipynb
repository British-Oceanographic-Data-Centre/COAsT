{
 "cells": [
  {
   "cell_type": "markdown",
   "metadata": {},
   "source": [
    "The notebook proves a template and some instruction on how to create a dask wrapper\n",
    "\n",
    "### Motivation\n",
    "\n",
    "Start with an `xarray.DataArray` object called `myDataArra`y, that we want to pass into a function. That function will perform eager evaluation and return a numpy array, but we want lazy evaluation with the possibility to allow dask parallelism. See worked example in `Process_data.seasonal_decomposition`."
   ]
  },
  {
   "cell_type": "markdown",
   "metadata": {},
   "source": [
    "### Import dependencies"
   ]
  },
  {
   "cell_type": "code",
   "execution_count": null,
   "metadata": {},
   "outputs": [],
   "source": [
    "import dask.array as da\n",
    "from dask import delayed\n",
    "import xarray as xr\n",
    "import numpy as np"
   ]
  },
  {
   "cell_type": "markdown",
   "metadata": {},
   "source": [
    "### Step 1. (optional: allows dask to distribute computation across multiple cores, if not interested see comment 2)\n",
    "\n",
    "Partition data in `myDataArray` by chunking it up as desired. Note that chunking dimensions need to make sense for your particular problem! Here we just chunk along `dim_2`"
   ]
  },
  {
   "cell_type": "markdown",
   "metadata": {},
   "source": [
    "```\n",
    "myDataArray = myDataArray.chunk({\"dim_1\": myDataArray.dim_1.size, \"dim_2\": chunksize})  # can be more dimensions\n",
    "```"
   ]
  },
  {
   "cell_type": "markdown",
   "metadata": {},
   "source": [
    "Then create a list containing all the array chunks as dask.delayed objects (e.g. 4 chunks => list contain 4 delayed objects)"
   ]
  },
  {
   "cell_type": "markdown",
   "metadata": {},
   "source": [
    "```\n",
    "myDataArray_partitioned = myDataArray.data.to_delayed().ravel()\n",
    "```"
   ]
  },
  {
   "cell_type": "markdown",
   "metadata": {},
   "source": [
    "#### Comment 1\n",
    "\n",
    "There are different ways to partition your data. For example, if you start off with a numpy array rather than an xarray DataArray you can just iterate over the array and partition it that way (the partitions do NOT need to be dask.delayed objects). For example see the very simple case here: https://docs.dask.org/en/stable/delayed.html\n",
    "\n",
    "The method described in 1 is just very convenient for DataArrays where the multi-dimensional chunks may be the desired way to partition the data."
   ]
  },
  {
   "cell_type": "markdown",
   "metadata": {},
   "source": [
    "### Step 2.\n",
    "\n",
    "Call your eager evaluating function using dask.delayed and pass in your data. This returns a list containing the outputs from the function as dask.delayed objects. The list will have the same length as `myDataArray_partitioned`"
   ]
  },
  {
   "cell_type": "markdown",
   "metadata": {},
   "source": [
    "```\n",
    "delayed_myFunction_output = [\n",
    "    delayed(myFunction)(aChunk, other_args_for_myFunction) for aChunk in myDataArray_partitioned\n",
    "]\n",
    "```"
   ]
  },
  {
   "cell_type": "markdown",
   "metadata": {},
   "source": [
    "### Step 3.\n",
    "\n",
    "Convert the lists of delayed objects to lists of dask arrays to allow array operations. It's possible this step is not necessary!"
   ]
  },
  {
   "cell_type": "markdown",
   "metadata": {},
   "source": [
    "```\n",
    "dask_array_list = []\n",
    "for chunk_idx, aChunk in enumerate(delayed_myFunction_output):\n",
    "    # When converting from dask.delayed to dask.array, you must know the shape of the\n",
    "    # array. In this example we know this from the chunk sizes of the original DataArray\n",
    "    chunk_shape = (myDataArray.chunks[0][0], myDataArray.chunks[1][chunk_idx])\n",
    "    dask_array_list.append(da.from_delayed(aChunk, shape=chunk_shape, dtype=float))\n",
    "```"
   ]
  },
  {
   "cell_type": "markdown",
   "metadata": {},
   "source": [
    "### Step 4.\n",
    "\n",
    "Concatenate the array chunks together to get a single dask.array. This can be assigned to a new DataArray as desired."
   ]
  },
  {
   "cell_type": "markdown",
   "metadata": {},
   "source": [
    "```\n",
    "myOutputArray = da.concatenate(dask_array_list, axis=1)\n",
    "```"
   ]
  },
  {
   "cell_type": "markdown",
   "metadata": {},
   "source": [
    "#### Comment 2\n",
    "\n",
    "If you skipped step 1., i.e. just want a lazy operation and no parallelism, you can just do this"
   ]
  },
  {
   "cell_type": "markdown",
   "metadata": {},
   "source": [
    "```\n",
    "myOutputArray = da.from_delayed(\n",
    "    delayed(myFunction)(myDataArray, other_args_for_myFunction), shape=myDataArray.shape, dtype=float\n",
    ")\n",
    "```"
   ]
  },
  {
   "cell_type": "code",
   "execution_count": null,
   "metadata": {},
   "outputs": [],
   "source": []
  }
 ],
 "metadata": {
  "kernelspec": {
   "display_name": "Python 3 (ipykernel)",
   "language": "python",
   "name": "python3"
  },
  "language_info": {
   "codemirror_mode": {
    "name": "ipython",
    "version": 3
   },
   "file_extension": ".py",
   "mimetype": "text/x-python",
   "name": "python",
   "nbconvert_exporter": "python",
   "pygments_lexer": "ipython3",
   "version": "3.8.13"
  },
  "vscode": {
   "interpreter": {
    "hash": "edbd2e3cb8183e66d063e2b638973e07e1c11d7f682ee3a27358b79f7159feb3"
   }
  }
 },
 "nbformat": 4,
 "nbformat_minor": 4
}
