{
 "cells": [
  {
   "cell_type": "markdown",
   "id": "5e724b6e-e8e4-42ea-a551-007dbcb4fcde",
   "metadata": {},
   "source": [
    "Using COAsT to compute the Empirical Orthogonal Functions (EOFs) of your data"
   ]
  },
  {
   "cell_type": "markdown",
   "id": "f6a8cc62-59b6-47fb-a77f-0a4c95f8ea2a",
   "metadata": {},
   "source": [
    "### Relevant imports and filepath configuration"
   ]
  },
  {
   "cell_type": "code",
   "execution_count": null,
   "id": "4ebcdef5-712f-4e7b-a482-78889740526e",
   "metadata": {},
   "outputs": [],
   "source": [
    "# Begin by importing coast and other packages\n",
    "import coast\n",
    "import xarray as xr\n",
    "import matplotlib.pyplot as plt\n",
    "\n",
    "# Define some file paths\n",
    "root = \"./\"\n",
    "dn_files = root + \"./example_files/\"\n",
    "\n",
    "fn_nemo_dat_t = dn_files + \"nemo_data_T_grid.nc\"\n",
    "fn_nemo_dom   = dn_files + \"coast_example_nemo_domain.nc\"\n",
    "fn_nemo_config = root + \"./config/example_nemo_grid_t.json\""
   ]
  },
  {
   "cell_type": "markdown",
   "id": "ec709212-502a-4c1c-b1b9-2a81377631ca",
   "metadata": {
    "tags": []
   },
   "source": [
    "### Loading data"
   ]
  },
  {
   "cell_type": "code",
   "execution_count": null,
   "id": "83d827f6-ac10-4bed-b98b-4369d937ee3f",
   "metadata": {},
   "outputs": [],
   "source": [
    "# Load data variables that are on the NEMO t-grid\n",
    "\n",
    "nemo_t = coast.Gridded( fn_data = fn_nemo_dat_t, fn_domain = fn_nemo_dom, config = fn_nemo_config )"
   ]
  },
  {
   "cell_type": "markdown",
   "id": "f323a2ea",
   "metadata": {
    "pycharm": {
     "name": "#%% md\n"
    }
   },
   "source": [
    "### Compute EOF\n",
    "\n",
    "For a variable (or subset of a variable) with two spatial dimensions and one temporal dimension, i.e. (x,y,t), the EOFs, temporal projections and variance explained can be computed by calling the ‘eofs’ method, and passing in the ssh DataArray as an argument. For example, for the sea surface height field, we can do"
   ]
  },
  {
   "cell_type": "code",
   "execution_count": null,
   "id": "886c8730",
   "metadata": {
    "pycharm": {
     "name": "#%%\n"
    }
   },
   "outputs": [],
   "source": [
    "eof_data = coast.compute_eofs( nemo_t.dataset.ssh )"
   ]
  },
  {
   "cell_type": "markdown",
   "id": "bb9933b1",
   "metadata": {
    "pycharm": {
     "name": "#%% md\n"
    }
   },
   "source": [
    "The method returns an xarray dataset that contains the EOFs, temporal projections and variance as DataArrays"
   ]
  },
  {
   "cell_type": "code",
   "execution_count": null,
   "id": "7b259a76",
   "metadata": {
    "pycharm": {
     "name": "#%%\n"
    }
   },
   "outputs": [],
   "source": [
    "#eof_data  # uncomment to print data object summary"
   ]
  },
  {
   "cell_type": "markdown",
   "id": "2c2bea35",
   "metadata": {
    "pycharm": {
     "name": "#%% md\n"
    }
   },
   "source": [
    "### Inspect EOFs\n",
    "The variance explained of the first four modes is"
   ]
  },
  {
   "cell_type": "code",
   "execution_count": null,
   "id": "579f5178",
   "metadata": {
    "pycharm": {
     "name": "#%%\n"
    }
   },
   "outputs": [],
   "source": [
    "eof_data.variance.sel(mode=[1,2,3,4])"
   ]
  },
  {
   "cell_type": "markdown",
   "id": "9286c14b",
   "metadata": {
    "pycharm": {
     "name": "#%% md\n"
    }
   },
   "source": [
    "### Plotting\n",
    "And the EOFs and temporal projections can be quick plotted:"
   ]
  },
  {
   "cell_type": "code",
   "execution_count": null,
   "id": "2a211c9c",
   "metadata": {
    "pycharm": {
     "name": "#%%\n"
    }
   },
   "outputs": [],
   "source": [
    "eof_data.EOF.sel(mode=[1,2,3,4]).plot.pcolormesh(col='mode',col_wrap=2,x='longitude',y='latitude')"
   ]
  },
  {
   "cell_type": "code",
   "execution_count": null,
   "id": "ba2908b5",
   "metadata": {
    "pycharm": {
     "name": "#%%\n"
    }
   },
   "outputs": [],
   "source": [
    "eof_data.temporal_proj.sel(mode=[1,2,3,4]).plot(col='mode',col_wrap=2,x='time')"
   ]
  },
  {
   "cell_type": "markdown",
   "id": "e1ef12d0-eb9f-40d1-95cf-75e0d4fc719c",
   "metadata": {},
   "source": [
    "### Complex EOFs\n",
    "The more exotic hilbert complex EOFs can also be computed to investigate the propagation of variability, for example:"
   ]
  },
  {
   "cell_type": "code",
   "execution_count": null,
   "id": "634e67fe-2ebe-4b16-a785-17ba7c76cb56",
   "metadata": {},
   "outputs": [],
   "source": [
    "heof_data = coast.compute_hilbert_eofs( nemo_t.dataset.ssh )\n",
    "#heof_data # uncomment to print data object summary"
   ]
  },
  {
   "cell_type": "markdown",
   "id": "052796fe-6ee1-4a9c-bc8d-f287dc752102",
   "metadata": {},
   "source": [
    "now with the modes expressed by their amplitude and phase, the spatial propagation of the variability can be examined through the EOF_phase.\n"
   ]
  }
 ],
 "metadata": {
  "kernelspec": {
   "display_name": "Python 3 (ipykernel)",
   "language": "python",
   "name": "python3"
  },
  "language_info": {
   "codemirror_mode": {
    "name": "ipython",
    "version": 3
   },
   "file_extension": ".py",
   "mimetype": "text/x-python",
   "name": "python",
   "nbconvert_exporter": "python",
   "pygments_lexer": "ipython3",
   "version": "3.8.13"
  }
 },
 "nbformat": 4,
 "nbformat_minor": 5
}
