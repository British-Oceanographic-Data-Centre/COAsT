{
 "cells": [
  {
   "cell_type": "markdown",
   "id": "ee2126ac-4454-4fbd-ac8c-0ad1fbdbbb06",
   "metadata": {},
   "source": [
    "Tutorial to make a simple SEAsia 1/12 deg SSS plot."
   ]
  },
  {
   "cell_type": "markdown",
   "id": "59797a8b-6f0c-4481-a6c3-6f44f00a98ac",
   "metadata": {},
   "source": [
    "### Import the relevant packages"
   ]
  },
  {
   "cell_type": "code",
   "execution_count": null,
   "id": "15a44744-80ad-4190-ba77-bd2df97a208c",
   "metadata": {},
   "outputs": [],
   "source": [
    "import coast\n",
    "import matplotlib.pyplot as plt"
   ]
  },
  {
   "cell_type": "markdown",
   "id": "a7bed287-4ad4-4662-b33e-393deb12212d",
   "metadata": {},
   "source": [
    "### Define file paths for data"
   ]
  },
  {
   "cell_type": "code",
   "execution_count": null,
   "id": "b203921b-aa2c-4708-bbe1-d0fb5aeaae1a",
   "metadata": {},
   "outputs": [],
   "source": [
    "dir_nam = \"/projectsa/COAsT/NEMO_example_data/SEAsia_R12/\"\n",
    "fil_nam = \"SEAsia_R12_5d_20120101_20121231_gridT.nc\"\n",
    "dom_nam = \"domain_cfg_ORCA12_adj.nc\"\n",
    "config_t = \"/work/jelt/GitHub/COAsT/config/example_nemo_grid_t.json\""
   ]
  },
  {
   "cell_type": "markdown",
   "id": "cbda1cc2-95d3-42e6-b599-689dfcd80514",
   "metadata": {},
   "source": [
    "### Create a Gridded object"
   ]
  },
  {
   "cell_type": "code",
   "execution_count": null,
   "id": "b57d9cf8-8f7e-4e01-b6fb-d2c0dc08479f",
   "metadata": {},
   "outputs": [],
   "source": [
    "sci_t = coast.Gridded(dir_nam + fil_nam, dir_nam + dom_nam, config=config_t)"
   ]
  },
  {
   "cell_type": "markdown",
   "id": "3e3bc25b-0157-4809-8eb7-b1fb0910a413",
   "metadata": {},
   "source": [
    "### Plot r12"
   ]
  },
  {
   "cell_type": "code",
   "execution_count": null,
   "id": "298702c2-e29f-40aa-aae9-5cbea134b870",
   "metadata": {},
   "outputs": [],
   "source": [
    "fig = plt.figure()\n",
    "\n",
    "plt.pcolormesh(sci_t.dataset.longitude, sci_t.dataset.latitude, sci_t.dataset.salinity.isel(t_dim=0).isel(z_dim=0))\n",
    "plt.xlabel(\"longitude\")\n",
    "plt.ylabel(\"latitude\")\n",
    "plt.title(\"SE Asia, surface salinity (psu)\")\n",
    "plt.colorbar()\n",
    "plt.show()"
   ]
  }
 ],
 "metadata": {
  "kernelspec": {
   "display_name": "Python 3 (ipykernel)",
   "language": "python",
   "name": "python3"
  },
  "language_info": {
   "codemirror_mode": {
    "name": "ipython",
    "version": 3
   },
   "file_extension": ".py",
   "mimetype": "text/x-python",
   "name": "python",
   "nbconvert_exporter": "python",
   "pygments_lexer": "ipython3",
   "version": "3.8.13"
  }
 },
 "nbformat": 4,
 "nbformat_minor": 5
}
