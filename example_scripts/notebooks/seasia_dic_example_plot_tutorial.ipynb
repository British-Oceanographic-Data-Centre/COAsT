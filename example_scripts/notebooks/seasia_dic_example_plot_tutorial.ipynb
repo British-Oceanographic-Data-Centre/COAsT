{
 "cells": [
  {
   "cell_type": "markdown",
   "id": "10824193-30ac-4aaa-ab11-852917e3e7da",
   "metadata": {},
   "source": [
    "Tutorial to make a simple SEAsia 1/12 deg DIC plot."
   ]
  },
  {
   "cell_type": "markdown",
   "id": "cd863e8f-e69d-49d6-bea4-ac29cfc69d9c",
   "metadata": {},
   "source": [
    "### Import the relevant packages"
   ]
  },
  {
   "cell_type": "code",
   "execution_count": null,
   "id": "78eaa4d3-c2f7-4ee2-9258-9740b2840bc0",
   "metadata": {},
   "outputs": [],
   "source": [
    "import coast\n",
    "import matplotlib.pyplot as plt"
   ]
  },
  {
   "cell_type": "markdown",
   "id": "381b91be-1700-47f2-b4ac-a421cc655143",
   "metadata": {},
   "source": [
    "### Define file paths for data"
   ]
  },
  {
   "cell_type": "code",
   "execution_count": null,
   "id": "9b22f92c-56eb-4291-bbf7-3703e78eb034",
   "metadata": {},
   "outputs": [],
   "source": [
    "root = \"./\"\n",
    "dn_files = root + \"./example_files/\"\n",
    "path_config = root + \"./config/\"\n",
    "\n",
    "fn_seasia_domain = dn_files + \"coast_example_domain_SEAsia.nc\"\n",
    "fn_seasia_var = dn_files + \"coast_example_SEAsia_BGC_1990.nc\"\n",
    "fn_seasia_config_bgc = path_config + \"example_nemo_bgc.json\""
   ]
  },
  {
   "cell_type": "markdown",
   "id": "11f73f80-6427-4335-87b6-5959ce4ed141",
   "metadata": {},
   "source": [
    "### Create a Gridded object"
   ]
  },
  {
   "cell_type": "code",
   "execution_count": null,
   "id": "c1705491-b302-4e0c-b402-9777e7149c3b",
   "metadata": {},
   "outputs": [],
   "source": [
    "seasia_bgc = coast.Gridded(fn_data=fn_seasia_var, fn_domain=fn_seasia_domain, config=fn_seasia_config_bgc)"
   ]
  },
  {
   "cell_type": "markdown",
   "id": "831f6166-9774-41b9-9f73-7319bedafd6a",
   "metadata": {},
   "source": [
    "### Plot DIC"
   ]
  },
  {
   "cell_type": "code",
   "execution_count": null,
   "id": "2149cd5d-af72-4c97-ae95-20e85dd3994f",
   "metadata": {},
   "outputs": [],
   "source": [
    "fig = plt.figure()\n",
    "plt.pcolormesh(\n",
    "    seasia_bgc.dataset.longitude,\n",
    "    seasia_bgc.dataset.latitude,\n",
    "    seasia_bgc.dataset.dic.isel(t_dim=0).isel(z_dim=0),\n",
    "    cmap=\"RdYlBu_r\",\n",
    "    vmin=1600,\n",
    "    vmax=2080,\n",
    ")\n",
    "plt.colorbar()\n",
    "plt.title(\"DIC, mmol/m^3\")\n",
    "plt.xlabel(\"longitude\")\n",
    "plt.ylabel(\"latitude\")\n",
    "plt.show()"
   ]
  },
  {
   "cell_type": "code",
   "execution_count": null,
   "id": "4dff7dad",
   "metadata": {},
   "outputs": [],
   "source": []
  }
 ],
 "metadata": {
  "kernelspec": {
   "display_name": "Python 3 (ipykernel)",
   "language": "python",
   "name": "python3"
  },
  "language_info": {
   "codemirror_mode": {
    "name": "ipython",
    "version": 3
   },
   "file_extension": ".py",
   "mimetype": "text/x-python",
   "name": "python",
   "nbconvert_exporter": "python",
   "pygments_lexer": "ipython3",
   "version": "3.8.13"
  }
 },
 "nbformat": 4,
 "nbformat_minor": 5
}
