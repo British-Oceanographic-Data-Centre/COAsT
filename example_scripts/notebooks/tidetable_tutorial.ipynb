{
 "cells": [
  {
   "cell_type": "markdown",
   "metadata": {},
   "source": [
    "This script gives an overview of some of validation tools available when\n",
    "using the TidegaugeMultiple object in COAsT.\n",
    "\n",
    "For this a script, a premade netcdf file containing tide gauge data is used."
   ]
  },
  {
   "cell_type": "code",
   "execution_count": null,
   "metadata": {},
   "outputs": [],
   "source": [
    "#%% 1. Import necessary libraries\n",
    "import xarray as xr\n",
    "import numpy as np\n",
    "import coast\n",
    "import datetime\n"
   ]
  },
  {
   "cell_type": "code",
   "execution_count": null,
   "metadata": {},
   "outputs": [],
   "source": [
    "\n",
    "#%% 2. Define paths\n",
    "fn_dom = \"<PATH_TO_NEMO_DOMAIN>\"\n",
    "fn_dat = \"<PATH_TO_NEMO_DATA>\"\n",
    "fn_config = \"<PATH_TO_CONFIG.json>\"\n",
    "fn_tg = \"<PATH_TO_TIDEGAUGE_NETCDF>\"  # This should already be processed, on the same time dimension\n",
    "\n",
    "if 1:\n",
    "    print(f\"Use default files\")\n",
    "    dir = \"./example_files/\"\n",
    "    fn_dom = dir + \"coast_example_nemo_domain.nc\"\n",
    "    fn_dat = dir + \"coast_example_nemo_data.nc\"\n",
    "    fn_config = \"./config/example_nemo_grid_t.json\"\n",
    "    fn_tg = dir + \"tg_amm15.nc\"\n"
   ]
  },
  {
   "cell_type": "code",
   "execution_count": null,
   "metadata": {},
   "outputs": [],
   "source": [
    "\n",
    "#%% 3. Create gridded object and load data\n",
    "nemo = coast.Gridded(fn_dat, fn_dom, multiple=True, config=fn_config)\n",
    "\n",
    "# Create a landmask array and put it into the nemo object.\n",
    "# Here, using the bottom_level == 0 variable from the domain file is enough.\n",
    "nemo.dataset[\"landmask\"] = nemo.dataset.bottom_level == 0\n",
    "\n",
    "# Rename depth_0 to be depth\n",
    "nemo.dataset = nemo.dataset.rename({\"depth_0\": \"depth\"})\n",
    "nemo.dataset = nemo.dataset[[\"ssh\", \"landmask\"]]\n",
    "\n"
   ]
  },
  {
   "cell_type": "code",
   "execution_count": null,
   "metadata": {},
   "outputs": [],
   "source": [
    "\n",
    "#%% 4. Create TidegaugeMultiple object\n",
    "\n",
    "# Create the object and then inset the netcdf dataset\n",
    "obs = coast.Tidegauge(dataset=xr.open_dataset(fn_tg))\n",
    "obs.dataset = obs.dataset.set_coords(\"time\")\n",
    "\n",
    "# Shift the timestamp so it overlaps with the tidegauge data - Not ideal but this is only a demo\n",
    "obs.dataset.coords[\"time\"] = obs.dataset.coords[\"time\"] + 1000000000 * 3600 * 24 * 365 * 3\n",
    "\n",
    "# Cut down data to be only in 2018 to match model data.\n",
    "start_date = datetime.datetime(2007, 1, 1)\n",
    "end_date = datetime.datetime(2007, 1, 31)\n",
    "obs = obs.time_slice(start_date, end_date)\n"
   ]
  },
  {
   "cell_type": "code",
   "execution_count": null,
   "metadata": {},
   "outputs": [],
   "source": [
    "\n",
    "#%% 5. Interpolate model data onto obs locations\n",
    "model_timeseries = obs.obs_operator(nemo)\n",
    "\n",
    "# In this case, transpose the interpolated dataset\n",
    "model_timeseries.dataset = model_timeseries.dataset.transpose()\n",
    "\n"
   ]
  },
  {
   "cell_type": "code",
   "execution_count": null,
   "metadata": {},
   "outputs": [],
   "source": [
    "\n",
    "#%% 6. Do some processing\n",
    "# This routine searches for missing values in each dataset and applies them\n",
    "# equally to each corresponding dataset\n",
    "tganalysis = coast.TidegaugeAnalysis()\n",
    "obs_new, model_new = tganalysis.match_missing_values(obs.dataset.ssh, model_timeseries.dataset.ssh)\n",
    "\n",
    "# Subtract means from all time series\n",
    "obs_new = tganalysis.demean_timeseries(obs_new.dataset)\n",
    "model_new = tganalysis.demean_timeseries(model_new.dataset)\n",
    "\n",
    "# Now you have equivalent and comparable sets of time series that can be\n",
    "# easily compared.\n",
    "\n",
    "#%% Calculate non tidal residuals\n",
    "\n",
    "# First, do a harmonic analysis. This routine uses utide\n",
    "ha_mod = tganalysis.harmonic_analysis_utide(model_new.dataset.ssh, min_datapoints=1)\n",
    "ha_obs = tganalysis.harmonic_analysis_utide(obs_new.dataset.ssh, min_datapoints=1)\n",
    "\n",
    "# Create new TidegaugeMultiple objects containing reconstructed tides\n",
    "tide_mod = tganalysis.reconstruct_tide_utide(model_new.dataset.time, ha_mod)\n",
    "tide_obs = tganalysis.reconstruct_tide_utide(obs_new.dataset.time, ha_obs)\n",
    "\n",
    "# Get new TidegaugeMultiple objects containing non tidal residuals.\n",
    "ntr_mod = tganalysis.calculate_non_tidal_residuals(model_new.dataset.ssh, tide_mod.dataset.reconstructed)\n",
    "ntr_obs = tganalysis.calculate_non_tidal_residuals(obs_new.dataset.ssh, tide_obs.dataset.reconstructed)\n",
    "\n",
    "# Other interesting applications here included only reconstructing specified\n",
    "# tidal frequency bands and validating this.\n",
    "\n",
    "#%% Calculate errors\n",
    "\n",
    "# The difference() routine will calculate differences, absolute_differences\n",
    "# and squared differenced for all variables:\n",
    "ntr_diff = tganalysis.difference(ntr_obs.dataset, ntr_mod.dataset)\n",
    "ssh_diff = tganalysis.difference(obs_new.dataset, model_new.dataset)\n",
    "\n",
    "# We can then easily get mean errors, MAE and MSE\n",
    "mean_stats = ntr_diff.dataset.mean(dim=\"t_dim\", skipna=True)\n",
    "\n",
    "#%% Threshold Statistics for Non-tidal residuals\n",
    "\n",
    "# This is a simple extreme value analysis of whatever data you use.\n",
    "# It will count the number of peaks and the total time spent over each\n",
    "# threshold provided. It will also count the numbers of daily and monthly\n",
    "# maxima over each threshold\n",
    "\n",
    "thresh_mod = tganalysis.threshold_statistics(ntr_mod.dataset, thresholds=np.arange(0, 2, 0.2))\n",
    "thresh_obs = tganalysis.threshold_statistics(ntr_obs.dataset, thresholds=np.arange(0, 2, 0.2))\n"
   ]
  }
 ],
 "metadata": {
  "kernelspec": {
   "display_name": "Python 3.8.13 ('coast_env_new')",
   "language": "python",
   "name": "python3"
  },
  "language_info": {
   "codemirror_mode": {
    "name": "ipython",
    "version": 3
   },
   "file_extension": ".py",
   "mimetype": "text/x-python",
   "name": "python",
   "nbconvert_exporter": "python",
   "pygments_lexer": "ipython3",
   "version": "3.8.13"
  },
  "orig_nbformat": 4,
  "vscode": {
   "interpreter": {
    "hash": "edbd2e3cb8183e66d063e2b638973e07e1c11d7f682ee3a27358b79f7159feb3"
   }
  }
 },
 "nbformat": 4,
 "nbformat_minor": 2
}
