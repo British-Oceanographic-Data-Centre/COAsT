{
 "cells": [
  {
   "cell_type": "markdown",
   "id": "531346eb-649e-48c0-88b1-b87af61c3c53",
   "metadata": {},
   "source": [
    "For plotting analysis data from a netcdf file created using `COAsT.Profile.mask_means()`.\n",
    "This will plot multiple datasets onto a set of subplots. Each subplot is for a different averaging region.\n",
    "\n",
    "At the top of this script, you can set the paths to the netcdf files to plot and where to save. If you have multiple model runs to plot, provide a list of file paths (strings).\n",
    "\n",
    "Below this section are a bunch of parameters you can set, with explanations in comments. Edit this as much as you like or even go into the plotting code below."
   ]
  },
  {
   "cell_type": "code",
   "execution_count": null,
   "id": "0dbb2ab9-8955-42a5-b386-32349ca5d087",
   "metadata": {},
   "outputs": [],
   "source": [
    "import xarray as xr\n",
    "import matplotlib.pyplot as plt\n",
    "import numpy as np\n",
    "\n",
    "#%% File settings\n",
    "run_name = \"test\""
   ]
  },
  {
   "cell_type": "markdown",
   "id": "784bd64a",
   "metadata": {},
   "source": [
    "List of analysis output files. Profiles from each will be plotted on each axis of the plot."
   ]
  },
  {
   "cell_type": "code",
   "execution_count": null,
   "id": "33c1ca93-9e0d-4991-9954-ba7ab23fd285",
   "metadata": {},
   "outputs": [],
   "source": [
    "fn_list = [\"/Users/dbyrne/transfer/mask_means_daily_test.nc\", \"/Users/dbyrne/transfer/mask_means_daily_test.nc\"]\n",
    "\n",
    "# Filename for the output\n",
    "fn_out = \"/Users/dbyrne/transfer/regional_means_{0}.png\".format(run_name)\n",
    "\n",
    "#%% General Plot Settings\n",
    "region_ind = [0, 1, 2, 3, 4, 5, 6, 7, 8]  # Region indices (in analysis) to plot\n",
    "region_names = [\"A\", \"B\", \"C\", \"D\", \"E\", \"F\", \"G\", \"H\", \"I\"]  # Region names, will be used for titles in plot\n",
    "var_name = \"profile_average_abs_diff_temperature\"  # Variable name in analysis file to plot\n",
    "plot_zero_line = True  # Plot a black vertical line at x = 0\n",
    "plot_mean_depth = False  # Plot the mean bathymetric depth. Make sure 'bathymetry' is in the analysis dataset\n",
    "save_plot = False  # Boolean to save plot or not\n",
    "\n",
    "ref_depth = np.concatenate((np.arange(1, 100, 2), np.arange(100, 300, 5), np.arange(300, 1000, 50)))  # Data depths\n",
    "\n",
    "# Subplot axes settings\n",
    "n_r = 2  # Number of subplot rows\n",
    "n_c = 5  # Number of subplot columns\n",
    "figsize = (7, 7)  # Figure size\n",
    "sharey = True  # Align y axes\n",
    "sharex = False  # Align x axes\n",
    "subplot_padding = 0.5  # Amount of vertical and horizontal padding between plots\n",
    "fig_pad = (0.075, 0.075, 0.075, 0.1)  # Whole figure padding as % (left, top, right, bottom)\n",
    "max_depth = 200  # Maximum plot depth\n",
    "\n",
    "# Legend settings\n",
    "legend_str = [\"CO9p0\", \"CO9p0_2\"]  # List of strings to use in legend (match with fn_list ordering)\n",
    "legend_index = 9  # Axis index to put legend (flattened index, start from 0).\n",
    "# Good to place in an empty subplot\n",
    "legend_pos = \"upper right\"  # Position for legend, using matplitlib legend string\n",
    "legend_fontsize = 9\n",
    "\n",
    "# Labels and Titles\n",
    "xlabel = \"Absolute Error (degC)\"  # Xlabel string\n",
    "xlabelpos = (figsize[0] / 2, 0)  # (x,y) position of xlabel\n",
    "ylabel = \"Depth (m)\"  # Ylabel string\n",
    "ylabelpos = (figsize[1] / 2, 0)  # (x,y) position of ylabel\n",
    "fig_title = \"Regional MAE || All Seasons\"  # Whole figure title\n",
    "label_fontsize = 11  # Fontsize of all labels\n",
    "label_fontweight = \"normal\"  # Fontweight to use for labels and subtitles\n",
    "title_fontsize = 13  # Fontsize of title\n",
    "title_fontweight = \"bold\"  # Fontweight to use for title"
   ]
  },
  {
   "cell_type": "markdown",
   "id": "2a04b4f3-0993-4508-811d-e8f427b563b4",
   "metadata": {},
   "source": [
    "SCRIPT: READ AND PLOT DATA.\n",
    "\n",
    "Read all datasets into list."
   ]
  },
  {
   "cell_type": "code",
   "execution_count": null,
   "id": "55389f52-7b6e-4673-a211-0df2b66312b9",
   "metadata": {},
   "outputs": [],
   "source": [
    "ds_list = [xr.open_dataset(dd) for dd in fn_list]\n",
    "n_ds = len(ds_list)\n",
    "n_reg = len(region_ind)\n",
    "n_ax = n_r * n_c"
   ]
  },
  {
   "cell_type": "markdown",
   "id": "8f76dc85-102d-4c79-800c-efe142f09554",
   "metadata": {},
   "source": [
    "Create plot and flatten axis array."
   ]
  },
  {
   "cell_type": "code",
   "execution_count": null,
   "id": "522bf1c3-f8c7-4189-9c1e-418cfd700674",
   "metadata": {},
   "outputs": [],
   "source": [
    "f, a = plt.subplots(n_r, n_c, figsize=figsize, sharex=sharex, sharey=sharey)\n",
    "a_flat = a.flatten()\n",
    "\n",
    "# Loop over regions\n",
    "for ii in range(n_ax):\n",
    "\n",
    "    if ii >= n_reg:\n",
    "        a_flat[ii].axis(\"off\")\n",
    "        continue\n",
    "\n",
    "    # Get the index of this region\n",
    "    index = region_ind[ii]\n",
    "\n",
    "    # Loop over datasets and plot their variable\n",
    "    p = []\n",
    "    for pp in range(n_ds):\n",
    "        ds = ds_list[pp]\n",
    "        p.append(a_flat[ii].plot(ds[var_name][index], ref_depth)[0])\n",
    "\n",
    "    # Do some plot things\n",
    "    a_flat[ii].set_title(region_names[ii])\n",
    "    a_flat[ii].grid()\n",
    "    a_flat[ii].set_ylim(0, max_depth)\n",
    "\n",
    "    # Plot fixed lines at 0 and mean depth\n",
    "    if plot_zero_line:\n",
    "        a_flat[ii].plot([0, 0], [0, max_depth], c=\"k\", linewidth=1, linestyle=\"-\")\n",
    "    if plot_mean_depth:\n",
    "        a_flat[ii].plot()\n",
    "\n",
    "    # Invert y axis\n",
    "    a_flat[ii].invert_yaxis()\n",
    "\n",
    "# Make legend\n",
    "a_flat[legend_index].legend(p, legend_str, fontsize=legend_fontsize)\n",
    "\n",
    "# Set Figure title\n",
    "f.suptitle(fig_title, fontsize=title_fontsize, fontweight=title_fontweight)\n",
    "\n",
    "# Set x and y labels\n",
    "f.text(\n",
    "    xlabelpos[0],\n",
    "    xlabelpos[1],\n",
    "    xlabel,\n",
    "    va=\"center\",\n",
    "    rotation=\"horizontal\",\n",
    "    fontweight=label_fontweight,\n",
    "    fontsize=label_fontsize,\n",
    ")"
   ]
  },
  {
   "cell_type": "markdown",
   "id": "ef675609-67e2-4c5d-838c-b28864defa91",
   "metadata": {},
   "source": [
    "Set tight figure layout."
   ]
  },
  {
   "cell_type": "code",
   "execution_count": null,
   "id": "1aae886c-bf38-43d4-a882-a542713a0512",
   "metadata": {},
   "outputs": [],
   "source": [
    "f.tight_layout(w_pad=subplot_padding, h_pad=subplot_padding)\n",
    "f.subplots_adjust(left=(fig_pad[0]), bottom=(fig_pad[1]), right=(1 - fig_pad[2]), top=(1 - fig_pad[3]))"
   ]
  },
  {
   "cell_type": "markdown",
   "id": "2ba71c93-bcbe-4f50-a2dd-24a5b608f4c0",
   "metadata": {},
   "source": [
    "Save plot maybe."
   ]
  },
  {
   "cell_type": "code",
   "execution_count": null,
   "id": "bf618f45-01a4-4f35-8470-7bc9d062593c",
   "metadata": {},
   "outputs": [],
   "source": [
    "if save_plot:\n",
    "    f.savefig(fn_out)"
   ]
  }
 ],
 "metadata": {
  "kernelspec": {
   "display_name": "Python 3 (ipykernel)",
   "language": "python",
   "name": "python3"
  },
  "language_info": {
   "codemirror_mode": {
    "name": "ipython",
    "version": 3
   },
   "file_extension": ".py",
   "mimetype": "text/x-python",
   "name": "python",
   "nbconvert_exporter": "python",
   "pygments_lexer": "ipython3",
   "version": "3.8.13"
  }
 },
 "nbformat": 4,
 "nbformat_minor": 5
}
