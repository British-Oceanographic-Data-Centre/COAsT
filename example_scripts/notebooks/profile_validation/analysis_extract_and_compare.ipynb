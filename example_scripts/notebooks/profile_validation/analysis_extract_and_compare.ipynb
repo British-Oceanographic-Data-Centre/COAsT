{
 "cells": [
  {
   "cell_type": "code",
   "execution_count": null,
   "id": "ab18fead-0852-4b80-aedf-bff0ebe0a0a4",
   "metadata": {},
   "outputs": [],
   "source": []
  },
  {
   "cell_type": "markdown",
   "id": "2fed424b-4213-4c92-8f21-68630cd77e34",
   "metadata": {},
   "source": [
    "This script demonstrates how to use the Profile and Gridded objects to extract model profiles and do some comparisons with observed profiles.\n",
    "It will do a nearest neighbour extraction of model data (with time interpolation of your choice). It will then calculate differences between the model and obs and averaged profiles and errors into surface and bottom layers.\n",
    "\n",
    "This script will result in five new files being written:\n",
    "- 1. extracted_profiles: Model data on model levels extracted at obs locs\n",
    "- 2. interpolated_profiles: Model data on ref depth level\n",
    "- 3. interpolated_obs: Obs data on ref depth levels\n",
    "- 4. profile_errors: Differences between interpolated_profiles and _obs\n",
    "- 5. surface_data: Surface data and errors\n",
    "- 6. bottom_data: Bottom data and errors\n",
    "\n",
    "If you are dealing with very large datasets, you should take a look at the script analysis_extract_and_compare_single_process.py. This script demonstrates a single process that can be used to build a parallel scheme.\n",
    "\n",
    "This script can be used with COAsT example data. Please set:  \n",
    "\n",
    "fn_dom = path.join('./example_files', \"coast_example_nemo_domain.nc\")  \n",
    "fn_dat = path.join('./example_files', \"coast_example_nemo_data.nc\")  \n",
    "dn_out = \"./example_files\"  \n",
    "fn_prof = path.join('./example_files', \"coast_example_EN4_201008.nc\")  \n",
    "fn_cfg_nemo = path.join('./config', \"example_nemo_grid_t.json\")  \n",
    "fn_cfg_prof = path.join('./config', \"example_en4_profiles.json\")  "
   ]
  },
  {
   "cell_type": "code",
   "execution_count": null,
   "id": "47aad85d-fa43-4bbd-ad52-ba97728ed2e4",
   "metadata": {},
   "outputs": [],
   "source": [
    "import sys\n",
    "\n",
    "# IF USING A DEVELOPMENT BRANCH OF COAST, ADD THE REPOSITORY TO PATH:\n",
    "# sys.path.append('<PATH_TO_COAST_REPO')\n",
    "import coast\n",
    "import xarray as xr\n",
    "import numpy as np\n",
    "import datetime\n",
    "from dateutil.relativedelta import relativedelta\n",
    "import os.path as path\n",
    "\n",
    "print(\"Modules loaded\", flush=True)\n",
    "\n",
    "# Name of the run -- used mainly for naming output files\n",
    "run_name = \"co7\""
   ]
  },
  {
   "cell_type": "markdown",
   "id": "9d32db58-5524-42aa-bfb8-c113f6a5382f",
   "metadata": {},
   "source": [
    "Figure out what the date range is for this analysis process."
   ]
  },
  {
   "cell_type": "code",
   "execution_count": null,
   "id": "bbab85e7-5fb1-4abc-ba07-754a798965ef",
   "metadata": {},
   "outputs": [],
   "source": [
    "start_date = datetime.datetime(2007, 1, 1)\n",
    "end_date = datetime.datetime(2010, 12, 1)\n",
    "print(\"Analysis Range: {0} -->> {1}\".format(start_date.strftime(\"%Y%m%d\"), end_date.strftime(\"%Y%m%d\")), flush=True)"
   ]
  },
  {
   "cell_type": "markdown",
   "id": "3e647300-5a3f-4a46-b875-6cb6c5ae7cf1",
   "metadata": {},
   "source": [
    "Depth averaging settings."
   ]
  },
  {
   "cell_type": "code",
   "execution_count": null,
   "id": "a988a102-d45e-4dbb-b895-12a536c93a43",
   "metadata": {},
   "outputs": [],
   "source": [
    "ref_depth = np.concatenate((np.arange(1, 100, 2), np.arange(100, 300, 5), np.arange(300, 1000, 50)))\n",
    "surface_def = 5  # in metres\n",
    "bottom_height = [10, 30, 100]  # Use bottom heights of 10m, 30m and 100m for...\n",
    "bottom_thresh = [100, 500, np.inf]  # ...depths less than 100m, 500m and infinite"
   ]
  },
  {
   "cell_type": "markdown",
   "id": "038d2e92-f0cd-4c25-af8c-d2192b082a3e",
   "metadata": {},
   "source": [
    "File paths (All) -- use format suggestions."
   ]
  },
  {
   "cell_type": "code",
   "execution_count": null,
   "id": "8c0e6e8b-b426-4f8e-ad11-54d9054fe71e",
   "metadata": {},
   "outputs": [],
   "source": [
    "fn_dom = \"<PATH_TO_NEMO_DOMAIN_FILE>\"\n",
    "fn_dat = \"<PATH_TO_NEMO_DATA_FILE(S)>\"  # .format(run_name, start_date.year)\n",
    "dn_out = \"<PATH_TO_OUTPUT_DIRECTORY>\"  # .format(run_name)\n",
    "fn_prof = \"<PATH_TO_PROCESSED_EN4_DATA>\"\n",
    "fn_cfg_nemo = \"<PATH_TO_COAST_GRIDDED_CONFIG_FILE>\"\n",
    "fn_cfg_prof = \"<PATH_TO_CODE_PROFILE_CONFIG_FILE>\""
   ]
  },
  {
   "cell_type": "markdown",
   "id": "d85353fa-ff48-4d67-82d5-7194cd49e796",
   "metadata": {},
   "source": [
    "CREATE NEMO OBJECT and read in NEMO data. Extract latitude and longitude array."
   ]
  },
  {
   "cell_type": "code",
   "execution_count": null,
   "id": "099e6090-9007-45d3-a41e-d6a5496f48a1",
   "metadata": {},
   "outputs": [],
   "source": [
    "print(\"Reading model data..\", flush=True)\n",
    "nemo = coast.Gridded(fn_dat, fn_dom, multiple=True, config=fn_cfg_nemo)\n",
    "lon = nemo.dataset.longitude.values.squeeze()\n",
    "lat = nemo.dataset.latitude.values.squeeze()\n",
    "print(\"NEMO object created\", flush=True)"
   ]
  },
  {
   "cell_type": "markdown",
   "id": "3589b978-4194-4620-85c1-0a40656ed2d8",
   "metadata": {},
   "source": [
    "Extract time indices between start and end dates."
   ]
  },
  {
   "cell_type": "code",
   "execution_count": null,
   "id": "4ab9e32b-9183-44de-947f-bcd38a8e238e",
   "metadata": {},
   "outputs": [],
   "source": [
    "nemo = nemo.time_slice(start_date, end_date)"
   ]
  },
  {
   "cell_type": "markdown",
   "id": "d214c7f9-d767-4456-a3e4-d609fdbf10b6",
   "metadata": {},
   "source": [
    "Create a landmask array -- important for obs_operator. We can get a landmask from bottom_level."
   ]
  },
  {
   "cell_type": "code",
   "execution_count": null,
   "id": "ac82ac9e-fcf7-4b7e-aee3-d45a465c99ad",
   "metadata": {},
   "outputs": [],
   "source": [
    "nemo.dataset[\"landmask\"] = nemo.dataset.bottom_level == 0\n",
    "nemo.dataset = nemo.dataset.rename({\"depth_0\": \"depth\"})\n",
    "print(\"Landmask calculated\", flush=True)"
   ]
  },
  {
   "cell_type": "markdown",
   "id": "5649a711-b710-4cd2-9a42-293afd83f481",
   "metadata": {},
   "source": [
    "CREATE EN4 PROFILE OBJECT  \n",
    "If you have not already processed the data:"
   ]
  },
  {
   "cell_type": "code",
   "execution_count": null,
   "id": "17f3c6d1-5547-4ca5-9f98-8f920e8e0aca",
   "metadata": {},
   "outputs": [],
   "source": [
    "profile = coast.Profile(config=fn_cfg_prof)\n",
    "profile.read_en4(fn_prof)\n",
    "profile = profile.process_en4()"
   ]
  },
  {
   "cell_type": "markdown",
   "id": "edcd667b-1c7c-4eb5-a478-fe9c9cd600f0",
   "metadata": {},
   "source": [
    "If you have already processed then uncomment:  \n",
    "profile = coast.Profile(dataset = xr.open_dataset(fn_prof, chunks={\"id_dim\": 10000}))"
   ]
  },
  {
   "cell_type": "code",
   "execution_count": null,
   "id": "3633810e-8399-4906-bb8a-ae4d5ed5f3e5",
   "metadata": {},
   "outputs": [],
   "source": [
    "print(\"Profile object created\", flush=True)"
   ]
  },
  {
   "cell_type": "markdown",
   "id": "74974ede-61d9-451c-945d-b2f5625053cb",
   "metadata": {},
   "source": [
    "Slice out the Profile times."
   ]
  },
  {
   "cell_type": "code",
   "execution_count": null,
   "id": "e3551773-ecbf-46a8-8d22-9429e034c05f",
   "metadata": {},
   "outputs": [],
   "source": [
    "profile = profile.time_slice(start_date, end_date)"
   ]
  },
  {
   "cell_type": "markdown",
   "id": "37d55578-dc5e-4b60-9783-74897e1a8c6a",
   "metadata": {},
   "source": [
    "Extract only the variables that we want."
   ]
  },
  {
   "cell_type": "code",
   "execution_count": null,
   "id": "9ec8d348-2617-4a02-a261-093aba89aa65",
   "metadata": {},
   "outputs": [],
   "source": [
    "nemo.dataset = nemo.dataset[[\"temperature\", \"bathymetry\", \"bottom_level\", \"landmask\"]]\n",
    "profile.dataset = profile.dataset[[\"potential_temperature\", \"practical_salinity\", \"depth\"]]\n",
    "profile.dataset = profile.dataset.rename({\"potential_temperature\": \"temperature\", \"practical_salinity\": \"salinity\"})"
   ]
  },
  {
   "cell_type": "markdown",
   "id": "870bf04f-15a6-421a-aaef-b5ce78166728",
   "metadata": {},
   "source": [
    "Create Profile analysis object."
   ]
  },
  {
   "cell_type": "code",
   "execution_count": null,
   "id": "3638e5af-76ab-4b44-b21c-2f60b43efe83",
   "metadata": {},
   "outputs": [],
   "source": [
    "profile_analysis = coast.ProfileAnalysis()"
   ]
  },
  {
   "cell_type": "markdown",
   "id": "8d677340-acde-4f4e-b6ce-068030c77e5a",
   "metadata": {},
   "source": [
    "Interpolate model to obs using obs_operator()."
   ]
  },
  {
   "cell_type": "code",
   "execution_count": null,
   "id": "cd0fbe36-d699-47f9-b3d2-f96cd190d10f",
   "metadata": {},
   "outputs": [],
   "source": [
    "model_profiles = profile.obs_operator(nemo)\n",
    "print(\"Obs_operator successful.\", flush=True)"
   ]
  },
  {
   "cell_type": "markdown",
   "id": "42469ed7-c6bd-448e-a414-750f84f15b8f",
   "metadata": {},
   "source": [
    "Throw away profiles where the interpolation distance is larger than 5km."
   ]
  },
  {
   "cell_type": "code",
   "execution_count": null,
   "id": "4d84feb5-9490-411f-851b-afe20c308f95",
   "metadata": {},
   "outputs": [],
   "source": [
    "keep_indices = model_profiles.dataset.interp_dist <= 5\n",
    "model_profiles = model_profiles.isel(id_dim=keep_indices)\n",
    "profile = profile.isel(id_dim=keep_indices)"
   ]
  },
  {
   "cell_type": "markdown",
   "id": "84313d3d-43cd-45da-9801-977a67d60630",
   "metadata": {},
   "source": [
    "Load the profiles (careful with memory)."
   ]
  },
  {
   "cell_type": "code",
   "execution_count": null,
   "id": "64699f31-df64-4a05-bf63-573e5ec5294e",
   "metadata": {},
   "outputs": [],
   "source": [
    "profile.dataset.load()\n",
    "print(\"Model interpolated to obs locations\", flush=True)"
   ]
  },
  {
   "cell_type": "markdown",
   "id": "c9b4d88d-86ee-4e36-85ab-9bcdce6ff2d6",
   "metadata": {},
   "source": [
    "Vertical Interpolation of model profiles to obs depths."
   ]
  },
  {
   "cell_type": "code",
   "execution_count": null,
   "id": "35625cb3-3914-4c8c-ba91-140705caf457",
   "metadata": {},
   "outputs": [],
   "source": [
    "model_profiles_interp = profile_analysis.interpolate_vertical(model_profiles, profile, interp_method=\"linear\")\n",
    "print(\"Model interpolated to obs depths\", flush=True)"
   ]
  },
  {
   "cell_type": "markdown",
   "id": "f4014a73-4d13-41fb-b05c-7e9bde6cd627",
   "metadata": {},
   "source": [
    "Vertical interpolation of model profiles to reference depths."
   ]
  },
  {
   "cell_type": "code",
   "execution_count": null,
   "id": "f3e23aa8-eee7-4c9a-80a2-f46d0e632611",
   "metadata": {},
   "outputs": [],
   "source": [
    "model_profiles_interp = profile_analysis.interpolate_vertical(model_profiles_interp, ref_depth)\n",
    "model_profiles.dataset.to_netcdf(\n",
    "    dn_out\n",
    "    + \"extracted_profiles_{0}_{1}_{2}.nc\".format(run_name, start_date.strftime(\"%Y%m\"), end_date.strftime(\"%Y%m\"))\n",
    ")\n",
    "model_profiles_interp.dataset.to_netcdf(\n",
    "    dn_out\n",
    "    + \"interpolated_profiles_{0}_{1}_{2}.nc\".format(run_name, start_date.strftime(\"%Y%m\"), end_date.strftime(\"%Y%m\"))\n",
    ")\n",
    "print(\"Model interpolated to ref depths\", flush=True)"
   ]
  },
  {
   "cell_type": "markdown",
   "id": "6229c4d6-5c63-4b55-aede-4777e8822606",
   "metadata": {},
   "source": [
    "Interpolation of obs profiles to reference depths."
   ]
  },
  {
   "cell_type": "code",
   "execution_count": null,
   "id": "b008642d-2791-47b8-8114-2f6e378e5c95",
   "metadata": {},
   "outputs": [],
   "source": [
    "profile_interp = profile_analysis.interpolate_vertical(profile, ref_depth)\n",
    "profile_interp.dataset.to_netcdf(\n",
    "    dn_out + \"interpolated_obs_{0}_{1}_{2}.nc\".format(run_name, start_date.strftime(\"%Y%m\"), end_date.strftime(\"%Y%m\"))\n",
    ")\n",
    "print(\"Obs interpolated to reference depths\", flush=True)"
   ]
  },
  {
   "cell_type": "markdown",
   "id": "70c2c89e-2f91-4a45-8ea8-e900570da8fb",
   "metadata": {},
   "source": [
    "Difference between Model and Obs."
   ]
  },
  {
   "cell_type": "code",
   "execution_count": null,
   "id": "a3e6cf13-2df4-4978-b0ac-b7aa995bbe04",
   "metadata": {},
   "outputs": [],
   "source": [
    "differences = profile_analysis.difference(profile_interp, model_profiles_interp)\n",
    "differences.dataset.load()\n",
    "differences.dataset.to_netcdf(\n",
    "    dn_out + \"profile_errors_{0}_{1}_{2}.nc\".format(run_name, start_date.strftime(\"%Y%m\"), end_date.strftime(\"%Y%m\"))\n",
    ")\n",
    "print(\"Calculated errors and written\", flush=True)"
   ]
  },
  {
   "cell_type": "markdown",
   "id": "d54d73a7-23a8-4412-bd98-5f0f75482ea8",
   "metadata": {},
   "source": [
    "Surface Values and errors."
   ]
  },
  {
   "cell_type": "code",
   "execution_count": null,
   "id": "bb4ca2af-d325-441f-88b9-e9ab9af50726",
   "metadata": {},
   "outputs": [],
   "source": [
    "model_profiles_surface = profile_analysis.depth_means(model_profiles, [0, surface_def])\n",
    "obs_profiles_surface = profile_analysis.depth_means(profile, [0, surface_def])\n",
    "surface_errors = profile_analysis.difference(obs_profiles_surface, model_profiles_surface)\n",
    "surface_data = xr.merge(\n",
    "    (surface_errors.dataset, model_profiles_surface.dataset, obs_profiles_surface.dataset), compat=\"override\"\n",
    ")\n",
    "surface_data.to_netcdf(\n",
    "    dn_out + \"surface_data_{0}_{1}_{2}.nc\".format(run_name, start_date.strftime(\"%Y%m\"), end_date.strftime(\"%Y%m\"))\n",
    ")"
   ]
  },
  {
   "cell_type": "markdown",
   "id": "870a39e1-5c87-40c8-b8e6-c9d9a45f398d",
   "metadata": {},
   "source": [
    "Bottom values and errors."
   ]
  },
  {
   "cell_type": "code",
   "execution_count": null,
   "id": "47585044-b0a0-411f-92fc-0e7f22ca15a0",
   "metadata": {},
   "outputs": [],
   "source": [
    "model_profiles_bottom = profile_analysis.bottom_means(model_profiles, bottom_height, bottom_thresh)\n",
    "obs_bathymetry = model_profiles.dataset[\"bathymetry\"].values\n",
    "profile.dataset[\"bathymetry\"] = ([\"id_dim\"], obs_bathymetry)\n",
    "obs_profiles_bottom = profile_analysis.bottom_means(profile, bottom_height, bottom_thresh)\n",
    "bottom_errors = profile_analysis.difference(model_profiles_bottom, obs_profiles_bottom)\n",
    "bottom_data = xr.merge(\n",
    "    (bottom_errors.dataset, model_profiles_bottom.dataset, obs_profiles_bottom.dataset), compat=\"override\"\n",
    ")\n",
    "bottom_data.to_netcdf(\n",
    "    dn_out + \"bottom_data_{0}_{1}_{2}.nc\".format(run_name, start_date.strftime(\"%Y%m\"), end_date.strftime(\"%Y%m\"))\n",
    ")\n",
    "print(\"Bottom and surface data estimated and written\", flush=True)\n",
    "print(\"DONE\", flush=True)"
   ]
  }
 ],
 "metadata": {
  "kernelspec": {
   "display_name": "Python 3 (ipykernel)",
   "language": "python",
   "name": "python3"
  },
  "language_info": {
   "codemirror_mode": {
    "name": "ipython",
    "version": 3
   },
   "file_extension": ".py",
   "mimetype": "text/x-python",
   "name": "python",
   "nbconvert_exporter": "python",
   "pygments_lexer": "ipython3",
   "version": "3.8.13"
  }
 },
 "nbformat": 4,
 "nbformat_minor": 5
}
