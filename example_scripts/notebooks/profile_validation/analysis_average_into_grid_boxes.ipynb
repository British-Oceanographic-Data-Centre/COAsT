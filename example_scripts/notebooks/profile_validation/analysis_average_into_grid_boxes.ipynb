{
 "cells": [
  {
   "cell_type": "markdown",
   "id": "95a1c676-1ca5-4565-bc83-f6c66cd2f5d5",
   "metadata": {},
   "source": [
    "Script for showing use of Profile.average_into_grid_boxes(). This routines\n",
    "takes all data in a Profile obejct and averages it into lat/lon grid boxes.\n",
    "\n",
    "This script can be used for comparing observed and modelled climatologies. \n",
    "It should be run AFTER the nearest profiles have been extracted from the model\n",
    "data, such as shown in analysis_extract_and_compare.py. \n",
    "\n",
    "Input and output files should be provided as a list. If you only have\n",
    "one input file, then just enclose the string in []. "
   ]
  },
  {
   "cell_type": "code",
   "execution_count": null,
   "id": "58868187-9360-4e46-8693-42e5ab590a95",
   "metadata": {},
   "outputs": [],
   "source": [
    "\"\"\"\n",
    "You can use this script with example files by setting:\n",
    "    \n",
    "    # fn_prof = path.join('./example_files', \"coast_example_EN4_201008.nc\")\n",
    "    # fn_cfg_prof = path.join('./config', \"example_en4_profiles.json\")\n",
    "    # fn_out = path.join('./example_files', 'mask_mean.nc')\n",
    "\"\"\"\n",
    "\n",
    "import coast\n",
    "import numpy as np\n",
    "import xarray as xr\n",
    "import os\n",
    "\n",
    "# List of input files\n",
    "fn_prof = \"<PATH_TO_NETCDF_PROFILE_OBJECT>\"\n",
    "fn_cfg_prof = \"<PATH_TO_COAST_PROFILE_CONFIG_FILE_IF_NEEDED>\"\n",
    "\n",
    "# Names of output files (coresponding to fn_in_list), include \".nc\"\n",
    "fn_out = \"<OUTPUT_FILENAME.nc>\""
   ]
  },
  {
   "cell_type": "markdown",
   "id": "59d22c71-cbfb-4033-89ea-7fa6eb50f07c",
   "metadata": {},
   "source": [
    "Define longitude and latitude grid."
   ]
  },
  {
   "cell_type": "code",
   "execution_count": null,
   "id": "14401953-0b36-40bb-b6cf-c513205ec1fa",
   "metadata": {},
   "outputs": [],
   "source": [
    "grid_lon = np.arange(-15, 15, 0.5)\n",
    "grid_lat = np.arange(45, 65, 0.5)"
   ]
  },
  {
   "cell_type": "markdown",
   "id": "4b1958c9-6d0e-47be-926e-8d5019660e65",
   "metadata": {},
   "source": [
    "Load in data for averaging (e.g. surface data)."
   ]
  },
  {
   "cell_type": "code",
   "execution_count": null,
   "id": "963eea17-2e3d-441c-885b-143c5b9cac95",
   "metadata": {},
   "outputs": [],
   "source": [
    "prof_data = coast.Profile(config=fn_cfg_prof)\n",
    "prof_data.read_en4(fn_prof)\n",
    "profile_analysis = coast.ProfileAnalysis()"
   ]
  },
  {
   "cell_type": "markdown",
   "id": "b3d01bea-1518-463c-a5e7-99ebf4376d96",
   "metadata": {},
   "source": [
    "Take just the data we want so it is faster"
   ]
  },
  {
   "cell_type": "code",
   "execution_count": null,
   "id": "4af04d15-0dbd-41a8-9801-01ff788d4706",
   "metadata": {},
   "outputs": [],
   "source": [
    "prof_data.dataset = prof_data.dataset[[\"temperature\", \"practical_salinity\"]]"
   ]
  },
  {
   "cell_type": "markdown",
   "id": "78c8e95d-bff2-4a31-b9ea-f1b2ac914dc3",
   "metadata": {},
   "source": [
    "Average all data across all seasons."
   ]
  },
  {
   "cell_type": "code",
   "execution_count": null,
   "id": "4726acfe-d42f-4fe0-9401-49d9a7f1a4ea",
   "metadata": {},
   "outputs": [],
   "source": [
    "prof_gridded = profile_analysis.average_into_grid_boxes(prof_data, grid_lon, grid_lat)"
   ]
  },
  {
   "cell_type": "markdown",
   "id": "5424b8e0-9a58-4590-bae1-8794b3f1af67",
   "metadata": {},
   "source": [
    "Average data for each season."
   ]
  },
  {
   "cell_type": "code",
   "execution_count": null,
   "id": "fcc0ea64-f02e-4485-8adf-7fb15c8e3428",
   "metadata": {},
   "outputs": [],
   "source": [
    "prof_gridded_DJF = profile_analysis.average_into_grid_boxes(\n",
    "    prof_data, grid_lon, grid_lat, season=\"DJF\", var_modifier=\"_DJF\"\n",
    ")\n",
    "prof_gridded_MAM = profile_analysis.average_into_grid_boxes(\n",
    "    prof_data, grid_lon, grid_lat, season=\"MAM\", var_modifier=\"_MAM\"\n",
    ")\n",
    "prof_gridded_JJA = profile_analysis.average_into_grid_boxes(\n",
    "    prof_data, grid_lon, grid_lat, season=\"JJA\", var_modifier=\"_JJA\"\n",
    ")\n",
    "prof_gridded_SON = profile_analysis.average_into_grid_boxes(\n",
    "    prof_data, grid_lon, grid_lat, season=\"SON\", var_modifier=\"_SON\"\n",
    ")"
   ]
  },
  {
   "cell_type": "markdown",
   "id": "331844cc-afd1-4154-878f-345df923e8e4",
   "metadata": {},
   "source": [
    "Merge together."
   ]
  },
  {
   "cell_type": "code",
   "execution_count": null,
   "id": "3100ae7a-1920-4a79-8d61-068168a1c8ed",
   "metadata": {},
   "outputs": [],
   "source": [
    "ds_prof_gridded = xr.merge(\n",
    "    (\n",
    "        prof_gridded.dataset,\n",
    "        prof_gridded_DJF.dataset,\n",
    "        prof_gridded_MAM.dataset,\n",
    "        prof_gridded_JJA.dataset,\n",
    "        prof_gridded_SON.dataset,\n",
    "    )\n",
    ")"
   ]
  },
  {
   "cell_type": "markdown",
   "id": "af38d441-53eb-4418-b1f0-7700c49f5679",
   "metadata": {},
   "source": [
    "Save to file."
   ]
  },
  {
   "cell_type": "code",
   "execution_count": null,
   "id": "0642f0ec-2107-46a9-af7f-24a04bff9fc6",
   "metadata": {},
   "outputs": [],
   "source": [
    "ds_prof_gridded.to_netcdf(fn_out)"
   ]
  }
 ],
 "metadata": {
  "kernelspec": {
   "display_name": "Python 3 (ipykernel)",
   "language": "python",
   "name": "python3"
  },
  "language_info": {
   "codemirror_mode": {
    "name": "ipython",
    "version": 3
   },
   "file_extension": ".py",
   "mimetype": "text/x-python",
   "name": "python",
   "nbconvert_exporter": "python",
   "pygments_lexer": "ipython3",
   "version": "3.8.13"
  }
 },
 "nbformat": 4,
 "nbformat_minor": 5
}
