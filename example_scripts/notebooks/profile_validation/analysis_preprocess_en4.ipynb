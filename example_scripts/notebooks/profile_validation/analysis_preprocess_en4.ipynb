{
 "cells": [
  {
   "cell_type": "markdown",
   "id": "5bd63eda-5c51-4ab1-bdf0-6ec8eaf869ed",
   "metadata": {},
   "source": [
    "Script for processing raw EN4 data prior to analysis.\n",
    "See docstring of Profile.process_en4() for more specifics on what it does.\n",
    "\n",
    "This script will just load modules, read in raw EN4 data, cut out a geographical box, call the processing routine and write the processed data to file.\n",
    "\n",
    "You don't have to do this for each EN4 file individually if you don't want, you can read in multiple using multiple = True on the creation of the profile object. However, if analysing model data in parallel chunks, you may want to split up the processing into smaller files to make the analysis faster."
   ]
  },
  {
   "cell_type": "code",
   "execution_count": null,
   "id": "39fa949e-1ba4-4f29-a5fa-906786f0b7b3",
   "metadata": {},
   "outputs": [],
   "source": [
    "import sys\n",
    "\n",
    "# IF USING A DEVELOPMENT BRANCH OF COAST, ADD THE REPOSITORY TO PATH:\n",
    "# sys.path.append('<PATH_TO_COAST_REPO')\n",
    "import coast\n",
    "import pandas as pd\n",
    "from datetime import datetime\n",
    "\n",
    "print(\"Modules loaded\")\n",
    "\n",
    "# File paths - input en4, output processed file and read config file\n",
    "fn_prof = \"<PATH_TO_RAW_EN4_DATA_FILE(S)>\"\n",
    "fn_out = \"<PATH_TO_OUTPUT_LOCATION_FOR_PROCESSED_PROFILES>\"\n",
    "fn_cfg_prof = \"<PATH_TO_COAST_PROFILE_CONFIG_FILE>\"\n",
    "\n",
    "# Some important settings, easier to get at here\n",
    "longitude_bounds = [-15, 15]  # Geo box to cut out from data (match to model)\n",
    "latitude_bounds = [40, 65]\n",
    "multiple = True  # Reading multple files?"
   ]
  },
  {
   "cell_type": "markdown",
   "id": "633dd796-fdbd-4522-82f1-5f98fe835e31",
   "metadata": {},
   "source": [
    "Create profile object containing data"
   ]
  },
  {
   "cell_type": "code",
   "execution_count": null,
   "id": "3d9f6d11-60aa-4799-8d82-91862fb6c353",
   "metadata": {},
   "outputs": [],
   "source": [
    "profile = coast.Profile(config=fn_cfg_prof)\n",
    "profile.read_en4(fn_prof, multiple=multiple)"
   ]
  },
  {
   "cell_type": "markdown",
   "id": "33077579-0f3f-4e89-a1f2-51a709835f28",
   "metadata": {},
   "source": [
    "Get geographical indices to extract."
   ]
  },
  {
   "cell_type": "code",
   "execution_count": null,
   "id": "98344d6a-5d69-405a-9d0a-752bb160037f",
   "metadata": {},
   "outputs": [],
   "source": [
    "profile = profile.subset_indices_lonlat_box(longitude_bounds, latitude_bounds)"
   ]
  },
  {
   "cell_type": "markdown",
   "id": "23221aba-a10f-45fb-90aa-4c6dbdaed080",
   "metadata": {},
   "source": [
    "Cut out a time slice of the data."
   ]
  },
  {
   "cell_type": "code",
   "execution_count": null,
   "id": "1faf2cbd-eb2b-49bb-8612-554c7a8a387e",
   "metadata": {},
   "outputs": [],
   "source": [
    "profile = profile.time_slice(date0=datetime(2010, 1, 1), date1=datetime(2010, 1, 20))"
   ]
  },
  {
   "cell_type": "markdown",
   "id": "29c26c1f-c117-4107-ba61-15c507e1aa5f",
   "metadata": {},
   "source": [
    "Process the extracted data into new processed profile."
   ]
  },
  {
   "cell_type": "code",
   "execution_count": null,
   "id": "a5ab1eee-0ba4-4974-aae8-752f66f20031",
   "metadata": {},
   "outputs": [],
   "source": [
    "processed_profile = profile.process_en4()"
   ]
  },
  {
   "cell_type": "markdown",
   "id": "e2a748b5-1975-4f3b-a23d-3197297ec4c7",
   "metadata": {},
   "source": [
    "Sometimes the following line is needed to avoid an error::  \n",
    "`processed_profile.dataset[\"time\"] = (\"id_dim\", pd.to_datetime(processed_profile.dataset.time.values))`\n",
    "\n",
    "Write processed profiles to file."
   ]
  },
  {
   "cell_type": "code",
   "execution_count": null,
   "id": "f9f5345a-db15-4f3f-8e4a-6d2d0af11f74",
   "metadata": {},
   "outputs": [],
   "source": [
    "processed_profile.dataset.to_netcdf(fn_out)"
   ]
  }
 ],
 "metadata": {
  "kernelspec": {
   "display_name": "Python 3 (ipykernel)",
   "language": "python",
   "name": "python3"
  },
  "language_info": {
   "codemirror_mode": {
    "name": "ipython",
    "version": 3
   },
   "file_extension": ".py",
   "mimetype": "text/x-python",
   "name": "python",
   "nbconvert_exporter": "python",
   "pygments_lexer": "ipython3",
   "version": "3.8.13"
  }
 },
 "nbformat": 4,
 "nbformat_minor": 5
}
