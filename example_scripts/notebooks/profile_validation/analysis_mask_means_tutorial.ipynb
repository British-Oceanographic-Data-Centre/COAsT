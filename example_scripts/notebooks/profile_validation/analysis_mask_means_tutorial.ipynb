{
 "cells": [
  {
   "cell_type": "markdown",
   "id": "3e00e53a-17a9-4de8-8202-f07e5a7bd643",
   "metadata": {},
   "source": [
    "Tutorial to calculate mask means (regional means) of variables within a Profile object.\n",
    "\n",
    "Provide paths to four files:\n",
    "\n",
    "    fn_dom : NEMO domain file defining mask lon/lat.\n",
    "    fn_cfg_nemo : NEMO config file.\n",
    "    fn_profile : Path to netCDF containing profile data.\n",
    "    fn_out : Path to netCDF output file.\n",
    "\n",
    "You can use this script with example files by setting:\n",
    "    \n",
    "    fn_dom = path.join('./example_files', \"coast_example_nemo_domain.nc\")\n",
    "    fn_prof = path.join('./example_files', \"coast_example_EN4_201008.nc\")\n",
    "    fn_cfg_nemo = path.join('./config', \"example_nemo_grid_t.json\")\n",
    "    fn_cfg_prof = path.join('./config', \"example_en4_profiles.json\")"
   ]
  },
  {
   "cell_type": "markdown",
   "id": "be98fb8c-9fda-4816-8bac-115e60affa89",
   "metadata": {},
   "source": [
    "### Import relevant packages"
   ]
  },
  {
   "cell_type": "code",
   "execution_count": null,
   "id": "b924735d-ea5c-49d7-a638-a93f892ca4fd",
   "metadata": {},
   "outputs": [],
   "source": [
    "import coast\n",
    "import numpy as np\n",
    "from os import path"
   ]
  },
  {
   "cell_type": "markdown",
   "id": "9cd0ee57-7b1a-4a03-912b-b14e1c0587a0",
   "metadata": {},
   "source": [
    "### Set filepaths to data and configuration"
   ]
  },
  {
   "cell_type": "code",
   "execution_count": null,
   "id": "1b182fd2-7774-497c-9609-4171d282272e",
   "metadata": {},
   "outputs": [],
   "source": [
    "\"\"\"\n",
    "fn_dom = \"<PATH_TO_NEMO_DOMAIN_FILE>\"\n",
    "fn_cfg_nemo = \"<PATH_TO_COAST_GRIDDED_CONFIG_FILE>\"\n",
    "fn_cfg_prof = \"<PATH_TO_COAST_PROFILE_CONFIG_FILE>\"\n",
    "fn_prof = \"<PATH_TO_COAST_PROFILE_NETCDF>\"\n",
    "fn_out = \"<PATH_TO_OUTPUT_FILE>\"\n",
    "\"\"\"\n",
    "\n",
    "fn_dom = path.join('./example_files', \"coast_example_nemo_domain.nc\")\n",
    "fn_prof = path.join('./example_files', \"coast_example_EN4_201008.nc\")\n",
    "fn_cfg_nemo = path.join('./config', \"example_nemo_grid_t.json\")\n",
    "fn_cfg_prof = path.join('./config', \"example_en4_profiles.json\")"
   ]
  },
  {
   "cell_type": "markdown",
   "id": "990357de-72ed-4f21-948a-f543de24e227",
   "metadata": {},
   "source": [
    "### Create NEMO object and read in NEMO data"
   ]
  },
  {
   "cell_type": "code",
   "execution_count": null,
   "id": "377e8d61-b59f-4567-8106-3ed8044dee36",
   "metadata": {},
   "outputs": [],
   "source": [
    "nemo = coast.Gridded(fn_domain=fn_dom, multiple=True, config=fn_cfg_nemo)"
   ]
  },
  {
   "cell_type": "markdown",
   "id": "d91319fc-4875-4bcd-bb46-4a544d37f642",
   "metadata": {},
   "source": [
    "### Extract latitude and longitude array"
   ]
  },
  {
   "cell_type": "code",
   "execution_count": null,
   "id": "95e00ba6-2d47-4a0d-933c-e0cb26974ecb",
   "metadata": {},
   "outputs": [],
   "source": [
    "lon = nemo.dataset.longitude.values.squeeze()\n",
    "lat = nemo.dataset.latitude.values.squeeze()"
   ]
  },
  {
   "cell_type": "markdown",
   "id": "7dbb1a47-82bc-449a-a0e6-ef2caf561388",
   "metadata": {},
   "source": [
    "### Create analysis object and mask maker object"
   ]
  },
  {
   "cell_type": "code",
   "execution_count": null,
   "id": "bc8857b6-e6be-428c-8ee0-f7b28aa7647a",
   "metadata": {},
   "outputs": [],
   "source": [
    "profile_analysis = coast.ProfileAnalysis()"
   ]
  },
  {
   "cell_type": "markdown",
   "id": "16980b35-a8ff-4546-9203-f46529a65cf8",
   "metadata": {},
   "source": [
    "### Make Profile object and read data"
   ]
  },
  {
   "cell_type": "code",
   "execution_count": null,
   "id": "e14f92c3-167d-441a-923d-375e8fa70a66",
   "metadata": {},
   "outputs": [],
   "source": [
    "profile = coast.Profile(config=fn_cfg_prof)\n",
    "profile.read_en4(fn_prof)"
   ]
  },
  {
   "cell_type": "markdown",
   "id": "8913dbf3-d176-4844-9462-89e4c3bcd02e",
   "metadata": {},
   "source": [
    "### Make MaskMaker object and define Regional Masks"
   ]
  },
  {
   "cell_type": "code",
   "execution_count": null,
   "id": "5c277cf5-2848-4d83-9be5-6327b5e04936",
   "metadata": {},
   "outputs": [],
   "source": [
    "# Make MaskMaker object\n",
    "mm = coast.MaskMaker()\n",
    "\n",
    "# Define Regional Masks\n",
    "regional_masks = []\n",
    "bath = nemo.dataset.bathymetry.values\n",
    "regional_masks.append(np.ones(lon.shape))\n",
    "regional_masks.append(mm.region_def_nws_north_sea(lon, lat, bath))\n",
    "regional_masks.append(mm.region_def_nws_outer_shelf(lon, lat, bath))\n",
    "regional_masks.append(mm.region_def_nws_english_channel(lon, lat, bath))\n",
    "regional_masks.append(mm.region_def_nws_norwegian_trench(lon, lat, bath))\n",
    "regional_masks.append(mm.region_def_kattegat(lon, lat, bath))\n",
    "regional_masks.append(mm.region_def_south_north_sea(lon, lat, bath))\n",
    "off_shelf = mm.region_def_off_shelf(lon, lat, bath)\n",
    "off_shelf[regional_masks[3].astype(bool)] = 0\n",
    "off_shelf[regional_masks[4].astype(bool)] = 0\n",
    "regional_masks.append(off_shelf)\n",
    "regional_masks.append(mm.region_def_irish_sea(lon, lat, bath))\n",
    "\n",
    "region_names = [\n",
    "    \"whole_domain\",\n",
    "    \"north_sea\",\n",
    "    \"outer_shelf\",\n",
    "    \"eng_channel\",\n",
    "    \"nor_trench\",\n",
    "    \"kattegat\",\n",
    "    \"southern_north_sea\",\n",
    "    \"irish_sea\",\n",
    "    \"off_shelf\",\n",
    "]\n",
    "\n",
    "mask_list = mm.make_mask_dataset(lon, lat, regional_masks)\n",
    "mask_indices = profile_analysis.determine_mask_indices(profile, mask_list)"
   ]
  },
  {
   "cell_type": "markdown",
   "id": "68003a9a-b978-45c9-a1cc-43e72b84ebde",
   "metadata": {},
   "source": [
    "### Do mask averaging"
   ]
  },
  {
   "cell_type": "code",
   "execution_count": null,
   "id": "05d993c9-4291-4b2a-98db-1be39c0b3884",
   "metadata": {},
   "outputs": [],
   "source": [
    "mask_means = profile_analysis.mask_means(profile, mask_indices)"
   ]
  },
  {
   "cell_type": "markdown",
   "id": "fb7b18f9-150b-4e7c-8229-40c5bdb1b6ce",
   "metadata": {},
   "source": [
    "### Save mask dataset to file"
   ]
  },
  {
   "cell_type": "code",
   "execution_count": null,
   "id": "fc86f761-196e-4161-97d8-a305f30ee8e8",
   "metadata": {},
   "outputs": [],
   "source": [
    "mask_means.to_netcdf(fn_out)"
   ]
  },
  {
   "cell_type": "code",
   "execution_count": null,
   "id": "13b1e9be",
   "metadata": {},
   "outputs": [],
   "source": []
  }
 ],
 "metadata": {
  "kernelspec": {
   "display_name": "Python 3 (ipykernel)",
   "language": "python",
   "name": "python3"
  },
  "language_info": {
   "codemirror_mode": {
    "name": "ipython",
    "version": 3
   },
   "file_extension": ".py",
   "mimetype": "text/x-python",
   "name": "python",
   "nbconvert_exporter": "python",
   "pygments_lexer": "ipython3",
   "version": "3.8.13"
  }
 },
 "nbformat": 4,
 "nbformat_minor": 5
}
