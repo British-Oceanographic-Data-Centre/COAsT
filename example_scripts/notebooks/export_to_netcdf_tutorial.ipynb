{
 "cells": [
  {
   "cell_type": "markdown",
   "id": "c768e9ed-f08a-4a2c-8350-edfccdb769f2",
   "metadata": {},
   "source": [
    "This is a demonstration script for how to export intermediate data from COAsT\n",
    "to netCDF files for later analysis or storage.\n",
    "The tutorial showcases the xarray.to_netcdf() method.\n",
    "http://xarray.pydata.org/en/stable/generated/xarray.Dataset.to_netcdf.html"
   ]
  },
  {
   "cell_type": "markdown",
   "id": "77ecc2a5-e5c9-42e4-a602-3b7c1e0a0627",
   "metadata": {},
   "source": [
    "### Begin by importing coast and other packages"
   ]
  },
  {
   "cell_type": "code",
   "execution_count": 1,
   "id": "2e19cd81-cf32-4eba-b388-9c21c5cdf910",
   "metadata": {},
   "outputs": [],
   "source": [
    "import coast\n",
    "import xarray as xr"
   ]
  },
  {
   "cell_type": "markdown",
   "id": "1bb07949-6ef9-45fd-a6a4-5773a928d7de",
   "metadata": {},
   "source": [
    "### Now define some file paths"
   ]
  },
  {
   "cell_type": "code",
   "execution_count": 2,
   "id": "0b7cc395-019b-4284-a200-a8eb6ac15838",
   "metadata": {},
   "outputs": [],
   "source": [
    "root = \"../../\"\n",
    "# And by defining some file paths\n",
    "dn_files = root + \"./example_files/\"\n",
    "fn_nemo_dat = dn_files + \"coast_example_nemo_data.nc\"\n",
    "fn_nemo_dom = dn_files + \"coast_example_nemo_domain.nc\"\n",
    "config = root + \"./config/example_nemo_grid_t.json\"\n",
    "ofile = \"example_export_output.nc\"  # The target filename for output"
   ]
  },
  {
   "cell_type": "markdown",
   "id": "613109e1-ae29-4c6b-b37b-55658a6cbe9a",
   "metadata": {},
   "source": [
    "### We need to load in a NEMO object for doing NEMO things"
   ]
  },
  {
   "cell_type": "code",
   "execution_count": 3,
   "id": "383fb968-3b9d-4e89-809a-a85f85e12457",
   "metadata": {},
   "outputs": [],
   "source": [
    "nemo = coast.Gridded(fn_nemo_dat, fn_nemo_dom, config=config)"
   ]
  },
  {
   "cell_type": "markdown",
   "id": "2068f540-6dad-4fb8-94d9-a0504ecbd6ad",
   "metadata": {
    "tags": []
   },
   "source": [
    "### We can export the whole xr.DataSet to a netCDF file\n",
    "Other file formats are available. From the documentation:\n",
    "   - NETCDF4: Data is stored in an HDF5 file, using netCDF4 API features.\n",
    "   - NETCDF4_CLASSIC: Data is stored in an HDF5 file, using only netCDF 3 compatible API features.\n",
    "   - NETCDF3_64BIT: 64-bit offset version of the netCDF 3 file format, which fully supports 2+ GB files, but is only compatible with clients linked against netCDF version 3.6.0 or later.\n",
    "   - NETCDF3_CLASSIC: The classic netCDF 3 file format. It does not handle 2+ GB files very well.\n",
    "\n",
    "Mode - 'w' (write) is the default. Other options from the documentation:\n",
    "\n",
    "   - mode ({\"w\", \"a\"}, default: \"w\") – Write (‘w’) or append (‘a’) mode.\n",
    "   - If mode=’w’, any existing file at this location will be overwritten.\n",
    "   - If mode=’a’, existing variables will be overwritten.\n",
    "   \n",
    "Similarly xr.DataSets collections of variables or xr.DataArray variables can be exported to netCDF for objects in the TRANSECT, TIDEGAUGE, etc classes."
   ]
  },
  {
   "cell_type": "code",
   "execution_count": 4,
   "id": "1039d313-6238-49d8-827c-2a6187baf209",
   "metadata": {
    "tags": []
   },
   "outputs": [],
   "source": [
    "nemo.dataset.to_netcdf(ofile, mode=\"w\", format=\"NETCDF4\")"
   ]
  },
  {
   "cell_type": "markdown",
   "id": "104667be-a751-44d4-b556-c9ae8272f0f6",
   "metadata": {},
   "source": [
    "### Alternatively a single variable (an xr.DataArray object) can be exported"
   ]
  },
  {
   "cell_type": "code",
   "execution_count": 5,
   "id": "96cff997-596e-4342-8d4b-3cee28299e99",
   "metadata": {},
   "outputs": [],
   "source": [
    "nemo.dataset[\"temperature\"].to_netcdf(ofile, format=\"NETCDF4\")"
   ]
  },
  {
   "cell_type": "markdown",
   "id": "9188307b-6d90-497d-abf2-72ac1a3c755f",
   "metadata": {},
   "source": [
    "### Check the exported file is as you expect\n",
    "Perhaps by using \"ncdump -h example_export_output.nc\", or load the file and see that the xarray structure is preserved."
   ]
  },
  {
   "cell_type": "code",
   "execution_count": 8,
   "id": "5caf7d31-c7a7-4f11-abfd-62e0d5658119",
   "metadata": {
    "pycharm": {
     "name": "#%%\n"
    }
   },
   "outputs": [],
   "source": [
    "object = xr.open_dataset(ofile)\n",
    "object.close()  # close file associated with this object"
   ]
  }
 ],
 "metadata": {
  "kernelspec": {
   "display_name": "Python 3 (ipykernel)",
   "language": "python",
   "name": "python3"
  },
  "language_info": {
   "codemirror_mode": {
    "name": "ipython",
    "version": 3
   },
   "file_extension": ".py",
   "mimetype": "text/x-python",
   "name": "python",
   "nbconvert_exporter": "python",
   "pygments_lexer": "ipython3",
   "version": "3.8.13"
  }
 },
 "nbformat": 4,
 "nbformat_minor": 5
}