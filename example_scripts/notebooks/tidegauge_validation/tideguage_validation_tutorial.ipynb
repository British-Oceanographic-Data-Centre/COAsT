{
 "cells": [
  {
   "cell_type": "markdown",
   "id": "56cbe624-02d9-4615-975b-408c97f9b97c",
   "metadata": {},
   "source": [
    "This script gives an overview of some of validation tools available when\n",
    "using the TidegaugeMultiple object in COAsT.\n",
    "\n",
    "For this a script, a premade netcdf file containing tide gauge data is used."
   ]
  },
  {
   "cell_type": "markdown",
   "id": "e10c23ed-dce8-410b-acf0-733b248be2ad",
   "metadata": {},
   "source": [
    "### Import necessary libraries\n"
   ]
  },
  {
   "cell_type": "code",
   "execution_count": null,
   "id": "b15ab58f",
   "metadata": {},
   "outputs": [],
   "source": [
    "import xarray as xr\n",
    "import numpy as np\n",
    "import coast\n",
    "import datetime"
   ]
  },
  {
   "cell_type": "markdown",
   "id": "2ebbe06c-6788-4c49-aafb-4a476a4be685",
   "metadata": {},
   "source": [
    "### Define paths\n"
   ]
  },
  {
   "cell_type": "code",
   "execution_count": null,
   "id": "d8727892",
   "metadata": {},
   "outputs": [],
   "source": [
    "fn_dom = \"<PATH_TO_NEMO_DOMAIN>\"\n",
    "fn_dat = \"<PATH_TO_NEMO_DATA>\"\n",
    "fn_config = \"<PATH_TO_CONFIG.json>\"\n",
    "fn_tg = \"<PATH_TO_TIDEGAUGE_NETCDF>\"  # This should already be processed, on the same time dimension\n",
    "\n",
    "# Change this to 0 to not use default files.\n",
    "if 1:\n",
    "    print(f\"Use default files\")\n",
    "    dir = \"./example_files/\"\n",
    "    fn_dom = dir + \"coast_example_nemo_domain.nc\"\n",
    "    fn_dat = dir + \"coast_example_nemo_data.nc\"\n",
    "    fn_config = \"./config/example_nemo_grid_t.json\"\n",
    "    fn_tg = dir + \"tg_amm15.nc\""
   ]
  },
  {
   "cell_type": "markdown",
   "id": "8b143cc4-7ae9-4edf-8d0b-92c189c18bd7",
   "metadata": {},
   "source": [
    "### Create gridded object and load data"
   ]
  },
  {
   "cell_type": "code",
   "execution_count": null,
   "id": "d5f05c40",
   "metadata": {},
   "outputs": [],
   "source": [
    "nemo = coast.Gridded(fn_dat, fn_dom, multiple=True, config=fn_config)\n",
    "\n",
    "# Create a landmask array and put it into the nemo object.\n",
    "# Here, using the bottom_level == 0 variable from the domain file is enough.\n",
    "nemo.dataset[\"landmask\"] = nemo.dataset.bottom_level == 0\n",
    "\n",
    "# Rename depth_0 to be depth\n",
    "nemo.dataset = nemo.dataset.rename({\"depth_0\": \"depth\"})\n",
    "nemo.dataset = nemo.dataset[[\"ssh\", \"landmask\"]]"
   ]
  },
  {
   "cell_type": "markdown",
   "id": "ad8d0be3-7941-40ba-af6f-ef747ae2912d",
   "metadata": {},
   "source": [
    "### Create TidegaugeMultiple object\n"
   ]
  },
  {
   "cell_type": "code",
   "execution_count": null,
   "id": "cbcee060",
   "metadata": {},
   "outputs": [],
   "source": [
    "\n",
    "# Create the object and then inset the netcdf dataset\n",
    "obs = coast.Tidegauge(dataset=xr.open_dataset(fn_tg))\n",
    "obs.dataset = obs.dataset.set_coords(\"time\")\n",
    "\n",
    "# Shift the timestamp so it overlaps with the tidegauge data - Not ideal but this is only a demo\n",
    "obs.dataset.coords[\"time\"] = obs.dataset.coords[\"time\"] + 1000000000 * 3600 * 24 * 365 * 3\n",
    "\n",
    "# Cut down data to be only in 2018 to match model data.\n",
    "start_date = datetime.datetime(2007, 1, 1)\n",
    "end_date = datetime.datetime(2007, 1, 31)\n",
    "obs = obs.time_slice(start_date, end_date)"
   ]
  },
  {
   "cell_type": "markdown",
   "id": "ae46af6e-94eb-4e5f-b2aa-7d6abf11e30c",
   "metadata": {},
   "source": [
    "### Interpolate model data onto obs locations"
   ]
  },
  {
   "cell_type": "code",
   "execution_count": null,
   "id": "4eac4319",
   "metadata": {},
   "outputs": [],
   "source": [
    "model_timeseries = obs.obs_operator(nemo)\n",
    "\n",
    "# In this case, transpose the interpolated dataset\n",
    "model_timeseries.dataset = model_timeseries.dataset.transpose()"
   ]
  },
  {
   "cell_type": "markdown",
   "id": "a272f401-3021-49b8-88e6-254ee53914e0",
   "metadata": {},
   "source": [
    "### Harmonic Analysis & Non tidal-Residuals\n",
    "\n",
    "The `Tidegauge` object contains some routines which make harmonic analysis and\n",
    "the calculation/comparison of non-tidal residuals easier. Harmonic analysis is\n",
    "done using the `utide` package. Please see [here](https://pypi.org/project/UTide/) for more info.\n",
    "\n",
    "First we can use the `TidegaugeAnalysis` class to do a harmonic analysis. Suppose\n",
    "we have two `Tidegauge` objects called `obs` and `model_timeseries` generated from tidegauge observations and model simulations respectively.\n",
    "\n",
    "We can subtract means from all time series:"
   ]
  },
  {
   "cell_type": "code",
   "execution_count": null,
   "id": "2ec2fed0",
   "metadata": {},
   "outputs": [],
   "source": [
    "# This routine searches for missing values in each dataset and applies them\n",
    "# equally to each corresponding dataset\n",
    "tganalysis = coast.TidegaugeAnalysis()\n",
    "obs_new, model_new = tganalysis.match_missing_values(obs.dataset.ssh, model_timeseries.dataset.ssh)"
   ]
  },
  {
   "cell_type": "markdown",
   "id": "bf8c89e4",
   "metadata": {},
   "source": [
    "Then subtract means from all the time series"
   ]
  },
  {
   "cell_type": "code",
   "execution_count": null,
   "id": "62347fb4",
   "metadata": {},
   "outputs": [],
   "source": [
    "# Subtract means from all time series\n",
    "obs_new = tganalysis.demean_timeseries(obs_new.dataset)\n",
    "model_new = tganalysis.demean_timeseries(model_new.dataset)\n",
    "\n",
    "# Now you have equivalent and comparable sets of time series that can be\n",
    "# easily compared."
   ]
  },
  {
   "cell_type": "markdown",
   "id": "36cb5707",
   "metadata": {},
   "source": [
    "Then we can apply the harmonic analysis (though the example data is too short for this example to be that meaningful):"
   ]
  },
  {
   "cell_type": "markdown",
   "id": "2df64464-45cc-45a3-85fc-437fc2309743",
   "metadata": {},
   "source": [
    "### Calculate non tidal residuals\n"
   ]
  },
  {
   "cell_type": "markdown",
   "id": "d96b9c94",
   "metadata": {},
   "source": [
    "\n",
    "First, do a harmonic analysis. This routine uses utide"
   ]
  },
  {
   "cell_type": "code",
   "execution_count": null,
   "id": "658f7a9a",
   "metadata": {},
   "outputs": [],
   "source": [
    "ha_mod = tganalysis.harmonic_analysis_utide(model_new.dataset.ssh, min_datapoints=1)\n",
    "ha_obs = tganalysis.harmonic_analysis_utide(obs_new.dataset.ssh, min_datapoints=1)"
   ]
  },
  {
   "cell_type": "markdown",
   "id": "000717dd",
   "metadata": {},
   "source": [
    "The `harmonic_analysis_utide` routine returns a list of `utide` structure object,\n",
    "one for each `id_dim` in the `Tidegauge` object. It can be passed any of the\n",
    "arguments that go to `utide`. It also has an additional argument `min_datapoints`\n",
    "which determines a minimum number of data points for the harmonics analysis.\n",
    "If a tidegauge `id_dim` has less than this number, it will not return an analysis.\n",
    "\n",
    "Now, create new `TidegaugeMultiple` objects containing reconstructed tides:\n"
   ]
  },
  {
   "cell_type": "code",
   "execution_count": null,
   "id": "36bad30b",
   "metadata": {},
   "outputs": [],
   "source": [
    "tide_mod = tganalysis.reconstruct_tide_utide(model_new.dataset.time, ha_mod)\n",
    "tide_obs = tganalysis.reconstruct_tide_utide(obs_new.dataset.time, ha_obs)\n"
   ]
  },
  {
   "cell_type": "markdown",
   "id": "d6439a17",
   "metadata": {},
   "source": [
    "Get new TidegaugeMultiple objects containing non tidal residuals:"
   ]
  },
  {
   "cell_type": "code",
   "execution_count": null,
   "id": "84e7a3fb",
   "metadata": {},
   "outputs": [],
   "source": [
    "ntr_mod = tganalysis.calculate_non_tidal_residuals(model_new.dataset.ssh, tide_mod.dataset.reconstructed)\n",
    "ntr_obs = tganalysis.calculate_non_tidal_residuals(obs_new.dataset.ssh, tide_obs.dataset.reconstructed)\n"
   ]
  },
  {
   "cell_type": "markdown",
   "id": "ac23e4ee",
   "metadata": {},
   "source": [
    "\n",
    "By default, this routines will apply `scipy.signal.savgol_filter` to the non-tidal residuals\n",
    "to remove some noise. This can be switched off using `apply_filter = False`.\n",
    "\n",
    "The Doodson X0 filter is an alternative way of estimating non-tidal residuals:"
   ]
  },
  {
   "cell_type": "code",
   "execution_count": null,
   "id": "ae40e908",
   "metadata": {},
   "outputs": [],
   "source": [
    "dx0 = tganalysis.doodson_x0_filter(obs.dataset, \"ssh\")"
   ]
  },
  {
   "cell_type": "markdown",
   "id": "fe89aa16",
   "metadata": {},
   "source": [
    "This will return a new Tidegauge() object containing filtered ssh data."
   ]
  },
  {
   "cell_type": "markdown",
   "id": "101abcf1",
   "metadata": {},
   "source": [
    "\n",
    "### Other applications\n",
    "\n",
    "#### Calculate errors\n",
    "\n",
    "The difference() routine will calculate differences, absolute_differences and squared differenced for all variables:"
   ]
  },
  {
   "cell_type": "code",
   "execution_count": null,
   "id": "c4231f71",
   "metadata": {},
   "outputs": [],
   "source": [
    "ntr_diff = tganalysis.difference(ntr_obs.dataset, ntr_mod.dataset)\n",
    "ssh_diff = tganalysis.difference(obs_new.dataset, model_new.dataset)\n"
   ]
  },
  {
   "cell_type": "markdown",
   "id": "bc57ec3d",
   "metadata": {},
   "source": [
    "We can then easily get mean errors, MAE and MSE\n"
   ]
  },
  {
   "cell_type": "code",
   "execution_count": null,
   "id": "9e7597b4",
   "metadata": {},
   "outputs": [],
   "source": [
    "mean_stats = ntr_diff.dataset.mean(dim=\"t_dim\", skipna=True)"
   ]
  },
  {
   "cell_type": "markdown",
   "id": "b9e45f07-043d-4c46-9d82-27127e66ddde",
   "metadata": {},
   "source": [
    "#### Threshold Statistics for Non-tidal residuals\n",
    "\n",
    "This is a simple extreme value analysis of whatever data you use. It will count the number of peaks and the total time spent over each threshold provided. It will also count the numbers of daily and monthly maxima over each threshold. To this, a Tidegauge object and an array of thresholds (in metres) should be passed:\n"
   ]
  },
  {
   "cell_type": "code",
   "execution_count": null,
   "id": "6dba7711",
   "metadata": {},
   "outputs": [],
   "source": [
    "thresh_mod = tganalysis.threshold_statistics(ntr_mod.dataset, thresholds=np.arange(0, 2, 0.2))\n",
    "thresh_obs = tganalysis.threshold_statistics(ntr_obs.dataset, thresholds=np.arange(0, 2, 0.2))"
   ]
  },
  {
   "cell_type": "code",
   "execution_count": null,
   "id": "d8e4b81a",
   "metadata": {},
   "outputs": [],
   "source": []
  }
 ],
 "metadata": {
  "kernelspec": {
   "display_name": "Python 3 (ipykernel)",
   "language": "python",
   "name": "python3"
  },
  "language_info": {
   "codemirror_mode": {
    "name": "ipython",
    "version": 3
   },
   "file_extension": ".py",
   "mimetype": "text/x-python",
   "name": "python",
   "nbconvert_exporter": "python",
   "pygments_lexer": "ipython3",
   "version": "3.8.13"
  }
 },
 "nbformat": 4,
 "nbformat_minor": 5
}
